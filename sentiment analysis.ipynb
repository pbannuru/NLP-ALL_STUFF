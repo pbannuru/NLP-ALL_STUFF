{
 "cells": [
  {
   "cell_type": "code",
   "execution_count": 1,
   "id": "aa27260b",
   "metadata": {
    "ExecuteTime": {
     "end_time": "2022-11-09T01:37:44.525516Z",
     "start_time": "2022-11-09T01:37:38.643088Z"
    }
   },
   "outputs": [],
   "source": [
    "import tensorflow \n",
    "from tensorflow.keras.preprocessing.sequence import pad_sequences\n",
    "from tensorflow.keras.preprocessing.text import one_hot, Tokenizer\n",
    "from tensorflow.keras.models import Sequential\n",
    "from tensorflow.keras.layers import Dense, Flatten, Embedding,Activation,Dropout\n",
    "from tensorflow.keras.layers import Conv1D, MaxPool1D, GlobalAveragePooling1D\n",
    "import numpy as np \n",
    "from numpy import array \n",
    "import pandas as pd"
   ]
  },
  {
   "cell_type": "code",
   "execution_count": 2,
   "id": "4e210cab",
   "metadata": {
    "ExecuteTime": {
     "end_time": "2022-11-09T01:37:46.825379Z",
     "start_time": "2022-11-09T01:37:44.528513Z"
    }
   },
   "outputs": [],
   "source": [
    "import spacy\n",
    "from spacy.lang.en.stop_words import STOP_WORDS"
   ]
  },
  {
   "cell_type": "code",
   "execution_count": 165,
   "id": "b43d784d",
   "metadata": {
    "ExecuteTime": {
     "end_time": "2022-11-09T02:46:25.475791Z",
     "start_time": "2022-11-09T02:46:21.221977Z"
    }
   },
   "outputs": [],
   "source": [
    "df=pd.read_csv(r\"C:\\Users\\pbann\\Downloads\\training.1600000.processed.noemoticon.csv\\training.1600000.processed.noemoticon.csv\",encoding_errors= 'replace',header=None)"
   ]
  },
  {
   "cell_type": "code",
   "execution_count": 166,
   "id": "634f2e19",
   "metadata": {
    "ExecuteTime": {
     "end_time": "2022-11-09T02:46:25.507793Z",
     "start_time": "2022-11-09T02:46:25.477792Z"
    },
    "scrolled": true
   },
   "outputs": [
    {
     "data": {
      "text/html": [
       "<div>\n",
       "<style scoped>\n",
       "    .dataframe tbody tr th:only-of-type {\n",
       "        vertical-align: middle;\n",
       "    }\n",
       "\n",
       "    .dataframe tbody tr th {\n",
       "        vertical-align: top;\n",
       "    }\n",
       "\n",
       "    .dataframe thead th {\n",
       "        text-align: right;\n",
       "    }\n",
       "</style>\n",
       "<table border=\"1\" class=\"dataframe\">\n",
       "  <thead>\n",
       "    <tr style=\"text-align: right;\">\n",
       "      <th></th>\n",
       "      <th>0</th>\n",
       "      <th>1</th>\n",
       "      <th>2</th>\n",
       "      <th>3</th>\n",
       "      <th>4</th>\n",
       "      <th>5</th>\n",
       "    </tr>\n",
       "  </thead>\n",
       "  <tbody>\n",
       "    <tr>\n",
       "      <th>0</th>\n",
       "      <td>0</td>\n",
       "      <td>1467810369</td>\n",
       "      <td>Mon Apr 06 22:19:45 PDT 2009</td>\n",
       "      <td>NO_QUERY</td>\n",
       "      <td>_TheSpecialOne_</td>\n",
       "      <td>@switchfoot http://twitpic.com/2y1zl - Awww, t...</td>\n",
       "    </tr>\n",
       "    <tr>\n",
       "      <th>1</th>\n",
       "      <td>0</td>\n",
       "      <td>1467810672</td>\n",
       "      <td>Mon Apr 06 22:19:49 PDT 2009</td>\n",
       "      <td>NO_QUERY</td>\n",
       "      <td>scotthamilton</td>\n",
       "      <td>is upset that he can't update his Facebook by ...</td>\n",
       "    </tr>\n",
       "    <tr>\n",
       "      <th>2</th>\n",
       "      <td>0</td>\n",
       "      <td>1467810917</td>\n",
       "      <td>Mon Apr 06 22:19:53 PDT 2009</td>\n",
       "      <td>NO_QUERY</td>\n",
       "      <td>mattycus</td>\n",
       "      <td>@Kenichan I dived many times for the ball. Man...</td>\n",
       "    </tr>\n",
       "    <tr>\n",
       "      <th>3</th>\n",
       "      <td>0</td>\n",
       "      <td>1467811184</td>\n",
       "      <td>Mon Apr 06 22:19:57 PDT 2009</td>\n",
       "      <td>NO_QUERY</td>\n",
       "      <td>ElleCTF</td>\n",
       "      <td>my whole body feels itchy and like its on fire</td>\n",
       "    </tr>\n",
       "    <tr>\n",
       "      <th>4</th>\n",
       "      <td>0</td>\n",
       "      <td>1467811193</td>\n",
       "      <td>Mon Apr 06 22:19:57 PDT 2009</td>\n",
       "      <td>NO_QUERY</td>\n",
       "      <td>Karoli</td>\n",
       "      <td>@nationwideclass no, it's not behaving at all....</td>\n",
       "    </tr>\n",
       "    <tr>\n",
       "      <th>...</th>\n",
       "      <td>...</td>\n",
       "      <td>...</td>\n",
       "      <td>...</td>\n",
       "      <td>...</td>\n",
       "      <td>...</td>\n",
       "      <td>...</td>\n",
       "    </tr>\n",
       "    <tr>\n",
       "      <th>1599995</th>\n",
       "      <td>4</td>\n",
       "      <td>2193601966</td>\n",
       "      <td>Tue Jun 16 08:40:49 PDT 2009</td>\n",
       "      <td>NO_QUERY</td>\n",
       "      <td>AmandaMarie1028</td>\n",
       "      <td>Just woke up. Having no school is the best fee...</td>\n",
       "    </tr>\n",
       "    <tr>\n",
       "      <th>1599996</th>\n",
       "      <td>4</td>\n",
       "      <td>2193601969</td>\n",
       "      <td>Tue Jun 16 08:40:49 PDT 2009</td>\n",
       "      <td>NO_QUERY</td>\n",
       "      <td>TheWDBoards</td>\n",
       "      <td>TheWDB.com - Very cool to hear old Walt interv...</td>\n",
       "    </tr>\n",
       "    <tr>\n",
       "      <th>1599997</th>\n",
       "      <td>4</td>\n",
       "      <td>2193601991</td>\n",
       "      <td>Tue Jun 16 08:40:49 PDT 2009</td>\n",
       "      <td>NO_QUERY</td>\n",
       "      <td>bpbabe</td>\n",
       "      <td>Are you ready for your MoJo Makeover? Ask me f...</td>\n",
       "    </tr>\n",
       "    <tr>\n",
       "      <th>1599998</th>\n",
       "      <td>4</td>\n",
       "      <td>2193602064</td>\n",
       "      <td>Tue Jun 16 08:40:49 PDT 2009</td>\n",
       "      <td>NO_QUERY</td>\n",
       "      <td>tinydiamondz</td>\n",
       "      <td>Happy 38th Birthday to my boo of alll time!!! ...</td>\n",
       "    </tr>\n",
       "    <tr>\n",
       "      <th>1599999</th>\n",
       "      <td>4</td>\n",
       "      <td>2193602129</td>\n",
       "      <td>Tue Jun 16 08:40:50 PDT 2009</td>\n",
       "      <td>NO_QUERY</td>\n",
       "      <td>RyanTrevMorris</td>\n",
       "      <td>happy #charitytuesday @theNSPCC @SparksCharity...</td>\n",
       "    </tr>\n",
       "  </tbody>\n",
       "</table>\n",
       "<p>1600000 rows × 6 columns</p>\n",
       "</div>"
      ],
      "text/plain": [
       "         0           1                             2         3  \\\n",
       "0        0  1467810369  Mon Apr 06 22:19:45 PDT 2009  NO_QUERY   \n",
       "1        0  1467810672  Mon Apr 06 22:19:49 PDT 2009  NO_QUERY   \n",
       "2        0  1467810917  Mon Apr 06 22:19:53 PDT 2009  NO_QUERY   \n",
       "3        0  1467811184  Mon Apr 06 22:19:57 PDT 2009  NO_QUERY   \n",
       "4        0  1467811193  Mon Apr 06 22:19:57 PDT 2009  NO_QUERY   \n",
       "...     ..         ...                           ...       ...   \n",
       "1599995  4  2193601966  Tue Jun 16 08:40:49 PDT 2009  NO_QUERY   \n",
       "1599996  4  2193601969  Tue Jun 16 08:40:49 PDT 2009  NO_QUERY   \n",
       "1599997  4  2193601991  Tue Jun 16 08:40:49 PDT 2009  NO_QUERY   \n",
       "1599998  4  2193602064  Tue Jun 16 08:40:49 PDT 2009  NO_QUERY   \n",
       "1599999  4  2193602129  Tue Jun 16 08:40:50 PDT 2009  NO_QUERY   \n",
       "\n",
       "                       4                                                  5  \n",
       "0        _TheSpecialOne_  @switchfoot http://twitpic.com/2y1zl - Awww, t...  \n",
       "1          scotthamilton  is upset that he can't update his Facebook by ...  \n",
       "2               mattycus  @Kenichan I dived many times for the ball. Man...  \n",
       "3                ElleCTF    my whole body feels itchy and like its on fire   \n",
       "4                 Karoli  @nationwideclass no, it's not behaving at all....  \n",
       "...                  ...                                                ...  \n",
       "1599995  AmandaMarie1028  Just woke up. Having no school is the best fee...  \n",
       "1599996      TheWDBoards  TheWDB.com - Very cool to hear old Walt interv...  \n",
       "1599997           bpbabe  Are you ready for your MoJo Makeover? Ask me f...  \n",
       "1599998     tinydiamondz  Happy 38th Birthday to my boo of alll time!!! ...  \n",
       "1599999   RyanTrevMorris  happy #charitytuesday @theNSPCC @SparksCharity...  \n",
       "\n",
       "[1600000 rows x 6 columns]"
      ]
     },
     "execution_count": 166,
     "metadata": {},
     "output_type": "execute_result"
    }
   ],
   "source": [
    "df"
   ]
  },
  {
   "cell_type": "code",
   "execution_count": 167,
   "id": "77c32594",
   "metadata": {
    "ExecuteTime": {
     "end_time": "2022-11-09T02:46:25.571317Z",
     "start_time": "2022-11-09T02:46:25.509793Z"
    }
   },
   "outputs": [
    {
     "data": {
      "text/html": [
       "<div>\n",
       "<style scoped>\n",
       "    .dataframe tbody tr th:only-of-type {\n",
       "        vertical-align: middle;\n",
       "    }\n",
       "\n",
       "    .dataframe tbody tr th {\n",
       "        vertical-align: top;\n",
       "    }\n",
       "\n",
       "    .dataframe thead th {\n",
       "        text-align: right;\n",
       "    }\n",
       "</style>\n",
       "<table border=\"1\" class=\"dataframe\">\n",
       "  <thead>\n",
       "    <tr style=\"text-align: right;\">\n",
       "      <th></th>\n",
       "      <th>5</th>\n",
       "      <th>0</th>\n",
       "    </tr>\n",
       "  </thead>\n",
       "  <tbody>\n",
       "    <tr>\n",
       "      <th>0</th>\n",
       "      <td>@switchfoot http://twitpic.com/2y1zl - Awww, t...</td>\n",
       "      <td>0</td>\n",
       "    </tr>\n",
       "    <tr>\n",
       "      <th>1</th>\n",
       "      <td>is upset that he can't update his Facebook by ...</td>\n",
       "      <td>0</td>\n",
       "    </tr>\n",
       "    <tr>\n",
       "      <th>2</th>\n",
       "      <td>@Kenichan I dived many times for the ball. Man...</td>\n",
       "      <td>0</td>\n",
       "    </tr>\n",
       "    <tr>\n",
       "      <th>3</th>\n",
       "      <td>my whole body feels itchy and like its on fire</td>\n",
       "      <td>0</td>\n",
       "    </tr>\n",
       "    <tr>\n",
       "      <th>4</th>\n",
       "      <td>@nationwideclass no, it's not behaving at all....</td>\n",
       "      <td>0</td>\n",
       "    </tr>\n",
       "    <tr>\n",
       "      <th>...</th>\n",
       "      <td>...</td>\n",
       "      <td>...</td>\n",
       "    </tr>\n",
       "    <tr>\n",
       "      <th>1599995</th>\n",
       "      <td>Just woke up. Having no school is the best fee...</td>\n",
       "      <td>4</td>\n",
       "    </tr>\n",
       "    <tr>\n",
       "      <th>1599996</th>\n",
       "      <td>TheWDB.com - Very cool to hear old Walt interv...</td>\n",
       "      <td>4</td>\n",
       "    </tr>\n",
       "    <tr>\n",
       "      <th>1599997</th>\n",
       "      <td>Are you ready for your MoJo Makeover? Ask me f...</td>\n",
       "      <td>4</td>\n",
       "    </tr>\n",
       "    <tr>\n",
       "      <th>1599998</th>\n",
       "      <td>Happy 38th Birthday to my boo of alll time!!! ...</td>\n",
       "      <td>4</td>\n",
       "    </tr>\n",
       "    <tr>\n",
       "      <th>1599999</th>\n",
       "      <td>happy #charitytuesday @theNSPCC @SparksCharity...</td>\n",
       "      <td>4</td>\n",
       "    </tr>\n",
       "  </tbody>\n",
       "</table>\n",
       "<p>1600000 rows × 2 columns</p>\n",
       "</div>"
      ],
      "text/plain": [
       "                                                         5  0\n",
       "0        @switchfoot http://twitpic.com/2y1zl - Awww, t...  0\n",
       "1        is upset that he can't update his Facebook by ...  0\n",
       "2        @Kenichan I dived many times for the ball. Man...  0\n",
       "3          my whole body feels itchy and like its on fire   0\n",
       "4        @nationwideclass no, it's not behaving at all....  0\n",
       "...                                                    ... ..\n",
       "1599995  Just woke up. Having no school is the best fee...  4\n",
       "1599996  TheWDB.com - Very cool to hear old Walt interv...  4\n",
       "1599997  Are you ready for your MoJo Makeover? Ask me f...  4\n",
       "1599998  Happy 38th Birthday to my boo of alll time!!! ...  4\n",
       "1599999  happy #charitytuesday @theNSPCC @SparksCharity...  4\n",
       "\n",
       "[1600000 rows x 2 columns]"
      ]
     },
     "execution_count": 167,
     "metadata": {},
     "output_type": "execute_result"
    }
   ],
   "source": [
    "df=df[[5,0]]\n",
    "df"
   ]
  },
  {
   "cell_type": "code",
   "execution_count": 168,
   "id": "77be8dda",
   "metadata": {
    "ExecuteTime": {
     "end_time": "2022-11-09T02:46:25.587323Z",
     "start_time": "2022-11-09T02:46:25.573319Z"
    }
   },
   "outputs": [
    {
     "data": {
      "text/html": [
       "<div>\n",
       "<style scoped>\n",
       "    .dataframe tbody tr th:only-of-type {\n",
       "        vertical-align: middle;\n",
       "    }\n",
       "\n",
       "    .dataframe tbody tr th {\n",
       "        vertical-align: top;\n",
       "    }\n",
       "\n",
       "    .dataframe thead th {\n",
       "        text-align: right;\n",
       "    }\n",
       "</style>\n",
       "<table border=\"1\" class=\"dataframe\">\n",
       "  <thead>\n",
       "    <tr style=\"text-align: right;\">\n",
       "      <th></th>\n",
       "      <th>twitts</th>\n",
       "      <th>sentiment</th>\n",
       "    </tr>\n",
       "  </thead>\n",
       "  <tbody>\n",
       "    <tr>\n",
       "      <th>0</th>\n",
       "      <td>@switchfoot http://twitpic.com/2y1zl - Awww, t...</td>\n",
       "      <td>0</td>\n",
       "    </tr>\n",
       "    <tr>\n",
       "      <th>1</th>\n",
       "      <td>is upset that he can't update his Facebook by ...</td>\n",
       "      <td>0</td>\n",
       "    </tr>\n",
       "    <tr>\n",
       "      <th>2</th>\n",
       "      <td>@Kenichan I dived many times for the ball. Man...</td>\n",
       "      <td>0</td>\n",
       "    </tr>\n",
       "    <tr>\n",
       "      <th>3</th>\n",
       "      <td>my whole body feels itchy and like its on fire</td>\n",
       "      <td>0</td>\n",
       "    </tr>\n",
       "    <tr>\n",
       "      <th>4</th>\n",
       "      <td>@nationwideclass no, it's not behaving at all....</td>\n",
       "      <td>0</td>\n",
       "    </tr>\n",
       "  </tbody>\n",
       "</table>\n",
       "</div>"
      ],
      "text/plain": [
       "                                              twitts  sentiment\n",
       "0  @switchfoot http://twitpic.com/2y1zl - Awww, t...          0\n",
       "1  is upset that he can't update his Facebook by ...          0\n",
       "2  @Kenichan I dived many times for the ball. Man...          0\n",
       "3    my whole body feels itchy and like its on fire           0\n",
       "4  @nationwideclass no, it's not behaving at all....          0"
      ]
     },
     "execution_count": 168,
     "metadata": {},
     "output_type": "execute_result"
    }
   ],
   "source": [
    "df.columns=['twitts','sentiment']\n",
    "df.head()"
   ]
  },
  {
   "cell_type": "code",
   "execution_count": 169,
   "id": "d2d650ce",
   "metadata": {
    "ExecuteTime": {
     "end_time": "2022-11-09T02:46:33.288786Z",
     "start_time": "2022-11-09T02:46:31.323800Z"
    }
   },
   "outputs": [
    {
     "name": "stderr",
     "output_type": "stream",
     "text": [
      "C:\\Users\\pbann\\AppData\\Local\\Temp/ipykernel_38284/4033468041.py:1: SettingWithCopyWarning: \n",
      "A value is trying to be set on a copy of a slice from a DataFrame.\n",
      "Try using .loc[row_indexer,col_indexer] = value instead\n",
      "\n",
      "See the caveats in the documentation: https://pandas.pydata.org/pandas-docs/stable/user_guide/indexing.html#returning-a-view-versus-a-copy\n",
      "  df['word_count']=df['twitts'].apply(lambda x: len(str(x).split()))\n"
     ]
    }
   ],
   "source": [
    "df['word_count']=df['twitts'].apply(lambda x: len(str(x).split()))"
   ]
  },
  {
   "cell_type": "code",
   "execution_count": 170,
   "id": "d60c5b3d",
   "metadata": {
    "ExecuteTime": {
     "end_time": "2022-11-09T02:46:33.304786Z",
     "start_time": "2022-11-09T02:46:33.290787Z"
    }
   },
   "outputs": [
    {
     "data": {
      "text/html": [
       "<div>\n",
       "<style scoped>\n",
       "    .dataframe tbody tr th:only-of-type {\n",
       "        vertical-align: middle;\n",
       "    }\n",
       "\n",
       "    .dataframe tbody tr th {\n",
       "        vertical-align: top;\n",
       "    }\n",
       "\n",
       "    .dataframe thead th {\n",
       "        text-align: right;\n",
       "    }\n",
       "</style>\n",
       "<table border=\"1\" class=\"dataframe\">\n",
       "  <thead>\n",
       "    <tr style=\"text-align: right;\">\n",
       "      <th></th>\n",
       "      <th>twitts</th>\n",
       "      <th>sentiment</th>\n",
       "      <th>word_count</th>\n",
       "    </tr>\n",
       "  </thead>\n",
       "  <tbody>\n",
       "    <tr>\n",
       "      <th>0</th>\n",
       "      <td>@switchfoot http://twitpic.com/2y1zl - Awww, t...</td>\n",
       "      <td>0</td>\n",
       "      <td>19</td>\n",
       "    </tr>\n",
       "    <tr>\n",
       "      <th>1</th>\n",
       "      <td>is upset that he can't update his Facebook by ...</td>\n",
       "      <td>0</td>\n",
       "      <td>21</td>\n",
       "    </tr>\n",
       "    <tr>\n",
       "      <th>2</th>\n",
       "      <td>@Kenichan I dived many times for the ball. Man...</td>\n",
       "      <td>0</td>\n",
       "      <td>18</td>\n",
       "    </tr>\n",
       "    <tr>\n",
       "      <th>3</th>\n",
       "      <td>my whole body feels itchy and like its on fire</td>\n",
       "      <td>0</td>\n",
       "      <td>10</td>\n",
       "    </tr>\n",
       "    <tr>\n",
       "      <th>4</th>\n",
       "      <td>@nationwideclass no, it's not behaving at all....</td>\n",
       "      <td>0</td>\n",
       "      <td>21</td>\n",
       "    </tr>\n",
       "    <tr>\n",
       "      <th>...</th>\n",
       "      <td>...</td>\n",
       "      <td>...</td>\n",
       "      <td>...</td>\n",
       "    </tr>\n",
       "    <tr>\n",
       "      <th>1599995</th>\n",
       "      <td>Just woke up. Having no school is the best fee...</td>\n",
       "      <td>4</td>\n",
       "      <td>11</td>\n",
       "    </tr>\n",
       "    <tr>\n",
       "      <th>1599996</th>\n",
       "      <td>TheWDB.com - Very cool to hear old Walt interv...</td>\n",
       "      <td>4</td>\n",
       "      <td>11</td>\n",
       "    </tr>\n",
       "    <tr>\n",
       "      <th>1599997</th>\n",
       "      <td>Are you ready for your MoJo Makeover? Ask me f...</td>\n",
       "      <td>4</td>\n",
       "      <td>11</td>\n",
       "    </tr>\n",
       "    <tr>\n",
       "      <th>1599998</th>\n",
       "      <td>Happy 38th Birthday to my boo of alll time!!! ...</td>\n",
       "      <td>4</td>\n",
       "      <td>12</td>\n",
       "    </tr>\n",
       "    <tr>\n",
       "      <th>1599999</th>\n",
       "      <td>happy #charitytuesday @theNSPCC @SparksCharity...</td>\n",
       "      <td>4</td>\n",
       "      <td>5</td>\n",
       "    </tr>\n",
       "  </tbody>\n",
       "</table>\n",
       "<p>1600000 rows × 3 columns</p>\n",
       "</div>"
      ],
      "text/plain": [
       "                                                    twitts  sentiment  \\\n",
       "0        @switchfoot http://twitpic.com/2y1zl - Awww, t...          0   \n",
       "1        is upset that he can't update his Facebook by ...          0   \n",
       "2        @Kenichan I dived many times for the ball. Man...          0   \n",
       "3          my whole body feels itchy and like its on fire           0   \n",
       "4        @nationwideclass no, it's not behaving at all....          0   \n",
       "...                                                    ...        ...   \n",
       "1599995  Just woke up. Having no school is the best fee...          4   \n",
       "1599996  TheWDB.com - Very cool to hear old Walt interv...          4   \n",
       "1599997  Are you ready for your MoJo Makeover? Ask me f...          4   \n",
       "1599998  Happy 38th Birthday to my boo of alll time!!! ...          4   \n",
       "1599999  happy #charitytuesday @theNSPCC @SparksCharity...          4   \n",
       "\n",
       "         word_count  \n",
       "0                19  \n",
       "1                21  \n",
       "2                18  \n",
       "3                10  \n",
       "4                21  \n",
       "...             ...  \n",
       "1599995          11  \n",
       "1599996          11  \n",
       "1599997          11  \n",
       "1599998          12  \n",
       "1599999           5  \n",
       "\n",
       "[1600000 rows x 3 columns]"
      ]
     },
     "execution_count": 170,
     "metadata": {},
     "output_type": "execute_result"
    }
   ],
   "source": [
    "df"
   ]
  },
  {
   "cell_type": "code",
   "execution_count": 34,
   "id": "7eb2ae64",
   "metadata": {
    "ExecuteTime": {
     "end_time": "2022-11-09T01:52:28.002900Z",
     "start_time": "2022-11-09T01:52:27.974390Z"
    }
   },
   "outputs": [
    {
     "data": {
      "text/plain": [
       "0    800000\n",
       "4    800000\n",
       "Name: sentiment, dtype: int64"
      ]
     },
     "execution_count": 34,
     "metadata": {},
     "output_type": "execute_result"
    }
   ],
   "source": [
    "df['sentiment'].value_counts()"
   ]
  },
  {
   "cell_type": "code",
   "execution_count": 35,
   "id": "d8d0b35c",
   "metadata": {
    "ExecuteTime": {
     "end_time": "2022-11-09T01:52:28.876106Z",
     "start_time": "2022-11-09T01:52:28.872072Z"
    }
   },
   "outputs": [],
   "source": [
    "sent_map = {0:'negative',4:'positive'}"
   ]
  },
  {
   "cell_type": "code",
   "execution_count": 36,
   "id": "b55736d2",
   "metadata": {
    "ExecuteTime": {
     "end_time": "2022-11-09T01:52:30.141691Z",
     "start_time": "2022-11-09T01:52:29.709327Z"
    },
    "scrolled": true
   },
   "outputs": [
    {
     "name": "stderr",
     "output_type": "stream",
     "text": [
      "C:\\Users\\pbann\\AppData\\Local\\Temp/ipykernel_38284/1137388034.py:2: SettingWithCopyWarning: \n",
      "A value is trying to be set on a copy of a slice from a DataFrame.\n",
      "Try using .loc[row_indexer,col_indexer] = value instead\n",
      "\n",
      "See the caveats in the documentation: https://pandas.pydata.org/pandas-docs/stable/user_guide/indexing.html#returning-a-view-versus-a-copy\n",
      "  df['charcter_count']=df['twitts'].apply(lambda x : len(x))\n"
     ]
    }
   ],
   "source": [
    "# character count\n",
    "df['charcter_count']=df['twitts'].apply(lambda x : len(x))"
   ]
  },
  {
   "cell_type": "code",
   "execution_count": 37,
   "id": "7bb2bcc6",
   "metadata": {
    "ExecuteTime": {
     "end_time": "2022-11-09T01:52:30.891799Z",
     "start_time": "2022-11-09T01:52:30.880789Z"
    }
   },
   "outputs": [],
   "source": [
    "def avg_word_len(text):\n",
    "    words=text.split()\n",
    "    word_len=0\n",
    "    for word in words:\n",
    "        word_len=word_len+len(words)\n",
    "    return word_len/len(words)\n",
    "    "
   ]
  },
  {
   "cell_type": "code",
   "execution_count": 38,
   "id": "07bfd2f4",
   "metadata": {
    "ExecuteTime": {
     "end_time": "2022-11-09T01:52:34.424620Z",
     "start_time": "2022-11-09T01:52:31.730424Z"
    }
   },
   "outputs": [
    {
     "name": "stderr",
     "output_type": "stream",
     "text": [
      "C:\\Users\\pbann\\AppData\\Local\\Temp/ipykernel_38284/2473880090.py:2: SettingWithCopyWarning: \n",
      "A value is trying to be set on a copy of a slice from a DataFrame.\n",
      "Try using .loc[row_indexer,col_indexer] = value instead\n",
      "\n",
      "See the caveats in the documentation: https://pandas.pydata.org/pandas-docs/stable/user_guide/indexing.html#returning-a-view-versus-a-copy\n",
      "  df['avg_word_len']=df['twitts'].apply(lambda x:avg_word_len(x) )\n"
     ]
    }
   ],
   "source": [
    "# avg wordlength \n",
    "df['avg_word_len']=df['twitts'].apply(lambda x:avg_word_len(x) )"
   ]
  },
  {
   "cell_type": "code",
   "execution_count": 39,
   "id": "2aa9a882",
   "metadata": {
    "ExecuteTime": {
     "end_time": "2022-11-09T01:52:34.440589Z",
     "start_time": "2022-11-09T01:52:34.426586Z"
    }
   },
   "outputs": [
    {
     "data": {
      "text/html": [
       "<div>\n",
       "<style scoped>\n",
       "    .dataframe tbody tr th:only-of-type {\n",
       "        vertical-align: middle;\n",
       "    }\n",
       "\n",
       "    .dataframe tbody tr th {\n",
       "        vertical-align: top;\n",
       "    }\n",
       "\n",
       "    .dataframe thead th {\n",
       "        text-align: right;\n",
       "    }\n",
       "</style>\n",
       "<table border=\"1\" class=\"dataframe\">\n",
       "  <thead>\n",
       "    <tr style=\"text-align: right;\">\n",
       "      <th></th>\n",
       "      <th>twitts</th>\n",
       "      <th>sentiment</th>\n",
       "      <th>word_count</th>\n",
       "      <th>charcter_count</th>\n",
       "      <th>avg_word_len</th>\n",
       "    </tr>\n",
       "  </thead>\n",
       "  <tbody>\n",
       "    <tr>\n",
       "      <th>0</th>\n",
       "      <td>@switchfoot http://twitpic.com/2y1zl - Awww, t...</td>\n",
       "      <td>0</td>\n",
       "      <td>19</td>\n",
       "      <td>115</td>\n",
       "      <td>19.0</td>\n",
       "    </tr>\n",
       "    <tr>\n",
       "      <th>1</th>\n",
       "      <td>is upset that he can't update his Facebook by ...</td>\n",
       "      <td>0</td>\n",
       "      <td>21</td>\n",
       "      <td>111</td>\n",
       "      <td>21.0</td>\n",
       "    </tr>\n",
       "    <tr>\n",
       "      <th>2</th>\n",
       "      <td>@Kenichan I dived many times for the ball. Man...</td>\n",
       "      <td>0</td>\n",
       "      <td>18</td>\n",
       "      <td>89</td>\n",
       "      <td>18.0</td>\n",
       "    </tr>\n",
       "    <tr>\n",
       "      <th>3</th>\n",
       "      <td>my whole body feels itchy and like its on fire</td>\n",
       "      <td>0</td>\n",
       "      <td>10</td>\n",
       "      <td>47</td>\n",
       "      <td>10.0</td>\n",
       "    </tr>\n",
       "    <tr>\n",
       "      <th>4</th>\n",
       "      <td>@nationwideclass no, it's not behaving at all....</td>\n",
       "      <td>0</td>\n",
       "      <td>21</td>\n",
       "      <td>111</td>\n",
       "      <td>21.0</td>\n",
       "    </tr>\n",
       "    <tr>\n",
       "      <th>...</th>\n",
       "      <td>...</td>\n",
       "      <td>...</td>\n",
       "      <td>...</td>\n",
       "      <td>...</td>\n",
       "      <td>...</td>\n",
       "    </tr>\n",
       "    <tr>\n",
       "      <th>1599995</th>\n",
       "      <td>Just woke up. Having no school is the best fee...</td>\n",
       "      <td>4</td>\n",
       "      <td>11</td>\n",
       "      <td>56</td>\n",
       "      <td>11.0</td>\n",
       "    </tr>\n",
       "    <tr>\n",
       "      <th>1599996</th>\n",
       "      <td>TheWDB.com - Very cool to hear old Walt interv...</td>\n",
       "      <td>4</td>\n",
       "      <td>11</td>\n",
       "      <td>76</td>\n",
       "      <td>11.0</td>\n",
       "    </tr>\n",
       "    <tr>\n",
       "      <th>1599997</th>\n",
       "      <td>Are you ready for your MoJo Makeover? Ask me f...</td>\n",
       "      <td>4</td>\n",
       "      <td>11</td>\n",
       "      <td>57</td>\n",
       "      <td>11.0</td>\n",
       "    </tr>\n",
       "    <tr>\n",
       "      <th>1599998</th>\n",
       "      <td>Happy 38th Birthday to my boo of alll time!!! ...</td>\n",
       "      <td>4</td>\n",
       "      <td>12</td>\n",
       "      <td>65</td>\n",
       "      <td>12.0</td>\n",
       "    </tr>\n",
       "    <tr>\n",
       "      <th>1599999</th>\n",
       "      <td>happy #charitytuesday @theNSPCC @SparksCharity...</td>\n",
       "      <td>4</td>\n",
       "      <td>5</td>\n",
       "      <td>62</td>\n",
       "      <td>5.0</td>\n",
       "    </tr>\n",
       "  </tbody>\n",
       "</table>\n",
       "<p>1600000 rows × 5 columns</p>\n",
       "</div>"
      ],
      "text/plain": [
       "                                                    twitts  sentiment  \\\n",
       "0        @switchfoot http://twitpic.com/2y1zl - Awww, t...          0   \n",
       "1        is upset that he can't update his Facebook by ...          0   \n",
       "2        @Kenichan I dived many times for the ball. Man...          0   \n",
       "3          my whole body feels itchy and like its on fire           0   \n",
       "4        @nationwideclass no, it's not behaving at all....          0   \n",
       "...                                                    ...        ...   \n",
       "1599995  Just woke up. Having no school is the best fee...          4   \n",
       "1599996  TheWDB.com - Very cool to hear old Walt interv...          4   \n",
       "1599997  Are you ready for your MoJo Makeover? Ask me f...          4   \n",
       "1599998  Happy 38th Birthday to my boo of alll time!!! ...          4   \n",
       "1599999  happy #charitytuesday @theNSPCC @SparksCharity...          4   \n",
       "\n",
       "         word_count  charcter_count  avg_word_len  \n",
       "0                19             115          19.0  \n",
       "1                21             111          21.0  \n",
       "2                18              89          18.0  \n",
       "3                10              47          10.0  \n",
       "4                21             111          21.0  \n",
       "...             ...             ...           ...  \n",
       "1599995          11              56          11.0  \n",
       "1599996          11              76          11.0  \n",
       "1599997          11              57          11.0  \n",
       "1599998          12              65          12.0  \n",
       "1599999           5              62           5.0  \n",
       "\n",
       "[1600000 rows x 5 columns]"
      ]
     },
     "execution_count": 39,
     "metadata": {},
     "output_type": "execute_result"
    }
   ],
   "source": [
    "df"
   ]
  },
  {
   "cell_type": "markdown",
   "id": "dceb912c",
   "metadata": {},
   "source": [
    "# stop words count"
   ]
  },
  {
   "cell_type": "code",
   "execution_count": 40,
   "id": "b5edfe78",
   "metadata": {
    "ExecuteTime": {
     "end_time": "2022-11-09T01:52:35.549524Z",
     "start_time": "2022-11-09T01:52:35.545525Z"
    }
   },
   "outputs": [
    {
     "name": "stdout",
     "output_type": "stream",
     "text": [
      "{'more', 'becomes', 'had', 'beforehand', 'not', 'as', 'a', 'rather', 'to', 'give', 'been', 'below', 'hence', 'almost', 'still', 'can', 'the', 'during', 'whereafter', 'cannot', 'much', 'seeming', 'afterwards', \"'m\", 'off', 'full', 'please', 'towards', 'our', 'less', 'me', '’ll', 'top', 'make', 'always', 'via', 'former', 'five', 'noone', 'last', 'since', 'across', 'himself', 'else', 'whereupon', 'doing', 'namely', 'take', 'together', 'used', 'beside', 'does', 'various', 'if', 'often', 'say', 'other', 'already', 'see', 'empty', 'those', 'sometime', 'these', 'something', 'for', '’d', \"'s\", 'done', 'out', 'by', 'you', 'neither', 'sometimes', 'upon', 'whoever', 'wherein', 'ca', 'latter', 'amongst', \"'ve\", 'move', 'mostly', 'became', 'using', 'everyone', 'that', 'unless', 'without', 'nevertheless', 'formerly', 'amount', 'how', 'be', 'quite', '‘ll', 'therefore', 'wherever', 'is', 'whereas', 'regarding', 'ourselves', 'seemed', 'too', 'they', 'of', 'again', 'indeed', 'could', 'than', 'into', 'itself', 'he', 'whence', 'well', 'ten', '’re', '‘ve', 'throughout', 'go', 'three', 'so', '’s', 'we', 'mine', 'toward', 'back', 'why', 'besides', 'bottom', 'ours', 'this', 'would', 'myself', 'him', 'no', 'keep', 'whose', 'do', 'and', 'up', 'yours', 'hereafter', 'which', 'moreover', 'except', 'onto', 'elsewhere', 'few', 'thus', 'an', 'beyond', 'most', 'anyone', 'anyway', 'might', 'am', 'eleven', 'front', 'many', 'from', 'when', 'while', 'any', 'perhaps', 'it', '’m', 'before', 'forty', '‘s', 'above', 'alone', '‘m', 'my', 'herein', 'seem', 'whatever', 'made', 'anyhow', 'hers', 'herself', 'or', 'least', 'within', 'their', 'on', 'four', 'both', 'because', 'them', 'being', 'fifteen', \"'ll\", 'third', 'per', 'yourself', 'although', 'one', 'therein', 'through', 'n‘t', 'whereby', 'yet', 'even', 'what', 'thence', 'nowhere', 'may', 'i', 'there', 'latterly', 'among', 'whether', 'nine', 'however', 'otherwise', 'then', 'two', 'really', 'whither', 'at', 'twenty', 'us', 'another', 'around', '’ve', 'somehow', 'side', 'some', 'though', 'against', 'was', 'due', 'others', 'with', 'enough', 'under', \"'re\", 'who', 'but', 'nothing', 'has', 'thru', 'further', 'also', 'whom', 'where', 'will', 'down', 'did', 'every', 'very', 'thereby', 'anything', 'someone', 'are', 'only', 'everywhere', 'all', 'seems', 'after', 'have', 'each', 'become', 'just', 'next', 'over', 'sixty', 'she', 'everything', 'get', 'never', 'part', 'becoming', 'between', 'themselves', 'once', 'in', 'n’t', 'now', 'until', 'whole', 'same', 'such', 'his', 'fifty', 'here', 'about', 'twelve', 'whenever', 'name', 'thereafter', 'show', 'hereupon', 'nobody', 'meanwhile', 'eight', 'either', 'own', 'along', 'her', 'serious', 'yourselves', 'were', 'put', 'hereby', '‘re', 're', 'none', 'should', 'hundred', 'ever', \"'d\", \"n't\", 'behind', 'nor', 'call', 'must', 'somewhere', 'your', '‘d', 'its', 'anywhere', 'first', 'several', 'thereupon', 'six'}\n"
     ]
    }
   ],
   "source": [
    "print(STOP_WORDS)"
   ]
  },
  {
   "cell_type": "code",
   "execution_count": 41,
   "id": "755a00c9",
   "metadata": {
    "ExecuteTime": {
     "end_time": "2022-11-09T01:52:41.077507Z",
     "start_time": "2022-11-09T01:52:37.817026Z"
    }
   },
   "outputs": [],
   "source": [
    "df['stopwords_len']=df['twitts'].apply(lambda x: len([t for t in x.split() if t in STOP_WORDS]))"
   ]
  },
  {
   "cell_type": "code",
   "execution_count": 42,
   "id": "570152d8",
   "metadata": {
    "ExecuteTime": {
     "end_time": "2022-11-09T01:52:41.093577Z",
     "start_time": "2022-11-09T01:52:41.083583Z"
    }
   },
   "outputs": [],
   "source": [
    "# how many stop words in each row of data"
   ]
  },
  {
   "cell_type": "code",
   "execution_count": 43,
   "id": "60e8edc2",
   "metadata": {
    "ExecuteTime": {
     "end_time": "2022-11-09T01:52:48.464206Z",
     "start_time": "2022-11-09T01:52:41.096094Z"
    }
   },
   "outputs": [],
   "source": [
    "# count hastags and @ mentions\n",
    "df['hashtag_counts']=df['twitts'].apply(lambda x :len([t for t in x.split() if t.startswith('#')]))\n",
    "df['mentions_counts']=df['twitts'].apply(lambda x :len([t for t in x.split() if t.startswith('@')]))"
   ]
  },
  {
   "cell_type": "code",
   "execution_count": 44,
   "id": "7d6c03e3",
   "metadata": {
    "ExecuteTime": {
     "end_time": "2022-11-09T01:52:51.138837Z",
     "start_time": "2022-11-09T01:52:48.466178Z"
    }
   },
   "outputs": [],
   "source": [
    "# if numeric digits present in tweet\n",
    "df['numerics_counts']=df['twitts'].apply(lambda x : len([t for t in x.split() if t.isdigit()]))"
   ]
  },
  {
   "cell_type": "code",
   "execution_count": 45,
   "id": "65d55a82",
   "metadata": {
    "ExecuteTime": {
     "end_time": "2022-11-09T01:52:54.018908Z",
     "start_time": "2022-11-09T01:52:51.140587Z"
    }
   },
   "outputs": [],
   "source": [
    "# upper case words count\n",
    "df['upper_case_counts']=df['twitts'].apply(lambda x: len([t for t in x.split() if  t.isupper() and len(x)>3]))"
   ]
  },
  {
   "cell_type": "code",
   "execution_count": 46,
   "id": "e0e54e02",
   "metadata": {
    "ExecuteTime": {
     "end_time": "2022-11-09T01:52:54.114395Z",
     "start_time": "2022-11-09T01:52:54.019827Z"
    }
   },
   "outputs": [
    {
     "data": {
      "text/plain": [
       "\"so rylee,grace...wana go steve's party or not?? SADLY SINCE ITS EASTER I WNT B ABLE 2 DO MUCH  BUT OHH WELL.....\""
      ]
     },
     "execution_count": 46,
     "metadata": {},
     "output_type": "execute_result"
    }
   ],
   "source": [
    "df.loc[96]['twitts']"
   ]
  },
  {
   "cell_type": "markdown",
   "id": "0ab02131",
   "metadata": {},
   "source": [
    "# preprocessing and cleaning"
   ]
  },
  {
   "cell_type": "code",
   "execution_count": 171,
   "id": "a19d0738",
   "metadata": {
    "ExecuteTime": {
     "end_time": "2022-11-09T02:46:51.969394Z",
     "start_time": "2022-11-09T02:46:51.157358Z"
    }
   },
   "outputs": [
    {
     "name": "stderr",
     "output_type": "stream",
     "text": [
      "C:\\Users\\pbann\\AppData\\Local\\Temp/ipykernel_38284/2081995807.py:1: SettingWithCopyWarning: \n",
      "A value is trying to be set on a copy of a slice from a DataFrame.\n",
      "Try using .loc[row_indexer,col_indexer] = value instead\n",
      "\n",
      "See the caveats in the documentation: https://pandas.pydata.org/pandas-docs/stable/user_guide/indexing.html#returning-a-view-versus-a-copy\n",
      "  df['twitts']=df['twitts'].apply(lambda x : x.lower())\n"
     ]
    }
   ],
   "source": [
    "df['twitts']=df['twitts'].apply(lambda x : x.lower())\n"
   ]
  },
  {
   "cell_type": "code",
   "execution_count": 172,
   "id": "f4db85c6",
   "metadata": {
    "ExecuteTime": {
     "end_time": "2022-11-09T02:46:52.233128Z",
     "start_time": "2022-11-09T02:46:52.184613Z"
    }
   },
   "outputs": [],
   "source": [
    "contractions = { \n",
    "\"ain't\": \"am not\",\n",
    "\"aren't\": \"are not\",\n",
    "\"can't\": \"cannot\",\n",
    "\"can't've\": \"cannot have\",\n",
    "\"'cause\": \"because\",\n",
    "\"could've\": \"could have\",\n",
    "\"couldn't\": \"could not\",\n",
    "\"couldn't've\": \"could not have\",\n",
    "\"didn't\": \"did not\",\n",
    "\"doesn't\": \"does not\",\n",
    "\"don't\": \"do not\",\n",
    "\"hadn't\": \"had not\",\n",
    "\"hadn't've\": \"had not have\",\n",
    "\"hasn't\": \"has not\",\n",
    "\"haven't\": \"have not\",\n",
    "\"he'd\": \"he would\",\n",
    "\"he'd've\": \"he would have\",\n",
    "\"he'll\": \"he will\",\n",
    "\"he'll've\": \"he will have\",\n",
    "\"he's\": \"he is\",\n",
    "\"how'd\": \"how did\",\n",
    "\"how'd'y\": \"how do you\",\n",
    "\"how'll\": \"how will\",\n",
    "\"how's\": \"how does\",\n",
    "\"i'd\": \"i would\",\n",
    "\"i'd've\": \"i would have\",\n",
    "\"i'll\": \"i will\",\n",
    "\"i'll've\": \"i will have\",\n",
    "\"i'm\": \"i am\",\n",
    "\"i've\": \"i have\",\n",
    "\"isn't\": \"is not\",\n",
    "\"it'd\": \"it would\",\n",
    "\"it'd've\": \"it would have\",\n",
    "\"it'll\": \"it will\",\n",
    "\"it'll've\": \"it will have\",\n",
    "\"it's\": \"it is\",\n",
    "\"let's\": \"let us\",\n",
    "\"ma'am\": \"madam\",\n",
    "\"mayn't\": \"may not\",\n",
    "\"might've\": \"might have\",\n",
    "\"mightn't\": \"might not\",\n",
    "\"mightn't've\": \"might not have\",\n",
    "\"must've\": \"must have\",\n",
    "\"mustn't\": \"must not\",\n",
    "\"mustn't've\": \"must not have\",\n",
    "\"needn't\": \"need not\",\n",
    "\"needn't've\": \"need not have\",\n",
    "\"o'clock\": \"of the clock\",\n",
    "\"oughtn't\": \"ought not\",\n",
    "\"oughtn't've\": \"ought not have\",\n",
    "\"shan't\": \"shall not\",\n",
    "\"sha'n't\": \"shall not\",\n",
    "\"shan't've\": \"shall not have\",\n",
    "\"she'd\": \"she would\",\n",
    "\"she'd've\": \"she would have\",\n",
    "\"she'll\": \"she will\",\n",
    "\"she'll've\": \"she will have\",\n",
    "\"she's\": \"she is\",\n",
    "\"should've\": \"should have\",\n",
    "\"shouldn't\": \"should not\",\n",
    "\"shouldn't've\": \"should not have\",\n",
    "\"so've\": \"so have\",\n",
    "\"so's\": \"so is\",\n",
    "\"that'd\": \"that would\",\n",
    "\"that'd've\": \"that would have\",\n",
    "\"that's\": \"that is\",\n",
    "\"there'd\": \"there would\",\n",
    "\"there'd've\": \"there would have\",\n",
    "\"there's\": \"there is\",\n",
    "\"they'd\": \"they would\",\n",
    "\"they'd've\": \"they would have\",\n",
    "\"they'll\": \"they will\",\n",
    "\"they'll've\": \"they will have\",\n",
    "\"they're\": \"they are\",\n",
    "\"they've\": \"they have\",\n",
    "\"to've\": \"to have\",\n",
    "\"wasn't\": \"was not\",\n",
    "\" u \": \" you \",\n",
    "\" ur \": \" your \",\n",
    "\" n \": \" and \"}"
   ]
  },
  {
   "cell_type": "code",
   "execution_count": 173,
   "id": "aecdfa66",
   "metadata": {
    "ExecuteTime": {
     "end_time": "2022-11-09T02:46:53.968028Z",
     "start_time": "2022-11-09T02:46:53.951022Z"
    }
   },
   "outputs": [],
   "source": [
    "# #!pip install contractions\n",
    "# # contraction to expansion:\n",
    "# import contractions\n",
    "# def cont_to_exp(text):\n",
    "#     for word in text.split():\n",
    "  # using contractions.fix to expand the shortened words\n",
    " #    contractions.fix(word)\n",
    "# df['twitts'].apply(lambda x: )"
   ]
  },
  {
   "cell_type": "code",
   "execution_count": 174,
   "id": "eb5f6826",
   "metadata": {
    "ExecuteTime": {
     "end_time": "2022-11-09T02:46:54.943224Z",
     "start_time": "2022-11-09T02:46:54.933224Z"
    }
   },
   "outputs": [],
   "source": [
    "def cont_to_exp(x):\n",
    "    if type(x) is str:\n",
    "        for key in contractions:\n",
    "            value = contractions[key]\n",
    "            x=x.replace(key,value)\n",
    "        return x\n",
    "    else:\n",
    "        return x\n",
    "   \n"
   ]
  },
  {
   "cell_type": "code",
   "execution_count": 175,
   "id": "6bf2fc2e",
   "metadata": {
    "ExecuteTime": {
     "end_time": "2022-11-09T02:47:24.002588Z",
     "start_time": "2022-11-09T02:46:58.133478Z"
    }
   },
   "outputs": [
    {
     "name": "stderr",
     "output_type": "stream",
     "text": [
      "C:\\Users\\pbann\\AppData\\Local\\Temp/ipykernel_38284/1896966901.py:1: SettingWithCopyWarning: \n",
      "A value is trying to be set on a copy of a slice from a DataFrame.\n",
      "Try using .loc[row_indexer,col_indexer] = value instead\n",
      "\n",
      "See the caveats in the documentation: https://pandas.pydata.org/pandas-docs/stable/user_guide/indexing.html#returning-a-view-versus-a-copy\n",
      "  df['twitts']=df['twitts'].apply(lambda x : cont_to_exp(x))\n"
     ]
    }
   ],
   "source": [
    "df['twitts']=df['twitts'].apply(lambda x : cont_to_exp(x))"
   ]
  },
  {
   "cell_type": "code",
   "execution_count": 176,
   "id": "ee7b90cd",
   "metadata": {
    "ExecuteTime": {
     "end_time": "2022-11-09T02:47:24.018588Z",
     "start_time": "2022-11-09T02:47:24.004590Z"
    }
   },
   "outputs": [],
   "source": [
    "# count and remove emails"
   ]
  },
  {
   "cell_type": "code",
   "execution_count": 53,
   "id": "27797203",
   "metadata": {
    "ExecuteTime": {
     "end_time": "2022-11-09T01:53:19.172505Z",
     "start_time": "2022-11-09T01:53:19.157507Z"
    }
   },
   "outputs": [],
   "source": [
    "import re "
   ]
  },
  {
   "cell_type": "code",
   "execution_count": 54,
   "id": "c81e00d0",
   "metadata": {
    "ExecuteTime": {
     "end_time": "2022-11-09T01:53:24.704815Z",
     "start_time": "2022-11-09T01:53:19.174506Z"
    }
   },
   "outputs": [],
   "source": [
    "df['emails']=df['twitts'].apply(lambda x : re.findall(r'([a-zA-Z0-9+._-]+@[a-zA-Z0-9+._-]+\\.[a-zA-Z0-9+._-]+)',x) )"
   ]
  },
  {
   "cell_type": "code",
   "execution_count": 55,
   "id": "9b8bcaf9",
   "metadata": {
    "ExecuteTime": {
     "end_time": "2022-11-09T01:53:25.130789Z",
     "start_time": "2022-11-09T01:53:24.705738Z"
    }
   },
   "outputs": [],
   "source": [
    "df['email_count']=df['emails'].apply(lambda x : len(x))"
   ]
  },
  {
   "cell_type": "code",
   "execution_count": 56,
   "id": "d419b4f3",
   "metadata": {
    "ExecuteTime": {
     "end_time": "2022-11-09T01:53:25.383930Z",
     "start_time": "2022-11-09T01:53:25.131581Z"
    }
   },
   "outputs": [
    {
     "data": {
      "text/html": [
       "<div>\n",
       "<style scoped>\n",
       "    .dataframe tbody tr th:only-of-type {\n",
       "        vertical-align: middle;\n",
       "    }\n",
       "\n",
       "    .dataframe tbody tr th {\n",
       "        vertical-align: top;\n",
       "    }\n",
       "\n",
       "    .dataframe thead th {\n",
       "        text-align: right;\n",
       "    }\n",
       "</style>\n",
       "<table border=\"1\" class=\"dataframe\">\n",
       "  <thead>\n",
       "    <tr style=\"text-align: right;\">\n",
       "      <th></th>\n",
       "      <th>twitts</th>\n",
       "      <th>sentiment</th>\n",
       "      <th>word_count</th>\n",
       "      <th>charcter_count</th>\n",
       "      <th>avg_word_len</th>\n",
       "      <th>stopwords_len</th>\n",
       "      <th>hashtag_counts</th>\n",
       "      <th>mentions_counts</th>\n",
       "      <th>numerics_counts</th>\n",
       "      <th>upper_case_counts</th>\n",
       "      <th>emails</th>\n",
       "      <th>email_count</th>\n",
       "    </tr>\n",
       "  </thead>\n",
       "  <tbody>\n",
       "    <tr>\n",
       "      <th>4054</th>\n",
       "      <td>i want a new laptop.  hp tx2000 is the bomb. :...</td>\n",
       "      <td>0</td>\n",
       "      <td>20</td>\n",
       "      <td>103</td>\n",
       "      <td>20.0</td>\n",
       "      <td>6</td>\n",
       "      <td>0</td>\n",
       "      <td>0</td>\n",
       "      <td>0</td>\n",
       "      <td>4</td>\n",
       "      <td>[gabbehhramos@yahoo.com]</td>\n",
       "      <td>1</td>\n",
       "    </tr>\n",
       "    <tr>\n",
       "      <th>7917</th>\n",
       "      <td>who stole elledell@gmail.com?</td>\n",
       "      <td>0</td>\n",
       "      <td>3</td>\n",
       "      <td>31</td>\n",
       "      <td>3.0</td>\n",
       "      <td>1</td>\n",
       "      <td>0</td>\n",
       "      <td>0</td>\n",
       "      <td>0</td>\n",
       "      <td>0</td>\n",
       "      <td>[elledell@gmail.com]</td>\n",
       "      <td>1</td>\n",
       "    </tr>\n",
       "    <tr>\n",
       "      <th>8496</th>\n",
       "      <td>@alexistehpom  really? did you send out all th...</td>\n",
       "      <td>0</td>\n",
       "      <td>20</td>\n",
       "      <td>130</td>\n",
       "      <td>20.0</td>\n",
       "      <td>11</td>\n",
       "      <td>0</td>\n",
       "      <td>1</td>\n",
       "      <td>0</td>\n",
       "      <td>0</td>\n",
       "      <td>[missataari@gmail.com]</td>\n",
       "      <td>1</td>\n",
       "    </tr>\n",
       "    <tr>\n",
       "      <th>10290</th>\n",
       "      <td>@laureystack awh...that is kinda sad  lol add ...</td>\n",
       "      <td>0</td>\n",
       "      <td>8</td>\n",
       "      <td>76</td>\n",
       "      <td>8.0</td>\n",
       "      <td>0</td>\n",
       "      <td>0</td>\n",
       "      <td>1</td>\n",
       "      <td>0</td>\n",
       "      <td>0</td>\n",
       "      <td>[hello.kitty.65@hotmail.com]</td>\n",
       "      <td>1</td>\n",
       "    </tr>\n",
       "    <tr>\n",
       "      <th>16413</th>\n",
       "      <td>@jilliancyork  got 2 bottom of it, human error...</td>\n",
       "      <td>0</td>\n",
       "      <td>21</td>\n",
       "      <td>137</td>\n",
       "      <td>21.0</td>\n",
       "      <td>7</td>\n",
       "      <td>0</td>\n",
       "      <td>1</td>\n",
       "      <td>1</td>\n",
       "      <td>0</td>\n",
       "      <td>[press@linkedin.com]</td>\n",
       "      <td>1</td>\n",
       "    </tr>\n",
       "    <tr>\n",
       "      <th>...</th>\n",
       "      <td>...</td>\n",
       "      <td>...</td>\n",
       "      <td>...</td>\n",
       "      <td>...</td>\n",
       "      <td>...</td>\n",
       "      <td>...</td>\n",
       "      <td>...</td>\n",
       "      <td>...</td>\n",
       "      <td>...</td>\n",
       "      <td>...</td>\n",
       "      <td>...</td>\n",
       "      <td>...</td>\n",
       "    </tr>\n",
       "    <tr>\n",
       "      <th>1588338</th>\n",
       "      <td>@boudoirsextoys do not forget to shoot me an e...</td>\n",
       "      <td>4</td>\n",
       "      <td>21</td>\n",
       "      <td>127</td>\n",
       "      <td>21.0</td>\n",
       "      <td>10</td>\n",
       "      <td>0</td>\n",
       "      <td>1</td>\n",
       "      <td>0</td>\n",
       "      <td>1</td>\n",
       "      <td>[hello@tastelikekisses.com]</td>\n",
       "      <td>1</td>\n",
       "    </tr>\n",
       "    <tr>\n",
       "      <th>1589132</th>\n",
       "      <td>hi there , anybody got a job for me  oil &amp;amp;...</td>\n",
       "      <td>4</td>\n",
       "      <td>15</td>\n",
       "      <td>98</td>\n",
       "      <td>15.0</td>\n",
       "      <td>4</td>\n",
       "      <td>0</td>\n",
       "      <td>0</td>\n",
       "      <td>0</td>\n",
       "      <td>0</td>\n",
       "      <td>[aadvanspijk@yahoo.co.uk]</td>\n",
       "      <td>1</td>\n",
       "    </tr>\n",
       "    <tr>\n",
       "      <th>1590489</th>\n",
       "      <td>@clericaaron yes, lbruton@tulsalanparty.com is...</td>\n",
       "      <td>4</td>\n",
       "      <td>14</td>\n",
       "      <td>95</td>\n",
       "      <td>14.0</td>\n",
       "      <td>6</td>\n",
       "      <td>0</td>\n",
       "      <td>1</td>\n",
       "      <td>0</td>\n",
       "      <td>1</td>\n",
       "      <td>[lbruton@tulsalanparty.com]</td>\n",
       "      <td>1</td>\n",
       "    </tr>\n",
       "    <tr>\n",
       "      <th>1591675</th>\n",
       "      <td>@miss_ellen good morning!!!!   congrats!    se...</td>\n",
       "      <td>4</td>\n",
       "      <td>9</td>\n",
       "      <td>77</td>\n",
       "      <td>9.0</td>\n",
       "      <td>2</td>\n",
       "      <td>0</td>\n",
       "      <td>1</td>\n",
       "      <td>0</td>\n",
       "      <td>0</td>\n",
       "      <td>[jill@q985fm.com]</td>\n",
       "      <td>1</td>\n",
       "    </tr>\n",
       "    <tr>\n",
       "      <th>1599053</th>\n",
       "      <td>@thejoshlynn you are! btw send me an email. wa...</td>\n",
       "      <td>4</td>\n",
       "      <td>19</td>\n",
       "      <td>145</td>\n",
       "      <td>19.0</td>\n",
       "      <td>7</td>\n",
       "      <td>0</td>\n",
       "      <td>1</td>\n",
       "      <td>0</td>\n",
       "      <td>1</td>\n",
       "      <td>[marni@creativecustomcardboxes.com]</td>\n",
       "      <td>1</td>\n",
       "    </tr>\n",
       "  </tbody>\n",
       "</table>\n",
       "<p>586 rows × 12 columns</p>\n",
       "</div>"
      ],
      "text/plain": [
       "                                                    twitts  sentiment  \\\n",
       "4054     i want a new laptop.  hp tx2000 is the bomb. :...          0   \n",
       "7917                       who stole elledell@gmail.com?            0   \n",
       "8496     @alexistehpom  really? did you send out all th...          0   \n",
       "10290    @laureystack awh...that is kinda sad  lol add ...          0   \n",
       "16413    @jilliancyork  got 2 bottom of it, human error...          0   \n",
       "...                                                    ...        ...   \n",
       "1588338  @boudoirsextoys do not forget to shoot me an e...          4   \n",
       "1589132  hi there , anybody got a job for me  oil &amp;...          4   \n",
       "1590489  @clericaaron yes, lbruton@tulsalanparty.com is...          4   \n",
       "1591675  @miss_ellen good morning!!!!   congrats!    se...          4   \n",
       "1599053  @thejoshlynn you are! btw send me an email. wa...          4   \n",
       "\n",
       "         word_count  charcter_count  avg_word_len  stopwords_len  \\\n",
       "4054             20             103          20.0              6   \n",
       "7917              3              31           3.0              1   \n",
       "8496             20             130          20.0             11   \n",
       "10290             8              76           8.0              0   \n",
       "16413            21             137          21.0              7   \n",
       "...             ...             ...           ...            ...   \n",
       "1588338          21             127          21.0             10   \n",
       "1589132          15              98          15.0              4   \n",
       "1590489          14              95          14.0              6   \n",
       "1591675           9              77           9.0              2   \n",
       "1599053          19             145          19.0              7   \n",
       "\n",
       "         hashtag_counts  mentions_counts  numerics_counts  upper_case_counts  \\\n",
       "4054                  0                0                0                  4   \n",
       "7917                  0                0                0                  0   \n",
       "8496                  0                1                0                  0   \n",
       "10290                 0                1                0                  0   \n",
       "16413                 0                1                1                  0   \n",
       "...                 ...              ...              ...                ...   \n",
       "1588338               0                1                0                  1   \n",
       "1589132               0                0                0                  0   \n",
       "1590489               0                1                0                  1   \n",
       "1591675               0                1                0                  0   \n",
       "1599053               0                1                0                  1   \n",
       "\n",
       "                                      emails  email_count  \n",
       "4054                [gabbehhramos@yahoo.com]            1  \n",
       "7917                    [elledell@gmail.com]            1  \n",
       "8496                  [missataari@gmail.com]            1  \n",
       "10290           [hello.kitty.65@hotmail.com]            1  \n",
       "16413                   [press@linkedin.com]            1  \n",
       "...                                      ...          ...  \n",
       "1588338          [hello@tastelikekisses.com]            1  \n",
       "1589132            [aadvanspijk@yahoo.co.uk]            1  \n",
       "1590489          [lbruton@tulsalanparty.com]            1  \n",
       "1591675                    [jill@q985fm.com]            1  \n",
       "1599053  [marni@creativecustomcardboxes.com]            1  \n",
       "\n",
       "[586 rows x 12 columns]"
      ]
     },
     "execution_count": 56,
     "metadata": {},
     "output_type": "execute_result"
    }
   ],
   "source": [
    "df[df['email_count']>0]"
   ]
  },
  {
   "cell_type": "code",
   "execution_count": 177,
   "id": "dbf8eed3",
   "metadata": {
    "ExecuteTime": {
     "end_time": "2022-11-09T02:47:29.477064Z",
     "start_time": "2022-11-09T02:47:24.020592Z"
    }
   },
   "outputs": [
    {
     "name": "stderr",
     "output_type": "stream",
     "text": [
      "C:\\Users\\pbann\\AppData\\Local\\Temp/ipykernel_38284/2169647974.py:1: SettingWithCopyWarning: \n",
      "A value is trying to be set on a copy of a slice from a DataFrame.\n",
      "Try using .loc[row_indexer,col_indexer] = value instead\n",
      "\n",
      "See the caveats in the documentation: https://pandas.pydata.org/pandas-docs/stable/user_guide/indexing.html#returning-a-view-versus-a-copy\n",
      "  df['twitts']=df['twitts'].apply(lambda x : re.sub(r'([a-zA-Z0-9+._-]+@[a-zA-Z0-9+._-]+\\.[a-zA-Z0-9+._-]+)', '',x) )\n"
     ]
    }
   ],
   "source": [
    "df['twitts']=df['twitts'].apply(lambda x : re.sub(r'([a-zA-Z0-9+._-]+@[a-zA-Z0-9+._-]+\\.[a-zA-Z0-9+._-]+)', '',x) )"
   ]
  },
  {
   "cell_type": "code",
   "execution_count": 178,
   "id": "110a641e",
   "metadata": {
    "ExecuteTime": {
     "end_time": "2022-11-09T02:47:29.555580Z",
     "start_time": "2022-11-09T02:47:29.480065Z"
    }
   },
   "outputs": [
    {
     "ename": "KeyError",
     "evalue": "'email_count'",
     "output_type": "error",
     "traceback": [
      "\u001b[1;31m---------------------------------------------------------------------------\u001b[0m",
      "\u001b[1;31mKeyError\u001b[0m                                  Traceback (most recent call last)",
      "\u001b[1;32m~\\Anaconda3\\lib\\site-packages\\pandas\\core\\indexes\\base.py\u001b[0m in \u001b[0;36mget_loc\u001b[1;34m(self, key, method, tolerance)\u001b[0m\n\u001b[0;32m   3620\u001b[0m             \u001b[1;32mtry\u001b[0m\u001b[1;33m:\u001b[0m\u001b[1;33m\u001b[0m\u001b[1;33m\u001b[0m\u001b[0m\n\u001b[1;32m-> 3621\u001b[1;33m                 \u001b[1;32mreturn\u001b[0m \u001b[0mself\u001b[0m\u001b[1;33m.\u001b[0m\u001b[0m_engine\u001b[0m\u001b[1;33m.\u001b[0m\u001b[0mget_loc\u001b[0m\u001b[1;33m(\u001b[0m\u001b[0mcasted_key\u001b[0m\u001b[1;33m)\u001b[0m\u001b[1;33m\u001b[0m\u001b[1;33m\u001b[0m\u001b[0m\n\u001b[0m\u001b[0;32m   3622\u001b[0m             \u001b[1;32mexcept\u001b[0m \u001b[0mKeyError\u001b[0m \u001b[1;32mas\u001b[0m \u001b[0merr\u001b[0m\u001b[1;33m:\u001b[0m\u001b[1;33m\u001b[0m\u001b[1;33m\u001b[0m\u001b[0m\n",
      "\u001b[1;32m~\\Anaconda3\\lib\\site-packages\\pandas\\_libs\\index.pyx\u001b[0m in \u001b[0;36mpandas._libs.index.IndexEngine.get_loc\u001b[1;34m()\u001b[0m\n",
      "\u001b[1;32m~\\Anaconda3\\lib\\site-packages\\pandas\\_libs\\index.pyx\u001b[0m in \u001b[0;36mpandas._libs.index.IndexEngine.get_loc\u001b[1;34m()\u001b[0m\n",
      "\u001b[1;32mpandas\\_libs\\hashtable_class_helper.pxi\u001b[0m in \u001b[0;36mpandas._libs.hashtable.PyObjectHashTable.get_item\u001b[1;34m()\u001b[0m\n",
      "\u001b[1;32mpandas\\_libs\\hashtable_class_helper.pxi\u001b[0m in \u001b[0;36mpandas._libs.hashtable.PyObjectHashTable.get_item\u001b[1;34m()\u001b[0m\n",
      "\u001b[1;31mKeyError\u001b[0m: 'email_count'",
      "\nThe above exception was the direct cause of the following exception:\n",
      "\u001b[1;31mKeyError\u001b[0m                                  Traceback (most recent call last)",
      "\u001b[1;32m~\\AppData\\Local\\Temp/ipykernel_38284/1128654850.py\u001b[0m in \u001b[0;36m<module>\u001b[1;34m\u001b[0m\n\u001b[1;32m----> 1\u001b[1;33m \u001b[0mdf\u001b[0m\u001b[1;33m[\u001b[0m\u001b[0mdf\u001b[0m\u001b[1;33m[\u001b[0m\u001b[1;34m'email_count'\u001b[0m\u001b[1;33m]\u001b[0m\u001b[1;33m>\u001b[0m\u001b[1;36m0\u001b[0m\u001b[1;33m]\u001b[0m \u001b[1;31m# emails are removed\u001b[0m\u001b[1;33m\u001b[0m\u001b[1;33m\u001b[0m\u001b[0m\n\u001b[0m",
      "\u001b[1;32m~\\Anaconda3\\lib\\site-packages\\pandas\\core\\frame.py\u001b[0m in \u001b[0;36m__getitem__\u001b[1;34m(self, key)\u001b[0m\n\u001b[0;32m   3503\u001b[0m             \u001b[1;32mif\u001b[0m \u001b[0mself\u001b[0m\u001b[1;33m.\u001b[0m\u001b[0mcolumns\u001b[0m\u001b[1;33m.\u001b[0m\u001b[0mnlevels\u001b[0m \u001b[1;33m>\u001b[0m \u001b[1;36m1\u001b[0m\u001b[1;33m:\u001b[0m\u001b[1;33m\u001b[0m\u001b[1;33m\u001b[0m\u001b[0m\n\u001b[0;32m   3504\u001b[0m                 \u001b[1;32mreturn\u001b[0m \u001b[0mself\u001b[0m\u001b[1;33m.\u001b[0m\u001b[0m_getitem_multilevel\u001b[0m\u001b[1;33m(\u001b[0m\u001b[0mkey\u001b[0m\u001b[1;33m)\u001b[0m\u001b[1;33m\u001b[0m\u001b[1;33m\u001b[0m\u001b[0m\n\u001b[1;32m-> 3505\u001b[1;33m             \u001b[0mindexer\u001b[0m \u001b[1;33m=\u001b[0m \u001b[0mself\u001b[0m\u001b[1;33m.\u001b[0m\u001b[0mcolumns\u001b[0m\u001b[1;33m.\u001b[0m\u001b[0mget_loc\u001b[0m\u001b[1;33m(\u001b[0m\u001b[0mkey\u001b[0m\u001b[1;33m)\u001b[0m\u001b[1;33m\u001b[0m\u001b[1;33m\u001b[0m\u001b[0m\n\u001b[0m\u001b[0;32m   3506\u001b[0m             \u001b[1;32mif\u001b[0m \u001b[0mis_integer\u001b[0m\u001b[1;33m(\u001b[0m\u001b[0mindexer\u001b[0m\u001b[1;33m)\u001b[0m\u001b[1;33m:\u001b[0m\u001b[1;33m\u001b[0m\u001b[1;33m\u001b[0m\u001b[0m\n\u001b[0;32m   3507\u001b[0m                 \u001b[0mindexer\u001b[0m \u001b[1;33m=\u001b[0m \u001b[1;33m[\u001b[0m\u001b[0mindexer\u001b[0m\u001b[1;33m]\u001b[0m\u001b[1;33m\u001b[0m\u001b[1;33m\u001b[0m\u001b[0m\n",
      "\u001b[1;32m~\\Anaconda3\\lib\\site-packages\\pandas\\core\\indexes\\base.py\u001b[0m in \u001b[0;36mget_loc\u001b[1;34m(self, key, method, tolerance)\u001b[0m\n\u001b[0;32m   3621\u001b[0m                 \u001b[1;32mreturn\u001b[0m \u001b[0mself\u001b[0m\u001b[1;33m.\u001b[0m\u001b[0m_engine\u001b[0m\u001b[1;33m.\u001b[0m\u001b[0mget_loc\u001b[0m\u001b[1;33m(\u001b[0m\u001b[0mcasted_key\u001b[0m\u001b[1;33m)\u001b[0m\u001b[1;33m\u001b[0m\u001b[1;33m\u001b[0m\u001b[0m\n\u001b[0;32m   3622\u001b[0m             \u001b[1;32mexcept\u001b[0m \u001b[0mKeyError\u001b[0m \u001b[1;32mas\u001b[0m \u001b[0merr\u001b[0m\u001b[1;33m:\u001b[0m\u001b[1;33m\u001b[0m\u001b[1;33m\u001b[0m\u001b[0m\n\u001b[1;32m-> 3623\u001b[1;33m                 \u001b[1;32mraise\u001b[0m \u001b[0mKeyError\u001b[0m\u001b[1;33m(\u001b[0m\u001b[0mkey\u001b[0m\u001b[1;33m)\u001b[0m \u001b[1;32mfrom\u001b[0m \u001b[0merr\u001b[0m\u001b[1;33m\u001b[0m\u001b[1;33m\u001b[0m\u001b[0m\n\u001b[0m\u001b[0;32m   3624\u001b[0m             \u001b[1;32mexcept\u001b[0m \u001b[0mTypeError\u001b[0m\u001b[1;33m:\u001b[0m\u001b[1;33m\u001b[0m\u001b[1;33m\u001b[0m\u001b[0m\n\u001b[0;32m   3625\u001b[0m                 \u001b[1;31m# If we have a listlike key, _check_indexing_error will raise\u001b[0m\u001b[1;33m\u001b[0m\u001b[1;33m\u001b[0m\u001b[0m\n",
      "\u001b[1;31mKeyError\u001b[0m: 'email_count'"
     ]
    }
   ],
   "source": [
    "df[df['email_count']>0] # emails are removed"
   ]
  },
  {
   "cell_type": "code",
   "execution_count": null,
   "id": "0b5c0059",
   "metadata": {
    "ExecuteTime": {
     "end_time": "2022-11-09T02:47:29.557581Z",
     "start_time": "2022-11-09T02:47:29.557581Z"
    }
   },
   "outputs": [],
   "source": [
    "# count urls and remove"
   ]
  },
  {
   "cell_type": "code",
   "execution_count": 36,
   "id": "4bb61ec8",
   "metadata": {
    "ExecuteTime": {
     "end_time": "2022-11-08T10:32:48.133523Z",
     "start_time": "2022-11-08T10:32:48.105071Z"
    }
   },
   "outputs": [
    {
     "ename": "NameError",
     "evalue": "name 'x' is not defined",
     "output_type": "error",
     "traceback": [
      "\u001b[1;31m---------------------------------------------------------------------------\u001b[0m",
      "\u001b[1;31mNameError\u001b[0m                                 Traceback (most recent call last)",
      "\u001b[1;32m~\\AppData\\Local\\Temp/ipykernel_19480/1040130935.py\u001b[0m in \u001b[0;36m<module>\u001b[1;34m\u001b[0m\n\u001b[1;32m----> 1\u001b[1;33m \u001b[0mre\u001b[0m\u001b[1;33m.\u001b[0m\u001b[0mfindall\u001b[0m\u001b[1;33m(\u001b[0m\u001b[1;34mr'(http|ftp|https)://([\\w_-]+(?:(?:\\.[\\w_-]+)+))([\\w.,@?^=%&:/~+#-]*[\\w@?^=%&/~+#-])?'\u001b[0m\u001b[1;33m,\u001b[0m \u001b[0mx\u001b[0m\u001b[1;33m)\u001b[0m\u001b[1;33m\u001b[0m\u001b[1;33m\u001b[0m\u001b[0m\n\u001b[0m",
      "\u001b[1;31mNameError\u001b[0m: name 'x' is not defined"
     ]
    }
   ],
   "source": [
    "re.findall(r'(http|ftp|https)://([\\w_-]+(?:(?:\\.[\\w_-]+)+))([\\w.,@?^=%&:/~+#-]*[\\w@?^=%&/~+#-])?', x)"
   ]
  },
  {
   "cell_type": "code",
   "execution_count": 60,
   "id": "8f31334b",
   "metadata": {
    "ExecuteTime": {
     "end_time": "2022-11-09T01:53:32.569801Z",
     "start_time": "2022-11-09T01:53:29.917788Z"
    }
   },
   "outputs": [],
   "source": [
    "df['URL_counts']=df['twitts'].apply(lambda x: re.findall(r'(http|ftp|https)://([\\w_-]+(?:(?:\\.[\\w_-]+)+))([\\w.,@?^=%&:/~+#-]*[\\w@?^=%&/~+#-])?', x))"
   ]
  },
  {
   "cell_type": "code",
   "execution_count": 179,
   "id": "cc55a7aa",
   "metadata": {
    "ExecuteTime": {
     "end_time": "2022-11-09T02:47:54.580395Z",
     "start_time": "2022-11-09T02:47:52.002933Z"
    }
   },
   "outputs": [
    {
     "name": "stderr",
     "output_type": "stream",
     "text": [
      "C:\\Users\\pbann\\AppData\\Local\\Temp/ipykernel_38284/3246979182.py:1: SettingWithCopyWarning: \n",
      "A value is trying to be set on a copy of a slice from a DataFrame.\n",
      "Try using .loc[row_indexer,col_indexer] = value instead\n",
      "\n",
      "See the caveats in the documentation: https://pandas.pydata.org/pandas-docs/stable/user_guide/indexing.html#returning-a-view-versus-a-copy\n",
      "  df['twitts']=df['twitts'].apply(lambda x: re.sub(r'(http|ftp|https)://([\\w_-]+(?:(?:\\.[\\w_-]+)+))([\\w.,@?^=%&:/~+#-]*[\\w@?^=%&/~+#-])?', ' ',x))\n"
     ]
    }
   ],
   "source": [
    "df['twitts']=df['twitts'].apply(lambda x: re.sub(r'(http|ftp|https)://([\\w_-]+(?:(?:\\.[\\w_-]+)+))([\\w.,@?^=%&:/~+#-]*[\\w@?^=%&/~+#-])?', ' ',x))"
   ]
  },
  {
   "cell_type": "code",
   "execution_count": 62,
   "id": "5c91c38a",
   "metadata": {
    "ExecuteTime": {
     "end_time": "2022-11-09T01:53:34.771736Z",
     "start_time": "2022-11-09T01:53:34.742197Z"
    }
   },
   "outputs": [
    {
     "data": {
      "text/html": [
       "<div>\n",
       "<style scoped>\n",
       "    .dataframe tbody tr th:only-of-type {\n",
       "        vertical-align: middle;\n",
       "    }\n",
       "\n",
       "    .dataframe tbody tr th {\n",
       "        vertical-align: top;\n",
       "    }\n",
       "\n",
       "    .dataframe thead th {\n",
       "        text-align: right;\n",
       "    }\n",
       "</style>\n",
       "<table border=\"1\" class=\"dataframe\">\n",
       "  <thead>\n",
       "    <tr style=\"text-align: right;\">\n",
       "      <th></th>\n",
       "      <th>twitts</th>\n",
       "      <th>sentiment</th>\n",
       "      <th>word_count</th>\n",
       "      <th>charcter_count</th>\n",
       "      <th>avg_word_len</th>\n",
       "      <th>stopwords_len</th>\n",
       "      <th>hashtag_counts</th>\n",
       "      <th>mentions_counts</th>\n",
       "      <th>numerics_counts</th>\n",
       "      <th>upper_case_counts</th>\n",
       "      <th>emails</th>\n",
       "      <th>email_count</th>\n",
       "      <th>URL_counts</th>\n",
       "    </tr>\n",
       "  </thead>\n",
       "  <tbody>\n",
       "    <tr>\n",
       "      <th>0</th>\n",
       "      <td>@switchfoot   - awww, that is a bummer.  you s...</td>\n",
       "      <td>0</td>\n",
       "      <td>19</td>\n",
       "      <td>115</td>\n",
       "      <td>19.0</td>\n",
       "      <td>4</td>\n",
       "      <td>0</td>\n",
       "      <td>1</td>\n",
       "      <td>0</td>\n",
       "      <td>1</td>\n",
       "      <td>[]</td>\n",
       "      <td>0</td>\n",
       "      <td>[(http, twitpic.com, /2y1zl)]</td>\n",
       "    </tr>\n",
       "    <tr>\n",
       "      <th>1</th>\n",
       "      <td>is upset that he cannot update his facebook by...</td>\n",
       "      <td>0</td>\n",
       "      <td>21</td>\n",
       "      <td>111</td>\n",
       "      <td>21.0</td>\n",
       "      <td>9</td>\n",
       "      <td>0</td>\n",
       "      <td>0</td>\n",
       "      <td>0</td>\n",
       "      <td>0</td>\n",
       "      <td>[]</td>\n",
       "      <td>0</td>\n",
       "      <td>[]</td>\n",
       "    </tr>\n",
       "    <tr>\n",
       "      <th>2</th>\n",
       "      <td>@kenichan i dived many times for the ball. man...</td>\n",
       "      <td>0</td>\n",
       "      <td>18</td>\n",
       "      <td>89</td>\n",
       "      <td>18.0</td>\n",
       "      <td>7</td>\n",
       "      <td>0</td>\n",
       "      <td>1</td>\n",
       "      <td>0</td>\n",
       "      <td>1</td>\n",
       "      <td>[]</td>\n",
       "      <td>0</td>\n",
       "      <td>[]</td>\n",
       "    </tr>\n",
       "    <tr>\n",
       "      <th>3</th>\n",
       "      <td>my whole body feels itchy and like its on fire</td>\n",
       "      <td>0</td>\n",
       "      <td>10</td>\n",
       "      <td>47</td>\n",
       "      <td>10.0</td>\n",
       "      <td>5</td>\n",
       "      <td>0</td>\n",
       "      <td>0</td>\n",
       "      <td>0</td>\n",
       "      <td>0</td>\n",
       "      <td>[]</td>\n",
       "      <td>0</td>\n",
       "      <td>[]</td>\n",
       "    </tr>\n",
       "    <tr>\n",
       "      <th>4</th>\n",
       "      <td>@nationwideclass no, it is not behaving at all...</td>\n",
       "      <td>0</td>\n",
       "      <td>21</td>\n",
       "      <td>111</td>\n",
       "      <td>21.0</td>\n",
       "      <td>10</td>\n",
       "      <td>0</td>\n",
       "      <td>1</td>\n",
       "      <td>0</td>\n",
       "      <td>1</td>\n",
       "      <td>[]</td>\n",
       "      <td>0</td>\n",
       "      <td>[]</td>\n",
       "    </tr>\n",
       "    <tr>\n",
       "      <th>...</th>\n",
       "      <td>...</td>\n",
       "      <td>...</td>\n",
       "      <td>...</td>\n",
       "      <td>...</td>\n",
       "      <td>...</td>\n",
       "      <td>...</td>\n",
       "      <td>...</td>\n",
       "      <td>...</td>\n",
       "      <td>...</td>\n",
       "      <td>...</td>\n",
       "      <td>...</td>\n",
       "      <td>...</td>\n",
       "      <td>...</td>\n",
       "    </tr>\n",
       "    <tr>\n",
       "      <th>1599995</th>\n",
       "      <td>just woke up. having no school is the best fee...</td>\n",
       "      <td>4</td>\n",
       "      <td>11</td>\n",
       "      <td>56</td>\n",
       "      <td>11.0</td>\n",
       "      <td>4</td>\n",
       "      <td>0</td>\n",
       "      <td>0</td>\n",
       "      <td>0</td>\n",
       "      <td>0</td>\n",
       "      <td>[]</td>\n",
       "      <td>0</td>\n",
       "      <td>[]</td>\n",
       "    </tr>\n",
       "    <tr>\n",
       "      <th>1599996</th>\n",
       "      <td>thewdb.com - very cool to hear old walt interv...</td>\n",
       "      <td>4</td>\n",
       "      <td>11</td>\n",
       "      <td>76</td>\n",
       "      <td>11.0</td>\n",
       "      <td>1</td>\n",
       "      <td>0</td>\n",
       "      <td>0</td>\n",
       "      <td>0</td>\n",
       "      <td>0</td>\n",
       "      <td>[]</td>\n",
       "      <td>0</td>\n",
       "      <td>[(http, blip.fm, /~8bmta)]</td>\n",
       "    </tr>\n",
       "    <tr>\n",
       "      <th>1599997</th>\n",
       "      <td>are you ready for your mojo makeover? ask me f...</td>\n",
       "      <td>4</td>\n",
       "      <td>11</td>\n",
       "      <td>57</td>\n",
       "      <td>11.0</td>\n",
       "      <td>5</td>\n",
       "      <td>0</td>\n",
       "      <td>0</td>\n",
       "      <td>0</td>\n",
       "      <td>0</td>\n",
       "      <td>[]</td>\n",
       "      <td>0</td>\n",
       "      <td>[]</td>\n",
       "    </tr>\n",
       "    <tr>\n",
       "      <th>1599998</th>\n",
       "      <td>happy 38th birthday to my boo of alll time!!! ...</td>\n",
       "      <td>4</td>\n",
       "      <td>12</td>\n",
       "      <td>65</td>\n",
       "      <td>12.0</td>\n",
       "      <td>3</td>\n",
       "      <td>0</td>\n",
       "      <td>0</td>\n",
       "      <td>0</td>\n",
       "      <td>0</td>\n",
       "      <td>[]</td>\n",
       "      <td>0</td>\n",
       "      <td>[]</td>\n",
       "    </tr>\n",
       "    <tr>\n",
       "      <th>1599999</th>\n",
       "      <td>happy #charitytuesday @thenspcc @sparkscharity...</td>\n",
       "      <td>4</td>\n",
       "      <td>5</td>\n",
       "      <td>62</td>\n",
       "      <td>5.0</td>\n",
       "      <td>0</td>\n",
       "      <td>1</td>\n",
       "      <td>3</td>\n",
       "      <td>0</td>\n",
       "      <td>0</td>\n",
       "      <td>[]</td>\n",
       "      <td>0</td>\n",
       "      <td>[]</td>\n",
       "    </tr>\n",
       "  </tbody>\n",
       "</table>\n",
       "<p>1600000 rows × 13 columns</p>\n",
       "</div>"
      ],
      "text/plain": [
       "                                                    twitts  sentiment  \\\n",
       "0        @switchfoot   - awww, that is a bummer.  you s...          0   \n",
       "1        is upset that he cannot update his facebook by...          0   \n",
       "2        @kenichan i dived many times for the ball. man...          0   \n",
       "3          my whole body feels itchy and like its on fire           0   \n",
       "4        @nationwideclass no, it is not behaving at all...          0   \n",
       "...                                                    ...        ...   \n",
       "1599995  just woke up. having no school is the best fee...          4   \n",
       "1599996  thewdb.com - very cool to hear old walt interv...          4   \n",
       "1599997  are you ready for your mojo makeover? ask me f...          4   \n",
       "1599998  happy 38th birthday to my boo of alll time!!! ...          4   \n",
       "1599999  happy #charitytuesday @thenspcc @sparkscharity...          4   \n",
       "\n",
       "         word_count  charcter_count  avg_word_len  stopwords_len  \\\n",
       "0                19             115          19.0              4   \n",
       "1                21             111          21.0              9   \n",
       "2                18              89          18.0              7   \n",
       "3                10              47          10.0              5   \n",
       "4                21             111          21.0             10   \n",
       "...             ...             ...           ...            ...   \n",
       "1599995          11              56          11.0              4   \n",
       "1599996          11              76          11.0              1   \n",
       "1599997          11              57          11.0              5   \n",
       "1599998          12              65          12.0              3   \n",
       "1599999           5              62           5.0              0   \n",
       "\n",
       "         hashtag_counts  mentions_counts  numerics_counts  upper_case_counts  \\\n",
       "0                     0                1                0                  1   \n",
       "1                     0                0                0                  0   \n",
       "2                     0                1                0                  1   \n",
       "3                     0                0                0                  0   \n",
       "4                     0                1                0                  1   \n",
       "...                 ...              ...              ...                ...   \n",
       "1599995               0                0                0                  0   \n",
       "1599996               0                0                0                  0   \n",
       "1599997               0                0                0                  0   \n",
       "1599998               0                0                0                  0   \n",
       "1599999               1                3                0                  0   \n",
       "\n",
       "        emails  email_count                     URL_counts  \n",
       "0           []            0  [(http, twitpic.com, /2y1zl)]  \n",
       "1           []            0                             []  \n",
       "2           []            0                             []  \n",
       "3           []            0                             []  \n",
       "4           []            0                             []  \n",
       "...        ...          ...                            ...  \n",
       "1599995     []            0                             []  \n",
       "1599996     []            0     [(http, blip.fm, /~8bmta)]  \n",
       "1599997     []            0                             []  \n",
       "1599998     []            0                             []  \n",
       "1599999     []            0                             []  \n",
       "\n",
       "[1600000 rows x 13 columns]"
      ]
     },
     "execution_count": 62,
     "metadata": {},
     "output_type": "execute_result"
    }
   ],
   "source": [
    "df"
   ]
  },
  {
   "cell_type": "code",
   "execution_count": 63,
   "id": "f99731a2",
   "metadata": {
    "ExecuteTime": {
     "end_time": "2022-11-09T01:53:34.962867Z",
     "start_time": "2022-11-09T01:53:34.773738Z"
    }
   },
   "outputs": [
    {
     "data": {
      "text/plain": [
       "'@switchfoot   - awww, that is a bummer.  you shoulda got david carr of third day to do it. ;d'"
      ]
     },
     "execution_count": 63,
     "metadata": {},
     "output_type": "execute_result"
    }
   ],
   "source": [
    "df.loc[0]['twitts']"
   ]
  },
  {
   "cell_type": "markdown",
   "id": "36251b17",
   "metadata": {},
   "source": [
    "## RT = retweet removal"
   ]
  },
  {
   "cell_type": "code",
   "execution_count": 180,
   "id": "ffbc0ff3",
   "metadata": {
    "ExecuteTime": {
     "end_time": "2022-11-09T02:48:12.605474Z",
     "start_time": "2022-11-09T02:48:11.083380Z"
    }
   },
   "outputs": [
    {
     "name": "stderr",
     "output_type": "stream",
     "text": [
      "C:\\Users\\pbann\\AppData\\Local\\Temp/ipykernel_38284/1011988065.py:1: SettingWithCopyWarning: \n",
      "A value is trying to be set on a copy of a slice from a DataFrame.\n",
      "Try using .loc[row_indexer,col_indexer] = value instead\n",
      "\n",
      "See the caveats in the documentation: https://pandas.pydata.org/pandas-docs/stable/user_guide/indexing.html#returning-a-view-versus-a-copy\n",
      "  df['twitts']=df['twitts'].apply(lambda x: re.sub('RT','',x))\n"
     ]
    }
   ],
   "source": [
    "df['twitts']=df['twitts'].apply(lambda x: re.sub('RT','',x))"
   ]
  },
  {
   "cell_type": "markdown",
   "id": "8686a6a2",
   "metadata": {},
   "source": [
    "# special character or punctuation removal"
   ]
  },
  {
   "cell_type": "code",
   "execution_count": 183,
   "id": "ad8a71b4",
   "metadata": {
    "ExecuteTime": {
     "end_time": "2022-11-09T02:48:34.068787Z",
     "start_time": "2022-11-09T02:48:30.926112Z"
    }
   },
   "outputs": [
    {
     "name": "stderr",
     "output_type": "stream",
     "text": [
      "C:\\Users\\pbann\\AppData\\Local\\Temp/ipykernel_38284/869096427.py:1: SettingWithCopyWarning: \n",
      "A value is trying to be set on a copy of a slice from a DataFrame.\n",
      "Try using .loc[row_indexer,col_indexer] = value instead\n",
      "\n",
      "See the caveats in the documentation: https://pandas.pydata.org/pandas-docs/stable/user_guide/indexing.html#returning-a-view-versus-a-copy\n",
      "  df['twitts']=df['twitts'].apply(lambda x: re.sub('[^a-z A-Z 0-9]+','',x))\n"
     ]
    }
   ],
   "source": [
    "df['twitts']=df['twitts'].apply(lambda x: re.sub('[^a-z A-Z 0-9]+','',x))"
   ]
  },
  {
   "cell_type": "markdown",
   "id": "16d610d5",
   "metadata": {
    "ExecuteTime": {
     "end_time": "2022-11-08T10:40:48.528512Z",
     "start_time": "2022-11-08T10:40:48.500714Z"
    }
   },
   "source": [
    "# remove multiple spaces like: \"hi    hello this     \""
   ]
  },
  {
   "cell_type": "code",
   "execution_count": 66,
   "id": "c3148e9b",
   "metadata": {
    "ExecuteTime": {
     "end_time": "2022-11-09T01:53:45.225677Z",
     "start_time": "2022-11-09T01:53:45.211977Z"
    }
   },
   "outputs": [],
   "source": [
    "x= 'he  is  the  good  one '"
   ]
  },
  {
   "cell_type": "code",
   "execution_count": 67,
   "id": "2e031f38",
   "metadata": {
    "ExecuteTime": {
     "end_time": "2022-11-09T01:53:46.625261Z",
     "start_time": "2022-11-09T01:53:46.620717Z"
    }
   },
   "outputs": [
    {
     "data": {
      "text/plain": [
       "'he is the good one'"
      ]
     },
     "execution_count": 67,
     "metadata": {},
     "output_type": "execute_result"
    }
   ],
   "source": [
    "\" \".join(x.split())"
   ]
  },
  {
   "cell_type": "code",
   "execution_count": 184,
   "id": "0a2d1f72",
   "metadata": {
    "ExecuteTime": {
     "end_time": "2022-11-09T02:48:40.253800Z",
     "start_time": "2022-11-09T02:48:38.334965Z"
    }
   },
   "outputs": [
    {
     "name": "stderr",
     "output_type": "stream",
     "text": [
      "C:\\Users\\pbann\\AppData\\Local\\Temp/ipykernel_38284/1105444693.py:1: SettingWithCopyWarning: \n",
      "A value is trying to be set on a copy of a slice from a DataFrame.\n",
      "Try using .loc[row_indexer,col_indexer] = value instead\n",
      "\n",
      "See the caveats in the documentation: https://pandas.pydata.org/pandas-docs/stable/user_guide/indexing.html#returning-a-view-versus-a-copy\n",
      "  df['twitts']=df['twitts'].apply(lambda x: \" \".join(x.split()))\n"
     ]
    }
   ],
   "source": [
    "df['twitts']=df['twitts'].apply(lambda x: \" \".join(x.split()))"
   ]
  },
  {
   "cell_type": "markdown",
   "id": "4df35d74",
   "metadata": {
    "ExecuteTime": {
     "end_time": "2022-11-08T10:44:14.666932Z",
     "start_time": "2022-11-08T10:44:14.648855Z"
    }
   },
   "source": [
    "# remove HTML tags:"
   ]
  },
  {
   "cell_type": "code",
   "execution_count": 69,
   "id": "654cba72",
   "metadata": {
    "ExecuteTime": {
     "end_time": "2022-11-09T01:53:51.264115Z",
     "start_time": "2022-11-09T01:53:51.111952Z"
    }
   },
   "outputs": [],
   "source": [
    "from bs4 import BeautifulSoup"
   ]
  },
  {
   "cell_type": "code",
   "execution_count": 70,
   "id": "d36483e7",
   "metadata": {
    "ExecuteTime": {
     "end_time": "2022-11-09T01:53:51.852580Z",
     "start_time": "2022-11-09T01:53:51.847650Z"
    }
   },
   "outputs": [],
   "source": [
    "x=\"<html><h2>Thanks for watching</h2></html>\""
   ]
  },
  {
   "cell_type": "code",
   "execution_count": 71,
   "id": "60d8249a",
   "metadata": {
    "ExecuteTime": {
     "end_time": "2022-11-09T01:53:52.558892Z",
     "start_time": "2022-11-09T01:53:52.540390Z"
    }
   },
   "outputs": [
    {
     "data": {
      "text/plain": [
       "'Thanks for watching'"
      ]
     },
     "execution_count": 71,
     "metadata": {},
     "output_type": "execute_result"
    }
   ],
   "source": [
    "BeautifulSoup(x,'lxml').get_text()"
   ]
  },
  {
   "cell_type": "code",
   "execution_count": 185,
   "id": "06bc96d5",
   "metadata": {
    "ExecuteTime": {
     "end_time": "2022-11-09T02:54:04.553845Z",
     "start_time": "2022-11-09T02:48:48.331320Z"
    }
   },
   "outputs": [
    {
     "name": "stdout",
     "output_type": "stream",
     "text": [
      "Wall time: 5min 16s\n"
     ]
    },
    {
     "name": "stderr",
     "output_type": "stream",
     "text": [
      "<timed exec>:1: SettingWithCopyWarning: \n",
      "A value is trying to be set on a copy of a slice from a DataFrame.\n",
      "Try using .loc[row_indexer,col_indexer] = value instead\n",
      "\n",
      "See the caveats in the documentation: https://pandas.pydata.org/pandas-docs/stable/user_guide/indexing.html#returning-a-view-versus-a-copy\n"
     ]
    }
   ],
   "source": [
    "%%time\n",
    "df['twitts']=df['twitts'].apply(lambda x:BeautifulSoup(x,'lxml').get_text() )"
   ]
  },
  {
   "cell_type": "code",
   "execution_count": 186,
   "id": "d872b135",
   "metadata": {
    "ExecuteTime": {
     "end_time": "2022-11-09T02:54:04.568850Z",
     "start_time": "2022-11-09T02:54:04.555845Z"
    }
   },
   "outputs": [
    {
     "data": {
      "text/html": [
       "<div>\n",
       "<style scoped>\n",
       "    .dataframe tbody tr th:only-of-type {\n",
       "        vertical-align: middle;\n",
       "    }\n",
       "\n",
       "    .dataframe tbody tr th {\n",
       "        vertical-align: top;\n",
       "    }\n",
       "\n",
       "    .dataframe thead th {\n",
       "        text-align: right;\n",
       "    }\n",
       "</style>\n",
       "<table border=\"1\" class=\"dataframe\">\n",
       "  <thead>\n",
       "    <tr style=\"text-align: right;\">\n",
       "      <th></th>\n",
       "      <th>twitts</th>\n",
       "      <th>sentiment</th>\n",
       "      <th>word_count</th>\n",
       "    </tr>\n",
       "  </thead>\n",
       "  <tbody>\n",
       "    <tr>\n",
       "      <th>0</th>\n",
       "      <td>switchfoot awww that is a bummer you shoulda g...</td>\n",
       "      <td>0</td>\n",
       "      <td>19</td>\n",
       "    </tr>\n",
       "    <tr>\n",
       "      <th>1</th>\n",
       "      <td>is upset that he cannot update his facebook by...</td>\n",
       "      <td>0</td>\n",
       "      <td>21</td>\n",
       "    </tr>\n",
       "    <tr>\n",
       "      <th>2</th>\n",
       "      <td>kenichan i dived many times for the ball manag...</td>\n",
       "      <td>0</td>\n",
       "      <td>18</td>\n",
       "    </tr>\n",
       "    <tr>\n",
       "      <th>3</th>\n",
       "      <td>my whole body feels itchy and like its on fire</td>\n",
       "      <td>0</td>\n",
       "      <td>10</td>\n",
       "    </tr>\n",
       "    <tr>\n",
       "      <th>4</th>\n",
       "      <td>nationwideclass no it is not behaving at all i...</td>\n",
       "      <td>0</td>\n",
       "      <td>21</td>\n",
       "    </tr>\n",
       "    <tr>\n",
       "      <th>...</th>\n",
       "      <td>...</td>\n",
       "      <td>...</td>\n",
       "      <td>...</td>\n",
       "    </tr>\n",
       "    <tr>\n",
       "      <th>1599995</th>\n",
       "      <td>just woke up having no school is the best feel...</td>\n",
       "      <td>4</td>\n",
       "      <td>11</td>\n",
       "    </tr>\n",
       "    <tr>\n",
       "      <th>1599996</th>\n",
       "      <td>thewdbcom very cool to hear old walt interviews</td>\n",
       "      <td>4</td>\n",
       "      <td>11</td>\n",
       "    </tr>\n",
       "    <tr>\n",
       "      <th>1599997</th>\n",
       "      <td>are you ready for your mojo makeover ask me fo...</td>\n",
       "      <td>4</td>\n",
       "      <td>11</td>\n",
       "    </tr>\n",
       "    <tr>\n",
       "      <th>1599998</th>\n",
       "      <td>happy 38th birthday to my boo of alll time tup...</td>\n",
       "      <td>4</td>\n",
       "      <td>12</td>\n",
       "    </tr>\n",
       "    <tr>\n",
       "      <th>1599999</th>\n",
       "      <td>happy charitytuesday thenspcc sparkscharity sp...</td>\n",
       "      <td>4</td>\n",
       "      <td>5</td>\n",
       "    </tr>\n",
       "  </tbody>\n",
       "</table>\n",
       "<p>1600000 rows × 3 columns</p>\n",
       "</div>"
      ],
      "text/plain": [
       "                                                    twitts  sentiment  \\\n",
       "0        switchfoot awww that is a bummer you shoulda g...          0   \n",
       "1        is upset that he cannot update his facebook by...          0   \n",
       "2        kenichan i dived many times for the ball manag...          0   \n",
       "3           my whole body feels itchy and like its on fire          0   \n",
       "4        nationwideclass no it is not behaving at all i...          0   \n",
       "...                                                    ...        ...   \n",
       "1599995  just woke up having no school is the best feel...          4   \n",
       "1599996    thewdbcom very cool to hear old walt interviews          4   \n",
       "1599997  are you ready for your mojo makeover ask me fo...          4   \n",
       "1599998  happy 38th birthday to my boo of alll time tup...          4   \n",
       "1599999  happy charitytuesday thenspcc sparkscharity sp...          4   \n",
       "\n",
       "         word_count  \n",
       "0                19  \n",
       "1                21  \n",
       "2                18  \n",
       "3                10  \n",
       "4                21  \n",
       "...             ...  \n",
       "1599995          11  \n",
       "1599996          11  \n",
       "1599997          11  \n",
       "1599998          12  \n",
       "1599999           5  \n",
       "\n",
       "[1600000 rows x 3 columns]"
      ]
     },
     "execution_count": 186,
     "metadata": {},
     "output_type": "execute_result"
    }
   ],
   "source": [
    "df"
   ]
  },
  {
   "cell_type": "markdown",
   "id": "aff3bc69",
   "metadata": {},
   "source": [
    "# remove accented characters"
   ]
  },
  {
   "cell_type": "code",
   "execution_count": 74,
   "id": "88594de9",
   "metadata": {
    "ExecuteTime": {
     "end_time": "2022-11-09T01:58:49.292205Z",
     "start_time": "2022-11-09T01:58:49.277207Z"
    }
   },
   "outputs": [],
   "source": [
    "x = 'ÁêÝÆ' # alt+0193 gives A , this type of letters are called accented charcters"
   ]
  },
  {
   "cell_type": "code",
   "execution_count": 75,
   "id": "2d966b21",
   "metadata": {
    "ExecuteTime": {
     "end_time": "2022-11-09T01:58:49.307208Z",
     "start_time": "2022-11-09T01:58:49.294211Z"
    }
   },
   "outputs": [],
   "source": [
    "import unicodedata"
   ]
  },
  {
   "cell_type": "code",
   "execution_count": 76,
   "id": "72151874",
   "metadata": {
    "ExecuteTime": {
     "end_time": "2022-11-09T01:58:49.322205Z",
     "start_time": "2022-11-09T01:58:49.308207Z"
    }
   },
   "outputs": [],
   "source": [
    "def remove_accented_chars(x):\n",
    "    x=unicodedata.normalize('NFKD',x).encode('ascii','ignore').decode('utf-8','ignore')\n",
    "    return x"
   ]
  },
  {
   "cell_type": "code",
   "execution_count": 188,
   "id": "9b59667a",
   "metadata": {
    "ExecuteTime": {
     "end_time": "2022-11-09T02:54:31.612567Z",
     "start_time": "2022-11-09T02:54:30.423430Z"
    }
   },
   "outputs": [
    {
     "name": "stderr",
     "output_type": "stream",
     "text": [
      "C:\\Users\\pbann\\AppData\\Local\\Temp/ipykernel_38284/1806300195.py:1: SettingWithCopyWarning: \n",
      "A value is trying to be set on a copy of a slice from a DataFrame.\n",
      "Try using .loc[row_indexer,col_indexer] = value instead\n",
      "\n",
      "See the caveats in the documentation: https://pandas.pydata.org/pandas-docs/stable/user_guide/indexing.html#returning-a-view-versus-a-copy\n",
      "  df['twitts']=df['twitts'].apply(lambda x: remove_accented_chars(x))\n"
     ]
    }
   ],
   "source": [
    "df['twitts']=df['twitts'].apply(lambda x: remove_accented_chars(x))"
   ]
  },
  {
   "cell_type": "markdown",
   "id": "5230651d",
   "metadata": {},
   "source": [
    "# remove stop words"
   ]
  },
  {
   "cell_type": "code",
   "execution_count": 78,
   "id": "132c395c",
   "metadata": {
    "ExecuteTime": {
     "end_time": "2022-11-09T01:58:50.479876Z",
     "start_time": "2022-11-09T01:58:50.465868Z"
    }
   },
   "outputs": [],
   "source": [
    "import spacy"
   ]
  },
  {
   "cell_type": "code",
   "execution_count": 79,
   "id": "53909876",
   "metadata": {
    "ExecuteTime": {
     "end_time": "2022-11-09T01:58:50.495907Z",
     "start_time": "2022-11-09T01:58:50.480877Z"
    }
   },
   "outputs": [
    {
     "data": {
      "text/plain": [
       "'stop word removal code'"
      ]
     },
     "execution_count": 79,
     "metadata": {},
     "output_type": "execute_result"
    }
   ],
   "source": [
    "x = 'this is a stop word removal code'\n",
    "\" \".join([t for t in x.split() if t not in STOP_WORDS])"
   ]
  },
  {
   "cell_type": "code",
   "execution_count": 189,
   "id": "8bbb19c1",
   "metadata": {
    "ExecuteTime": {
     "end_time": "2022-11-09T02:54:38.955413Z",
     "start_time": "2022-11-09T02:54:35.634818Z"
    }
   },
   "outputs": [
    {
     "name": "stderr",
     "output_type": "stream",
     "text": [
      "C:\\Users\\pbann\\AppData\\Local\\Temp/ipykernel_38284/3380690150.py:1: SettingWithCopyWarning: \n",
      "A value is trying to be set on a copy of a slice from a DataFrame.\n",
      "Try using .loc[row_indexer,col_indexer] = value instead\n",
      "\n",
      "See the caveats in the documentation: https://pandas.pydata.org/pandas-docs/stable/user_guide/indexing.html#returning-a-view-versus-a-copy\n",
      "  df['twitts']=df['twitts'].apply(lambda x: \" \".join([t for t in x.split() if t not in STOP_WORDS]))\n"
     ]
    }
   ],
   "source": [
    "df['twitts']=df['twitts'].apply(lambda x: \" \".join([t for t in x.split() if t not in STOP_WORDS]))"
   ]
  },
  {
   "cell_type": "code",
   "execution_count": 190,
   "id": "80c9459a",
   "metadata": {
    "ExecuteTime": {
     "end_time": "2022-11-09T02:54:42.583017Z",
     "start_time": "2022-11-09T02:54:42.577044Z"
    }
   },
   "outputs": [
    {
     "data": {
      "text/html": [
       "<div>\n",
       "<style scoped>\n",
       "    .dataframe tbody tr th:only-of-type {\n",
       "        vertical-align: middle;\n",
       "    }\n",
       "\n",
       "    .dataframe tbody tr th {\n",
       "        vertical-align: top;\n",
       "    }\n",
       "\n",
       "    .dataframe thead th {\n",
       "        text-align: right;\n",
       "    }\n",
       "</style>\n",
       "<table border=\"1\" class=\"dataframe\">\n",
       "  <thead>\n",
       "    <tr style=\"text-align: right;\">\n",
       "      <th></th>\n",
       "      <th>twitts</th>\n",
       "      <th>sentiment</th>\n",
       "      <th>word_count</th>\n",
       "    </tr>\n",
       "  </thead>\n",
       "  <tbody>\n",
       "    <tr>\n",
       "      <th>0</th>\n",
       "      <td>switchfoot awww bummer shoulda got david carr ...</td>\n",
       "      <td>0</td>\n",
       "      <td>19</td>\n",
       "    </tr>\n",
       "    <tr>\n",
       "      <th>1</th>\n",
       "      <td>upset update facebook texting cry result schoo...</td>\n",
       "      <td>0</td>\n",
       "      <td>21</td>\n",
       "    </tr>\n",
       "  </tbody>\n",
       "</table>\n",
       "</div>"
      ],
      "text/plain": [
       "                                              twitts  sentiment  word_count\n",
       "0  switchfoot awww bummer shoulda got david carr ...          0          19\n",
       "1  upset update facebook texting cry result schoo...          0          21"
      ]
     },
     "execution_count": 190,
     "metadata": {},
     "output_type": "execute_result"
    }
   ],
   "source": [
    "df.head(2)"
   ]
  },
  {
   "cell_type": "markdown",
   "id": "f3499741",
   "metadata": {},
   "source": [
    "# converting into base form"
   ]
  },
  {
   "cell_type": "code",
   "execution_count": 82,
   "id": "9b2eee6d",
   "metadata": {
    "ExecuteTime": {
     "end_time": "2022-11-09T01:58:54.483080Z",
     "start_time": "2022-11-09T01:58:53.930510Z"
    }
   },
   "outputs": [],
   "source": [
    "nlp = spacy.load('en_core_web_sm')"
   ]
  },
  {
   "cell_type": "code",
   "execution_count": 83,
   "id": "a1b57dc8",
   "metadata": {
    "ExecuteTime": {
     "end_time": "2022-11-09T01:58:54.499082Z",
     "start_time": "2022-11-09T01:58:54.484082Z"
    }
   },
   "outputs": [],
   "source": [
    "x='upset update facebook texting cry result schoo'\n",
    "# this step is to remove all words those are carrying same meaning but in diff tense,count or meaning"
   ]
  },
  {
   "cell_type": "code",
   "execution_count": 84,
   "id": "cd517f80",
   "metadata": {
    "ExecuteTime": {
     "end_time": "2022-11-09T01:58:54.515115Z",
     "start_time": "2022-11-09T01:58:54.500082Z"
    }
   },
   "outputs": [],
   "source": [
    "x='i you he she they is am are'"
   ]
  },
  {
   "cell_type": "code",
   "execution_count": 85,
   "id": "a216fdec",
   "metadata": {
    "ExecuteTime": {
     "end_time": "2022-11-09T01:58:54.531183Z",
     "start_time": "2022-11-09T01:58:54.516115Z"
    }
   },
   "outputs": [],
   "source": [
    "def make_base(x):\n",
    "    x_list=[]\n",
    "    doc =nlp(x)\n",
    "    for token in doc:\n",
    "        lemma = str(token.lemma_)\n",
    "        if lemma=='-PRON-' or lemma=='be':\n",
    "            lemma=token.text\n",
    "        x_list.append(lemma)\n",
    "    print(\" \".join(x_list))"
   ]
  },
  {
   "cell_type": "code",
   "execution_count": 86,
   "id": "878e1995",
   "metadata": {
    "ExecuteTime": {
     "end_time": "2022-11-09T01:58:54.563244Z",
     "start_time": "2022-11-09T01:58:54.533185Z"
    }
   },
   "outputs": [
    {
     "name": "stdout",
     "output_type": "stream",
     "text": [
      "I you he she they is am are\n"
     ]
    }
   ],
   "source": [
    "make_base(x)"
   ]
  },
  {
   "cell_type": "code",
   "execution_count": 88,
   "id": "611557e7",
   "metadata": {
    "ExecuteTime": {
     "end_time": "2022-11-08T11:12:01.921833Z",
     "start_time": "2022-11-08T11:12:01.898030Z"
    }
   },
   "outputs": [
    {
     "name": "stdout",
     "output_type": "stream",
     "text": [
      "upset update facebook texting cry result schoo\n"
     ]
    }
   ],
   "source": [
    "make_base(x)"
   ]
  },
  {
   "cell_type": "code",
   "execution_count": 90,
   "id": "62b23b34",
   "metadata": {
    "ExecuteTime": {
     "end_time": "2022-11-08T11:13:38.438609Z",
     "start_time": "2022-11-08T11:13:38.426575Z"
    }
   },
   "outputs": [],
   "source": [
    "#df['twitts']=df['twitts'].apply(lambda x:make_base(x))"
   ]
  },
  {
   "cell_type": "markdown",
   "id": "4dc15356",
   "metadata": {},
   "source": [
    "# common words removal"
   ]
  },
  {
   "cell_type": "code",
   "execution_count": 87,
   "id": "8e83ad67",
   "metadata": {
    "ExecuteTime": {
     "end_time": "2022-11-09T01:58:54.579244Z",
     "start_time": "2022-11-09T01:58:54.564243Z"
    }
   },
   "outputs": [
    {
     "data": {
      "text/plain": [
       "'switchfoot awww bummer shoulda got david carr day d upset update facebook texting cry result school today blah kenichan dived times ball managed save 50 rest bounds body feels itchy like fire nationwideclass behaving mad'"
      ]
     },
     "execution_count": 87,
     "metadata": {},
     "output_type": "execute_result"
    }
   ],
   "source": [
    "' '.join(df.head()['twitts'])"
   ]
  },
  {
   "cell_type": "code",
   "execution_count": 88,
   "id": "5738a4b3",
   "metadata": {
    "ExecuteTime": {
     "end_time": "2022-11-09T01:58:54.863840Z",
     "start_time": "2022-11-09T01:58:54.580245Z"
    }
   },
   "outputs": [],
   "source": [
    "text = \" \".join(df['twitts'])"
   ]
  },
  {
   "cell_type": "code",
   "execution_count": 89,
   "id": "ed202efc",
   "metadata": {
    "ExecuteTime": {
     "end_time": "2022-11-09T01:58:55.637912Z",
     "start_time": "2022-11-09T01:58:54.864840Z"
    }
   },
   "outputs": [],
   "source": [
    "text = text.split()"
   ]
  },
  {
   "cell_type": "code",
   "execution_count": 90,
   "id": "aae8d83c",
   "metadata": {
    "ExecuteTime": {
     "end_time": "2022-11-09T01:58:58.352032Z",
     "start_time": "2022-11-09T01:58:55.639908Z"
    }
   },
   "outputs": [],
   "source": [
    "freq_comm=pd.Series(text).value_counts()"
   ]
  },
  {
   "cell_type": "code",
   "execution_count": 91,
   "id": "27886477",
   "metadata": {
    "ExecuteTime": {
     "end_time": "2022-11-09T01:58:58.399171Z",
     "start_time": "2022-11-09T01:58:58.353990Z"
    },
    "scrolled": true
   },
   "outputs": [
    {
     "data": {
      "text/plain": [
       "good      89404\n",
       "day       82375\n",
       "like      77749\n",
       "today     64611\n",
       "going     64090\n",
       "love      63473\n",
       "work      62848\n",
       "got       60753\n",
       "time      56111\n",
       "lol       55152\n",
       "know      51197\n",
       "im        50161\n",
       "want      42072\n",
       "new       41998\n",
       "night     41069\n",
       "think     41045\n",
       "amp       40632\n",
       "thanks    39344\n",
       "home      39200\n",
       "oh        37992\n",
       "dtype: int64"
      ]
     },
     "execution_count": 91,
     "metadata": {},
     "output_type": "execute_result"
    }
   ],
   "source": [
    "f20=freq_comm[:20]\n",
    "f20"
   ]
  },
  {
   "cell_type": "markdown",
   "id": "f295abab",
   "metadata": {},
   "source": [
    "# removing most frequent words"
   ]
  },
  {
   "cell_type": "code",
   "execution_count": 92,
   "id": "c68e0fb8",
   "metadata": {
    "ExecuteTime": {
     "end_time": "2022-11-09T01:59:06.143691Z",
     "start_time": "2022-11-09T01:58:58.400172Z"
    }
   },
   "outputs": [],
   "source": [
    "df['twitts']=df['twitts'].apply(lambda x: \" \".join([t for t in x.split() if t not in f20]))"
   ]
  },
  {
   "cell_type": "markdown",
   "id": "eceb60a3",
   "metadata": {},
   "source": [
    "# remove rare occuring words removal"
   ]
  },
  {
   "cell_type": "code",
   "execution_count": 93,
   "id": "ce95d252",
   "metadata": {
    "ExecuteTime": {
     "end_time": "2022-11-09T01:59:06.159711Z",
     "start_time": "2022-11-09T01:59:06.144705Z"
    }
   },
   "outputs": [
    {
     "data": {
      "text/plain": [
       "piecesit           1\n",
       "danb2666           1\n",
       "hornyfurniture     1\n",
       "thepheasant        1\n",
       "beginspity         1\n",
       "overlong           1\n",
       "niteboth           1\n",
       "bordognis          1\n",
       "alongslowly        1\n",
       "aartikalha         1\n",
       "todayfiguresit     1\n",
       "mauy               1\n",
       "trinacharms        1\n",
       "caigo              1\n",
       "richardshepherd    1\n",
       "day86good          1\n",
       "ughworki           1\n",
       "biebob             1\n",
       "sryhe              1\n",
       "speakinguph4h      1\n",
       "dtype: int64"
      ]
     },
     "execution_count": 93,
     "metadata": {},
     "output_type": "execute_result"
    }
   ],
   "source": [
    "rare20=freq_comm[-20:]\n",
    "rare20"
   ]
  },
  {
   "cell_type": "code",
   "execution_count": 94,
   "id": "6ca0cd66",
   "metadata": {
    "ExecuteTime": {
     "end_time": "2022-11-09T01:59:06.190741Z",
     "start_time": "2022-11-09T01:59:06.161712Z"
    }
   },
   "outputs": [],
   "source": [
    "rare=freq_comm[freq_comm.values ==1]"
   ]
  },
  {
   "cell_type": "code",
   "execution_count": 95,
   "id": "1e933f48",
   "metadata": {
    "ExecuteTime": {
     "end_time": "2022-11-09T01:59:13.200002Z",
     "start_time": "2022-11-09T01:59:06.192745Z"
    }
   },
   "outputs": [],
   "source": [
    "df['twitts']=df['twitts'].apply(lambda x: \" \".join([t for t in x.split() if t not in rare20]))"
   ]
  },
  {
   "cell_type": "code",
   "execution_count": 96,
   "id": "81e4fb2b",
   "metadata": {
    "ExecuteTime": {
     "end_time": "2022-11-09T01:59:13.341328Z",
     "start_time": "2022-11-09T01:59:13.201036Z"
    }
   },
   "outputs": [
    {
     "data": {
      "text/html": [
       "<div>\n",
       "<style scoped>\n",
       "    .dataframe tbody tr th:only-of-type {\n",
       "        vertical-align: middle;\n",
       "    }\n",
       "\n",
       "    .dataframe tbody tr th {\n",
       "        vertical-align: top;\n",
       "    }\n",
       "\n",
       "    .dataframe thead th {\n",
       "        text-align: right;\n",
       "    }\n",
       "</style>\n",
       "<table border=\"1\" class=\"dataframe\">\n",
       "  <thead>\n",
       "    <tr style=\"text-align: right;\">\n",
       "      <th></th>\n",
       "      <th>twitts</th>\n",
       "      <th>sentiment</th>\n",
       "      <th>word_count</th>\n",
       "      <th>charcter_count</th>\n",
       "      <th>avg_word_len</th>\n",
       "      <th>stopwords_len</th>\n",
       "      <th>hashtag_counts</th>\n",
       "      <th>mentions_counts</th>\n",
       "      <th>numerics_counts</th>\n",
       "      <th>upper_case_counts</th>\n",
       "      <th>emails</th>\n",
       "      <th>email_count</th>\n",
       "      <th>URL_counts</th>\n",
       "    </tr>\n",
       "  </thead>\n",
       "  <tbody>\n",
       "    <tr>\n",
       "      <th>0</th>\n",
       "      <td>switchfoot awww bummer shoulda david carr d</td>\n",
       "      <td>0</td>\n",
       "      <td>19</td>\n",
       "      <td>115</td>\n",
       "      <td>19.0</td>\n",
       "      <td>4</td>\n",
       "      <td>0</td>\n",
       "      <td>1</td>\n",
       "      <td>0</td>\n",
       "      <td>1</td>\n",
       "      <td>[]</td>\n",
       "      <td>0</td>\n",
       "      <td>[(http, twitpic.com, /2y1zl)]</td>\n",
       "    </tr>\n",
       "    <tr>\n",
       "      <th>1</th>\n",
       "      <td>upset update facebook texting cry result schoo...</td>\n",
       "      <td>0</td>\n",
       "      <td>21</td>\n",
       "      <td>111</td>\n",
       "      <td>21.0</td>\n",
       "      <td>9</td>\n",
       "      <td>0</td>\n",
       "      <td>0</td>\n",
       "      <td>0</td>\n",
       "      <td>0</td>\n",
       "      <td>[]</td>\n",
       "      <td>0</td>\n",
       "      <td>[]</td>\n",
       "    </tr>\n",
       "    <tr>\n",
       "      <th>2</th>\n",
       "      <td>kenichan dived times ball managed save 50 rest...</td>\n",
       "      <td>0</td>\n",
       "      <td>18</td>\n",
       "      <td>89</td>\n",
       "      <td>18.0</td>\n",
       "      <td>7</td>\n",
       "      <td>0</td>\n",
       "      <td>1</td>\n",
       "      <td>0</td>\n",
       "      <td>1</td>\n",
       "      <td>[]</td>\n",
       "      <td>0</td>\n",
       "      <td>[]</td>\n",
       "    </tr>\n",
       "    <tr>\n",
       "      <th>3</th>\n",
       "      <td>body feels itchy fire</td>\n",
       "      <td>0</td>\n",
       "      <td>10</td>\n",
       "      <td>47</td>\n",
       "      <td>10.0</td>\n",
       "      <td>5</td>\n",
       "      <td>0</td>\n",
       "      <td>0</td>\n",
       "      <td>0</td>\n",
       "      <td>0</td>\n",
       "      <td>[]</td>\n",
       "      <td>0</td>\n",
       "      <td>[]</td>\n",
       "    </tr>\n",
       "    <tr>\n",
       "      <th>4</th>\n",
       "      <td>nationwideclass behaving mad</td>\n",
       "      <td>0</td>\n",
       "      <td>21</td>\n",
       "      <td>111</td>\n",
       "      <td>21.0</td>\n",
       "      <td>10</td>\n",
       "      <td>0</td>\n",
       "      <td>1</td>\n",
       "      <td>0</td>\n",
       "      <td>1</td>\n",
       "      <td>[]</td>\n",
       "      <td>0</td>\n",
       "      <td>[]</td>\n",
       "    </tr>\n",
       "    <tr>\n",
       "      <th>...</th>\n",
       "      <td>...</td>\n",
       "      <td>...</td>\n",
       "      <td>...</td>\n",
       "      <td>...</td>\n",
       "      <td>...</td>\n",
       "      <td>...</td>\n",
       "      <td>...</td>\n",
       "      <td>...</td>\n",
       "      <td>...</td>\n",
       "      <td>...</td>\n",
       "      <td>...</td>\n",
       "      <td>...</td>\n",
       "      <td>...</td>\n",
       "    </tr>\n",
       "    <tr>\n",
       "      <th>1599995</th>\n",
       "      <td>woke having school best feeling</td>\n",
       "      <td>4</td>\n",
       "      <td>11</td>\n",
       "      <td>56</td>\n",
       "      <td>11.0</td>\n",
       "      <td>4</td>\n",
       "      <td>0</td>\n",
       "      <td>0</td>\n",
       "      <td>0</td>\n",
       "      <td>0</td>\n",
       "      <td>[]</td>\n",
       "      <td>0</td>\n",
       "      <td>[]</td>\n",
       "    </tr>\n",
       "    <tr>\n",
       "      <th>1599996</th>\n",
       "      <td>thewdbcom cool hear old walt interviews</td>\n",
       "      <td>4</td>\n",
       "      <td>11</td>\n",
       "      <td>76</td>\n",
       "      <td>11.0</td>\n",
       "      <td>1</td>\n",
       "      <td>0</td>\n",
       "      <td>0</td>\n",
       "      <td>0</td>\n",
       "      <td>0</td>\n",
       "      <td>[]</td>\n",
       "      <td>0</td>\n",
       "      <td>[(http, blip.fm, /~8bmta)]</td>\n",
       "    </tr>\n",
       "    <tr>\n",
       "      <th>1599997</th>\n",
       "      <td>ready mojo makeover ask details</td>\n",
       "      <td>4</td>\n",
       "      <td>11</td>\n",
       "      <td>57</td>\n",
       "      <td>11.0</td>\n",
       "      <td>5</td>\n",
       "      <td>0</td>\n",
       "      <td>0</td>\n",
       "      <td>0</td>\n",
       "      <td>0</td>\n",
       "      <td>[]</td>\n",
       "      <td>0</td>\n",
       "      <td>[]</td>\n",
       "    </tr>\n",
       "    <tr>\n",
       "      <th>1599998</th>\n",
       "      <td>happy 38th birthday boo alll tupac amaru shakur</td>\n",
       "      <td>4</td>\n",
       "      <td>12</td>\n",
       "      <td>65</td>\n",
       "      <td>12.0</td>\n",
       "      <td>3</td>\n",
       "      <td>0</td>\n",
       "      <td>0</td>\n",
       "      <td>0</td>\n",
       "      <td>0</td>\n",
       "      <td>[]</td>\n",
       "      <td>0</td>\n",
       "      <td>[]</td>\n",
       "    </tr>\n",
       "    <tr>\n",
       "      <th>1599999</th>\n",
       "      <td>happy charitytuesday thenspcc sparkscharity</td>\n",
       "      <td>4</td>\n",
       "      <td>5</td>\n",
       "      <td>62</td>\n",
       "      <td>5.0</td>\n",
       "      <td>0</td>\n",
       "      <td>1</td>\n",
       "      <td>3</td>\n",
       "      <td>0</td>\n",
       "      <td>0</td>\n",
       "      <td>[]</td>\n",
       "      <td>0</td>\n",
       "      <td>[]</td>\n",
       "    </tr>\n",
       "  </tbody>\n",
       "</table>\n",
       "<p>1600000 rows × 13 columns</p>\n",
       "</div>"
      ],
      "text/plain": [
       "                                                    twitts  sentiment  \\\n",
       "0              switchfoot awww bummer shoulda david carr d          0   \n",
       "1        upset update facebook texting cry result schoo...          0   \n",
       "2        kenichan dived times ball managed save 50 rest...          0   \n",
       "3                                    body feels itchy fire          0   \n",
       "4                             nationwideclass behaving mad          0   \n",
       "...                                                    ...        ...   \n",
       "1599995                    woke having school best feeling          4   \n",
       "1599996            thewdbcom cool hear old walt interviews          4   \n",
       "1599997                    ready mojo makeover ask details          4   \n",
       "1599998    happy 38th birthday boo alll tupac amaru shakur          4   \n",
       "1599999        happy charitytuesday thenspcc sparkscharity          4   \n",
       "\n",
       "         word_count  charcter_count  avg_word_len  stopwords_len  \\\n",
       "0                19             115          19.0              4   \n",
       "1                21             111          21.0              9   \n",
       "2                18              89          18.0              7   \n",
       "3                10              47          10.0              5   \n",
       "4                21             111          21.0             10   \n",
       "...             ...             ...           ...            ...   \n",
       "1599995          11              56          11.0              4   \n",
       "1599996          11              76          11.0              1   \n",
       "1599997          11              57          11.0              5   \n",
       "1599998          12              65          12.0              3   \n",
       "1599999           5              62           5.0              0   \n",
       "\n",
       "         hashtag_counts  mentions_counts  numerics_counts  upper_case_counts  \\\n",
       "0                     0                1                0                  1   \n",
       "1                     0                0                0                  0   \n",
       "2                     0                1                0                  1   \n",
       "3                     0                0                0                  0   \n",
       "4                     0                1                0                  1   \n",
       "...                 ...              ...              ...                ...   \n",
       "1599995               0                0                0                  0   \n",
       "1599996               0                0                0                  0   \n",
       "1599997               0                0                0                  0   \n",
       "1599998               0                0                0                  0   \n",
       "1599999               1                3                0                  0   \n",
       "\n",
       "        emails  email_count                     URL_counts  \n",
       "0           []            0  [(http, twitpic.com, /2y1zl)]  \n",
       "1           []            0                             []  \n",
       "2           []            0                             []  \n",
       "3           []            0                             []  \n",
       "4           []            0                             []  \n",
       "...        ...          ...                            ...  \n",
       "1599995     []            0                             []  \n",
       "1599996     []            0     [(http, blip.fm, /~8bmta)]  \n",
       "1599997     []            0                             []  \n",
       "1599998     []            0                             []  \n",
       "1599999     []            0                             []  \n",
       "\n",
       "[1600000 rows x 13 columns]"
      ]
     },
     "execution_count": 96,
     "metadata": {},
     "output_type": "execute_result"
    }
   ],
   "source": [
    "df"
   ]
  },
  {
   "cell_type": "markdown",
   "id": "180f7c45",
   "metadata": {},
   "source": [
    "# word cloud visualization"
   ]
  },
  {
   "cell_type": "code",
   "execution_count": 110,
   "id": "603e7a4d",
   "metadata": {
    "ExecuteTime": {
     "end_time": "2022-11-08T11:27:38.506900Z",
     "start_time": "2022-11-08T11:27:38.497554Z"
    }
   },
   "outputs": [],
   "source": [
    "#!pip install wordcloud"
   ]
  },
  {
   "cell_type": "code",
   "execution_count": 111,
   "id": "08a14a9e",
   "metadata": {
    "ExecuteTime": {
     "end_time": "2022-11-08T11:28:22.565914Z",
     "start_time": "2022-11-08T11:28:22.528866Z"
    }
   },
   "outputs": [],
   "source": [
    "from wordcloud import WordCloud\n",
    "import matplotlib.pyplot as plt\n",
    "%matplotlib inline"
   ]
  },
  {
   "cell_type": "code",
   "execution_count": 115,
   "id": "04b69779",
   "metadata": {
    "ExecuteTime": {
     "end_time": "2022-11-08T11:31:49.543190Z",
     "start_time": "2022-11-08T11:31:49.524126Z"
    }
   },
   "outputs": [
    {
     "data": {
      "text/plain": [
       "10761087"
      ]
     },
     "execution_count": 115,
     "metadata": {},
     "output_type": "execute_result"
    }
   ],
   "source": [
    "x=\" \".join(text[:20000])\n",
    "len(text)"
   ]
  },
  {
   "cell_type": "code",
   "execution_count": 117,
   "id": "70d2cc04",
   "metadata": {
    "ExecuteTime": {
     "end_time": "2022-11-08T11:32:23.944145Z",
     "start_time": "2022-11-08T11:32:23.924619Z"
    }
   },
   "outputs": [
    {
     "data": {
      "text/plain": [
       "'switchfoot awww bummer shoulda got david carr day d upset update facebook texting cry result school today blah kenichan dived times ball managed save 50 rest bounds body feels itchy like fire nationwideclass behaving mad kwesidei crew need hug loltrish hey long time yes rains bit bit lol fine thanks tatianak nope twittera que muera spring break plain city snowing repierced ears caregiving bear watch thought ua loss embarrassing octolinz16 counts idk talk anymore smarrison wouldve gun zac snyders doucheclown iamjazzyfizzle wish got watch miss iamlilnicki premiere hollis death scene hurt severely watch film wry directors cut file taxes lettya ahh ive wanted rent love soundtrack fakerpattypattz oh dear drinking forgotten table drinks alydesigns day friend called asked meet mid valley todaybut time sigh angrybarista baked cake ated week going hoped blagh class 8 tomorrow hate wake people going cry sleep watching marley im sad misslilly ooooh lol leslie ok wont leslie wont mad meh lover exception track gets depressed time some1 hacked account aim new alielayus want promote gear groove unfornately ride b going anaheim thought sleeping option tomorrow realizing evaluations morning work afternoon julieebaby awe love 1 miss humpninja cry asian eyes sleep night ok sick spent hour sitting shower cause sick stand held puke like champ bed cocomix04 ill tell ya story later good day ill workin like hours missxu sorry bed time came gmt1 fleurylis depressing think want know kids suitcases bed class 812 work 123 gym 35 6 class 610 day gonna fly miss girlfriend feel like getting today got study tomorrows practical exam reason teardrops guitar break heart sad sad sad know hate feeling wanna sleep jonathanrknight awww soo wish finally comfortable im sad missed falling asleep heard tracy girls body found sad heart breaks family viennah yay happy job means time checked user timeline blackberry looks like twanking happening ppl having probs w bgs uids oh manwas ironing jeancjumbes fave wear meeting burnt strangely sad lilo samro breaking tea oh sorry think retweeting broadband plan massive broken promise wwwdiigocomtautao waiting broadband localtweeps wow tons replies unfollow friends tweets youre scrolling feed lot duck chicken taking wayyy long hatch vacation photos online yrs ago pc crashed forget site need hug andywana sure pos want dont think trade away company assets sorry andy oanhlove hate happens sad feeling dallas going gotta youd think shows use music game mmm ugh92 degrees tomorrow thought sd hmmm random found glad hear yer batmanyng miss ps3 commission wutcha playing copped blood sand leaving parking lot work life cool sadly gotten experience post coitus cigarette nice day bad rain comes tomorrow 5am starrbby bad wont lost job pay phone bill lmao aw shucks damm school tomorrow mo jobs money hell min wage 4 fn clams hour katortiz forever soon ltalgonquin agreed saw failwhale allllll day today jdarter oh haha dude dont look em says hey added sorry terrible need pop ninjen sure youre right need start working nikster jared hate people diss bands trace clearly ugly gym attire today puma singlet adidas shortsand black business socks leather shoes lucky run cute girls wont location picnic phone smells like citrus ashleyac donkey sensitive comments med glad mug asap charger awol new csi tonight fml think arms sore tennis wonders like unhappy split seccond depressed sleep soon hate saying bye tomorrow night statravelau got newsletter fares unbelievable shame booked paid missin boo markhardy1974 itm damn chalk chalkboard useless blast getty villa hates sore throat day getting worse msdrama hey missed ya meeting sup mama tummy hurts wonder hypnosis working stop smoking fat ones januarycrimson sorry babe fam annoys thankfully asleep right muahaha evil laugh hollywoodheat paid attention covered photoshop webpage design class undergrad wednesday bday know 2 poor cameron hills pray ex threatening start sh myour babies 1st birthday party jerk headache makeherfamous hmm enjoy problems constants think things find ulike strider sick little puppy ryleegracewana steves party sadly easter wnt b able 2 ohh hey actually won bracket pools bad money stark follow work bad nite favorite teams astros spartans lose nite tw good body missing northern calif girl found police found remains missing northern california girl mangaaa hope increase capacity fast yesterday pain got fail whale 15 times 2 hours classes work watching quothousequot kpreyes remember bum leg strikes time paradisej cool kinds complaints laptop online overheating recalls emily glad mommy training new job misses party send bad messages 3rd party send mixed ones sophmore year henkuyinepu overrated marykatherineq know heard afternoon wondered thing moscow times laying bed voice sooo sad killed kutner house whyyyyyyyy jacobsummers sorry tell mea culpa sorry alliana07 sense suicide thing refuse believe actually happened salancaster hope ok mercedesashley damn grind inspirational saddening time want stop cuz like love hibanick yeah aw know wudnt stand chance ugh cant sleep 130am hanging crooners wanna sing sucks erresc aaw miss ya im leaving bh tomorrow quotmorningquot think aww wanna beach w girls pissed asbas radio station wednesday bday know 2 know life flipped upside thought head ramen sounds good pain sides hurt mention crying fail late night snack glass oj bc quotdown sicknessquot sleepugh hate getting sick allyheman big fan camilla belle grum wah clip elstupido work filters wait till puter 2 blame ex 4 broke week longer longer terms need actually going cold thecoolestout ehhh weathers gonna turn ugly tomorrow chelserlynn haha cooooold d incredible stuff hoping tummy rumbles away soon knights notice told working tomorrow called agency follow said bedtime missing babe long alive happy yawwwnn tired love imma try sleep hopefully headstart aghsnow miss kenny powers bridgetsbeaches thank letting people know sad direct message got actually bridget india missed 100th test victory 10th consecutive win loss jonathanrknight guess sadly going bed ozesteph1992 shame hear stephan mrsaintnick hey leavin morning intending finish editing 536page novel manuscript tonight probably happen 12 pages left laid today head hurts twista202 read 9thamp10th princess diaries saving francesca cry end hmm easy books nokia 1110 died mom breast cancer wont find like week worried going sleep hoping tomorrow better day rumblepurr lol wish understood daylight savings ended breakfast hour later waking kids onemoreproject lame understand heroes season living downtown sure fun jonathanchard calorie wise wish junk food calorie free ate thing sour skittles big ass cherry coke man work hard getting sick time hot tea studying sleeeep getting eyebrows waxed pain phantasy star yesterday going work oh got macheist 30 apps sweet espresso serial said sent oh picked mich st win feeling pretty good pick way untiltonight lost downstairsworking feel bad ryanseacrest hates anoop mean seriously kinda mean pinkserendipity yes sprint 4g baltimore chicago far stuck awake middle night second day row felt terrible yesterday thanks bursting bubble going school soon find wear gosh hard marieclr lol naughtyhaughty page sooooo long got deleted sad day history crazy wind today birding currently work grrr ipods acting weird jai ho thinking playing songs ughh penndbad send dvd cos missed heaps happy big deal website machineplay sorry youre having therapyfail colindemar far way rail tips swear losing gaining losing gaining tweeps heart wrenching today realized good hiding things find staying friends househouse sitting neighbors loudhaving party dannyvegasbaby danny im upset wasnt watch live chat car 3 hours trip im soooo upset check mug borders closed 10 downloading nins new album quotthe slipquot hell come times days woke written email early university today teach 830 watching hill making sad channels boring lazy day find hobby supersport miss buddy ill ny 25th robluketic love french tell people south qtr french snarl french beautiful people opps said got day remain problem come activated selfcontrol block early meaning check new qc regularizing internal clock difficult fb hillydop oh spencer good guy goodlaura reese dying ttsc season finale week 24 boring madame president crazy woman jonathanrknight hate limited letterstoohope guys finei pray dogshes shit today screwed wanttss going sleep tonite worried tired post tonight shit today screwed job interview cardiff today wish luck got 3 hours sleep stustone whack way worse whack wiggetywhack djalizay think people choose way think chose accept familys help dead eloquentembrace youre going kill seen ds9 waiting till solid week sitting cheechbud think right hahaha 45 hrs hate spartans sad mind body severely protesting quotgetting upquot thing nightmares boot mysteezradio goin follow u lol angels mandayyy twista202 think want read books library nap interrupted times today going japanese rents kind longs bus shows end ghost world right ugh gurumn canada canada weird supposed snow wednesday ugh awwh babs look sad underneith shop entrance quotyesterdays musikquot o like look new transformer movie sad feet macbook fell gonna late tomorrow 132am gonna tipsy lonesome isthat sad sweating forthcoming trip e3 find crash screwed gotten somebody read tweets cant account infinitydefines omgawd couldnt handle cat heat time d d donniewahlberg hope auburn looking good davidhenrie thats people mag haha couldnt fit dont think pictures magazine tho haha breadandbadger congrats totally forgot submit photos paulaabdul awww good luck paula work hard hope fun new album gonna amazing xxx imaginarypeach leaving gets sad miss twitter phone broke stupid nokia phone ughhh miss advance phone shooting outside house o kidding scared tuesdayll start reflection n lecture stress reducing techniques sure useful accompaniers tragedy disaster news week yes yes trying find picture upload correclty oh red sox game rained looking forward opening day find keys charlietm know right dunno going twitter getting sore throat labelsnotlove home town mammy called depressd pls explain y parent let 8yr old child walk hello 2009 ircmaxell think need find better antidepressants think paxilwellbutrin combo losing efficacy myconnecticut restaurant called woodntap competitive eating tourney round tourney time place 2nd bathroom wake lakin caitlinoconnor want tacos margarhitas telll gay hellolt3 im lonely company 22 female california bad day betfair office miss wait celebrate tar heel win weekend cold want sleep kristencampisi 4 u officially 4 round monkeys found twin wont write heartbroken missom aww know felt like yesterday work sarahreedsc treaty defined missed brent praise band fun lead guitarist ltpoutgt jpfurry poor john happens play fruit microwave seriously seen doctor xxx missing bff watching home away reminds lt3 shout courts mandayyy new video card doa feeling lost naked confused jk sort ofno iphone damn late filling appraisal form people sent occupied work missed brent praise band fun lead guitarist ltpoutgt think past cant change deserved wat got thinking gah lost ring seen burgaw ooooooh sealclap download shitloads zip folders 4chan internet moneys fuck yeah alicia amp mikey nursing nile glad feeling better hate baby sick fucked ic brandizzzle08 yoyoyo internet rude tonight reconnected bed jemcam uni stuff netball netbal uni stuff kissability poor help forget 8th april amp 13th july dierks bentley comin columbus oh wanna bad sidekick chriscantore congrats totally jealous wish xm working gr8t face itchy poor socks luvvvvv golden retriever want sighhhh saw found tracy girl piece luggage fucking terrible aaaaand nausea donniewahlberg ooh im excited going 2 long love youtube spent 1 hour reach axis bank find today holiday mahavir jayanti contd mathewsmichael agree jobros dont update theres fishmouse hilarious linked clip lj time ago went dead link diannepulham oooooooo im thats need study tweeted nearly day posted website tonight hopefully goes night time bostongarden miss bentley seriously needs finish job applications son vincas sick stay home tense days work holiday kids whinging clientampboss understand english rewrote text unreadable written v good writerampreviewed correctly huntermoore want punch sooo sick snow ughh itsnemesis lovemeagan work fan upset like apologize repeated video games live related tweets going stern discussion koodo soon stern zaydia cant figure pay hotel etc fml seniority bc technological ineptness quotregisterquot classes feels like slept day away looking forward bouts gallbladder pills pain thastevieg want old bass mad tired today callin early tonight nighty night twittas levenrambin easy good afraid bad code think going bed goodniight hate riancurtis friend love kariajay time notice gonejust needed db2 aaronrva bathroom pee ashleyskyy wanted margarita kourtneykardash yup night workouts r worst unfortunetly work schedule allows night tough called hillsong said tell waiting list know looking good 0g milky bar left 200ml coke jokerrrr stillllll arrived mraow feel like dancing art school wants rape karenucol ah bet like craving play softball basketball noo time terrified accidentally deleted reference management assignment hopes doesnt trouble gets amazon s3 plugin worked website need php 5 hosting provider php 44 sad argh suuuper sleepy hour ago wide awake hope stay night austinhill wish sold time let know love hear watched tropic thunder dreading tomorrow qweendassah nohe missn chiefdelphi according bro new puppy poo fight covered poop picture stolen playing game home new boss su yin huen tweeted feel unbearable guilt staff cry poor joshy sick damn tejanos thoughts sandra cantus family difficult sad time franzglaus know wanted let everybody know happening michigan know sigh shameful fill hours alicayaba cuuute hey miss na seeing girls everyday jonathanrknight oh mention quotgooooood moooorniiiiiiingquot germany im cageor bettermy office throat closing string cheese good idea aww sandra cantu found dead suitcase missing children stories good poor family wishing home underneath covers walking home school drains energy ridley1013 agree shapeshifting copout excited angelas ep thought week noah awesome tho savethestrib dang knew earlier outings planned wish better writing taking long write paper course access halo 3 mythic map pack redownload bad news legendary map pack ugh 600ms vene2ia unfortunately weeks told little bit busy latest project thecoolestout ha suns gone day 2 lot harder day 1 let day 3 goes tomorrow man crush jake peavy let gayforpeavy trishzw megafast trip time day tomweds going tonight want bad tried warn tech fail michigan state sad omg mouth pain wanna sleep untill time braces getting annoyed easily today gtgtgt biofuel proposal getting annoyed easily today gtgtgt biof mizzchievouz hey girl site girlyvue videos a5hleyf spending time grandma early tomorrow leave skittles got home watching michigan state tromped oh jewbus years worth classes work alot organize gtlt finishing tonight possiblemy bones ache griffmiester exchanging laptop arrived hyperbets hope long feel miserable rcompo rachel hang outage neccessary gonna home wekend dumb folk work im free f sat 4 theleaguesf fun amp furious new mantra bay 2 breakers getting 2 rambunctiousthe city overreacted amp clamped amberbenson hubby reason thinks important good spot red carpet trek movie premiere sod swear matter long getting 5am gets easier man eyes hurts wah jeffreestar jeffree hair color permanent dye fades week otakusecret reaction whoa coming sick feeling bit better got new medicine hope feel good night sleep ohh suppose snow wtf dangerm0use think maybe couple hours sleep hon productive right dog tired worry maddyva thanks lot learned lot new words find looking wish xblm downloads gamertag hitokyri 5 gamertag thing nonsense tired new testament test 930 scoutbuck tons hay troll ahhhh stupid movies watched mirrors ugggggh stooopeeed rip love buck homework understand things taken away time unfair want like baby scratch du heif half cookies tum anymore shoog poots cococourtney listening sweets time forever miss chi town visits plz geez busy afternoon meetings emails meetings email meetings 6pm day going ah dark dang spring break cool bad work week oh money phone ttyl everbody sarakate im afraid reply uni ages ago feeling carvin1 lol emotional ass men omg late night eating broke nickcarter aww nick like hair longer cut break heart wonder jon lost net wow depressing thing world losing video youve created matter seconds fml nchokkan says stock poohpot lmao im sorry poohpot ate chance softbelly mtub loud time posterior lose fat articulation creaking running im drool swimming listening nathan cry today sucked gonna die chris callum wahhh stou site update info 22552 exam open course wait mail notices doc um ohsbrat30i sorry feeling kinda yucky 5am going come quick love scrappy missin wants hear seblefebvre s song myspace messing bad news dad cancer dying good news new business started life coach practising holistic weight management duchessrebecca man intervention soo sad help need new boyfriend stuck rut feel like complete idiot shit works help saw ad craigslist casting female host g4 totally psyched realized hoax pepperoni rolls la called valentinos said sausage rolls pepperoni rolls soillodge yes monday want new gg episode miss watching rockos modern life rip sandraits sad like keeping fingers crossed buddy feeling wait eat skinny vegas hungry margeinovera tried tweetdeck hated passion hated sure benackerman btw iphone acting funny dying quickly freezing bs admitting sayin sitting wondering quotedquot strong hold bananaface im sorry got sick lol going bed night carolrainbow internet home drive ox use internet builders stevebuscemi weather canada freezing twiggassssssss range day hopefully good danadearmond reads pray grandma pain 3 woke having accident quotit pushing pushingquot crying stop wetting pants home franklin street jumped fire kicked jenny lost shoe johnnybeane hey changed default finally gave bored start thing think 140 going problem tho like myspace status ellievolia oooonly lucky eh awh definitely early work buttload homework needs copy visual studio 2008 school world weekmy school silly look bright omg economics test dont know things know omg im gonna fail robcthegeek time islands pride philippine tourism coralclamrare fish poaching kinda sad henkuyinepu yeah apparently bad taste hummiemd know surprised recommends youtube tomorrow figure waiting airport ride harassed 2 men trying sell ugly hats want sleep left ids location bars fuckkkkkkkkkkkkk celycarmo sorry understand comment officialrandl announcement stayed late night kishorek strange illegal torrents avlbl legal dvd stock imiss trolley packed like sardines padre game remove car good mts randomlynat jeez trying help haha supamagg happened saturday night glittery green lighter trying reduce number cigarettes day yea quiet cuz work im bored death talk gotta cooking assignment hard treesahquiche okay applepears talked people told jennifermf know night owl nature hahaha time zone 1 mamasvan lol nope complete camerafail maxime68 megelder useless sleep fair want fun pookie uti nurse gabbie 100 sodas jillianfish tweet damn hang anistorm video games matter yesterdays news sleeptilnoon left got tempted ate soon got home chocolate velvet amp ate d mocha stressing blackberry keeps flashing red alert status reason faking hate wanna wear doc martens worn december shoe repair shop guy find shoes find couple days bbarnett coming woke vivid sketchy notcool dreams life time stare wall lights 3 days sister passport nicolerichie oh yes miss uh oh think getting sick good god ruined belly button watching framed roger rabbit makes miss toon town akianz renting cheap renting awesome house 3 buying attempts fall running nose spinning head good combination meeting eazydoesit87 negative lost vote confidence nasty budget iphone sent apple today sofiinoel thats bad dammit episode 3 kings wont play reason stopped middle wont upset missed chat quiz online free internet ceased believe disbelief way people hurt car season started throat raw kevchoice persons mind ish like prayers fam real frago hate need need therapist twilight come yesterday fingers crossed today nilelegania glad able help feel better hate sick love tireddddddd want sleep assignment finish exam tomorrow study know thinking need money omgits jst teusday ddlovato davidhenrie ummmmm cant find heard found sandra cantu 8 yrs old corrosivecandy ive forgotten snoosnoo wonder snoosnoo meet amanorris wow tweet like giant sexistsorry bathtub drain fired haz 1 job 2 amp iz fail got drano ass amp iz draining wanna shower dangit stuck home nomadicmatt 110 duckling famous childrens book stolen bostons public garden boston globe sharethis oh appomattoxnews thank hate list includes 2 convicts heading altrincham hours install morning good im bloody knackered work today helppp xxx jeffreecuntstar garage park driveway lauredhel happened quoton popular musicquot twadorno probably difficult reading prescribed actually struggling continue cant flowers falling dont camera cellphone weve good liking snow right getting nice springlike weather brianarmstrong pity youtube currently blocked china vids margaretcho happened hightlight life best leather sofa world office means working 3 days internet gets uncapped better days lodged belly love atekinzz ampamp soo miss wanna sneak zoo play kitties lolitariot oh hope youre getting sick alejandralei dont think cause cousins birthday party sweet little man fell asleep waiting daddy big brother home poor baby missed today angel going miss athlete weekend trust hard watched considering today yaknow shawnna tomomorrowi need bestfriend grr want reading wont left read atekinzz world rumlover supposed date pears amp brie bottle cabernet quotwin date tad hamiltonquot oh gawwd life flashed forward 40 75 cats crap need dresses kaeeeep yeah know horrible ugh saddening brodhe geez fun wanna punk rock band jyesmith lot angst tuesday afternoon glad britney crazy anymore hell sad upap cook county huuuge headache omg feel like crap anistorm sorry cleders sorryi rooting man took forever shandasaurus listing items ebay sell takes forevermeanwhile coleman watching hills season premier got presentation 23 slides crying week hardest weeks lost 160 like previously skins thing starts season like went straight intro like houndour wish therei pretty good scaring shit people going sound vain running fav lip gloss stuiy click link screams quoti spider spiderquot known better yucky time work sick pratama imac came 320 indonesia states dammit need stop buying furniture misssil half asleep turned laptop death peaceful life bites think jonathanrknight lost net sure hope test footage girlfriend hd dark underxposed tough game watch tonight state finally going bed staying watch season premiere hills jruby support hpricot versions jinxcat unlike sisteri fraking app store pissing logging need study having problems accessing ttb cant strongly dislike people stupid comments dont know story emmaketurah sorry emma swarley goldfish sad u tweets gone missed guys tonight sleep face kinda swollen let allergic thing thatll thursday school tomorrow doubtful snickthedog izzys cat tree stare floor chases runs officially banning godaddycom comp head hurts small print wasted 10 happily gone boba humanopium pretty scary ilovepie mines finding hard fit good morning ready 2 want 2 2 bed hates waiting mails wheat bread dollar store toast nicely going taxes calling early night kutner mean knew going happen sad lt3 house sad jonathanrknight aw ok goonite ill cant cinema fell asleep mean christina kelleyrowe hey remember time friends ugh vomit sick need sleep lymph nodes massive rahm emanuels balls right oh computer sucks think able listen xbox 360 fancast tonite missing playing trumpet throat sore meant going 5 day camp friday sure sasii know exactly feel work bed time 1 sighs 6 mornings week wednesday hert jesus camp yeah marybethune oh happened today forgot going dress shopping opera tomorrow turtles better mac lasts longer moves faster soaked pleasant ginayates sorry hear maggie thoughts mum ewarden email hope feel better miamiiboii dead yu gettin wen im leavin arlenecd tell close california lol phlaimeaux stupid arranged marriages convert marry melove emilyruppe said looser implies poor sandra cantu amp cantu family prayers sick world live 8 fuck omg austins man lt3 love nicolerichie cried hard matthew died sad feet macbook fell sad feet macbook fell chordsy find things like youre twitter lovebscott absolutely filled curry true indian coming im soooo cold right heidimontag lol kant believe cam got beat upp sooo embarasssiiiin jonathanrknight good knight hun looking forward tweets hate missing fun cuz time difference tumblr exactly feels wearing tie daniela95616 hahaa realized quotimpunequot definitely isnt word wanted dang unclever watching old videos dance team makes miss wahh csi dvred love money 2 gonna watch sleep goodnight tweeterslt3 struggling hard inventory ddlovato hate ballinbitch haha im ballin got bills paaaaay days want work home crap paulewog waitis game episodes confused carlyw66 haha cried guess statistics bunch mumbo jumbo sloanb got sadly works uk amp moment evicted enjoy learning css nachojohnny brian fuck lol replied 2 messagedid miss heidimontag dvrd went watch apparently dish network went missed catch rerun jessdubb lmao wait season come summe boo hot nd dry ass weather lizchavez set feet ground missing eyelid people daniela95616 english professor ashamed o wish frogs werent extinct came home cross county tired want walk home snow wants pick heidimontag lauren stubborn loves love feel bad cry lol grouchy wants bmar heart broken morning dropping foo pre school understand moms quothe heart brokenquot feeling hurts im mood chocolate want miniature reeses cups heat like oven feel sick nwo nickcarter come chat 15 minutes boredd colddd internet keeps stuffing horrible nightmare night affected sleep tired im lonely company 22 female new york born4broadway lost st ignacius prepatory school haha birutagme yeah depressing stuff like gets whoisariston problem tongueincheek remark lots acronyms nz greggrunberg hey said matt gonna ballistic disappointed good ep tho ugh horrible ending sandra kantu story prayers danielledeleasa hate 2 b allergic want puppy soo bad thought cool names morning folks 700 yawn amp away horses hope twitter better behaved today night travesty quandotcom miss amandaenglund sorry hear loss year far nicolerichie gossip girl repeat inyoureyes2410 reckon finding hard use twitter stuck house days sad know y thousandmiles maybe years tax return girl dream right work tired hell feel cold coming clarianne knot2serious april 9th coming soon hannahsix cream eye herpes ocular herpes different strain okay gotta repeat art folio cuz old terms work got wet ready weekend monday lovebscott umm nopethink im insomniac plus got flui willl sleepin like phuckin fish outta water minute finland sleeping night time lunafiko wait try em prolly wait weekend earliest shiner taking bed blankets clarianne april 9th coming soon wants cry need bank tomorrow broke earthquake italy sadden hours away naples family sleeping stressed week coming dragoneer yea working tp hack server 12player thing folks hurt ankle going dr raymondroman oh noes manage send trash noticing feel ya lost free copy radioactive ipod grrand buy nother coz came paper shit photoshop hate crash vacations makes feel sick gone listening murd 9th wonder chillen missing crazy sex life louie094 shooting careful luisa hillary006 sure ruined gift whitney cell easter beso hollywood tired want wake early tomorrow damn work finished watching movie prayers bobby broke heart syekr myki horrible stephenkruiser 2 dog today ran nevadawolf sorry hear dnf run tonight risk bad coords ftf honey3223 disgruntled people wrote esn 1000 hits day bill pulls 250 tops moony394 ohh omg lmao crying right lol kutnerrrr best came running took showerwhy lower stomach hurt exercising watching fallon mom working projectschool hard 56 min till home time counting craving visit mac store closed time stephenkruiser sorry hear care paulcoles hmmmgreed good motivates individual betternot takes away gabbyisactive brat rub want mocha kutnerrrr think 13 ugh kutnerkal penn youve bright star ho redvinylgirl mom wish best luck hate homeworks head hurts bad got ebay blues item want jumped bidders 100 hour 3 hours better hopes gigdiary know little depressed ate night leftovers today pc living room suffered fatal partion lost itunes library gone docs pics sad day manu season stephenkruiser poor spunkyits sadmy rotti 10 pathi know feel im sooo sad right need hug wants step brother home im worried dont know hope knows care heidimontag got watching hills loved excited episode im sad season ryanmwilson aww stinks hugs tired feel like crap world feels crummy happy usb disco mouse dont want believe im readingbuuso sad wondering gamebattles white trash vs outnumbered emitstop true use spring break celebrate morning bah car wont start waiting anwb katebornstein pretty anti memorial tattoos strictest official ban disapproving family balamurugan longterm member team leaving month miss working hope venture justgelo sad knowing found body crazy world live child deserves ya know wanna rock maxi dress coachella lacking funding course baby screaming crib night day work let cry boooo home missing baby busy week ahead fri chill day guy kids egg hunt sat spiral dmb sat night easter followsavvy found everytime click twitter thing myspace goes dudes page stephenkruiser horrible sorryto hear davidhenrie cant find says dtmafiaofficial doesnt existthere jus 1 dtmafia found dun b followin wht thought support augh eff sarth stole mils nail polish pretty o wishes spring fling tour dawn amp neecee sigh gknight hoyts distribution nz website working great like need crummyasshole like movie cillian murphy hot wishes good old cartoons come ie captain planet wheres wally daria sadness feeling v good abt got text sarah day centre point time early start guessing train rammed commuters games fall modern warfare 2 halo 3 odst brutal legend bioshock 2 need cash dcastillo ugh disconcerting devinthedude007 actually site finally taken damn russians tweets arent going finished delicious breakfast paris miss milk europe tastiest milk world drink ilearn great considering finals week carmonium stressed outttt shouldve bern asleep hour ago trying figure twitter thingnone friends soo repinging kyle44 custom icons look cool edges square look bad diff background want la enterbelladonna dunno use forum frustrated miss talking lilbucknuts41 option georgeruiz unfortunately moments giant squid monster thestarrage want branch midv open dananner aw sorry hear change plans ordered macs instead time hit books polhillian yup nkdreamer donnies tweet stats 700 repliesand jrk timgrainger nah received stimulus ikimb0 seen tweet plz write bak havnt got reply bak mccainblogette awwwww trying sleep 3 hours ago stephenkruiser sorry hear sad lose close loved cant sleep im feelin like piece shit stephenkruiser oh sympathies hard decision hope old border collie sleep 14 hug josephheustess cool wont spoil limbecky time warp sad theresawhite true lol slap face warm end march hate converting movies em itouch gross pimple torturedlady yea manaaaaaaaaaaaaaaaaaaaam marwan accent lol follower tonight unholyknight mom night brb figure burned feel like quottwittererquot tweetdeck wyldceltic1 karate tournament 8 weeks going sleep 1am againand finish statistics homework north carolina baby aint nothin stopping nba draft sleep reaaly miss john mayers twitters fuck rude people remove like tweets bitchfucks going late mqu today im tired worki need life leavin work feet hurt playradioplay sad unexpected totally cried haha superneej morning bah car wont start waiting anwb homework little sad deepbluesealove mom amp dad 6too early asleep hours ago stephenkruiser sorry hear dog funny little things homesick criminals breakn n2 brownstone lawnord ci misty djsoulsister yeah great vid 12quot single sold years ago im vals mac iitsc clubroom sweating stephenkruiser awww sad sorry updatingffe gives good minutes hot compress rily workng pulled muscle gng bed good night invite quothealthy diningquot session ashok hotel today exec chef rchopra damn workload skip stephenkruiser sorry hear dog wishing happier days come hellivina miss em misstoriblack cool tweet apps razr 2 bed gotta wake hella early tomorrow morning procrastinating hate organizing clothes playing new mobbler v040 adds great new features wont play music e71 like v035 latroneb oh bestie missing esuriospiritus time come flawda double dates seriously sorry hear way late working client 1210 fb blegghhhh work work john muir dr dachesterfrench emailed yesterday responded going long year fans got watching new house episodedefinitely saddest episodes man taxes suck horrified wrong turbotax decided lot stuff turned sleep time tomorrow gonna suck wtf kutner oh pissed house mean wtf amberpacific know dont know said cash rules picked oats market eat breakfast boy adamgoldston time work usc late night feel sick icecream faithgg45 computer shockwaveblah account rubyrose1 awww wish sydney luxuryprgal hahaha suriously feel like knows joke lc spell today totally suck vaccinated chickenpoxshould vaccinate 3 yr oldi confused damn thing school day yawwwn gotta early tomorrow whos ready weekend miss home calving seasonsad black died morning wish bottle calves stephenkruiser sorry loss brother dog sam sick wcushings disease work spend 8 hours dispatch room new kind starburst favereds sounds fab bc cherry strawberry fav reds added watermellon yucky productive 2 days angels andreabakes oh gee insomnia sucks tried melatonin vivekg86 good hear support netbeans netbeans know heidimontag wish time rest world unfornately cairo wait mtva play heartbroken little sandra prayers family hadtobeyou 900 words finish tomorrow maybe shortiethug come background covers screen corner wrote exactly lines dialogue tonight gave ashman01 complaint facebook changed confusing sliced finger going town traffic bypass stink ugh sleep wish good cuddle ass hate software update downloads updates telling know whats downloading went ihop great diet kung foo pancakes time rachel internet hating night spose contactabe jealous missed opening day year cruel having wait reviews come far looks like star trek best film year debating shower sleep little later tomorrow stress culminates physical pain need sleep cant little pinky finger hurts sarahsaturday sorry gift card ran suck home spring break home tho accessed oneindiamobi google phone android support indic languages school life sleep anymore school work mtsiaklides aw wish speak yia yia speak english winggato free comp lol getting ready clean house crying friend moving away tomorrow swiftkaratechop stop nomnoms share night peoples thinks getting cold caught daddy oh trip ruined moony394 yeah bcoz kal penn visiting lecturer cant anymore im gonna miss procrastination starts early quarter want reaaaaad write paper apparently 52 degress 11pm washington state miss winter bored homee massage great spilled coke desk lame watching simpsons finished hills dvds nickcarter wait fanclub chat tough youre favorite mild left inner ear infection got irritating quotblockedquot feeling sunday janebodehouse hey nope cuteness hoytfortenberry away awhile tuesday haha yo know thang twitter haha someones alarm clock phone woke 3amstill got headache yesterday night kalichosich awww poor puppy ok break eat buffalo wings tomorrow sittin wkayla reallly dislike having brother know stop waiting day fed bokkie birthday treatssicko s kinda bummed agency told look going ladies help create look work laptop officially dead happy goodness freezing heidimontag listen mom stucked paris travel france work joannafbeckett think close time checked closest 70 miles away aaaaand literature review friendly cup coffee company worried wont 900 paid buttload tax year okay school phoneless sleep reeked alcohol dentist morning drunk tshirt realised huge stain dentist looked disgusted cold cant sleep wants dream sleep hate nights try bed early stay awake hours poo rootbeersoup yeah bad people like certain burritoeating man exist cronotriggers sad found mum adopted auntie twitter check mum tessm64 awesome auntie tania38 sleepwide awakeand gotta work later boy going crappy day struggling eam law sleep like bouts start 24 poor linny eyes open tired work tomorrow morning night ilovefatsusan 4 year old 18 year old driving twisti want like sucked place 3 daysany help packingpaintingcleaning appreciated oh rip wall opening partially frozen beer beer toaster oven counter kitchen smells like run speakeasy stewiebrittany dont know ride monasmith sadly yes think need counciling making ready schooldo feel like going tests smugness gone train failed turn heading victoria followed unpleasant tube ride city anybody know ipod went aww earthquake italy sad saw pics news terrible lilibat able afford extraction continue deal pet care people try run business send suspicious emails fishing info kameelahwrites lt33 codezthey mia tho reannaremick doesnt work cell sleep p going nice tomorrow rain comes nice weather birthday taliasunset rock band hardon expert beachbassbone roomie home day scratch door comforter goto large laundromat machines hardest thing schedule chat end day usually killed character favorite shows upset jealous friends got new star trek film austin tonight listening q got bad headache drivin lesson mins lucky wana sleeep stevebuscemi shut youi hungry britain home boring suckassy breakfast world miss dennys good morning everybody pkoi y fais pas beau bon coffee time work essay time chauncey78 hey talk mom r home hope r ok wish coming home 4 easter endearingevania sure wish guys tmrw usual school interferes widyatarina kal penns leaving house noooooo awww totally missed tonight lost loyal played hand bad lost half stack 620pm early days looooooong night work yaykimo sad season wanna spencer calls lauren im editing quotthe phipstapequot 2 crack brew got trees rj know half means homework homework homework worked heart today doubling weight station result stiff pulled muscles ouch melamachinko feel bad unfollowing tired god hate new job days sad kutner killed fav house happy coach stringer hof co 2009now finish term paper feel like shit way want spend birthdays eve far 311 sites checking updates lot mind needs moneys ideas hiring emiliexclarkex miss stephenkruiser sorry hear dog internet plagues miss ex soo sodding m25 oh thought pirate bay trial verdict today s apparently 10 days featherinair study hall log immediately tired im crying reason im try hour half tonight half got night totally like girl options viable far 311 veiws sites checking updates listening bjorks love crying omg hills love money2 aww think becky buckwild goes craving tantan nabe cmon sean man watching quota league ownquotmakes miss mint chocolate ice cream cones grand ma fuck lost phone wheremaybe grass long hope rain tomatosalsa hope referring hello new stalker lol brettyboo sleeping gonna night bike ride slessard wanna listen masters sephystryx looking good stuff write loads uni work feel unloved dropped 2 tweeters london day thursday gonna raining oh fab wont london eye robbie wont care bless completely wiped reloaded 8900 lost bbm contacts going bed sad mykele sayyyy whaaaa invited sleep bad considering workshop starting today beginnings sore throat astewart87 oh gosh emotional haha idk dont want old going post stories manually twitterfeed problem weve quiet lately like lukewarm showers linuxfoundation contact need 1099 freelance work linuxcom 2008 got skylineking722 connor febi mad need help want buy macbook pro inlove old powerbook michaeltao man america borez lol realized sent msgs idea flash hellivina ihopness gknight lovely ladies sleepy anybody know electrolytes order vitamin work feel sick sudam08 yes reading posts properly italian homework weeeeee understood turned lights time ip therealnph twitter hates hate fact genuinely excited tweet celesteclara sleep theblondetheory italy earthquake sad news day champagnemanoir rain today garden needs bad yawn yawn yawn 10 minutes bed majesticflame ouch sounds sucky bengottlieb great idea itunes promo codes work uk itunes store mattycus cry rumlover rum barrel sad rum barrel shakes head horror horror sleepless night billybush admitted fake batmannn love chutney got highly bored today scanning 24 pages daddy misterphipps cooked risotto keeeerrrrriiiiii better post thing 224amwonderfullll says alot yay baseball season boo yankees losing game lost sucks work today omg exams killed know difference haif circle hemisphere lt3 gt bed suddenly feel wish ma wme goodnight twitterfam rachelcmrn like goodnights greaaat lappy wont turn wtffffff m4rkm stuck traffic journey traffic free morning help lookin like allnighter hate vernonhamilton youre stranger debbugging old vb6 code day started better toddlington quarter percent babe darn coming cold bad allergies way miserable believe cutner dead house sad day santa rosa damnit digging season reaper reftype1101amprefnamestory gah comcast doubled cableinternet bill wout telling quitting suggest affordable company bay area early morn duchess managed cross legs time alexbigman left saying hi l want sleep tracydowds xbox shows red lights means dead needs fixed month microsoft hq king sized bed nice sad lonely hubby puppy kitty conferenceing thing im boredd gah wish sleep ive toooo muchh cooooffffeeeeeeeee bahaha whyinthehell butt nosey sorry conversation interesting smokeyrobinson fell listdid offend 18 weeks till sisters home missed worst feeling world gonna try sleep hotel room chimpytwit brilliant idea bring think youll spend amp swap bring brolly simonekali autograph shout record computer dead listen rt kimkardashian khloe got fired apprentice biology class lip hurts sorry tweet grr school today jennlopez hd tivo got set tonight order channels 40 59 mouthsex asked yesterday single tweet adame ruddy money like waiting oh surprise state hmmm seriously kalpenn sad kutner favorite new team marcusmims wow quothelloquot suck bedtime school tomorrow books broke suckssss seating helping baby paperswell forcing seat im sleepy synching contacts old mobile iphone import work concentrate spent 1 hour enter bureaucratic nonsense march waste time nw confused feeling stupid migraine making tummy upset body aches shoot reading buyology bedtime great premise turning quotokquot book lots info knew home wana sleep wasting free line town assignment finish hellobebe send updates plurk upload photos twitter didnt updates plurk zero omg quotthe readerquot making cloudpimps doh youre getting decent exchange rate moment sterling getting flogged tried download tweetdeck wont download inch snow ground counting worried poor flowers dweeman happy camper dkoenigs thanks man grateful feel unworthy attention twolfe miss totally comin tho lastnight sooooooo fun sniffinglue ohhh love ps sad hang end place kisluvkis oh sad poor boy jonathanrknight silvertulip27 um hell fugly poker dog pants cruise hi jonathan sorry missed homework gosh darn hard definitely vacation study group extraordinare leave campussome torts outline finishedgood thingbut sleepy hwill 7am airfare live texas know able iowa jstricko found pretty frustrating stupid monkeys lenesha im feeling mommy lovebscott nope right wit murder gotcha cant believe nbensalem sitting house sooo looking forward class tomorrow ordered maternity clothes online came today got strange order size stuff missing citizensheep thesage1014 wish gotta work seaghostdesigns happened saturday didnt girlsgonechild fall asleep mouth ulcer painful talk eat danphelan urgh video cut robots dog anymore praying okay kalpenn pretty favenot reason watch artistbabee thts annoying ampdefinitely bitchy def broke like prolly kno oct 5 mileycyrus hahaha dont like time ny got 30 mins sleep got sick love normalguyguide learn wwi tomorrow noon new post graemearcher sad innocent selling dang wont able workshops run web directions benpritchett goodness find good hear ben video game booki apologize jap girls leaving poor little girl baaaad rash bum isnt feeling good nicolerichie yes vhs cried old man died argh got early girls aloud freshly squeezed video travian total cost atk aggressor 273310 resources said guessing going let slide waiting kellys mhm having good day blah blah blah octopuseatspie got chezburger book lobo look wif trying work assignment year spark want lay grass read robertfperez ugh course thursday fridaysat kids kalpenn oh gosh emotionally dying fact kutners gone arggg kal ily kaozdesign think found faceunfortunately find seeing shouldnt stomach flip like headache pleeeease away siddharthind yeah application runs minutes addons conflict time pretty good coaching exceptional talent trounces exceptional coaching pretty good talent msu hate tuesdays gracedent quothairquot deal feel like stuck rut waiting hear schools killing decided break wow awhile need new glassesmines hangnon 1 arm meat week day 3 tummy hurts night quotfakequot verruca twitter sad phone bestie shower confused know sirrah21 aww poor froofroo way late miss 808 fam officialprofoz sed puerto rican joefernandez klout thinking selling simx yeah slow end win pornstartweet wanna 20 lovemeagan mss snippet hunwts aski wanna hear know big love true blood united states tara long waits seasons sensesdestroyer wanna lamb god sad lost hn arm bandit disappeared set alarm wake wanted speak sis africa skype miss sooo awh damn puppy ticks house sad oh kutner saffron lookingi know read gonna hurt look guess girl thing amp need needs hugssnuggles health4uandpets saw gsd covered stop crying bawled bawled rachel jessy r making work thanks guy wishing time mycaricature bit got said babs bad mum sure hurts laughing wanting school tomorrow term quotfail whalequot client pitch night incomprehension corp twitter lower org rootbeerfloats8 hate billy 2day workweekfastforward thursday snaprebelx omg love mad feel pain im sorry spoiled possible die coughing sucks ill cant believe way barnes work todayinstead 5minute walk st johns wood paulieseow hahahahahah easily ice milo best friends shitty simultaneously turns hurting feelings jerks going 2 sleep art regressing onlysweeter know dance laurweeboo im ok guess hard day jade looking new home damnnn missed 1111 sarahprout tweetfinder hates having trouble background twitterwhat think twilighter4life lol yeh ill studying stupid uni 2 weeks im holidays yay plus birthday week woot transbay quotsfmta budget proposal hearing tomorrow april 7 200 pm city hall room 400 sadly attendquot afraid gi notes read sigh rain decide away invited tuesdayparty start hoped secretgarden gotten porn spammers check followers tweets like somebody selling japan release album e bay 25 damn thats classic worth charleneli disqus integrates conversations platforms heard abt jskit advertising fake louis bags 100 authentic google pissed sleep dam naps lol hot lookingi know read gonna hurt look guess girl thing henrygooden oddchicken went month half ago open smelt good getting sick ready bedlong day tomorrow job searchingfyi yahoo hot jobs suck im going find job electricity today tweets bigthink zack tell edit bioprofile create login different cos site answer bt techhelp morning starving dying cuppa cos docs fasting blood test little tired morning idea great start day morning little break computer work today mobilityvicorg launch grog nice video pwc quotfollowersquot some1 inform works misses right need hug tried earlier todaydid work omg revisions revisions revisions feel like wasted amazingly beautiful day today pointless work foot commission ouch running morning helpnot smart shower hope wake oh synth experiments yielded night bored sleepyand mad find custom lanyard maker wont buy 1000000 minimum cmykevin ooh nice williams sonoma got finally given malaysian restaurant waiting nasi lemak teh tarik mereka tak faham bm waitin 4 theory test centre 2 open got woken mornng 7am damn lorry van car accident outside main road causing car alarms think need laid sad revolution earlier rofl ourcitylight sudden want amanita feel unliving lanarisque hahahahhha hows food poisening going gone away missxmarisa heard hannah disappointing hutsoncap alright procrastinating feel ill want bed danielhalpin gonna try find sports bar watch got chance think wants home watch hills sarmar guess funny moethebeat aww moe planning leaving tomorrow evening gonna town chance wanna write cool storylineee gripping agreed love sound hates knows brendamew2 art tomorrow nice youve joined twitter sigh think pms making mind totally overanalyse things making sad doriantaylor outside patio named rex gardner took rip rex ooops ate panini wmart cold says needed thoroughly cooked taste raw die nao f poisoning good morning rainy france gardening today day staying bed today got cleo vets sure whats wrong feeling sorry today day 1 fast amp feel break b4 2 bed hold til end wk stayed focused wish luck extremely jealous kimmyawesome ohhhh sucks love summer set daydee tell forgot password amp new way prevent tons spam bedtime wake 7am glad work extra hour paycheck waiting lost mums taken hospital know whats wrong vomiting yesterday rushing hospital congested nose sleep need talk penalba por favor decime ke estas involucrado en esa pagina nicatrolls cancer killing b cold tired write good twitter obeying cops tonight total dissappointment close lifee gets worsee ampamp worsee dnwallace shuddering shaking sorting brekkie kids horrible place called work boohoo condolences natasha richardsons family littleyellowjen think ily nawwww wheres derrick needs stop sleeping day causes problems youre wide awake 245am missed todays ellen suddenly miss flintstones vitamin tablets soooo gooood mattpro13 legitimately good cops onlytosee twitters tooo pealuh think need twitterholics anonymous lizhenry heard sha heart broken forgot sleep morning need decent coffee catering open 0830 mostazzza im sorry failed codaqueen oh wait 1 oakland 18th understand 1 amp oakland missing talking bff da phone wondering stupid need eat fish guess sigh miss old friends elementary ans middle school twitter fix brakes external twitter avatar searches looks like missed job employ haha tacce dang house itunes hear devastating episode wow shout box kicked guess means good night slideshares embed code annoying sorry tiny embed fail flawless326 baby eat 3 prunes today finally went poor baby iam bored morning 1st appointment day dentist amyserrata wrote album ironically singles write gossip girl away addicted good night swetdreamss everyonee jared chat kyte puff horrible sore throat hurts time dressed supposegah workday self licking pudding seafood fork enjoyable slowly licking spoon ready premier realized dressed makes happy wish want afraid fly eyrro awwwww bummerrsorry missed waking sound jackhammers pleasant way start day almostcool jon8737 totally night lmao like screaming focus 900 mph song nevada long gas pumps good note won 5 slot machine love gamble amirrabennett nope babys 5th getting closer 1001 things headache effinggggg sick better ughh bed dont want university callung loud seattle tents miss peepz tho makes happy wish afraid fly errrggggg tummy hurts thought interesting f1 updates twitter slightly regretting decision elsess updates ripped switcheasy colors failed song poor mel feeling pain ugh working project taking small break day school day exciting happens parliament square watko shockingly today interesting day twitter cboyack igeldard iidiocracy kind quiet today courtneybrwn awww thanks hate sick vip guests today quot blohheeee hate early fuck youku want watch skins forgot phone car scared outside totally forgot going fisheye 2night thursday btw late hills lol totally shocked episode house eveing lost favorite characters offbytwo seeing doctor hope pass cset missed 5 effing points kevinpeterson 2g cases like scratches void warrenty dents found chapped lips boo ryleebeth ye im sadbut weirdly shes lettin 2 da party confusing parents r lol kimboinlimbo chance coming 20 mins faster javelins bored lonely classic rainy amsterdam days feels like crying sick feel horrorswench toooooo feel like verge anxiety attack day woke hour ago having hard time going bed lakewood going sleep lily rocki lt3 johnathon busy watching batman movies gaspitsnicole sigh midd hsnging friends damn growing p mrskutcher lol wish bad sync germany right subtitles dont work lol alyssaspears sorry maybe walking goofy store helphint hint lt3 contempted heroics sorry im tired morning cold shower waternot happy haha grandma 2 days 5 houses away miss clearing desk w person pic phone died signed shirt amazing words describe skipped mel lol crying inside oh let rain warm thecoolestout packing overnight bag tomorrow going hospital gaspitsnicole sigh miss hsnging friends damn growing p oh yeah miss able spell lol glavas lol read bio spelt wrong darylo ahem guten morgen ready phantasialand cologne yay booooo park holiday ladiscoteca saw im sorry nikicheong reminded krispykreme landed msia ugly website guykawasaki sad goats waahahahahah watching roadworks develop outside office thatll late 10 weeks fb work w asma3 nawal fe obeerate alwatan tv wish 2 bed having 2 allergy pill khqrightnow heard making announcements trying find mother looked worried work saturday wanna come company cough cough ok maybe sleep hour rise work thesis goodd nightt sweet dreams everyonee jared neveerr chat kyte lol tiffinyhogg heard timewarp fantastic gutted missed playing egg wishing 245 morning sleeping awesome work need scrub apt eileenb know people baf03 hi steven man week school work weebeedee run great thanks windy today bike ride option morning aniita0517 yes sad topic haha going concert far probably expensive couple mt texts arrive decided rejoin aerobics cos know wont exercise paying rm3 left bag ientje89 aw fine thanks yeah miss mfc hope talk later today kisses huglove hartym looks interesting lot 500 errors documentation website kalpenn favorite excellent job breaks heart navy seal marcus luttrells doggy filled rage argh ive eaton today zurich smelly bags anymore university classroom computer shit day boring want bed fanofbsb4ever sorry missed worst burn life sick priscillacruz funny watched strong today chances miss capoeira zoom zoom official going educational summer owh god bless avisionofbeauty phone like sorry motivation missoliviaa nooo brat west coast hahaa making sad oh going sleep wish 445pm im work thing hate dozing lects wake sheaf wet badly smudged notes sleepy head chances actually sleeping slim fucking money gone 10 battery kristenjstewart watched trailer adventureland itunes looks funny pity think australia tired school holidays 3rd time xxx omg 360 people death toll italy thisismyiq layin downi dont feel sccskwerl aww depressing theblondetheory ditch parish sick people world yo jimo cant talk aim anymore glitching ill cya later hope gave msu fan car rental discount looked sad turn away ordered pitait nevr came fax machine broke driver left belly britney fucking amazing went hoteli hate travelling cheapos powerpoole people try tricky stop twitter guess good gets try dra6on sad cos r sad gotobekiddingme triedand failed ditty003 looking school work sucksatleast home lol acdc rocked night reality today 70000 people homes gt150 dead italy heatherlibby oh like trouble christian slater trying kill moment hoping decent sleep tonight worth shittt night goodnight world xoxo want diana f looks great got spots hurts like hell doubt beauty tomorrow ekim1406 hehehe bad separated babe aint callin hetty4christ heh yeah shakily conquered ladder pointless job tho far away receive digital signal w antenna good morning hope feeling better cold got hold train rammed fellow commuters vile special derision reserved man appeared claim seat luggage rack kalpenn miss awesome shock talking boy hating work upim work larrissar leave stay grants bday danielcalderonl yeaah hate pmelt bad thing aids catch id want inflict pain deadshits world childhoodflames whats wrong bed sick sleep try w help meds s blipfm downi going normal tweeting lilylauren sad ppl shave moustaches know cry tho oh gosh oh goshsusy going kill remedy finally going sleep waking early study miss friends elementary middle school cyantificnhs balls tunes holiday chick corea tonightand missed sobs going love season hills tell spartans sucked goodnight needs study quant legal process assessment 2moro itsangie canceled plane tickets hotel stay tickets close 400 eat cheaply man soooo want o polaroidskyline sounds fair horrible going repeat guess text sent better whee bivancamp aw suuuucks sorry dear neyawn yeah interview know lfta gonna delete like thaty feel like quottom cruisequot jerry maguire got fired right yo lol worst dream abt turd face date ugh awful shresthayash ouch imagine toothpic eye uhi feel lonely wish bffwiamc best friend forever cousin twitter people following randomly stop makes sad feeling bleh spew burps hot deadline return shirt bought topshop bc 50 bank account rest month life sucks woke 6am far earlymore coffee tooooooooo cold raining tomorrow night sooo nice today guess thankful able enjoy michael crichton curse slow internet miss youtube feels headache coming gordonchiu youre letter alway koreans use quotxquot hope working holy week marnieblaze haha nope guess original days lots revision tonight final assessments assessments today 90 pass mark harsh thats stapling chipped nails cold paulteeter passed border chewie update ocd left legs fixed possible ocd right leg worse hip dysplasia hips good got hospital bfs nephew meningitis chiu nay hp chun b t chc s kin trng bao nhiu vic coldd watch vid tell moved boo day work 3 3 days driving schiphol apperantly stuck aalsmeer anymore daisy manage 75 bed garretjiroux write twitter miss ya garee x getting changed hopes means store poor cat foodoops pain nicolerichie haha yeah band mmc cd lost miss bcd friends oliyoung requires assembly assembly completely overrated tonight harder thought diet woke 2day hungry jbeauty oooh heads high killin em wit da lol think know good tucker inner haha hate cooking dinner maikeru76 connected backso dm compassion people italy mother calling relatives italy right riskyrevenge wait sick oishiieats play polite dance song fav dont course damn need find battery elinchrom ranger canada stock wait amp game fall asleep amp wake london today smile like mean wow song brings memories sleep muzocan talk australia issue woken deep sleep let mad max happy sleep sorry getting ready going leave 8am today got speeding ticket kristensaywhaa ass hm watch episodeee freakin missed scarletjac good close current challenge international font looks ugly going original font whod tweet malayalam business studies revision misses david actually freakin cool doesnt shit like happen believe got answer ask question feels awful wont tweeting tonight maybe tweets come form tweet vomit later 1 morning think need laid sad revolution earlier rofl txtchat jake lmfao frikkin awesome miss effin boy awww hoping guys come na xxxx itsdawns thank rmilana like hehe easy danish dude craftysince1990 lol sweet bought tickets year ampamp partnerincrime flaked end going sure razzberrie wha 4gb yay haha laggy computers mba upgrade defsound aawwwww know mean iv girl sense humor zaibatsu mei super lucky seat train pay 40 25 min journey coyoteontherun bet oh wait mac prolly navel piercing tore bit forcing dog bed truck fault know looks healing yay wow got sick cant think straightand mtv hasnt posted hills online wtf woke apples gig ace night seriously tired work begins hour todays episode quothousequot episode simple explanation heartbreaking frankly disappointed offended blogger writing fu penguin tpaw wooo yeah sorry hear missed origin tickets gooood mooorning world dream night fucked knee def need kick start strengthening ready bournemouth 7s need selsun bluepretty sure small spot haole rot think im coming newing twitter lindseyviloria gonna mexico sweetlyaroundme ps woke morning cant access websites havent cleaned computer completely hates hearing girl ill stevediamond know trouble heard thing recommendations mrtweet scarlettdane mary amp going dress shopping tomorrow noelclarke good morning stop ignoring cos said like cough sad nowboo hoo feeling light headed gross thanks chaffie thousand apologies fogive 4 sinned itschelseastaub goodnight chels sorry major layoutdelay lt3 collakaaubrey oh joking crushed totally gonna stand middle field wave arms waitin th break service somethin fallen car got hot water bottle feel twat holyjaw middle night committed installing windows 7 boot camp having issues redgray ah man sad cousin committed suicide yest 8 months pregnant imagine crying non stop damn megan equals murder poor sandra cantu heart goes family friends rest peace little morning v groggy morning feel soooo bad doglet understanding mouth sore poor little thing oh watch videos people dying right going sleep luke worral doesnt twitter dynoisthename haha better watch actually kill twitter lot interesting cute people suddenly stopped flirting stomach feeling satisfied nowbeen starving 2 hours disappointed nearly spoiled house teeny bit saw went away link wont terribly surprised marlonjenglish kittcat8 ya basically screwed rewrote seriously want dont know wants goo lronjaii lmaooo mornin baybeeee lie peaceful journey train straight boring hooded teef sight wish talk upset likes willieday26 hommmmeeworrkkk boooo hope fellas good night japh wish known tickets earlier rang arvo left amy end sitting sigh hard woke find coldfluillnesstype thing going fight apparently beats sleep sorry keynote whf tscc killed derek reese brian austin green actually liked character equinuxcom crashed safari tks quotfire anatoliaquot fired costumes destroyed poor situation 800am typical british morning cold wet road miserable angry drivers good times need holiday time sleep dreaming city tattoos great things waking early morning sociology bought sour gummi worms peach gummi os cheeto puffs 44 ounce soda fat ass huge dinner tubeyornot2b thought found tweetheart guess search continues pixieanna scroll hours missed lotta jon cyfyre finished years twinzzzzzzzzzzz missed 24 hills catch tomor real housewives ugh need figure priorities oh officially birthday happy 23rd birthday looks wish eriks bed needs motivation dressed work hate training today saying snow tomorrow wtf tennessee snow winter people stop following tried fix hubbys computer come disks windows key wont work buy like afford v3events way game right twitter lost updates yesterday twitter fail paronychia hurts remember days siiiiike miss old body someday soon shall miiiiine work bad start day falling stairs enjoying work lt3 cigsrip paperwork today n kinda getting sick fun 5km tready want die built running un1xnut work eveningnight job needs help anxiety crap chaseboogie lol dont ask nice given ride shit started bar b cueing freeway lmao ready azraeel got home 10 end 9am start aswell throat raw sleep t asked friend piglet winnie pooh seriously guys burnt tongue miso soup today worst dream abt turd face ex ugh awful longing sewing machine birthday far away havent slept wink severe insomnia arghhhh terryfree lol byeee time skunkie sorry guess sarcasm hard 130 characters microwaved kashi chicken spinach thing milk dvd seen bet good havent seen slumdog got watch lil bros mom work oh god teachers gave rotten gogoma eat hungry trying eat bad parts hahahaha got headache getting ready work flip lifestyle goodbye sleeping hello work 6am evilunicorn lt3 honeyortar hinge broke works open smoothly pissing dunno fixed damn hate stage breakup process miss boy fallen love damn poop rachaelyamagata amazing rach thank music waited outside showed album nightwyrm ate cookies think hallucinating wanna work wanna bed th paper woke nap rampantheart add twitter field comment found madden 08 09 oh old new missing favourite friend brandzhd takin break clubs dont tell want talk advisors advise judge arse 2 packs moroccan mint teaand truckloads kenyan tea idolette marissatastic sad house episode tonight bigger amp better things damn taub lol choclatdrop404 paying attn shalinique saying 2 change twitter game like way r genmarie hope fix california oishiieats hbo 30 minutes got excited remembered sleep tonight soon sad tired leave bed adreamforsteph ok house sad oohhungry creeps kitchen legsandor armsattacks fridge ah cold chicken exciting junebugg15 super glue shoe lol owwwwww doozy headache 2 tablets later taken slight edge days holidays friends public schools hang thursday disneyland omg finds mom rly annoying need detox h2o day skin shitting bed way late likely sac shit work tomorrow ylizabeth died kcarruthers 540 years old pixie years body clock chuffernote stay late afro stupid thing wont let old twitter page new soooo tired work txtchat jake lmfao frikkin awesome miss effin boy awww hoping come na xxxx kristinfinley phone breaking disease spread phone doesnt ring flashes agh moth till wont frank morgan race chrisdjmoyles excited live wales blahhh throat sore amp coughing hate sick sitting unable sleep motivated sleep feeling icky oh dear pups died 1 1 night princess rejected going 30 month ugh 3 morning sleep scarletjac thanks know video harrowing especially 2 minutes admit cried wrote 2 pg paper 30 min studied 2 bed gotta wake 3 hours oh joy nite beginning enjoy lazy town oh dear brain needs optimise neural search pathways find muscles cried heard girl tracy found today soooo sad god bless sandra cantu gmg2001 lol omg tempt started p90 2 hours ago need good day shoulda asked yesterday moment run fatboy run time twitt theese days insane wyldceltic1 oh man sad twitter woke spazmoraz lady work boohoo got eyenow itchy aw mrskutcher thinking today deprssing makes appreciate life keelybin ermmm hearing dreaded alarm clock cannibaleyes bowling shit ripped eisie mate rubbish 10pt hug tom covered spots obviously happy doc says bad tell tom warlach curse ye fun miss online pr paramount pics ugh read cnn found cantu girls body pond near home terrible family sleep 205amugh sleepy sad know andy hallet died thought markress understand busy tweet work samsungimaging better auto feature ironed blast advertisements industrial strength spam texasvegetarian oh god ow hurt like bitch showered dressed late shift lollypop gillianme yeah time sleep dreaming city tattoos great things waking early morning sociology dougiemcfly hey saw guys play pushoverdid 2 meet tho cuz th huge line upset lola msg 4 good morning wish weather good germany today wish dunkin donuts holland today moms japan wait sooooooo busy right lot custom orders catch blogged 31st hrs day right got stinking headache need run happy bunny sorry vid hits hard beware 2 minutes especially wondering gamebattles traffic a2 wait till 10 lanes ready 2010 slept 11 hours awake 530am yesterday late exam gotta wake 5 tomoro onwards finished new moon work tomorrow totally finish tonight geez ok wonder twitpix option new phone got win leave photos cuz guess usually zzzz today macbook froze luckily able screen shot paper retyped end submitted paper 1 min late rougeforever faffing actually reading work feel productive thecampingforum forcasters believed lucky lasts till afternoon babybazooka toobut hard cherylthelibrn thanks rebuildersrebuilding tip trying help mom divorce breakup left head phone died morning 1 head phone company journey meganh93 drizzling day going rain pour cant sleep ugghhh got work ravenous eaten gipton steak amp branston sarnies buy lunch doh new iphone yay restoring backup stupid apple catering gigs cool getting ready normal week working easter cant sleep hamporter walk annex hoping instead nguyen family know exactly feel man im yellinq ma mummyy lol angry mee want chicago liked hearing bad politicians oprah hate oprah 4 days left uk candicenicolepr heard homework shannamoakler afraid fly straight refuse plane sucks limits tony changed change feeling bit better today walk idea happened yesterday way school ugh leave exciting day work christieeee aww sorry dearyy fuck la circulation ce mat1 belive home sleepy 4 hrs today round rock tx disneyland ahaha sad pineapple stand closed 3 dollars ok 2 hours self imposed shopping ban aching shoe fixthis going harder thought whip cream melting woken mom cant sleep lonely bed husband 46 followers acknowledge stupid mampms stomach hurt best monday missed gossip girl oh spent time bff today wonderful night xoxo pilvlp luck probably stopped cop stupid sitting home im bored hearing weird noises downstairs kinda creepy let know ok kailuh dis guy talking brothers cock thats feel like talking ewww figure rest birthday today feel old ameliatorode fun shopping bear mind horrible forex truth ok tweet peep head bed nowgot test law tomorrow summer love huggers working lab report 2359hr tonight awake twitters dozing jillglavan soooo disappointed ti party leave vegas jacked talked runawaystarling unfort msn douche half butting poop oinkeraida agree crazy pollen trees washington state making sinuses crazy stupid 3 year project feels like youve conquered realised 1 year jdpeterson hope feel better cali need lazy laurenlenewx awww sorry woo pages seven gowhy heck procrastinate goal 1 grad school wait morning tired today stayed bed town forgot charge phone think day awake untimely hour dont want school tomorrow exam having half weeks kalpenn thing sucks excited knew final team sleep windy scary darylsws kids holidays summer camp summer school boarding lol 2am sniffling sneezing sleep morning going come way early guys bill gatess associates makes feel like know know oh azppa sent email state conventionmay 1718 amp papyrus sad bc wanted attend pelf81 work demanding watching greek cant believe day ill guys june 20 ahh cabbins ew terrified news italy lilimarlene ohh sux brainiacmathew know im spring break extremely hungry going loooooooooooooooooooooooooooooooonnnnnnngggggggg night work jennchambless awake drunk darkbutterfly thought looked paler probably drama filming jun looks healthier sad hear discovery little girl tracy poor family supposed think working places cycle2work scheme 15 disc halfauds good office irritating work worst client cant choose project employee wye river cold internet expensive jammed finger hurts badly damn pc completely given sucks let everquest 2 subscription lapse play anymore time flu shot work arm hurts heidimontag love hills missed tonight jesmayhemwa trying sell prelude katsun point trying remain optimistic wont delayed live365 getting harder day twitter kalpenn omg mad favorite character miss wishes david cook coming phoenix trying figure way san diego june 18th obsessed ill fresh start promise xtra sad puppy face beautiful morning sun shining birds singing playing mousetrap kids damn work aholmesnj able downthemall ta able delete account lose photos lost comments thisisguan tuesday raining day huge headache gotta work actinglikeamama oh recipe gyros developed addiction germany able find like aus feel feckin arseholeda sign old age thinks sukottoxd saw ice rain today snow frozen water nonetheless charp nerdy amp thinking help metropolitan area network tired cant sleep jbeauty lol goodnight laying bed facing wall trying relax hearing things plus air conditioning sound louad needs baby home bit soon bed finally long day tomorrow cant sleep ugh going trend ill need find wakeful night hours read learn language airlie sick mason sick going miss school disco trip canceled latest blog post info saw 1 little 1 huge stingray footdeep water catseye beach low tide turtles update picture cos look old fat oh old fat playing badminton working weight saw snow flakes lol honeybaby sound like nyquil commercial word looks right green background want sleep feeling soree bad idea running sick tt need sleep body wont let draw instead lt3 30secondstomars thanks prayers days difficults vanidosa27 whats wrong need inhaler know sick hope start feeling better eri74 goodmorning hahaha let guess cb hahaha know feeling trip gym help computerinternet hating tonight swear find usb cord sidekick taking angus checkup today quietly dread time poorly know lung function tests crap grahamcracker working melbourne victoria police department melbourne city cabs homework realized twitter getting attention mama ishahaha lame m0nkfish eww hershys kisses ok amazing whoa im super hungry life cereal wgranola amp raspberries calling wants easterfest let gossip girlit mondays good reruns trying fit stuff tiny bag hand luggage dont think gonna work sunky grown horrid seaf2009 strongly considering improvising missed year sick innocentdrinks coke 20 minority stake april fool depressing favourite brand sad said goodbye hubby globe trotting away chauv things bkgirlfriday dude snowed todaycant imagine weather hawaii right updating myspace profile need followers coz bit sad read updates blogspot bulletin myspace etc figure care thelmarockz thelma shiz blank comments work zeist minute want stay work thought buy silent hill psp ps store find taxes best mood fan sleeping baby boo thought hate sombody hate tobe d gave love pay bad tommcfly hey saw guys play pushoverdid 2 meet tho cuz th huge line upset lola msg 4 going sleep johnny died oc fucked sleep ive decided homework instead oscartg morning sun unfortunately need holiday day year stephenkruiser sorry hear dog trashkitten solution found got spanish revision today cold playing outside yesterday stiko chocolate need sims 3 gaah listening awesome song dnt wanna upload limewire lindajames im morning person prefer night smaffulli correction tell cert use different matter win ktml think itunes fault cant download mac quotstore busyquot got awesome camerakit update katerih tj dinner tonight freezer melted martiy ouchies good day goodnight supertim geoffmartinez youre going mexico easter early twitter buzz star trek secret premiere austin holy crap wish think getting sick happy birthday jaime loveyoult3 officially screwed right midterm quiz 2 projects 300 page book shoot revising essay talking hubby aim lizdinkel lol figured muchbut know talk anymore maybe easily offended traffic bad normal super early meeting yo hella weird twitter got deleted hyphy east coast e40 perfectly ripe fresh banana goes bag arrive office looks like hit freight train poor banana home mc bored missing sigh im bored tadi exam amp okay thursday lagi exam gaaaaaaaaaaaaaahhh rufus rufus rufus bloody brillaint shame mum miserable crab liten work maddeh sync stummics hurt right studying commerce suppose remember fever cuz like troybolton hottiemcsuperbob omfgz nail buds cries arghh hands itchy alergy beef eat chicken cant sleep missing person love past 7yrs life time ass gear start day sleep early tomorrow today fairly certain flu going misery freakin bed ugh math lab wanna leave co 415 coming soon brightillusions fill position tightened borders sucks want magic happens month lol sophia terrific job usual gonna dinner jmielcarz send warmness way cold power levitate negative trying hard sick stuff took rid cough casino big fat loser day week long want stay bed theajp glad enjoyed mate gigs lined near future horizon mo isnt feelin 100 2day going watch julian play bball want phoebe duncanmacrae hmmm good luck got denied letter bazaar bizarre sad looking forward road trip vendor annoyed bones preferred gratuitous grossness poor angela onlinemigration im going hehe layin bed 3am cos tummy beatboxn bd hd 2 wake eat unburnable calories nt gd quotabsquot hungry bed work rain gabysslave thanks essay write fuck len weins house caught fire earlier today family safe lost dog thinks factorial designs going death test quotaquot comes confusing quotmathyquot stuff ugh schnicklefritz omg problem lent gave friendlypharm bad true thecamacho danm wanted hear studying sucks yay hannah montanas disney channel fun photos try upload big world right sun shining people busybut labrys67 chat broked ruthclayton oh aint gonna bitch muwahaha caught looking iphone promised wouldnt torcher 6 months left current contract goodnight feeling better going doctor tomorrow cardinaire ya blimmin heck slightly tired otalia im going 2 bed nowww surprising rly school 2morow thats right spring break days r wants camera unc dominated second hills hallelujah econ paper gaussian copula def deal physically tired sleep tks pa 4 quottapauingquot croissant tuna knowing dat ive backtoback meetings morning amp zuraidah tks 4 buying fav starbuck mocha frap russyrhubarb new twitter telling boo way think oberon dead seen ages jeffsmithcars want send traffic page youre arielehenriques feel like preaching lol damn guilty looking getting completely different config finding shared hosting hard having control tv wcharley cute sweettrying blues cheer tweeters djteck mean enjoy job nicest outside indoors morning feeling poorly hope good day x contemplated going postmidnight walk piles work oh em gee love want want want lusting things afford broken mir single morning feel sick 7 hours sleep cant sleeping im thirsty indiblogger neei dotn comments suggestions peace quiet amp stress freeness bout come end found sanaand realized like white girl eat problems work sooo bored misselizabeth food allergies suck allergic shellfish 4 months ago blue love shrimp dtrix mom root canal alsoi feel pain buddy 830am far noise office worked home today louislucci usually sleep 4 hours night going bed 5am tommcfly good morning tom send message short question bad guess guess dad pregnant lol nah doctor epidural chronic pain josordoni yeah good news y combinator interview week dunno bout oyster suck guess siralmo wont let play doh keeps saying user valid enibeni knew ed si que se duerme temprano s valonthecoast lol awwwwi sorry youre stuck boredyes hun thought trying entertainedcannot easy jamzeee knowwwwww sukkkk care gurls kalpenn arrrggghhh seen nights episode pity lose early morning meetings infidelsarecool ugh depressing want punch understand setup subversion website imperiusrex brahbrah ugh bed hour joshsharp money dont know maybe lie hes having like little bit lol sat work fair fair whoh day shut hydraulics assignment time oh wtf house cool brain hurty squishy mess vomitto ahh ai dreptate pixar woke early watching tv trying sleep working lisalent freeview sports channel way gonna sleep tonight travoradio morning blipfm dtizzler took entire walk train station undo amyg0716 thats sad wolud hate choco milk earlier d lol allergic reaction contacts stuck specs clears means end breast feeding tho wow x60s dead finished cooking spag bol scratch words cooking past 4 hours hungry anymore trying write dssertation ilovedt thought bummer response support blatantly untrue fake accounts shut time contradicts terms oh noooooo kath annual leave du du duuuuuuuu kalpenn thank great character house sad babyporridge twitter crap reply dad admitted hospital yesterday want fly cape town visit r1900 monday return ticket kulula tweeted ages twitterberry work anymore help like late start night shifts coupled bloody light outside window meant going sleep longing yesterday want guy like carmello jimmy laertesgirl sorry hear specific x ha ha ha damn good time chillin wit favorite hizzo danced face lodge backbooth work today evilunicorn im aim rn accidentally sugar food instead salt eating sweet fried rice clumsiness astounds hot guys gym train morning dullards sales pitch today potential surface customer sales development days downloading torrent nights sytycda love bj tragically predictably eliminated waiting update car shop bored homework pingping worst laundry longer wait unpleasant zappoman oh tweet weapons covered pandoras box uninvent leaving mad fucki sleep reznik360 bonbonfire fun confab matter comes wish worked 9 gonna miss week sooo proud bro huhu talentfull wish best like missing best friends miss fun times love guys miss homework sneezing feeling better 28 days passed night mum puttin cream mytattoo princedavey aww invite lol jk coolness day bobbyly nah gentlemen got class 8am wednesdays thanks anywaylt3 phillyd awe sucks cant sleep bed hope dad gets better prayers note choclate bar schiphol passengers didnt hear hunn today getvisible journalists ambulance chasing lawyers reckoning good morning world sleep tonight copenhagen want leave head flo rider sampled blue song messed song devakishor oh oh sad extravagant time conserving plan lined todaywhich ive forgotten iwouldificould watched tried youtube link wont work missing boyfriend im phone tweet wont rudd money doubt kbsesbxr4ampgook rebeccamayne sound boring hell becs sad earthquake italy wilshipley sad dutch localization dl2 bad incomplete truncations codylfriend youre sweet disobedientgirl wonderful ll slogging 9 9 eh mrbigglesrox hey emily lie meanie pauliwhirl omg whine whine whine whine housing lotery stfu explain qidong fucked stayed late design like wanted allergies playin like mad today planting friend today funeral gt20 years music today blipfm undergoing maintenance anyshalyke oh went clubbing lol time realized im talking jacvanek sad thought isnt lt3 cc want school tomorrow day twylas day bavstertwit sip crap vodka nope c25k got ominous knee pain good doctors today emily rash looks like measles shantelleb aiiane whats wrong attention whore coach gonna fun misses rach deiondrasanders late wish morning person ahhhhhhh everyones laundry boxee pandora useless oz boo hoo hurt leg timvansas need finish rest seanporter thank uuu know heard youre dallas downy weather wheres summer karsentheslater getting pissy lately know mormon jokes sorry hear mormon jokes feel bad realize sounded tad dramaqueen sick years hittin hard time okay sorry mean nice craaaaap macbook pro kernel panicking lot think going forced upgrade sooner summer pose ta b goin ta az dis week hope lol sad sat watch tv remembered dont cable anymore lol 1an3 thank today lovely day beach followed dinner gorgeous lady roll work today booo tyjanetrev agreee clearly want attention sorry catch train mateee got smoke eyes burn loves drupal file framework module sick bitcache errors making impossible upload files feel lonely today hebb wish bed haha house creepy night creaks stuffscary loli gonna bed upload pic ahi hate flunow day guess happened accidently shaved eye brows need glasses zackdft like reading bullshit im confused sucks study math 4 econ isnt mood misscassandra quotlions amp tigers amp bearsquot shyt god good consequently people replies damn stiff neck day 2 djginaturner le gusta house house 5 min intro missing fab marcellariley repeat tonight gossip girl losing hubby week tomorrow work easter hoptonhousebnb thinking getting old fm tuner garage having problems pc stops playing audio want money kevo hurry anybody willing help trying sad tune piano new song ends happy bright bursaar good gone bed baking oatmeal chocolate chip cookies tired sleep editing 3000 wedding shots begins facebook fucked kellyshibari thought saw walking door saw derek319 shwe370 sweet fun stretched browser watching twit ads appeared google adsense team said delay 48 hrs tired need regular 95 dog room snoring going sleep hoping wake tommorow wednesday instead tuesday want work wtfanabel nite cant sleep im insomniac week alissarules basically feel like need better care seeing fool juicin spitting stitches bone graft hooray reliable signalflare server fun nights work start working day sleepin skankityspence halo tonight leave schofe bridge hope watchin missing heath ledger indigoredhot sorry day waste hope found good bits yay homeward bound awillert im jealousi want salsa cookies amazing blip quotunder maintenancequot amp goin withdrawel madninjacurl hey neighbor msjodiodie sad situation 1in3 beaten 15 seconds amp 3 killed day sadly commonplace editing 3000 wedding shots begins journalist throws shoe chidambaram starting resent struck creativity midnight having work morning whats best way eat reheated pizza trying eat hot makes mouth pain sick day sucked im late cant sleep best intentions late work lindajames thank spent ages thursday tidying came looked like right tip heroes losing momentum come writers pick boring workalthough wish bed sprained glad im holidays stupid bus early missed stupid thing missed bus finally got bus missed second gutz mrnokill mrnokill problem appealing wide audience think aiyerchitra yikes clues engaged muppet orlando realised oh god cant marry justin timberlake gosh itt 939 soooo tired quotyawnquot want sleep cant train sans guardian dc saturday afternoon 17 hours air south fljetlag sucks sleep thurs work sick helluva lot todo blows screwed confused dumb child felt bad life wish specialty bad went doctors today blood sugar level 178 goshit makes sad people god chance kaylee110 yawns pretty good thanks awww sorry hear feel better soon lt3 shelikescute sad 840am awake nearly 2 hours sleep like sonny gone drunk kirstiekalamity finally updatedoohh sooo miss internet sorry woop2x open apr10 goin miss sebbypeek dadiiyal youll familiar twitter pretty soon coming summer means dont loves drunk hole favourite bought sale christmas exchange try fixing later feeling poorly sorry swallow ow stupid glands streetwearbear yes thanks reaveling world bro fuck life hahaha cherrytreerec stupid youtube location restrictions whos speedo wants mmmf play supporting role mind guys huge cocks banned sims forums rest week aww feels weird sticking chanel willadam treated latte appointment horrible need wisdom teeth surgically removed celestechong oh ceramic ex abit visible inside ones ex double price double duration dear crimestoppers thankyou regular service burglar alarm grateful new 200db eardeafening entry tones fightin callin run 2 sister nite sick today lot work trying find tech job find entry level jobs job site spam jobs 4 insomnia bitch threw bathroom fun work hungry sad throw breakfast bin oh darnit mandy creed isnt jordar mikerra dont understand didnt mean break anyones heart obama visiting istanbul today main roads closed cause effect lovely day blazing sunshine bad work omg girl woke reason doesnt matter amp cant fall sleep gotta b 5 maybe stay sigh viennateng tweet germany heard concert marburg radio 1 hour started late night reruns getting homeits snowing roxyyeah yep loser finito bathroom contractors house quotes incoming need bite bullet caitlinaudrey awww sucks going sydney sorry sf rescheduling sf trip coming weekend mid bad circumstances 2morw blasted wisdom teeth pulled need sleepcnt stop worryng hate needles morning twitterati large coffee bath todays list appt 10am loads desk work hitting gym looking forward rewiring studio doesnt want work lol sherrigarrity sorry missed responding yesterday rochester mn far dark chocolate rocks wanna come bohol cold buee ate piece angel food cake laffy taffy driving la quinta tomorrow sleep oddly wired aaaaaaaaaah cold outside sunny running low batteries shell gas station lunch break tired ready sleep having trouble sleeping burnt fingers hot cup tea ouch hhh times like want things stay right comes wrecks mileycyrus problem 443 let counting works123456 57 58 132 133 134 zs way school today im way sick wikipedia gone forever goverment fualt lets hope donations bring dissapointment haveing absolutly notice gone sad boring boring reminds wash hair gross know feeling like dancing rain like pixiebut rain stopped ohh welllol watch flight conchords instead got funeral government employeefriend deepbluesealove beaus online tonight bummer uand music started getting mailshots aimed pensioners downhill wishing sneak watch star trek premiere owww hit elbow hard door cant wait 2 c carter bak skewl hate gettin sick suksblech bestflights need 2 ass gear wana away 246 bt nt sure cairo amp uk maybe bt b able 2 earlier bt wont til 85 wow epicfail search epicfail entries apparently widely depressed want cold april noes goatwool socks worn tired sleep dropped car exhaust replaced 250 spending school work boring working business law paper right wait till hopefully tomorrow grrrr assignments olabini site gone got pause twilight nearly work hollaglam fav english teacher miscarriage amp knw wht makes sad going baby tamara anxiously awaiting june 28th come soon graduation ceremony looking forward 10th end break common chidambaram george bush morning stuck registration assembley nayyy cezzadwen think pretty standard find canberra home flu ahhh suxz tired sleep hour goodnites serial city stupid sianllewellyn ive txt morning lfta got sorry understand tweet common chidambaram george bush feel like change picture think bff audrey hepburn nooooo good im allowed cry ughhh staying late makes think stuff forehead starting feel like cut slice oh right cut slice forehead today annemarike oh owies happen thinking pay dayanother 3 weeks lol allstarninja choices limited blocked hulu waiting flight slumming departure lounge area nightclub making 8 bewilldered uni students arrived home poor folk like struggle uninstalled rails 232 tried fresh 222 app dice obviously bizarre setup jcturner yeah good going 221 resolve tasouls stupid watching lol shortage waiting missing baby boy omg house adriii omgosh like biscuits yum xd lived youve eaten missy p amp miss x tooo early im running late feel hot leaving koh tao start journey bangkok cuckolds set watch 2 huge membered guys feel like hat stand fionamccarthy sure got loads today ps broke fucking phone people home town irl connect xjerx ritz lol ok gig got planned work xx katyrullman need old world misses hanging awkward aplusk amazes men like actually exist hope find someday love value going school dt juzley yaaaay maybe gone mileycyrus guess counting sheep work hope sleep need clean sensor slr spot removal pictures woken hammering gtlt stopped sleep hangover stuck traffic elliee haha yeah thought complicated ive got home school weve got holidays x think tonsillitis mileycyrus meant spending day heaven wmy mom getting foxwhisperer clean resulted soft beaing soaked wet couldnt open dry mhbigcatch 8oz golem finally got wight 3oz nickcarter time warcraft yes simple game group fans let know figure want prize yopatrizzle sure tell truth long seen ask sumos daddy paulskratch custody lol wish eddie izzard tour damn stupid expensive tickets cake death sleep stressing jpc lt3 think im insomniac cant sleep birthday 5 days oh yay coughcoughcough right kalpenn confusing hour life long slow day ahead sigh islandnene83 didnt consult plans maybe changedand thanks dang lazy begun short stories weeks finished focus lostmeself uh february haha imy mizzchievouz sorry air holy shindigs thats hot thinking going reinstall wow simply refuses update 310 irritating times forever okie dokie tweoples long day city 10 boooooooooooo good night lovelies lt3 hoping fall asleep watching knowing definitely national treasure think email domain blocked akismet blipfm undergoing maintenance yayfuckbuddies haha wont anytime plan sick plans window rodrigo grey morning feeling ill sorry o mind trying write maybe sleep classit working cufa getting lots dentist time moment stressfull sore nice easy rest day coke zero mobile site broken iphone quotbruce springsteen embarks world tourquot apparently oz unworldly planet today got2do shopping 4easter lt3 malachi xx owww sore 2day grumpy abu dhabi boring photograph kelmarshall tell mortgage quotes sat going skint 30 years hoping posty delivers pink tickets rustyrockets sense blog coming bad leave like 10 mins xxx house big mess crammed bedroom rooms liking work morning argh opened crisps upside hate feeling ill blazing row boy tantrums round missed train standing platform feeling guilty hot water enibeni lol im sorry love ya stupid dating coach makes feel selfconscious hair joenoia wass lovely anit love worst dream usual nightmare worst probably gonna come true pfff want bed feel horrible today want easter break psklov sleep dunno biking hard yall dougiemcfly morning upset rabbit ran away night postman woke early reply ilu x drs early man internet slow atm looking gray sky sun stolen painful shoulder morning 452 2 tired 2 think peace m 5564583833755523 811 loud miss ahole answers iphone questions help upgrade 30 heart abused hurtful lies truths hate sappy kind things hate fucking bored work landed funny foot morning jumping stairs twisted sore taxi way pizza bad traffic headache worst xombiexs course remaking haley bit hope migraine sleep boo reason strong urge draw illustrations novel covers prodigy ace night managed hours sleep night feeling today cool day guys realised time actually final having horrible headache day nose bleedingawful feeling found use windows 7 browse twittercom firewall software automatically turns pc hangs work bump long weekend definitely curses yoghurt exploded bag way work smells like toffee heart abused hurtful lies truths hate sappy kind things hate gold syf k ias awake school today im lonely company 22 female california genting gohtong jaya com vishalud yeah got choice 5am study 5 reach class time paper hows eco treating sloth13 isliye nahi kiya baad methinking ki ab tu movie dekh raha hoga gloomy weatheragain sigh gonna find files argh sad march break mileycyrus awww seriously cutest dog miley sorry hope sleep xoxo qr veolia fail translink buses trains align early train late bus hour later crackcouture wow sounds fun nah going melbourne couple days unfortunately tonsilitis birthday jeffkang greeeeat ate hard work away ellendeg ellen messages notice sad try hard communicate wif u observe amp report premiering chinese theater driving slowly saw reporters amp red carpet stars tried smsjunctioncom got odbc driver errors ch0en huh like didnt know plans today scared know moving fear teh boke fml heard eminems new single official fell heard eminems new single official fell bit weather coupla days workouts low energy nice day chibi stuck home waiting parcel officialrandl wheres update missed ellisonrox awwww tomorrow 4 watch guys persecute far away holidays bloody insist waking school times finger hurts sleep vicoden amp alcohol combo fell tired want sleep im work need bathroom missing roo totally ready stupid sicknessarghhh icedcoffee end read error persists cant add library cant update delicatelyreal feel pain need post video stuck nixpineda miss youuu penalty scored tynecastle got beat duncn revision oh morning itscammy likes leatherhead okay bbs lt3 know info night clubs la cost wanna rent year invite yall got combined ear toothache wants rip face stamps foot laratron alas pimms think like saw ride thorpe park tv ad makes feel sick goodness knows ride joined twitter doesnt know pfff rearanging database wishing loved heidimontag hills episodes sad ps love watching dj emir battle computer supreme ruler studio think computer winning quotflight conchordsquot suddenly disappeared spotify kids crack dawn cold bleh starting work stuckrecord naar haddow racket mee wahey breonna saturday reason explain know st peter wont marleyuk think spoke soon big black rain cloud charging town didnt end seeing bummasome ppl pain flu isnt way update twitter cellphones vindiekins aww youre leaving hoping input avatars rp thread mtp torn personality krist0ph3r thats damn sad hope things fine gud lunch sinktoswim hopefully enabled activesync google apps account sync contacts calendars net mail loveeee lt3 hurts hate away cant sleep anymore depressed new apps alpha 0010 complex apps version 95 long small dev teams days currently watching quotroommatesquot miss nyc needs hug office 3 days long weekend mstyrac lol yea thought tht sowey thnx rod ones sitting aroundquot orange fav color kno 2 use feeling blueand everybody says jokes bad waiting waiting waiting phone mean actually sleep nightbut hate therealswizzz guess graphic art cut huh hold hawk getting job better idea want jvmediadesign pic bucket kitty probably post tomorrow means having find cables connections snow guy seeing car worklmaohe gonna kill bonniebix controlling life possible uni graduation start masters boohoo having major head ache sucks men arrrrrrrg mileycyrus napping point need gma gonna come early yes got ripped shop wow slept badly feel like hell maybe bad yesterday ill time work work little sick 1 need sleep especially school 12 hours beeeaaach bad day need comfort drink sipping mocha frap starbucks tricia tired day busy head hurts thinking annnd tomorrow woe realised works bunch racists gerrycoe hi gerry dublin time college tweet4today quothave limbo party supple barquot yayfuckbuddies horny im hungryyyy need sushi wish bought cameraless e62 day 6680 went dead miss photographing little things dslr bulky arhh think ill end going point skoop cause rsi rsi guides tell use hands shortcuts ah wish luck posted marcfennell photo alenakristina oooooh love sorry help find probably wont able find know sucked heather sewage bath xp poor owen bear total drama island borning thats cold virus bunged eyes squintybah day need school longer google britsystem stopped eating sleeping day im worried precious little bean finished making chocolates feet hurt gawd laptop fucked system error lil brothers laptop freshly squeezed lied showed video end ok stayed watch heroes admin stuff wp stuff learned new wp stuff finally happy layout loved mari trinis songs child devastated spiegeltent wont coming edinburgh festival year sorry ruined forgive think use twitter offend people unintentionally mitea missing 3 days leave easter work week long list diy jobs home heading bed work 6 hours gnite twitter worldlong day tomorrow night class till 10pm going priceline city tomorrow lost haves list miss kitty cats dentist midwife blood testswhoop de frikking missing vemsteroo unwell having phoned office going bed morning sigh lizp02x oh man sucks hoping school happy tomorrow wont good ahhh cant bothered gwtting dressed x tired flowchart kens stompthewalrus haha lived texas past 12 years think explains lol si habla espaool completely addicted iphone like bad habit wanting sunshine lay pool trying finish mix fucken man lol tiring night work hope job got bout hills dang nabbit lol sickness making impossible 2 sleep hot cyantist youre lucky wish twxtd4jordan wish door open people need saamx thanks toolt3 abacab1975 sore comes tomorrow shutting twitter friendfeed beta appear like twitter account hmm work easy wasted hours silly mistake system slow mileycyrus find quote dont answer better sleep xoxo germany morning know mondays bad spills tuesday sleep wondering following keeps going guess gotta try interesting haha boycotting work facebooks fashion war faces mammoth task rest day things little time jeles argh sy pn mau jln sm kau jg sadddddddddddddish annoying place 4pm half hawkers closed want otah mm twitter appears eaten posts naughty twitter university hawaiis hamilton library hw drinking orange soda masha sad people called red carpet blinded lights moony394 omg believe want cry freaking fb spoiled happen watching davidtennant interesting setfilming updates wish cardiff struggling fact dance 5 days away vacation ummm wait 6am video ow ow ow tummy ache candy learn having trouble accessing replies click link right happens access feel yucky sick morning catdevnull nah rang progress offered rejected reckon 117118 feeling terribly sick right ugh wake ff goes sleep guess revision wanna twilight love dvd oh guess surive rip baby girl sandra cantumy prayers r cantu family strong like know sleep kremsersenf away tubingen germs yes away friends completing reports meetings morning interviewing people afternoon busy bee today blurrgghh problem picture txbrad need coffee lol saw tweet mcintec net lol comes mibbit mibbit slow twitter sucks super adventurous 2 days luke gone home let morn loss hero im continue playing sims 2 want puppy quotblipfm undergoing maintenancequot sorry music tweets shaking jonnyisgeek cant watch sucks amsterdamant unfortunately dream shoes travoradio morning blipfm ohonefourthree word word stomach fucked sucks hey djtracyyoung playing gaydays year year know tracys night best night money isnt suppose depress x0mrsjoejonas im okay im missing best friend breezyskies pet course time sf ok theory knew good tools barryearnshaw pezholio achilles heel spending x dvds 20 hmv appletv died dreading diagnosis looking forward class work tomorrow day negotiating wth insurers spilling beer laptop night probably avail talking woke bkk protest maybe ho chi minn city hella breaking probably sick ffs poorly sick corienb kutners gone new episodes urgently available dvd goodnight followers darn forgot tonights shoot postponed loose end nowquot amazon mp3 downloads 29p 10 cheers jodiedoubleday ladyldn hope feel better soon ill fun finally home shitty day work floorset maybe insomniac nocturnal eliteforce told friends constantly circle globe flight uk downunder worst queue ticket phantasialand looks busy school holidays ftl silver winjas fear closed cherrytreerec oh man vid ot available country tryin nap sleep bivancamp update itunes new version b4 lost new software update killed ipod wondering sunshine went got nappy wet split going nice baby bath nappies honeymunchkin anger getting bigger minute goes got uglycomments videos today day government kills talk aaliyah love miss wife says thank mags sent newkidsfan awwwww gunna cry miss blessed w love memories dottedwithearts lol gotta work finished needs work tonight ughthree hours coming wish easier got hint booooo good morning believe week london marketingworld london sure im boring dont understand use cathrynscott thank contribute discussion angels airwaves vs blink 182 want remembered forgotten best friends birthday awww ellie sounds sick poor thing baby miss writing article video converters test long time pietrofelix good luck enduring tiring journey start epic drive glasgow alton towers looks like rainy days work tired reports fun maya spayed todayi nervous thats im folding getting tweetie iphone twitteriffic taking toooo long update need grouping amp replies tired storycorey mac going long week funeral work tomorrow 143 jac gonna great day 4 6 members team woke feel like rubbish rest chill indoors play xbox cold drink rach2718 oh sucks mike work saturday monday andrews got friday till wednesday bugger lol accutely aware bob know wake paris grey need sun peachfuzzuk ah ok quotto stop da terroristsquot claims acceptable trying fine friends twitterno luck far xbox finally given fight working senior paper ohhh hate civicsss havent update bin stuck gf week non im bk class learnin argh driving london today wrong turn kingsx stuck extra 30 minutes logjam traffic beats cold damp feeling pulling wet pair knicks yay work todayyy working rest week lol dancing emo want write song illi like season hills oneself ends havent update bin stuck gf week im bk class learnin ellelovexx haaaaa want mac amp cheese toooooo hahahaha heyi got left herei guess im making today oo lol ugh 40 dollar fill ups pump helenvking feel commuting packed trains hideous triner bad wait month sell miss glass house thankfully pretty moment uploaded youtube future loves iphone hates fact tjat needs charge plug train doesnt work theresev solen var inge varm waiting cisco ip phone load listen jonas brothers love band come germany cant bradhfh hello stoped talking lol irritated find patch released properly tmrw whats point letting jess22t diff camps gahh rural woga woga bathurst best 4 advertising tried install twitterapplication phone work tough boo nybabe oh balls forgot article mail yesterday got link electronic copy architectural modeling change going smooth far intuos 4 m looking tempting promised leave right hope wouldnt break promise flu shot ouch scheduled productive hrs sleep insomia gotten stephen left miss sooo gonna lay count breaths fall asleepwooo lolit cuddle day todayi need cuddle 324pm dont wanna chemistry course dont wanna meet jordi thats main reason leah going zinziii dammit ya heading home messy drunk point tonights gyratory system vibe bar electronic drummer illness wow nw001002 operated a330 ac power cool ticket price hyper crazy expensive cold 76 minutes going bed eric hates wont run day ivf injections let fun begin stephendon24 cant commit time play time isnt elses michellepen immensely started playing new sites want mess easter paranoid moi let hope sore throat clears break precursor illness holidays bit scratchy throat hope goes away thursday weekend fun ugh hate haviinq dis sleepiinq problemsz wanted tweet victoria silly canadian service wouldnt work home sad vacation security sydney airport spirits bar startrek adamcurry possible add stream option uses regular 808080 port stream noagenda fwproxy gfalcone601 nawww fly london australia boring addersop habbit misspelling bought got picking parentsgoodbye house understand twitter yawn morning real rough night trib agreed sun shining gotta work moony394 think denial watch turns earthquake warnings italy ignored cube creepin dude cancel trip sydney lol going work snowing im bored fingers hurt playing guitar day sevenmac set video channel podcast miro checked youre listed meeting hour explain quotwhich version oaw usequot atm heap unbundled emf tools miss room pasig place right sps carter co kentucky estblshd thier public library need director thier entire budget 54000year day age doctors long results train late gonna walk hall shame maefitch deleting number jess22t haha know eh thinking vet science sydney uni cept guy night hostpital miss adelaide wish beach looks beautiful umm yeah homework going bed earlyi wish sleep tomorrow morning tweetpeeps bed 3am yesterday msn alex 2 wanted play dead space bed good morning hospital dad spend basically day waiting room minute app fun fun fun sleep brother home girlfriend baby sleep room firefox e lanati hey crash hey crash wants polaroid camera hospital s jaw breaking happen wish iphone let thing easier tried install twitterapplication phone work boo want study want shopping instead saw girl blog thumbnails went wayyyy cp feel dirty need shower ahhh drafthouse surprise world premiere screening new star trek night torchys andygosling ouch zoom1 clearfix method friends loving fact 330 lil daughter sleep nasty scraping noises car php gives segfault pregsplit quotits alike diferentquot cried montage flashback hp5 makes cry time bed trying helplessly breathe nose coming itchy need sneeze allergies suck things sun sets way early hello tuesday hope better think wont tweet hours later mileycyrus want sofie helllza cute chewbeka yeah brutal june lmao excited plane canada lol workathlon 3 sets management accounts dhughesy thats birthday plans msdivineknight thats bed early cause sleep miss things slept missed joe unhappy struggling type morningmaybe suffering dayglo overload fridays 80s fest episode house cuddy hook apo meetings fault waiting love home getting sad wont hot cross buns week leelowe aww thanks hun picking scotland yesterday evening kill favourite characters dawww site load rising increased capacity going gabrielmansour multiple books time bad habit finishing books clairerichard6 em duncn wont happy woke 530am morning sleep till 645am coffee amp carrot cake slices mmm lost ideas art help bipling coming aus cobi going jealous lol misser ugh sound class 8 kill wont home 10ish wants use 8directional dance pad pero di compatible sa tv yung game jason2008 hello im coffee morningthat winding yesterday lol good day wants play resident evil school work getting way deepbluesealove im reading article different siteseems little dull twitter tonight music exmi hope comes company work shuts thursday joblessville come trying look big picture boy hard days seriously tired need deep sleep pissy tossing turning moan moan moan flat today didnt everythin amp endured massive headache fever nausea finish essay amp work tomory day feeling ill today sinab77 think hate money nickthompson nick love blame oven blame fact shed load wine watching gear jlsofficial photoshoot eyyim sure look hot come brighton hellooo boyslove loads xxxxxx dentist aww man party nighti miss new jersey today meganxnightmare think girl tjlefebvre missing seen evening feeling twitter splont meeting morning today makes feel better finish tomorrow weds hate zombie mode today kids ill kept till 230am work 6am people says vicious missin babyreally needed talk today school errands sad got lot moment doubt going chance book time family easter hols apply international driver licence competition course nurburgring halfday goulandris email provider laurenbavin hey tell jealous morning baggered gym work later princessshorty aww sorry hear hope gets better listening podcast debate spoke brilliantly davedynamix sad marley amp damn clearancedog ashleyemma lucky devil dreaming crispy bacon sandwich volunteered think saw magic sunday salford saw hull fc come pitch vanished usual breakie starbucks heading morning cameras weather looking shite stage georgemackie dont sell ebay tommcfly know johnsons baby use animals like cute bunnies test products sleep bc drank diet coke 9pmsucks bc wake 530am triop damn need learn darn woke great idea lime article forgot thinking shorts flip flops bad idea mikebreed mike understand think need change opinion good lol waiting parcel arriving argh hurry hurry knot2serious oh btwdjrocko951 amp tried cuban buffet told aboutso excitedit closed mondays sad story gingha docs morning work freecycling getting stayed home bit lonely friends actually use twitter oh artemisiii oh laundry powder maybe allergic jeans usually fitted makes worse need inspiration hit kitchen tonight accidentally listened new sugababes album playing girls aloud hits sequentially purge memory going walk dogs shower bed sad yankees lost game monday boooo exmi hey doll sorry hear bout doggie hope comes home soon help look werent far away upset find quotchurch flying spaghetti monsterquot twitter follow wont enjoy pretty films feels like comming somethinglet hope cold sleeping damnit tminus 4 hours counting kids school rochellesheree missed wednesday day thursday missed train york wifi blackberry battery going die soon good start day theoryofmind woppygook omniaaaa said crackberrryyy time depart flip phone hermes packetdienst sucks fun night paying going fry egg squirrels today hiding nmcgivney yeah ploughed night happening ali1702 omg daughter come home night huge worry mind poor bought car impending fatherhood affecting judgement plans 330ci rav4 aust gov rolls 43 bln 100mb bband way rest worlds bband speeds bnish dan grabbed yardhouse earlier pirate disappointed work early team meeting forgot lunch worried cutting hours start 1000am day morning starbucks mrjoe sorry hear bike aliceverheij ms xp im afriad laptop 3yrs old think bit messed going rpm vespa needs oil going fast remains un broken year mark speight died year goes fast exactly cities burn worries quotas cities burns likely final outingquot new album review like 95 malarky seeing friends seen months stupid work aw balls new shirt got aerie today fit wear medium small saulwilliams budget yr ireland today want tax text messages pray poets finished second research paper week tuesdaykind kill test friday jpiasentin unfortunately pack probably scotland week having panic attack sleep distracting tv internet hope goes away soon susanstn opps unable dm moment maybe twitter bugs maintenance project going drain legal issues dealt fatal blow wheres heat grazia subscriptions probably delivered door missing ol frend amp thinking bout rite brahhh quit smoking cigs dont want look old plus cant breath haha omy jus woke wishing woke sumwer ny lol school suxxx wish tourny ainzdj mate time gettin gonna able hang late bit comin support fo sho mathie makes hard work small businesses great sick coughing having sore throat got 7 mistakenly 6 got brainbone daily question wrong phillyd wishing best lt3 rockchic65 normally pumpkin patch bit skint minute headtotail thank feel sad hope nice life til end msjheart lol yeah good gotta unplug use hustle 79 bucks new cant sleep need cuddle robertzalme yes theory getting solutions coming going school minutes headache tt looking forward meeting angry teacher wayy early awake zzz attack hayfever noooo need hugs neevd know sites play games past second footpath frogger playing killzone 2 demo iloveac slut talk talk rinn waa waaa waaaaaaaa lol love courtney mrsfr yes unfortunately date clashed important long standing family party got having coffee frost car windows suspected hope tired today comp screwed jessicafilan charliecondou 4skinmusic like crazytwism knowthey block orkut dubai oman orkut accessbut skype banned ru gulf hates waiting game hates uncertainties throat hurts think cold kind sad bullshit found owi totally ate pavement morn stephens green luas stopso soreand freaking tv camera thereof times fall jamming postponed boohoohoozx damn flu bug baby went home morning net towers deadline wakey wakey bored dog annoying weights 20 pounds want come knees miss family guyyy tired borrrrrred vacation sooooooo hot sitting waiting sitting home watching jeremy kyle bored germany stuck work super stressed wish kateblogs author subscriber early bored trantula song stuck head past hour wwwstalkdailycomgeorg feels like cramp disconcerting skynicmac shame sites pr dropped mcbesty monday usually working day maxbarners hope goes supposed work university construction sight close makes contant noise crucifire damit idea todays comic wrote credit zen sushi lunch todaylooks like raining outside ashley tisdale love dye hair didnt announce reading lineup ronjeffries love hire tons fun time budget tho hiring german girl night brisbane micameli friend supposed having arranged lan jetblackonyxs missmell blastyblast time home gnah inner tube exploded gotta taxi work late good morning going run morning dentist drilling cubedweller gah freeview brought colbert report consider switching clinic booring 18 days left london time jerrrm today meeting day gilaaaa hungry dreaming yumyums gym yesteday new gym need new induction good news booked wednesday woot ughhhhh coming house ilu bb gfalcone601 nawww london cornwalls boring website kingkiwi want rain nice today 306 letters sent better start writing llordllama oh obadiah names start e generally good valdezign hmm beta nambu pingfm friendfeed disabled boo ohhh lost voice arizonaaaa japannaly hhhahaha cant thursday bitch jk hahaha booo ee suck daniella bring sam happy fabianv kind docs write docs wishes om homework right ok heres deal live small town seen anythin famous thought luck duskyazure got 2 lie ve bn way 2 long mrs woke 6am morning amp dragd slumberlnd time trying plan tripslow budget thoughdo think working ianhanlon scobz goal celeb respond tweets sleep sleep speaks waiting tom mums birthday im glad likes pressies looking forward party time later week sad im going cornwall dajbelshaw sounds like day gym car arrived maybe thursdaydamn paperwork ratsofatsorat left sips mocha reusable coffee mug week chunky omg whats windows vista today tried installing windows 7 laptop died reinstall mean goes anymore x dear twitter 4 bug bites leg r itchyyyy haha got outta shower uhh night thomassonora problem poken error tracitoguchi nah feeling come mushyv ahhhhh hoff programme sounded classs fuckin missed hopes repeat innit confused life grunt121 good luck big meeting hope rumour mill wrong jxx white guy manager shouts walk wanna feast missing 17 thursday worst hello world dont like physics going dentist mean tooth spa right valeriekhoo boyfriend means world muchless understand natazzz hurt sad finished marking celebrate tho got communicate marks amp feedback online students rest night gone sick hate simon felice longer playing felice brothers sure feel ears size 00 hurt watching chaos theory wonderful movie love going holidays friend tomorrow exited twitter looks like nobel peace prize simply popularity contest oww poor darling body missing tracy girl sandra cantu found inside suitcase wwwtinyurlcomdfhvzg tracy ugh mum wake early 845 geesh need sleep princessnadysthere noth awww work time play haylieofficial night post email loves long walk energy chair chrismevans argh driving london today wrong turn kingsx stuck extra 30 minutes logjam traffic mattg00d dont like having internet dont tweet jodielane jodie awake hungry need coz leaving coz wont talk llaacceeyy haha good cook looks pretty foul right love having voguettes twitter yay nice meet x needs dentist perfect start holidayshm milk cup tea mother fuckers changing rotas telling cool work add boyfriend arghhhhhh cant profile picture im sorry guys dont know lolzitsmel paranormal pretty good tonight glinner think right username mr brooks grey day london come sun forgiven hate windows movie maker sony vegas come cant download anymore brother banned downloading cant stop laughing burger king commericalim easily amused davidkudrev pity facebook chat exceeded msns amazingly level unreliability pity remove irrelevant hubby tight scedule easter vaca stressing 8 visits denmark 6 days rickrodgers kidding man rim sync client linux opensync package sucks charge lolz oh agents booked wrong days x1000000 going josh course broke right thing feel bad confused wish new glasses werent expensive yummy pizza dinner mouth burnt literally spitting blood im little bit bored warrnambool animal docos handle wordpress bitchass bitch new silence remix casasteve vw forums nightmare enthusiasts forums results politics bitching awake sensible time alot coursework bohoo schofe sounds like great shame work wyldceltic1 read glad youre better emperoremil yup work midshift na e burjz ugh mean sign got gone babys heading perth uh d dentists hurt today holy crap feel like teeth fall let giant cookie going ride hate legs feels sick needs foood cant find camera night good lindsays house pretty ruined eek omkarkurode won coz created quotavenuesquot yeah mistake choosing tango zone youtube sound ubuntu find phone hospital foot xray wait doctor confirm hate hospitals ahh sorry yall able twitter phone work brit amazeingahhh damn tired today actually need nap home time woke tiresome times heromancer come orlando sooon sadly wishes restaurant city pet society ported iphoneitouch twittering past 22 days obviously 140am taking small break ochem omg bed making sick cant sleep way hospital praying bowl bran flakes ave shower revision phillcoleman low 35 night sarahlsharp oops feel like breaking hearts shystieuk wish luck gotta london ging great olmand street appointment scared xxxx devdsp hrm posts sound like holding etnobofin google translator hospital foot xray wait doctor confirm hate hospitals thi m4 v ci u b know feel upset losing follower probably porn star trying sell arghfirefox removed bookmarks folder sharepoint folder including links idea whyhow delustre wanna watch dollhouse seen eps lt3 eliza dushku lol kourtneykardash need beach bod saw dan neighbours walking chapel streetrandom feeling like going fire work any1 got job going jansmells maybe stop lazy goosed sorry procrastinating gone macbatchelor ah wont rehearsal tonight awaiting imminent arrival clairefallen nah snow april sucks colbsi flickrs letting view says private misswyn bet remember easter kid excited youll great day xambix wow welcome home eh shit especially coming holiday fucking people blueeyedbomber excellent missed saturday night tiahn good coz therebad coz paid going sunny today right forecasters hopes fb ollien33 carousella doctors appointment 9 11 sucks bit sick working 2 articles today 2 days nice little office dont wanna want college want cuddle babyyy hmm shoulder making bad noises arm forth know fear return physio required happyahma welcome sorry hear ants rhyswynne pest grr spam odannygirl7 oh yesses quotroad rashquot hip lovely ay rock whyvee welcome home sounds like hell journey got offer camping fraser island weekend jump offer 2nd thought forecast rain latexfetish sadly feed wordpress feed usually blacomfeed blacomfeedrss2 exist kristenkreuk fiuhh nice info fans indonesia waiting movie country thanx want leave college cant smoking tried easy weve moved dwsr tayswift 3am btw congrats winning album year deserve shed tear white horse hedgewytch oh horrible innocent smoothies love start putting rubbish sleep fight outside inconsiderate wanna sleep frightened cos spider time hope flat repels unfortunately got man save having casual unprotected tweets twats probably mom dissapointed going sidee dee cold insomnia headache virtuallin actually like taub reason thought bromance kutner cute kutner sigh watched smallville 8x18 nite ep decisions fail impress time watched movie huge epiphinal line exactly needed need find jazred87 told caved end abusing like facebook real friends upload pic personal web site hacked finally cold hope suceed bugger good today error check things currently wishing treacle sponge custard louise night watching order phoenix reports italy 179 death 34 missing 1500 injured italy earthquake rai know sucks finding burned tail light stores closed plus open work gday evil highschool right rain ruined malaysian gp fun money ajiee thnx ajeng skip class im totally unprepared way chicago finally connecting london home 5 measely days maxime68 darn open work computer supposed fun work thanks janelle76 want phone fbms twitter keongzai assign eff hospital soon kinda sucks allowed eat x like uk postal prices gone costs 20p mail black velvet usarotw amp 10p uk 4 days york nice place photos coming soon feeling sick work davenavarro6767 wondering youd youve quiet days miss chatty dave alystoe hope okay work thinking graveyard shift sux day work holiday argh got fuck loads snickered like minutes thinking awesomest know use thing stupid picture wont upload madre grinding gonna long week thomasgudgeon yes shame plastic generation think tweetdeck failing hurts mckaylajb hey lol btw know upload picture tried shows xo working home sooo super duper cold misterskull awwwwww shame youre miles miles away spent half hour making playlist tonight going long night nattnatt81 doggie dazzler im trying work bit today want coule pop ovr hi later oh damnfried screwing lunch getting ready leave calii donquott want home wish bring kids maths examen 1 o clock ryanseacrest tie bar missed wednesday nickdawson hope knee feels better quickly having night wondering lovely wife check respond tweets course document important tables published internet love joke punch line jonathin sorry left corel install cd room went coffee kids got milk coke instead yoghurt overload orangeflowers scary clutter unclean pain keeps awake lately shld start subsiding wk good morning worlds got snow throat killing missing gordon fighting hungries willieday26 sleep 345 work 830 know problem artemisiii aw sorry hear know jeans winter miss kabalin hates stuffy nose preventing sleep remedies went bed 8pm wide awake 4 work 830 going long day rustyrockets tnk need smile today write everyoneee x itchy eyesgrass cutohoh damn filling fell half tooth gone daftasabat needed lie lol slept 6 hours days killing watched greys anatomy cried writing miss meg hope lost sigh going look curtains yesterday bad day found bernie mac died year shud online dunno find outoutout dunnoi emailed website aampr sent tweet repliesthey probably got bored fanremixers bugging wishing sleep probably going happen tonight riry pain nomming hand sprayed cat nip mist joke craaaazy silverlines aaaah jadi tiba2 pingin butter sugar toast huhuu thats messed jennnnie yes projects wool hiding meit friday went craigs place project reports school need words 700 words short inspiredwriting love easily read tweed working twittercom reloading time teleken unfortunately sorry hopefully find hang use fax machines drjackdr oh disaster horrible situation bid signed panic disco poster unfortunatly fall boy limit antzpantz obviosuly missed evcery single jordynhill7 oh cic meaning ring feeling lose lissie45 sorry saw post signed finished reading lolthese guys gold feel bad paid 600 sweetest ol boy 88 telling war swellvintage lot better today thanks unfortunately sick mean loss apetite x sminchin1977 sorry hear youre unwell school holiday syndrome waiting scrappers come pick old saab hates know got home night 4 hours laying flattened bean bag ftl great song ooo dr hd ok ok officially sad techy geek valium needz septmourningm texas far phx lol luckyrivera great song ouch toenail aaaaaaaa babysitting morning stiil excuse watch chute cbbc man wacky dream early morning loggin looks like ats spamming updates good mood morning anymore stupid work stupid cellphone provider cant understand linked sthe point got bakc shoot bloody exhausted need hug forgot shitty coop ugh looking dress friend find enjoying lunch lake constance uh cool impossible want new job particually better new shaundiviney want pizzaaaa windows mobile doesnt allow write stack pointer need college work work having food terrible toothache feeling grumpy 44 hotels write work queue pypi fail installing markdown pip easyinstall downloads python 3 version y isnt sunny yesterday deadline ahead karinhoegh true love frienfeed cool apps delivers value little time damn m missing twitter busy late got enuff time active twitter missing d action continue hurtful things peace wanted grr savicevic aww wont roommate year bye im going stop 3tfan cant im fan becouse want date taryll dosent want ianmack season yes descended creepy teen boy humour season 2 lt3 muldermoody iphoneincanada wait 10cheaper package 150 voice minutes cheaper substantially better messsedd upppp suck making jelly cakeeeee swati121 swati omg missed soo heard new jls song 8 ahaa youre probs jetlagged right argh fantasy surfer carnage dane marlon amp nat c fantasysurfer feels slightly ill guess shouldnt eaten mc ds awlred dont exist anodising services exist wishing hadnt drunk mush yestaday got amazing new pedal blew speakers wish sydney craigelder proof reading defra greener living fund bid govt dept grant application deadline close easter hairpins ohh envy natalieeee need new wardrobe wear weekend anothera swati121 yeah havnt got cradunlimited textcall sucks catch today xxxxx sad coz alisons leaving england france tonight needs mouse looks like lappys touch pad giving na find person supported stood day 1 tells past tried blow doctors appointment nasa lost raw footage apollo 11 mission winter slowly creeping cape town looking forward cheekybeer document management systems good idea rarely happen practice hate time super bored sleeping ge ready work 9 hour shift ahead x greyhoundgal omg page excited congratulations sorry torres hurting paw tho dog tired reason going bed late sleeping lately makes angry denpasar good luck look forward update run option wind seriously blowing real gale day lshs tomorrow smell tyson wishes twitter translator twitter caught southern hemisphere aventually guess christinastokes sh working says website office jxox ohh hope stopin till reply lol wunder marvs read vs lyrics haha imagine nxt blog kleinjinx like inlaws coming easter meet time camera spoil sooo motivated work wont let log know users thier cos anth sent friend request waiting dispatch got hour ago sleeping 4 hours guess bed going sleep busy day going meetings stuff miss girl shes switzerland marthagonemad agreed wish pure easy fun urgh head hurts think 7 hours sleep cat miaowing rest wicked hour latebad plumbers wish 100 better 100 awesome work better allowed sway sway baby concert seriously cry silverlines tadi di pim udah sempet lirik2 mesra tapi baru abis makan definitely putting agenda time pim marley crying like kid good movie good night people lost favourite mac lipglossi upset iti lose things pretty sure electrical house slowly dying like money replace stuff bed painfully tempting right nap probably wake 4pm frustrated rudd cant facilitate private enterprise investing broadband infrastructureinstead needs waste money mercygrl oh wow little chubster cant invite ppl play uno facebook moment want ffxii bad got chance play garage getting estimate wheel damage car sundays little mishap looking good bah hairline fracture impellor hub titsuptuesday morning bad dream woke meatrack sneaky late arvo surfs man feel late arvo glass distant memory summer sleepi wake 4 hours samdj1210 unfortunately work thanks advice bed ridden today dear fbdimms 4gb memory 8 running 90 crippled pc searching job berlin summer timedo speak german piccy coming soon watch 90210 god wanna america soo baadd oh harrods day sick tombot18 mind work sick veryyy bad watching american history x wanna watch american beauty buy meeee entered online poker tournement 49 finished 18th isnt happy twitter moment wont let upload picture wishing dougie tom reply trying extend reading watchmen reading dont want end lucygooesy haha nice barbie backgroud hasnt replied lol sunny outside im stuck indoors far far away window roll dinner rhinecruise09 youre absolutely right bed failed martha want grown usual cooking hate incredibly immensely indecisive wish come true hell carolina yay 2am bit tired boagworld profile picture makes happy return think need new promo picture fairy06 omg wtf sure talks school phone moony394 miss bb episode unimportant foreteen found kutner stopped watching fact jw stuff rocks shame skint taitaisanchez omg know sad ternyata hanya gue yang twitter pain hippychick3 clarkes shoes fir small feet specialist shoe shops work ahhhh life poor amp unknown thinking earlier loot miley cyrus age 15 sitting seb waiting hours bad customer service finally wrapped body literally broken evening bed return super fever yuddylicious hatez sleeping bed sun comes progress sorting life slowhard jjprojects maybe broken mbp ebay broken screen good luck o2 gprs issues ryuoky sun hoping sit balcony maine sleep tests morning wants buy big bang theory dvd byeeeex fucking boredom makes wanna smoke kimberley lol awww want cuddles eyes leak love lt3 sleep 4 hours busy week aghhhhh philhellmuth sad cousins stop playing frozen bubble twisted amp resco bubble bye bye n85 week pure hurt neck gym work time ready school todays plan driving vienna spring cleaning flat hippydi sad suck know wrong feels like dianyach'"
      ]
     },
     "execution_count": 117,
     "metadata": {},
     "output_type": "execute_result"
    }
   ],
   "source": [
    "x"
   ]
  },
  {
   "cell_type": "code",
   "execution_count": 116,
   "id": "7f4efa84",
   "metadata": {
    "ExecuteTime": {
     "end_time": "2022-11-08T11:32:07.192404Z",
     "start_time": "2022-11-08T11:32:06.137205Z"
    }
   },
   "outputs": [
    {
     "data": {
      "image/png": "[encoded data removed]",
      "text/plain": [
       "<Figure size 432x288 with 1 Axes>"
      ]
     },
     "metadata": {
      "needs_background": "light"
     },
     "output_type": "display_data"
    }
   ],
   "source": [
    "wc=WordCloud(width=800, height=400).generate(x)\n",
    "plt.imshow(wc)\n",
    "plt.axis('off')\n",
    "plt.show()\n"
   ]
  },
  {
   "cell_type": "markdown",
   "id": "23cfd8b1",
   "metadata": {},
   "source": [
    "# spelling correction"
   ]
  },
  {
   "cell_type": "code",
   "execution_count": 120,
   "id": "5b97dd01",
   "metadata": {
    "ExecuteTime": {
     "end_time": "2022-11-08T11:34:10.302534Z",
     "start_time": "2022-11-08T11:34:10.288783Z"
    }
   },
   "outputs": [],
   "source": [
    "#!python -m textblob.download_corpora\n",
    "from textblob import TextBlob"
   ]
  },
  {
   "cell_type": "code",
   "execution_count": 136,
   "id": "92cec4fd",
   "metadata": {
    "ExecuteTime": {
     "end_time": "2022-11-08T11:38:44.000637Z",
     "start_time": "2022-11-08T11:38:43.995640Z"
    }
   },
   "outputs": [],
   "source": [
    "x = 'tanks #forr wattchingg this video.'"
   ]
  },
  {
   "cell_type": "code",
   "execution_count": 126,
   "id": "719bbef2",
   "metadata": {
    "ExecuteTime": {
     "end_time": "2022-11-08T11:35:27.288076Z",
     "start_time": "2022-11-08T11:35:27.017840Z"
    }
   },
   "outputs": [],
   "source": [
    "x = TextBlob(x).correct()"
   ]
  },
  {
   "cell_type": "code",
   "execution_count": 127,
   "id": "fe110e62",
   "metadata": {
    "ExecuteTime": {
     "end_time": "2022-11-08T11:35:27.462013Z",
     "start_time": "2022-11-08T11:35:27.449086Z"
    }
   },
   "outputs": [
    {
     "data": {
      "text/plain": [
       "TextBlob(\"tanks for watching this video\")"
      ]
     },
     "execution_count": 127,
     "metadata": {},
     "output_type": "execute_result"
    }
   ],
   "source": [
    "x"
   ]
  },
  {
   "cell_type": "markdown",
   "id": "fde599ed",
   "metadata": {},
   "source": [
    "# Tokenization"
   ]
  },
  {
   "cell_type": "code",
   "execution_count": 137,
   "id": "c0073179",
   "metadata": {
    "ExecuteTime": {
     "end_time": "2022-11-08T11:38:45.871329Z",
     "start_time": "2022-11-08T11:38:45.862193Z"
    }
   },
   "outputs": [
    {
     "data": {
      "text/plain": [
       "WordList(['tanks', 'forr', 'wattchingg', 'this', 'video'])"
      ]
     },
     "execution_count": 137,
     "metadata": {},
     "output_type": "execute_result"
    }
   ],
   "source": [
    "TextBlob(x).words"
   ]
  },
  {
   "cell_type": "code",
   "execution_count": 138,
   "id": "00210f5b",
   "metadata": {
    "ExecuteTime": {
     "end_time": "2022-11-08T11:38:46.351125Z",
     "start_time": "2022-11-08T11:38:46.332710Z"
    }
   },
   "outputs": [
    {
     "name": "stdout",
     "output_type": "stream",
     "text": [
      "tanks\n",
      "#\n",
      "forr\n",
      "wattchingg\n",
      "this\n",
      "video\n",
      ".\n"
     ]
    }
   ],
   "source": [
    "doc = nlp(x)\n",
    "for token in doc: \n",
    "    print(token)"
   ]
  },
  {
   "cell_type": "markdown",
   "id": "6978cbd5",
   "metadata": {},
   "source": [
    "# lemmatization"
   ]
  },
  {
   "cell_type": "code",
   "execution_count": 144,
   "id": "579d7ec2",
   "metadata": {
    "ExecuteTime": {
     "end_time": "2022-11-08T11:41:14.717511Z",
     "start_time": "2022-11-08T11:41:14.704463Z"
    }
   },
   "outputs": [],
   "source": [
    "x = 'runs run running and will have ran'"
   ]
  },
  {
   "cell_type": "code",
   "execution_count": 145,
   "id": "43e6ad59",
   "metadata": {
    "ExecuteTime": {
     "end_time": "2022-11-08T11:41:15.200623Z",
     "start_time": "2022-11-08T11:41:15.192300Z"
    }
   },
   "outputs": [],
   "source": [
    "from textblob import Word"
   ]
  },
  {
   "cell_type": "code",
   "execution_count": 146,
   "id": "584da298",
   "metadata": {
    "ExecuteTime": {
     "end_time": "2022-11-08T11:41:15.608403Z",
     "start_time": "2022-11-08T11:41:15.600249Z"
    }
   },
   "outputs": [
    {
     "name": "stdout",
     "output_type": "stream",
     "text": [
      "run\n",
      "run\n",
      "running\n",
      "and\n",
      "will\n",
      "have\n",
      "ran\n"
     ]
    }
   ],
   "source": [
    "for token in x.split():\n",
    "    print(Word(token).lemmatize())"
   ]
  },
  {
   "cell_type": "code",
   "execution_count": 148,
   "id": "dadfc975",
   "metadata": {
    "ExecuteTime": {
     "end_time": "2022-11-08T11:42:01.161887Z",
     "start_time": "2022-11-08T11:42:01.149265Z"
    }
   },
   "outputs": [
    {
     "name": "stdout",
     "output_type": "stream",
     "text": [
      "run\n",
      "run\n",
      "run\n",
      "and\n",
      "will\n",
      "have\n",
      "run\n"
     ]
    }
   ],
   "source": [
    "doc = nlp(x)\n",
    "for token in doc:\n",
    "    print(token.lemma_)"
   ]
  },
  {
   "cell_type": "markdown",
   "id": "62f45a13",
   "metadata": {},
   "source": [
    "# detecting Entities NER of spacy"
   ]
  },
  {
   "cell_type": "code",
   "execution_count": 152,
   "id": "2b22bb73",
   "metadata": {
    "ExecuteTime": {
     "end_time": "2022-11-08T11:53:29.033427Z",
     "start_time": "2022-11-08T11:53:29.022893Z"
    }
   },
   "outputs": [],
   "source": [
    "x = \"Breaking news:Narendra Modi has become the Prime minister of India\""
   ]
  },
  {
   "cell_type": "code",
   "execution_count": 153,
   "id": "ee9b7d16",
   "metadata": {
    "ExecuteTime": {
     "end_time": "2022-11-08T11:53:29.578895Z",
     "start_time": "2022-11-08T11:53:29.555863Z"
    }
   },
   "outputs": [
    {
     "name": "stdout",
     "output_type": "stream",
     "text": [
      "Narendra Modi-PERSON-People, including fictional\n",
      "India-GPE-Countries, cities, states\n"
     ]
    }
   ],
   "source": [
    "doc = nlp(x)\n",
    "for ent in doc.ents:\n",
    "    print(ent.text+'-'+ent.label_+'-'+str(spacy.explain(ent.label_)))"
   ]
  },
  {
   "cell_type": "code",
   "execution_count": 154,
   "id": "a27bdee0",
   "metadata": {
    "ExecuteTime": {
     "end_time": "2022-11-08T11:54:18.303318Z",
     "start_time": "2022-11-08T11:54:18.286808Z"
    }
   },
   "outputs": [
    {
     "data": {
      "text/html": [
       "<span class=\"tex2jax_ignore\"><div class=\"entities\" style=\"line-height: 2.5; direction: ltr\">Breaking news:\n",
       "<mark class=\"entity\" style=\"background: #aa9cfc; padding: 0.45em 0.6em; margin: 0 0.25em; line-height: 1; border-radius: 0.35em;\">\n",
       "    Narendra Modi\n",
       "    <span style=\"font-size: 0.8em; font-weight: bold; line-height: 1; border-radius: 0.35em; vertical-align: middle; margin-left: 0.5rem\">PERSON</span>\n",
       "</mark>\n",
       " has become the Prime minister of \n",
       "<mark class=\"entity\" style=\"background: #feca74; padding: 0.45em 0.6em; margin: 0 0.25em; line-height: 1; border-radius: 0.35em;\">\n",
       "    India\n",
       "    <span style=\"font-size: 0.8em; font-weight: bold; line-height: 1; border-radius: 0.35em; vertical-align: middle; margin-left: 0.5rem\">GPE</span>\n",
       "</mark>\n",
       "</div></span>"
      ],
      "text/plain": [
       "<IPython.core.display.HTML object>"
      ]
     },
     "metadata": {},
     "output_type": "display_data"
    }
   ],
   "source": [
    "from spacy import displacy\n",
    "displacy.render(doc,style='ent')"
   ]
  },
  {
   "cell_type": "markdown",
   "id": "a4a015f0",
   "metadata": {},
   "source": [
    "# Detecting nouns"
   ]
  },
  {
   "cell_type": "code",
   "execution_count": 158,
   "id": "f92395b3",
   "metadata": {
    "ExecuteTime": {
     "end_time": "2022-11-08T12:01:48.817063Z",
     "start_time": "2022-11-08T12:01:48.799457Z"
    }
   },
   "outputs": [
    {
     "name": "stdout",
     "output_type": "stream",
     "text": [
      "Breaking news\n",
      "Narendra Modi\n",
      "the Prime minister\n",
      "India\n"
     ]
    }
   ],
   "source": [
    "for noun in doc.noun_chunks:\n",
    "    print(noun)"
   ]
  },
  {
   "cell_type": "markdown",
   "id": "276e891e",
   "metadata": {},
   "source": [
    "# Translation and Language detection\n",
    "\n",
    "## Language Code: https://www.loc.gov/standards/iso639-2/php/code_list.php"
   ]
  },
  {
   "cell_type": "code",
   "execution_count": 166,
   "id": "8d445666",
   "metadata": {
    "ExecuteTime": {
     "end_time": "2022-11-08T12:07:09.406758Z",
     "start_time": "2022-11-08T12:07:09.246679Z"
    }
   },
   "outputs": [
    {
     "ename": "HTTPError",
     "evalue": "HTTP Error 400: Bad Request",
     "output_type": "error",
     "traceback": [
      "\u001b[1;31m---------------------------------------------------------------------------\u001b[0m",
      "\u001b[1;31mHTTPError\u001b[0m                                 Traceback (most recent call last)",
      "\u001b[1;32m~\\AppData\\Local\\Temp/ipykernel_19480/224653223.py\u001b[0m in \u001b[0;36m<module>\u001b[1;34m\u001b[0m\n\u001b[0;32m      1\u001b[0m \u001b[0mx\u001b[0m\u001b[1;33m=\u001b[0m \u001b[1;34m'Breaking News: Donald Trump, the president of the USA is looking to sign a deal to mine the moon'\u001b[0m\u001b[1;33m\u001b[0m\u001b[1;33m\u001b[0m\u001b[0m\n\u001b[0;32m      2\u001b[0m \u001b[0mtb\u001b[0m \u001b[1;33m=\u001b[0m \u001b[0mTextBlob\u001b[0m\u001b[1;33m(\u001b[0m\u001b[0mx\u001b[0m\u001b[1;33m)\u001b[0m\u001b[1;33m\u001b[0m\u001b[1;33m\u001b[0m\u001b[0m\n\u001b[1;32m----> 3\u001b[1;33m \u001b[0mtb\u001b[0m\u001b[1;33m.\u001b[0m\u001b[0mdetect_language\u001b[0m\u001b[1;33m(\u001b[0m\u001b[1;33m)\u001b[0m\u001b[1;33m\u001b[0m\u001b[1;33m\u001b[0m\u001b[0m\n\u001b[0m",
      "\u001b[1;32m~\\Anaconda3\\lib\\site-packages\\textblob\\blob.py\u001b[0m in \u001b[0;36mdetect_language\u001b[1;34m(self)\u001b[0m\n\u001b[0;32m    595\u001b[0m             \u001b[0mDeprecationWarning\u001b[0m\u001b[1;33m\u001b[0m\u001b[1;33m\u001b[0m\u001b[0m\n\u001b[0;32m    596\u001b[0m         )\n\u001b[1;32m--> 597\u001b[1;33m         \u001b[1;32mreturn\u001b[0m \u001b[0mself\u001b[0m\u001b[1;33m.\u001b[0m\u001b[0mtranslator\u001b[0m\u001b[1;33m.\u001b[0m\u001b[0mdetect\u001b[0m\u001b[1;33m(\u001b[0m\u001b[0mself\u001b[0m\u001b[1;33m.\u001b[0m\u001b[0mraw\u001b[0m\u001b[1;33m)\u001b[0m\u001b[1;33m\u001b[0m\u001b[1;33m\u001b[0m\u001b[0m\n\u001b[0m\u001b[0;32m    598\u001b[0m \u001b[1;33m\u001b[0m\u001b[0m\n\u001b[0;32m    599\u001b[0m     \u001b[1;32mdef\u001b[0m \u001b[0mcorrect\u001b[0m\u001b[1;33m(\u001b[0m\u001b[0mself\u001b[0m\u001b[1;33m)\u001b[0m\u001b[1;33m:\u001b[0m\u001b[1;33m\u001b[0m\u001b[1;33m\u001b[0m\u001b[0m\n",
      "\u001b[1;32m~\\Anaconda3\\lib\\site-packages\\textblob\\translate.py\u001b[0m in \u001b[0;36mdetect\u001b[1;34m(self, source, host, type_)\u001b[0m\n\u001b[0;32m     74\u001b[0m             \u001b[0mclient\u001b[0m\u001b[1;33m=\u001b[0m\u001b[1;34m\"te\"\u001b[0m\u001b[1;33m,\u001b[0m\u001b[1;33m\u001b[0m\u001b[1;33m\u001b[0m\u001b[0m\n\u001b[0;32m     75\u001b[0m         )\n\u001b[1;32m---> 76\u001b[1;33m         \u001b[0mresponse\u001b[0m \u001b[1;33m=\u001b[0m \u001b[0mself\u001b[0m\u001b[1;33m.\u001b[0m\u001b[0m_request\u001b[0m\u001b[1;33m(\u001b[0m\u001b[0murl\u001b[0m\u001b[1;33m,\u001b[0m \u001b[0mhost\u001b[0m\u001b[1;33m=\u001b[0m\u001b[0mhost\u001b[0m\u001b[1;33m,\u001b[0m \u001b[0mtype_\u001b[0m\u001b[1;33m=\u001b[0m\u001b[0mtype_\u001b[0m\u001b[1;33m,\u001b[0m \u001b[0mdata\u001b[0m\u001b[1;33m=\u001b[0m\u001b[0mdata\u001b[0m\u001b[1;33m)\u001b[0m\u001b[1;33m\u001b[0m\u001b[1;33m\u001b[0m\u001b[0m\n\u001b[0m\u001b[0;32m     77\u001b[0m         \u001b[0mresult\u001b[0m\u001b[1;33m,\u001b[0m \u001b[0mlanguage\u001b[0m \u001b[1;33m=\u001b[0m \u001b[0mjson\u001b[0m\u001b[1;33m.\u001b[0m\u001b[0mloads\u001b[0m\u001b[1;33m(\u001b[0m\u001b[0mresponse\u001b[0m\u001b[1;33m)\u001b[0m\u001b[1;33m\u001b[0m\u001b[1;33m\u001b[0m\u001b[0m\n\u001b[0;32m     78\u001b[0m         \u001b[1;32mreturn\u001b[0m \u001b[0mlanguage\u001b[0m\u001b[1;33m\u001b[0m\u001b[1;33m\u001b[0m\u001b[0m\n",
      "\u001b[1;32m~\\Anaconda3\\lib\\site-packages\\textblob\\translate.py\u001b[0m in \u001b[0;36m_request\u001b[1;34m(self, url, host, type_, data)\u001b[0m\n\u001b[0;32m     94\u001b[0m         \u001b[1;32mif\u001b[0m \u001b[0mhost\u001b[0m \u001b[1;32mor\u001b[0m \u001b[0mtype_\u001b[0m\u001b[1;33m:\u001b[0m\u001b[1;33m\u001b[0m\u001b[1;33m\u001b[0m\u001b[0m\n\u001b[0;32m     95\u001b[0m             \u001b[0mreq\u001b[0m\u001b[1;33m.\u001b[0m\u001b[0mset_proxy\u001b[0m\u001b[1;33m(\u001b[0m\u001b[0mhost\u001b[0m\u001b[1;33m=\u001b[0m\u001b[0mhost\u001b[0m\u001b[1;33m,\u001b[0m \u001b[0mtype\u001b[0m\u001b[1;33m=\u001b[0m\u001b[0mtype_\u001b[0m\u001b[1;33m)\u001b[0m\u001b[1;33m\u001b[0m\u001b[1;33m\u001b[0m\u001b[0m\n\u001b[1;32m---> 96\u001b[1;33m         \u001b[0mresp\u001b[0m \u001b[1;33m=\u001b[0m \u001b[0mrequest\u001b[0m\u001b[1;33m.\u001b[0m\u001b[0murlopen\u001b[0m\u001b[1;33m(\u001b[0m\u001b[0mreq\u001b[0m\u001b[1;33m)\u001b[0m\u001b[1;33m\u001b[0m\u001b[1;33m\u001b[0m\u001b[0m\n\u001b[0m\u001b[0;32m     97\u001b[0m         \u001b[0mcontent\u001b[0m \u001b[1;33m=\u001b[0m \u001b[0mresp\u001b[0m\u001b[1;33m.\u001b[0m\u001b[0mread\u001b[0m\u001b[1;33m(\u001b[0m\u001b[1;33m)\u001b[0m\u001b[1;33m\u001b[0m\u001b[1;33m\u001b[0m\u001b[0m\n\u001b[0;32m     98\u001b[0m         \u001b[1;32mreturn\u001b[0m \u001b[0mcontent\u001b[0m\u001b[1;33m.\u001b[0m\u001b[0mdecode\u001b[0m\u001b[1;33m(\u001b[0m\u001b[1;34m'utf-8'\u001b[0m\u001b[1;33m)\u001b[0m\u001b[1;33m\u001b[0m\u001b[1;33m\u001b[0m\u001b[0m\n",
      "\u001b[1;32m~\\Anaconda3\\lib\\urllib\\request.py\u001b[0m in \u001b[0;36murlopen\u001b[1;34m(url, data, timeout, cafile, capath, cadefault, context)\u001b[0m\n\u001b[0;32m    212\u001b[0m     \u001b[1;32melse\u001b[0m\u001b[1;33m:\u001b[0m\u001b[1;33m\u001b[0m\u001b[1;33m\u001b[0m\u001b[0m\n\u001b[0;32m    213\u001b[0m         \u001b[0mopener\u001b[0m \u001b[1;33m=\u001b[0m \u001b[0m_opener\u001b[0m\u001b[1;33m\u001b[0m\u001b[1;33m\u001b[0m\u001b[0m\n\u001b[1;32m--> 214\u001b[1;33m     \u001b[1;32mreturn\u001b[0m \u001b[0mopener\u001b[0m\u001b[1;33m.\u001b[0m\u001b[0mopen\u001b[0m\u001b[1;33m(\u001b[0m\u001b[0murl\u001b[0m\u001b[1;33m,\u001b[0m \u001b[0mdata\u001b[0m\u001b[1;33m,\u001b[0m \u001b[0mtimeout\u001b[0m\u001b[1;33m)\u001b[0m\u001b[1;33m\u001b[0m\u001b[1;33m\u001b[0m\u001b[0m\n\u001b[0m\u001b[0;32m    215\u001b[0m \u001b[1;33m\u001b[0m\u001b[0m\n\u001b[0;32m    216\u001b[0m \u001b[1;32mdef\u001b[0m \u001b[0minstall_opener\u001b[0m\u001b[1;33m(\u001b[0m\u001b[0mopener\u001b[0m\u001b[1;33m)\u001b[0m\u001b[1;33m:\u001b[0m\u001b[1;33m\u001b[0m\u001b[1;33m\u001b[0m\u001b[0m\n",
      "\u001b[1;32m~\\Anaconda3\\lib\\urllib\\request.py\u001b[0m in \u001b[0;36mopen\u001b[1;34m(self, fullurl, data, timeout)\u001b[0m\n\u001b[0;32m    521\u001b[0m         \u001b[1;32mfor\u001b[0m \u001b[0mprocessor\u001b[0m \u001b[1;32min\u001b[0m \u001b[0mself\u001b[0m\u001b[1;33m.\u001b[0m\u001b[0mprocess_response\u001b[0m\u001b[1;33m.\u001b[0m\u001b[0mget\u001b[0m\u001b[1;33m(\u001b[0m\u001b[0mprotocol\u001b[0m\u001b[1;33m,\u001b[0m \u001b[1;33m[\u001b[0m\u001b[1;33m]\u001b[0m\u001b[1;33m)\u001b[0m\u001b[1;33m:\u001b[0m\u001b[1;33m\u001b[0m\u001b[1;33m\u001b[0m\u001b[0m\n\u001b[0;32m    522\u001b[0m             \u001b[0mmeth\u001b[0m \u001b[1;33m=\u001b[0m \u001b[0mgetattr\u001b[0m\u001b[1;33m(\u001b[0m\u001b[0mprocessor\u001b[0m\u001b[1;33m,\u001b[0m \u001b[0mmeth_name\u001b[0m\u001b[1;33m)\u001b[0m\u001b[1;33m\u001b[0m\u001b[1;33m\u001b[0m\u001b[0m\n\u001b[1;32m--> 523\u001b[1;33m             \u001b[0mresponse\u001b[0m \u001b[1;33m=\u001b[0m \u001b[0mmeth\u001b[0m\u001b[1;33m(\u001b[0m\u001b[0mreq\u001b[0m\u001b[1;33m,\u001b[0m \u001b[0mresponse\u001b[0m\u001b[1;33m)\u001b[0m\u001b[1;33m\u001b[0m\u001b[1;33m\u001b[0m\u001b[0m\n\u001b[0m\u001b[0;32m    524\u001b[0m \u001b[1;33m\u001b[0m\u001b[0m\n\u001b[0;32m    525\u001b[0m         \u001b[1;32mreturn\u001b[0m \u001b[0mresponse\u001b[0m\u001b[1;33m\u001b[0m\u001b[1;33m\u001b[0m\u001b[0m\n",
      "\u001b[1;32m~\\Anaconda3\\lib\\urllib\\request.py\u001b[0m in \u001b[0;36mhttp_response\u001b[1;34m(self, request, response)\u001b[0m\n\u001b[0;32m    630\u001b[0m         \u001b[1;31m# request was successfully received, understood, and accepted.\u001b[0m\u001b[1;33m\u001b[0m\u001b[1;33m\u001b[0m\u001b[0m\n\u001b[0;32m    631\u001b[0m         \u001b[1;32mif\u001b[0m \u001b[1;32mnot\u001b[0m \u001b[1;33m(\u001b[0m\u001b[1;36m200\u001b[0m \u001b[1;33m<=\u001b[0m \u001b[0mcode\u001b[0m \u001b[1;33m<\u001b[0m \u001b[1;36m300\u001b[0m\u001b[1;33m)\u001b[0m\u001b[1;33m:\u001b[0m\u001b[1;33m\u001b[0m\u001b[1;33m\u001b[0m\u001b[0m\n\u001b[1;32m--> 632\u001b[1;33m             response = self.parent.error(\n\u001b[0m\u001b[0;32m    633\u001b[0m                 'http', request, response, code, msg, hdrs)\n\u001b[0;32m    634\u001b[0m \u001b[1;33m\u001b[0m\u001b[0m\n",
      "\u001b[1;32m~\\Anaconda3\\lib\\urllib\\request.py\u001b[0m in \u001b[0;36merror\u001b[1;34m(self, proto, *args)\u001b[0m\n\u001b[0;32m    559\u001b[0m         \u001b[1;32mif\u001b[0m \u001b[0mhttp_err\u001b[0m\u001b[1;33m:\u001b[0m\u001b[1;33m\u001b[0m\u001b[1;33m\u001b[0m\u001b[0m\n\u001b[0;32m    560\u001b[0m             \u001b[0margs\u001b[0m \u001b[1;33m=\u001b[0m \u001b[1;33m(\u001b[0m\u001b[0mdict\u001b[0m\u001b[1;33m,\u001b[0m \u001b[1;34m'default'\u001b[0m\u001b[1;33m,\u001b[0m \u001b[1;34m'http_error_default'\u001b[0m\u001b[1;33m)\u001b[0m \u001b[1;33m+\u001b[0m \u001b[0morig_args\u001b[0m\u001b[1;33m\u001b[0m\u001b[1;33m\u001b[0m\u001b[0m\n\u001b[1;32m--> 561\u001b[1;33m             \u001b[1;32mreturn\u001b[0m \u001b[0mself\u001b[0m\u001b[1;33m.\u001b[0m\u001b[0m_call_chain\u001b[0m\u001b[1;33m(\u001b[0m\u001b[1;33m*\u001b[0m\u001b[0margs\u001b[0m\u001b[1;33m)\u001b[0m\u001b[1;33m\u001b[0m\u001b[1;33m\u001b[0m\u001b[0m\n\u001b[0m\u001b[0;32m    562\u001b[0m \u001b[1;33m\u001b[0m\u001b[0m\n\u001b[0;32m    563\u001b[0m \u001b[1;31m# XXX probably also want an abstract factory that knows when it makes\u001b[0m\u001b[1;33m\u001b[0m\u001b[1;33m\u001b[0m\u001b[0m\n",
      "\u001b[1;32m~\\Anaconda3\\lib\\urllib\\request.py\u001b[0m in \u001b[0;36m_call_chain\u001b[1;34m(self, chain, kind, meth_name, *args)\u001b[0m\n\u001b[0;32m    492\u001b[0m         \u001b[1;32mfor\u001b[0m \u001b[0mhandler\u001b[0m \u001b[1;32min\u001b[0m \u001b[0mhandlers\u001b[0m\u001b[1;33m:\u001b[0m\u001b[1;33m\u001b[0m\u001b[1;33m\u001b[0m\u001b[0m\n\u001b[0;32m    493\u001b[0m             \u001b[0mfunc\u001b[0m \u001b[1;33m=\u001b[0m \u001b[0mgetattr\u001b[0m\u001b[1;33m(\u001b[0m\u001b[0mhandler\u001b[0m\u001b[1;33m,\u001b[0m \u001b[0mmeth_name\u001b[0m\u001b[1;33m)\u001b[0m\u001b[1;33m\u001b[0m\u001b[1;33m\u001b[0m\u001b[0m\n\u001b[1;32m--> 494\u001b[1;33m             \u001b[0mresult\u001b[0m \u001b[1;33m=\u001b[0m \u001b[0mfunc\u001b[0m\u001b[1;33m(\u001b[0m\u001b[1;33m*\u001b[0m\u001b[0margs\u001b[0m\u001b[1;33m)\u001b[0m\u001b[1;33m\u001b[0m\u001b[1;33m\u001b[0m\u001b[0m\n\u001b[0m\u001b[0;32m    495\u001b[0m             \u001b[1;32mif\u001b[0m \u001b[0mresult\u001b[0m \u001b[1;32mis\u001b[0m \u001b[1;32mnot\u001b[0m \u001b[1;32mNone\u001b[0m\u001b[1;33m:\u001b[0m\u001b[1;33m\u001b[0m\u001b[1;33m\u001b[0m\u001b[0m\n\u001b[0;32m    496\u001b[0m                 \u001b[1;32mreturn\u001b[0m \u001b[0mresult\u001b[0m\u001b[1;33m\u001b[0m\u001b[1;33m\u001b[0m\u001b[0m\n",
      "\u001b[1;32m~\\Anaconda3\\lib\\urllib\\request.py\u001b[0m in \u001b[0;36mhttp_error_default\u001b[1;34m(self, req, fp, code, msg, hdrs)\u001b[0m\n\u001b[0;32m    639\u001b[0m \u001b[1;32mclass\u001b[0m \u001b[0mHTTPDefaultErrorHandler\u001b[0m\u001b[1;33m(\u001b[0m\u001b[0mBaseHandler\u001b[0m\u001b[1;33m)\u001b[0m\u001b[1;33m:\u001b[0m\u001b[1;33m\u001b[0m\u001b[1;33m\u001b[0m\u001b[0m\n\u001b[0;32m    640\u001b[0m     \u001b[1;32mdef\u001b[0m \u001b[0mhttp_error_default\u001b[0m\u001b[1;33m(\u001b[0m\u001b[0mself\u001b[0m\u001b[1;33m,\u001b[0m \u001b[0mreq\u001b[0m\u001b[1;33m,\u001b[0m \u001b[0mfp\u001b[0m\u001b[1;33m,\u001b[0m \u001b[0mcode\u001b[0m\u001b[1;33m,\u001b[0m \u001b[0mmsg\u001b[0m\u001b[1;33m,\u001b[0m \u001b[0mhdrs\u001b[0m\u001b[1;33m)\u001b[0m\u001b[1;33m:\u001b[0m\u001b[1;33m\u001b[0m\u001b[1;33m\u001b[0m\u001b[0m\n\u001b[1;32m--> 641\u001b[1;33m         \u001b[1;32mraise\u001b[0m \u001b[0mHTTPError\u001b[0m\u001b[1;33m(\u001b[0m\u001b[0mreq\u001b[0m\u001b[1;33m.\u001b[0m\u001b[0mfull_url\u001b[0m\u001b[1;33m,\u001b[0m \u001b[0mcode\u001b[0m\u001b[1;33m,\u001b[0m \u001b[0mmsg\u001b[0m\u001b[1;33m,\u001b[0m \u001b[0mhdrs\u001b[0m\u001b[1;33m,\u001b[0m \u001b[0mfp\u001b[0m\u001b[1;33m)\u001b[0m\u001b[1;33m\u001b[0m\u001b[1;33m\u001b[0m\u001b[0m\n\u001b[0m\u001b[0;32m    642\u001b[0m \u001b[1;33m\u001b[0m\u001b[0m\n\u001b[0;32m    643\u001b[0m \u001b[1;32mclass\u001b[0m \u001b[0mHTTPRedirectHandler\u001b[0m\u001b[1;33m(\u001b[0m\u001b[0mBaseHandler\u001b[0m\u001b[1;33m)\u001b[0m\u001b[1;33m:\u001b[0m\u001b[1;33m\u001b[0m\u001b[1;33m\u001b[0m\u001b[0m\n",
      "\u001b[1;31mHTTPError\u001b[0m: HTTP Error 400: Bad Request"
     ]
    }
   ],
   "source": [
    "x= 'Breaking News: Donald Trump, the president of the USA is looking to sign a deal to mine the moon'\n",
    "tb = TextBlob(x)\n",
    "tb.detect_language()\n"
   ]
  },
  {
   "cell_type": "code",
   "execution_count": 163,
   "id": "2b8323be",
   "metadata": {
    "ExecuteTime": {
     "end_time": "2022-11-08T12:04:34.968434Z",
     "start_time": "2022-11-08T12:04:34.810374Z"
    }
   },
   "outputs": [
    {
     "ename": "HTTPError",
     "evalue": "HTTP Error 400: Bad Request",
     "output_type": "error",
     "traceback": [
      "\u001b[1;31m---------------------------------------------------------------------------\u001b[0m",
      "\u001b[1;31mHTTPError\u001b[0m                                 Traceback (most recent call last)",
      "\u001b[1;32m~\\AppData\\Local\\Temp/ipykernel_19480/2704529995.py\u001b[0m in \u001b[0;36m<module>\u001b[1;34m\u001b[0m\n\u001b[1;32m----> 1\u001b[1;33m \u001b[0mtb\u001b[0m\u001b[1;33m.\u001b[0m\u001b[0mdetect_language\u001b[0m\u001b[1;33m(\u001b[0m\u001b[1;33m)\u001b[0m\u001b[1;33m\u001b[0m\u001b[1;33m\u001b[0m\u001b[0m\n\u001b[0m",
      "\u001b[1;32m~\\Anaconda3\\lib\\site-packages\\textblob\\blob.py\u001b[0m in \u001b[0;36mdetect_language\u001b[1;34m(self)\u001b[0m\n\u001b[0;32m    595\u001b[0m             \u001b[0mDeprecationWarning\u001b[0m\u001b[1;33m\u001b[0m\u001b[1;33m\u001b[0m\u001b[0m\n\u001b[0;32m    596\u001b[0m         )\n\u001b[1;32m--> 597\u001b[1;33m         \u001b[1;32mreturn\u001b[0m \u001b[0mself\u001b[0m\u001b[1;33m.\u001b[0m\u001b[0mtranslator\u001b[0m\u001b[1;33m.\u001b[0m\u001b[0mdetect\u001b[0m\u001b[1;33m(\u001b[0m\u001b[0mself\u001b[0m\u001b[1;33m.\u001b[0m\u001b[0mraw\u001b[0m\u001b[1;33m)\u001b[0m\u001b[1;33m\u001b[0m\u001b[1;33m\u001b[0m\u001b[0m\n\u001b[0m\u001b[0;32m    598\u001b[0m \u001b[1;33m\u001b[0m\u001b[0m\n\u001b[0;32m    599\u001b[0m     \u001b[1;32mdef\u001b[0m \u001b[0mcorrect\u001b[0m\u001b[1;33m(\u001b[0m\u001b[0mself\u001b[0m\u001b[1;33m)\u001b[0m\u001b[1;33m:\u001b[0m\u001b[1;33m\u001b[0m\u001b[1;33m\u001b[0m\u001b[0m\n",
      "\u001b[1;32m~\\Anaconda3\\lib\\site-packages\\textblob\\translate.py\u001b[0m in \u001b[0;36mdetect\u001b[1;34m(self, source, host, type_)\u001b[0m\n\u001b[0;32m     74\u001b[0m             \u001b[0mclient\u001b[0m\u001b[1;33m=\u001b[0m\u001b[1;34m\"te\"\u001b[0m\u001b[1;33m,\u001b[0m\u001b[1;33m\u001b[0m\u001b[1;33m\u001b[0m\u001b[0m\n\u001b[0;32m     75\u001b[0m         )\n\u001b[1;32m---> 76\u001b[1;33m         \u001b[0mresponse\u001b[0m \u001b[1;33m=\u001b[0m \u001b[0mself\u001b[0m\u001b[1;33m.\u001b[0m\u001b[0m_request\u001b[0m\u001b[1;33m(\u001b[0m\u001b[0murl\u001b[0m\u001b[1;33m,\u001b[0m \u001b[0mhost\u001b[0m\u001b[1;33m=\u001b[0m\u001b[0mhost\u001b[0m\u001b[1;33m,\u001b[0m \u001b[0mtype_\u001b[0m\u001b[1;33m=\u001b[0m\u001b[0mtype_\u001b[0m\u001b[1;33m,\u001b[0m \u001b[0mdata\u001b[0m\u001b[1;33m=\u001b[0m\u001b[0mdata\u001b[0m\u001b[1;33m)\u001b[0m\u001b[1;33m\u001b[0m\u001b[1;33m\u001b[0m\u001b[0m\n\u001b[0m\u001b[0;32m     77\u001b[0m         \u001b[0mresult\u001b[0m\u001b[1;33m,\u001b[0m \u001b[0mlanguage\u001b[0m \u001b[1;33m=\u001b[0m \u001b[0mjson\u001b[0m\u001b[1;33m.\u001b[0m\u001b[0mloads\u001b[0m\u001b[1;33m(\u001b[0m\u001b[0mresponse\u001b[0m\u001b[1;33m)\u001b[0m\u001b[1;33m\u001b[0m\u001b[1;33m\u001b[0m\u001b[0m\n\u001b[0;32m     78\u001b[0m         \u001b[1;32mreturn\u001b[0m \u001b[0mlanguage\u001b[0m\u001b[1;33m\u001b[0m\u001b[1;33m\u001b[0m\u001b[0m\n",
      "\u001b[1;32m~\\Anaconda3\\lib\\site-packages\\textblob\\translate.py\u001b[0m in \u001b[0;36m_request\u001b[1;34m(self, url, host, type_, data)\u001b[0m\n\u001b[0;32m     94\u001b[0m         \u001b[1;32mif\u001b[0m \u001b[0mhost\u001b[0m \u001b[1;32mor\u001b[0m \u001b[0mtype_\u001b[0m\u001b[1;33m:\u001b[0m\u001b[1;33m\u001b[0m\u001b[1;33m\u001b[0m\u001b[0m\n\u001b[0;32m     95\u001b[0m             \u001b[0mreq\u001b[0m\u001b[1;33m.\u001b[0m\u001b[0mset_proxy\u001b[0m\u001b[1;33m(\u001b[0m\u001b[0mhost\u001b[0m\u001b[1;33m=\u001b[0m\u001b[0mhost\u001b[0m\u001b[1;33m,\u001b[0m \u001b[0mtype\u001b[0m\u001b[1;33m=\u001b[0m\u001b[0mtype_\u001b[0m\u001b[1;33m)\u001b[0m\u001b[1;33m\u001b[0m\u001b[1;33m\u001b[0m\u001b[0m\n\u001b[1;32m---> 96\u001b[1;33m         \u001b[0mresp\u001b[0m \u001b[1;33m=\u001b[0m \u001b[0mrequest\u001b[0m\u001b[1;33m.\u001b[0m\u001b[0murlopen\u001b[0m\u001b[1;33m(\u001b[0m\u001b[0mreq\u001b[0m\u001b[1;33m)\u001b[0m\u001b[1;33m\u001b[0m\u001b[1;33m\u001b[0m\u001b[0m\n\u001b[0m\u001b[0;32m     97\u001b[0m         \u001b[0mcontent\u001b[0m \u001b[1;33m=\u001b[0m \u001b[0mresp\u001b[0m\u001b[1;33m.\u001b[0m\u001b[0mread\u001b[0m\u001b[1;33m(\u001b[0m\u001b[1;33m)\u001b[0m\u001b[1;33m\u001b[0m\u001b[1;33m\u001b[0m\u001b[0m\n\u001b[0;32m     98\u001b[0m         \u001b[1;32mreturn\u001b[0m \u001b[0mcontent\u001b[0m\u001b[1;33m.\u001b[0m\u001b[0mdecode\u001b[0m\u001b[1;33m(\u001b[0m\u001b[1;34m'utf-8'\u001b[0m\u001b[1;33m)\u001b[0m\u001b[1;33m\u001b[0m\u001b[1;33m\u001b[0m\u001b[0m\n",
      "\u001b[1;32m~\\Anaconda3\\lib\\urllib\\request.py\u001b[0m in \u001b[0;36murlopen\u001b[1;34m(url, data, timeout, cafile, capath, cadefault, context)\u001b[0m\n\u001b[0;32m    212\u001b[0m     \u001b[1;32melse\u001b[0m\u001b[1;33m:\u001b[0m\u001b[1;33m\u001b[0m\u001b[1;33m\u001b[0m\u001b[0m\n\u001b[0;32m    213\u001b[0m         \u001b[0mopener\u001b[0m \u001b[1;33m=\u001b[0m \u001b[0m_opener\u001b[0m\u001b[1;33m\u001b[0m\u001b[1;33m\u001b[0m\u001b[0m\n\u001b[1;32m--> 214\u001b[1;33m     \u001b[1;32mreturn\u001b[0m \u001b[0mopener\u001b[0m\u001b[1;33m.\u001b[0m\u001b[0mopen\u001b[0m\u001b[1;33m(\u001b[0m\u001b[0murl\u001b[0m\u001b[1;33m,\u001b[0m \u001b[0mdata\u001b[0m\u001b[1;33m,\u001b[0m \u001b[0mtimeout\u001b[0m\u001b[1;33m)\u001b[0m\u001b[1;33m\u001b[0m\u001b[1;33m\u001b[0m\u001b[0m\n\u001b[0m\u001b[0;32m    215\u001b[0m \u001b[1;33m\u001b[0m\u001b[0m\n\u001b[0;32m    216\u001b[0m \u001b[1;32mdef\u001b[0m \u001b[0minstall_opener\u001b[0m\u001b[1;33m(\u001b[0m\u001b[0mopener\u001b[0m\u001b[1;33m)\u001b[0m\u001b[1;33m:\u001b[0m\u001b[1;33m\u001b[0m\u001b[1;33m\u001b[0m\u001b[0m\n",
      "\u001b[1;32m~\\Anaconda3\\lib\\urllib\\request.py\u001b[0m in \u001b[0;36mopen\u001b[1;34m(self, fullurl, data, timeout)\u001b[0m\n\u001b[0;32m    521\u001b[0m         \u001b[1;32mfor\u001b[0m \u001b[0mprocessor\u001b[0m \u001b[1;32min\u001b[0m \u001b[0mself\u001b[0m\u001b[1;33m.\u001b[0m\u001b[0mprocess_response\u001b[0m\u001b[1;33m.\u001b[0m\u001b[0mget\u001b[0m\u001b[1;33m(\u001b[0m\u001b[0mprotocol\u001b[0m\u001b[1;33m,\u001b[0m \u001b[1;33m[\u001b[0m\u001b[1;33m]\u001b[0m\u001b[1;33m)\u001b[0m\u001b[1;33m:\u001b[0m\u001b[1;33m\u001b[0m\u001b[1;33m\u001b[0m\u001b[0m\n\u001b[0;32m    522\u001b[0m             \u001b[0mmeth\u001b[0m \u001b[1;33m=\u001b[0m \u001b[0mgetattr\u001b[0m\u001b[1;33m(\u001b[0m\u001b[0mprocessor\u001b[0m\u001b[1;33m,\u001b[0m \u001b[0mmeth_name\u001b[0m\u001b[1;33m)\u001b[0m\u001b[1;33m\u001b[0m\u001b[1;33m\u001b[0m\u001b[0m\n\u001b[1;32m--> 523\u001b[1;33m             \u001b[0mresponse\u001b[0m \u001b[1;33m=\u001b[0m \u001b[0mmeth\u001b[0m\u001b[1;33m(\u001b[0m\u001b[0mreq\u001b[0m\u001b[1;33m,\u001b[0m \u001b[0mresponse\u001b[0m\u001b[1;33m)\u001b[0m\u001b[1;33m\u001b[0m\u001b[1;33m\u001b[0m\u001b[0m\n\u001b[0m\u001b[0;32m    524\u001b[0m \u001b[1;33m\u001b[0m\u001b[0m\n\u001b[0;32m    525\u001b[0m         \u001b[1;32mreturn\u001b[0m \u001b[0mresponse\u001b[0m\u001b[1;33m\u001b[0m\u001b[1;33m\u001b[0m\u001b[0m\n",
      "\u001b[1;32m~\\Anaconda3\\lib\\urllib\\request.py\u001b[0m in \u001b[0;36mhttp_response\u001b[1;34m(self, request, response)\u001b[0m\n\u001b[0;32m    630\u001b[0m         \u001b[1;31m# request was successfully received, understood, and accepted.\u001b[0m\u001b[1;33m\u001b[0m\u001b[1;33m\u001b[0m\u001b[0m\n\u001b[0;32m    631\u001b[0m         \u001b[1;32mif\u001b[0m \u001b[1;32mnot\u001b[0m \u001b[1;33m(\u001b[0m\u001b[1;36m200\u001b[0m \u001b[1;33m<=\u001b[0m \u001b[0mcode\u001b[0m \u001b[1;33m<\u001b[0m \u001b[1;36m300\u001b[0m\u001b[1;33m)\u001b[0m\u001b[1;33m:\u001b[0m\u001b[1;33m\u001b[0m\u001b[1;33m\u001b[0m\u001b[0m\n\u001b[1;32m--> 632\u001b[1;33m             response = self.parent.error(\n\u001b[0m\u001b[0;32m    633\u001b[0m                 'http', request, response, code, msg, hdrs)\n\u001b[0;32m    634\u001b[0m \u001b[1;33m\u001b[0m\u001b[0m\n",
      "\u001b[1;32m~\\Anaconda3\\lib\\urllib\\request.py\u001b[0m in \u001b[0;36merror\u001b[1;34m(self, proto, *args)\u001b[0m\n\u001b[0;32m    559\u001b[0m         \u001b[1;32mif\u001b[0m \u001b[0mhttp_err\u001b[0m\u001b[1;33m:\u001b[0m\u001b[1;33m\u001b[0m\u001b[1;33m\u001b[0m\u001b[0m\n\u001b[0;32m    560\u001b[0m             \u001b[0margs\u001b[0m \u001b[1;33m=\u001b[0m \u001b[1;33m(\u001b[0m\u001b[0mdict\u001b[0m\u001b[1;33m,\u001b[0m \u001b[1;34m'default'\u001b[0m\u001b[1;33m,\u001b[0m \u001b[1;34m'http_error_default'\u001b[0m\u001b[1;33m)\u001b[0m \u001b[1;33m+\u001b[0m \u001b[0morig_args\u001b[0m\u001b[1;33m\u001b[0m\u001b[1;33m\u001b[0m\u001b[0m\n\u001b[1;32m--> 561\u001b[1;33m             \u001b[1;32mreturn\u001b[0m \u001b[0mself\u001b[0m\u001b[1;33m.\u001b[0m\u001b[0m_call_chain\u001b[0m\u001b[1;33m(\u001b[0m\u001b[1;33m*\u001b[0m\u001b[0margs\u001b[0m\u001b[1;33m)\u001b[0m\u001b[1;33m\u001b[0m\u001b[1;33m\u001b[0m\u001b[0m\n\u001b[0m\u001b[0;32m    562\u001b[0m \u001b[1;33m\u001b[0m\u001b[0m\n\u001b[0;32m    563\u001b[0m \u001b[1;31m# XXX probably also want an abstract factory that knows when it makes\u001b[0m\u001b[1;33m\u001b[0m\u001b[1;33m\u001b[0m\u001b[0m\n",
      "\u001b[1;32m~\\Anaconda3\\lib\\urllib\\request.py\u001b[0m in \u001b[0;36m_call_chain\u001b[1;34m(self, chain, kind, meth_name, *args)\u001b[0m\n\u001b[0;32m    492\u001b[0m         \u001b[1;32mfor\u001b[0m \u001b[0mhandler\u001b[0m \u001b[1;32min\u001b[0m \u001b[0mhandlers\u001b[0m\u001b[1;33m:\u001b[0m\u001b[1;33m\u001b[0m\u001b[1;33m\u001b[0m\u001b[0m\n\u001b[0;32m    493\u001b[0m             \u001b[0mfunc\u001b[0m \u001b[1;33m=\u001b[0m \u001b[0mgetattr\u001b[0m\u001b[1;33m(\u001b[0m\u001b[0mhandler\u001b[0m\u001b[1;33m,\u001b[0m \u001b[0mmeth_name\u001b[0m\u001b[1;33m)\u001b[0m\u001b[1;33m\u001b[0m\u001b[1;33m\u001b[0m\u001b[0m\n\u001b[1;32m--> 494\u001b[1;33m             \u001b[0mresult\u001b[0m \u001b[1;33m=\u001b[0m \u001b[0mfunc\u001b[0m\u001b[1;33m(\u001b[0m\u001b[1;33m*\u001b[0m\u001b[0margs\u001b[0m\u001b[1;33m)\u001b[0m\u001b[1;33m\u001b[0m\u001b[1;33m\u001b[0m\u001b[0m\n\u001b[0m\u001b[0;32m    495\u001b[0m             \u001b[1;32mif\u001b[0m \u001b[0mresult\u001b[0m \u001b[1;32mis\u001b[0m \u001b[1;32mnot\u001b[0m \u001b[1;32mNone\u001b[0m\u001b[1;33m:\u001b[0m\u001b[1;33m\u001b[0m\u001b[1;33m\u001b[0m\u001b[0m\n\u001b[0;32m    496\u001b[0m                 \u001b[1;32mreturn\u001b[0m \u001b[0mresult\u001b[0m\u001b[1;33m\u001b[0m\u001b[1;33m\u001b[0m\u001b[0m\n",
      "\u001b[1;32m~\\Anaconda3\\lib\\urllib\\request.py\u001b[0m in \u001b[0;36mhttp_error_default\u001b[1;34m(self, req, fp, code, msg, hdrs)\u001b[0m\n\u001b[0;32m    639\u001b[0m \u001b[1;32mclass\u001b[0m \u001b[0mHTTPDefaultErrorHandler\u001b[0m\u001b[1;33m(\u001b[0m\u001b[0mBaseHandler\u001b[0m\u001b[1;33m)\u001b[0m\u001b[1;33m:\u001b[0m\u001b[1;33m\u001b[0m\u001b[1;33m\u001b[0m\u001b[0m\n\u001b[0;32m    640\u001b[0m     \u001b[1;32mdef\u001b[0m \u001b[0mhttp_error_default\u001b[0m\u001b[1;33m(\u001b[0m\u001b[0mself\u001b[0m\u001b[1;33m,\u001b[0m \u001b[0mreq\u001b[0m\u001b[1;33m,\u001b[0m \u001b[0mfp\u001b[0m\u001b[1;33m,\u001b[0m \u001b[0mcode\u001b[0m\u001b[1;33m,\u001b[0m \u001b[0mmsg\u001b[0m\u001b[1;33m,\u001b[0m \u001b[0mhdrs\u001b[0m\u001b[1;33m)\u001b[0m\u001b[1;33m:\u001b[0m\u001b[1;33m\u001b[0m\u001b[1;33m\u001b[0m\u001b[0m\n\u001b[1;32m--> 641\u001b[1;33m         \u001b[1;32mraise\u001b[0m \u001b[0mHTTPError\u001b[0m\u001b[1;33m(\u001b[0m\u001b[0mreq\u001b[0m\u001b[1;33m.\u001b[0m\u001b[0mfull_url\u001b[0m\u001b[1;33m,\u001b[0m \u001b[0mcode\u001b[0m\u001b[1;33m,\u001b[0m \u001b[0mmsg\u001b[0m\u001b[1;33m,\u001b[0m \u001b[0mhdrs\u001b[0m\u001b[1;33m,\u001b[0m \u001b[0mfp\u001b[0m\u001b[1;33m)\u001b[0m\u001b[1;33m\u001b[0m\u001b[1;33m\u001b[0m\u001b[0m\n\u001b[0m\u001b[0;32m    642\u001b[0m \u001b[1;33m\u001b[0m\u001b[0m\n\u001b[0;32m    643\u001b[0m \u001b[1;32mclass\u001b[0m \u001b[0mHTTPRedirectHandler\u001b[0m\u001b[1;33m(\u001b[0m\u001b[0mBaseHandler\u001b[0m\u001b[1;33m)\u001b[0m\u001b[1;33m:\u001b[0m\u001b[1;33m\u001b[0m\u001b[1;33m\u001b[0m\u001b[0m\n",
      "\u001b[1;31mHTTPError\u001b[0m: HTTP Error 400: Bad Request"
     ]
    }
   ],
   "source": [
    "tb.detect_language()"
   ]
  },
  {
   "cell_type": "code",
   "execution_count": 167,
   "id": "a2828e58",
   "metadata": {
    "ExecuteTime": {
     "end_time": "2022-11-08T12:07:16.833661Z",
     "start_time": "2022-11-08T12:07:16.664489Z"
    }
   },
   "outputs": [
    {
     "ename": "AttributeError",
     "evalue": "'list' object has no attribute 'strip'",
     "output_type": "error",
     "traceback": [
      "\u001b[1;31m---------------------------------------------------------------------------\u001b[0m",
      "\u001b[1;31mAttributeError\u001b[0m                            Traceback (most recent call last)",
      "\u001b[1;32m~\\AppData\\Local\\Temp/ipykernel_19480/2898587039.py\u001b[0m in \u001b[0;36m<module>\u001b[1;34m\u001b[0m\n\u001b[1;32m----> 1\u001b[1;33m \u001b[0mtb\u001b[0m\u001b[1;33m.\u001b[0m\u001b[0mtranslate\u001b[0m\u001b[1;33m(\u001b[0m\u001b[0mto\u001b[0m\u001b[1;33m=\u001b[0m\u001b[1;34m'tel'\u001b[0m\u001b[1;33m)\u001b[0m\u001b[1;33m\u001b[0m\u001b[1;33m\u001b[0m\u001b[0m\n\u001b[0m",
      "\u001b[1;32m~\\Anaconda3\\lib\\site-packages\\textblob\\blob.py\u001b[0m in \u001b[0;36mtranslate\u001b[1;34m(self, from_lang, to)\u001b[0m\n\u001b[0;32m    566\u001b[0m             \u001b[0mDeprecationWarning\u001b[0m\u001b[1;33m\u001b[0m\u001b[1;33m\u001b[0m\u001b[0m\n\u001b[0;32m    567\u001b[0m         )\n\u001b[1;32m--> 568\u001b[1;33m         return self.__class__(self.translator.translate(self.raw,\n\u001b[0m\u001b[0;32m    569\u001b[0m                               from_lang=from_lang, to_lang=to))\n\u001b[0;32m    570\u001b[0m \u001b[1;33m\u001b[0m\u001b[0m\n",
      "\u001b[1;32m~\\Anaconda3\\lib\\site-packages\\textblob\\translate.py\u001b[0m in \u001b[0;36mtranslate\u001b[1;34m(self, source, from_lang, to_lang, host, type_)\u001b[0m\n\u001b[0;32m     59\u001b[0m             \u001b[1;32mexcept\u001b[0m \u001b[0mIndexError\u001b[0m\u001b[1;33m:\u001b[0m\u001b[1;33m\u001b[0m\u001b[1;33m\u001b[0m\u001b[0m\n\u001b[0;32m     60\u001b[0m                 \u001b[1;32mpass\u001b[0m\u001b[1;33m\u001b[0m\u001b[1;33m\u001b[0m\u001b[0m\n\u001b[1;32m---> 61\u001b[1;33m         \u001b[0mself\u001b[0m\u001b[1;33m.\u001b[0m\u001b[0m_validate_translation\u001b[0m\u001b[1;33m(\u001b[0m\u001b[0msource\u001b[0m\u001b[1;33m,\u001b[0m \u001b[0mresult\u001b[0m\u001b[1;33m)\u001b[0m\u001b[1;33m\u001b[0m\u001b[1;33m\u001b[0m\u001b[0m\n\u001b[0m\u001b[0;32m     62\u001b[0m         \u001b[1;32mreturn\u001b[0m \u001b[0mresult\u001b[0m\u001b[1;33m\u001b[0m\u001b[1;33m\u001b[0m\u001b[0m\n\u001b[0;32m     63\u001b[0m \u001b[1;33m\u001b[0m\u001b[0m\n",
      "\u001b[1;32m~\\Anaconda3\\lib\\site-packages\\textblob\\translate.py\u001b[0m in \u001b[0;36m_validate_translation\u001b[1;34m(self, source, result)\u001b[0m\n\u001b[0;32m     86\u001b[0m         \u001b[1;32mif\u001b[0m \u001b[0mPY2\u001b[0m\u001b[1;33m:\u001b[0m\u001b[1;33m\u001b[0m\u001b[1;33m\u001b[0m\u001b[0m\n\u001b[0;32m     87\u001b[0m             \u001b[0mresult\u001b[0m \u001b[1;33m=\u001b[0m \u001b[0mresult\u001b[0m\u001b[1;33m.\u001b[0m\u001b[0mencode\u001b[0m\u001b[1;33m(\u001b[0m\u001b[1;34m'utf-8'\u001b[0m\u001b[1;33m)\u001b[0m\u001b[1;33m\u001b[0m\u001b[1;33m\u001b[0m\u001b[0m\n\u001b[1;32m---> 88\u001b[1;33m         \u001b[1;32mif\u001b[0m \u001b[0mresult\u001b[0m\u001b[1;33m.\u001b[0m\u001b[0mstrip\u001b[0m\u001b[1;33m(\u001b[0m\u001b[1;33m)\u001b[0m \u001b[1;33m==\u001b[0m \u001b[0msource\u001b[0m\u001b[1;33m.\u001b[0m\u001b[0mstrip\u001b[0m\u001b[1;33m(\u001b[0m\u001b[1;33m)\u001b[0m\u001b[1;33m:\u001b[0m\u001b[1;33m\u001b[0m\u001b[1;33m\u001b[0m\u001b[0m\n\u001b[0m\u001b[0;32m     89\u001b[0m             \u001b[1;32mraise\u001b[0m \u001b[0mNotTranslated\u001b[0m\u001b[1;33m(\u001b[0m\u001b[1;34m'Translation API returned the input string unchanged.'\u001b[0m\u001b[1;33m)\u001b[0m\u001b[1;33m\u001b[0m\u001b[1;33m\u001b[0m\u001b[0m\n\u001b[0;32m     90\u001b[0m \u001b[1;33m\u001b[0m\u001b[0m\n",
      "\u001b[1;31mAttributeError\u001b[0m: 'list' object has no attribute 'strip'"
     ]
    }
   ],
   "source": [
    "tb.translate(to='tel')"
   ]
  },
  {
   "cell_type": "markdown",
   "id": "c032c3bb",
   "metadata": {
    "ExecuteTime": {
     "end_time": "2022-11-08T12:08:20.727966Z",
     "start_time": "2022-11-08T12:08:20.724369Z"
    }
   },
   "source": [
    "# Use inbuilt sentiment classifier"
   ]
  },
  {
   "cell_type": "code",
   "execution_count": 169,
   "id": "7343a660",
   "metadata": {
    "ExecuteTime": {
     "end_time": "2022-11-08T12:09:18.147491Z",
     "start_time": "2022-11-08T12:09:18.136343Z"
    }
   },
   "outputs": [],
   "source": [
    "x = 'we all have to unite to fight with Corona virus.'"
   ]
  },
  {
   "cell_type": "code",
   "execution_count": 171,
   "id": "b64b4fa1",
   "metadata": {
    "ExecuteTime": {
     "end_time": "2022-11-08T12:10:30.363321Z",
     "start_time": "2022-11-08T12:10:30.349291Z"
    }
   },
   "outputs": [],
   "source": [
    "from textblob.sentiments import NaiveBayesAnalyzer \n",
    "tb = TextBlob(x, analyzer=NaiveBayesAnalyzer())"
   ]
  },
  {
   "cell_type": "code",
   "execution_count": 172,
   "id": "d29dc67f",
   "metadata": {
    "ExecuteTime": {
     "end_time": "2022-11-08T12:10:48.922175Z",
     "start_time": "2022-11-08T12:10:48.917162Z"
    }
   },
   "outputs": [
    {
     "data": {
      "text/plain": [
       "Sentiment(classification='pos', p_pos=0.8697228421832339, p_neg=0.1302771578167655)"
      ]
     },
     "execution_count": 172,
     "metadata": {},
     "output_type": "execute_result"
    }
   ],
   "source": [
    "tb.sentiment"
   ]
  },
  {
   "cell_type": "code",
   "execution_count": 173,
   "id": "74cb8338",
   "metadata": {
    "ExecuteTime": {
     "end_time": "2022-11-08T12:17:17.960808Z",
     "start_time": "2022-11-08T12:17:17.949430Z"
    }
   },
   "outputs": [],
   "source": [
    "y='we all are suffering from corona'"
   ]
  },
  {
   "cell_type": "code",
   "execution_count": 174,
   "id": "924acbdf",
   "metadata": {
    "ExecuteTime": {
     "end_time": "2022-11-08T12:17:41.399584Z",
     "start_time": "2022-11-08T12:17:37.128008Z"
    }
   },
   "outputs": [
    {
     "data": {
      "text/plain": [
       "Sentiment(classification='pos', p_pos=0.8530393643704917, p_neg=0.1469606356295085)"
      ]
     },
     "execution_count": 174,
     "metadata": {},
     "output_type": "execute_result"
    }
   ],
   "source": [
    "from textblob.sentiments import NaiveBayesAnalyzer \n",
    "tb = TextBlob(y, analyzer=NaiveBayesAnalyzer())\n",
    "tb.sentiment"
   ]
  },
  {
   "cell_type": "markdown",
   "id": "8b461fb2",
   "metadata": {},
   "source": [
    "#### Observation: though it is negative algo shows as positive so need to develop own sentiment analyser"
   ]
  },
  {
   "cell_type": "markdown",
   "id": "2b6adcaa",
   "metadata": {},
   "source": [
    "# Advanced text processing"
   ]
  },
  {
   "cell_type": "code",
   "execution_count": 175,
   "id": "4de865b3",
   "metadata": {
    "ExecuteTime": {
     "end_time": "2022-11-08T12:19:17.929253Z",
     "start_time": "2022-11-08T12:19:17.913002Z"
    }
   },
   "outputs": [],
   "source": [
    "x = 'thanks for watching my video'"
   ]
  },
  {
   "cell_type": "code",
   "execution_count": 176,
   "id": "04b586f8",
   "metadata": {
    "ExecuteTime": {
     "end_time": "2022-11-08T12:19:28.824240Z",
     "start_time": "2022-11-08T12:19:28.813718Z"
    }
   },
   "outputs": [],
   "source": [
    "tb = TextBlob(x)"
   ]
  },
  {
   "cell_type": "code",
   "execution_count": 177,
   "id": "1b8b064d",
   "metadata": {
    "ExecuteTime": {
     "end_time": "2022-11-08T12:19:38.749812Z",
     "start_time": "2022-11-08T12:19:38.733282Z"
    }
   },
   "outputs": [
    {
     "data": {
      "text/plain": [
       "[WordList(['thanks']),\n",
       " WordList(['for']),\n",
       " WordList(['watching']),\n",
       " WordList(['my']),\n",
       " WordList(['video'])]"
      ]
     },
     "execution_count": 177,
     "metadata": {},
     "output_type": "execute_result"
    }
   ],
   "source": [
    "tb.ngrams(1)"
   ]
  },
  {
   "cell_type": "code",
   "execution_count": 178,
   "id": "c1d5805a",
   "metadata": {
    "ExecuteTime": {
     "end_time": "2022-11-08T12:19:46.793948Z",
     "start_time": "2022-11-08T12:19:46.774965Z"
    }
   },
   "outputs": [
    {
     "data": {
      "text/plain": [
       "[WordList(['thanks', 'for', 'watching']),\n",
       " WordList(['for', 'watching', 'my']),\n",
       " WordList(['watching', 'my', 'video'])]"
      ]
     },
     "execution_count": 178,
     "metadata": {},
     "output_type": "execute_result"
    }
   ],
   "source": [
    "tb.ngrams(3)"
   ]
  },
  {
   "cell_type": "markdown",
   "id": "ea79a0f3",
   "metadata": {},
   "source": [
    "# Bag of Words"
   ]
  },
  {
   "cell_type": "code",
   "execution_count": 190,
   "id": "440bc682",
   "metadata": {
    "ExecuteTime": {
     "end_time": "2022-11-08T12:24:12.602018Z",
     "start_time": "2022-11-08T12:24:12.597896Z"
    }
   },
   "outputs": [],
   "source": [
    "x = ['This is first sentence this is', 'this is second', 'this is last is' ]"
   ]
  },
  {
   "cell_type": "code",
   "execution_count": 191,
   "id": "1bfbec2a",
   "metadata": {
    "ExecuteTime": {
     "end_time": "2022-11-08T12:24:12.959552Z",
     "start_time": "2022-11-08T12:24:12.954706Z"
    }
   },
   "outputs": [],
   "source": [
    "from sklearn.feature_extraction.text import CountVectorizer\n",
    "cv = CountVectorizer(ngram_range=(1,1))\n",
    "text_counts = cv.fit_transform(x)"
   ]
  },
  {
   "cell_type": "code",
   "execution_count": 192,
   "id": "c8889995",
   "metadata": {
    "ExecuteTime": {
     "end_time": "2022-11-08T12:24:13.176749Z",
     "start_time": "2022-11-08T12:24:13.167243Z"
    }
   },
   "outputs": [
    {
     "data": {
      "text/plain": [
       "<3x6 sparse matrix of type '<class 'numpy.int64'>'\n",
       "\twith 10 stored elements in Compressed Sparse Row format>"
      ]
     },
     "execution_count": 192,
     "metadata": {},
     "output_type": "execute_result"
    }
   ],
   "source": [
    "text_counts"
   ]
  },
  {
   "cell_type": "code",
   "execution_count": 193,
   "id": "f099d19a",
   "metadata": {
    "ExecuteTime": {
     "end_time": "2022-11-08T12:24:13.395814Z",
     "start_time": "2022-11-08T12:24:13.385246Z"
    }
   },
   "outputs": [
    {
     "data": {
      "text/plain": [
       "array([[1, 2, 0, 0, 1, 2],\n",
       "       [0, 1, 0, 1, 0, 1],\n",
       "       [0, 2, 1, 0, 0, 1]], dtype=int64)"
      ]
     },
     "execution_count": 193,
     "metadata": {},
     "output_type": "execute_result"
    }
   ],
   "source": [
    "text_counts.toarray()"
   ]
  },
  {
   "cell_type": "code",
   "execution_count": 194,
   "id": "a9411de3",
   "metadata": {
    "ExecuteTime": {
     "end_time": "2022-11-08T12:24:13.693283Z",
     "start_time": "2022-11-08T12:24:13.685161Z"
    }
   },
   "outputs": [
    {
     "name": "stderr",
     "output_type": "stream",
     "text": [
      "C:\\Users\\pbann\\Anaconda3\\lib\\site-packages\\sklearn\\utils\\deprecation.py:87: FutureWarning: Function get_feature_names is deprecated; get_feature_names is deprecated in 1.0 and will be removed in 1.2. Please use get_feature_names_out instead.\n",
      "  warnings.warn(msg, category=FutureWarning)\n"
     ]
    }
   ],
   "source": [
    "bow = pd.DataFrame(text_counts.toarray(), columns= cv.get_feature_names())"
   ]
  },
  {
   "cell_type": "code",
   "execution_count": 195,
   "id": "ecf26c84",
   "metadata": {
    "ExecuteTime": {
     "end_time": "2022-11-08T12:24:14.771527Z",
     "start_time": "2022-11-08T12:24:14.760321Z"
    }
   },
   "outputs": [
    {
     "data": {
      "text/html": [
       "<div>\n",
       "<style scoped>\n",
       "    .dataframe tbody tr th:only-of-type {\n",
       "        vertical-align: middle;\n",
       "    }\n",
       "\n",
       "    .dataframe tbody tr th {\n",
       "        vertical-align: top;\n",
       "    }\n",
       "\n",
       "    .dataframe thead th {\n",
       "        text-align: right;\n",
       "    }\n",
       "</style>\n",
       "<table border=\"1\" class=\"dataframe\">\n",
       "  <thead>\n",
       "    <tr style=\"text-align: right;\">\n",
       "      <th></th>\n",
       "      <th>first</th>\n",
       "      <th>is</th>\n",
       "      <th>last</th>\n",
       "      <th>second</th>\n",
       "      <th>sentence</th>\n",
       "      <th>this</th>\n",
       "    </tr>\n",
       "  </thead>\n",
       "  <tbody>\n",
       "    <tr>\n",
       "      <th>0</th>\n",
       "      <td>1</td>\n",
       "      <td>2</td>\n",
       "      <td>0</td>\n",
       "      <td>0</td>\n",
       "      <td>1</td>\n",
       "      <td>2</td>\n",
       "    </tr>\n",
       "    <tr>\n",
       "      <th>1</th>\n",
       "      <td>0</td>\n",
       "      <td>1</td>\n",
       "      <td>0</td>\n",
       "      <td>1</td>\n",
       "      <td>0</td>\n",
       "      <td>1</td>\n",
       "    </tr>\n",
       "    <tr>\n",
       "      <th>2</th>\n",
       "      <td>0</td>\n",
       "      <td>2</td>\n",
       "      <td>1</td>\n",
       "      <td>0</td>\n",
       "      <td>0</td>\n",
       "      <td>1</td>\n",
       "    </tr>\n",
       "  </tbody>\n",
       "</table>\n",
       "</div>"
      ],
      "text/plain": [
       "   first  is  last  second  sentence  this\n",
       "0      1   2     0       0         1     2\n",
       "1      0   1     0       1         0     1\n",
       "2      0   2     1       0         0     1"
      ]
     },
     "execution_count": 195,
     "metadata": {},
     "output_type": "execute_result"
    }
   ],
   "source": [
    "bow"
   ]
  },
  {
   "cell_type": "markdown",
   "id": "fc88dd2e",
   "metadata": {},
   "source": [
    "# term frequency : \n",
    "### Term frequency (TF) often used in Text Mining, NLP, and Information Retrieval tells you how frequently a term occurs in a document. In the context of natural language, terms correspond to words or phrases. Since every document is different in length, it is possible that a term would appear more often in longer documents than shorter ones. Thus, term frequency is often divided by the total number of terms in the document as a way of normalization.\n",
    "\n",
    "### TF(t) = (Number of times term t appears in a document) / (Total number of terms in the document)."
   ]
  },
  {
   "cell_type": "code",
   "execution_count": 196,
   "id": "c7b1c72d",
   "metadata": {
    "ExecuteTime": {
     "end_time": "2022-11-08T13:04:35.258393Z",
     "start_time": "2022-11-08T13:04:35.249312Z"
    }
   },
   "outputs": [],
   "source": [
    "tf=bow/bow.shape[1]"
   ]
  },
  {
   "cell_type": "code",
   "execution_count": 197,
   "id": "9c62c53c",
   "metadata": {
    "ExecuteTime": {
     "end_time": "2022-11-08T13:06:05.025508Z",
     "start_time": "2022-11-08T13:06:05.011992Z"
    }
   },
   "outputs": [],
   "source": [
    "tf = bow.copy()\n",
    "for index, row in enumerate(tf.iterrows()):\n",
    "    for col in row[1].index:\n",
    "        tf.loc[index, col] = tf.loc[index, col]/sum(row[1].values)"
   ]
  },
  {
   "cell_type": "code",
   "execution_count": 198,
   "id": "69ae951c",
   "metadata": {
    "ExecuteTime": {
     "end_time": "2022-11-08T13:06:23.522586Z",
     "start_time": "2022-11-08T13:06:23.507990Z"
    }
   },
   "outputs": [
    {
     "data": {
      "text/html": [
       "<div>\n",
       "<style scoped>\n",
       "    .dataframe tbody tr th:only-of-type {\n",
       "        vertical-align: middle;\n",
       "    }\n",
       "\n",
       "    .dataframe tbody tr th {\n",
       "        vertical-align: top;\n",
       "    }\n",
       "\n",
       "    .dataframe thead th {\n",
       "        text-align: right;\n",
       "    }\n",
       "</style>\n",
       "<table border=\"1\" class=\"dataframe\">\n",
       "  <thead>\n",
       "    <tr style=\"text-align: right;\">\n",
       "      <th></th>\n",
       "      <th>first</th>\n",
       "      <th>is</th>\n",
       "      <th>last</th>\n",
       "      <th>second</th>\n",
       "      <th>sentence</th>\n",
       "      <th>this</th>\n",
       "    </tr>\n",
       "  </thead>\n",
       "  <tbody>\n",
       "    <tr>\n",
       "      <th>0</th>\n",
       "      <td>0.166667</td>\n",
       "      <td>0.333333</td>\n",
       "      <td>0.00</td>\n",
       "      <td>0.000000</td>\n",
       "      <td>0.166667</td>\n",
       "      <td>0.333333</td>\n",
       "    </tr>\n",
       "    <tr>\n",
       "      <th>1</th>\n",
       "      <td>0.000000</td>\n",
       "      <td>0.333333</td>\n",
       "      <td>0.00</td>\n",
       "      <td>0.333333</td>\n",
       "      <td>0.000000</td>\n",
       "      <td>0.333333</td>\n",
       "    </tr>\n",
       "    <tr>\n",
       "      <th>2</th>\n",
       "      <td>0.000000</td>\n",
       "      <td>0.500000</td>\n",
       "      <td>0.25</td>\n",
       "      <td>0.000000</td>\n",
       "      <td>0.000000</td>\n",
       "      <td>0.250000</td>\n",
       "    </tr>\n",
       "  </tbody>\n",
       "</table>\n",
       "</div>"
      ],
      "text/plain": [
       "      first        is  last    second  sentence      this\n",
       "0  0.166667  0.333333  0.00  0.000000  0.166667  0.333333\n",
       "1  0.000000  0.333333  0.00  0.333333  0.000000  0.333333\n",
       "2  0.000000  0.500000  0.25  0.000000  0.000000  0.250000"
      ]
     },
     "execution_count": 198,
     "metadata": {},
     "output_type": "execute_result"
    }
   ],
   "source": [
    "tf"
   ]
  },
  {
   "cell_type": "code",
   "execution_count": 199,
   "id": "17b768c7",
   "metadata": {
    "ExecuteTime": {
     "end_time": "2022-11-08T13:06:58.242844Z",
     "start_time": "2022-11-08T13:06:58.230052Z"
    }
   },
   "outputs": [
    {
     "data": {
      "text/html": [
       "<div>\n",
       "<style scoped>\n",
       "    .dataframe tbody tr th:only-of-type {\n",
       "        vertical-align: middle;\n",
       "    }\n",
       "\n",
       "    .dataframe tbody tr th {\n",
       "        vertical-align: top;\n",
       "    }\n",
       "\n",
       "    .dataframe thead th {\n",
       "        text-align: right;\n",
       "    }\n",
       "</style>\n",
       "<table border=\"1\" class=\"dataframe\">\n",
       "  <thead>\n",
       "    <tr style=\"text-align: right;\">\n",
       "      <th></th>\n",
       "      <th>words</th>\n",
       "    </tr>\n",
       "  </thead>\n",
       "  <tbody>\n",
       "    <tr>\n",
       "      <th>0</th>\n",
       "      <td>This is first sentence this is</td>\n",
       "    </tr>\n",
       "    <tr>\n",
       "      <th>1</th>\n",
       "      <td>this is second</td>\n",
       "    </tr>\n",
       "    <tr>\n",
       "      <th>2</th>\n",
       "      <td>this is last is</td>\n",
       "    </tr>\n",
       "  </tbody>\n",
       "</table>\n",
       "</div>"
      ],
      "text/plain": [
       "                            words\n",
       "0  This is first sentence this is\n",
       "1                  this is second\n",
       "2                 this is last is"
      ]
     },
     "execution_count": 199,
     "metadata": {},
     "output_type": "execute_result"
    }
   ],
   "source": [
    "import numpy as np\n",
    "x_df = pd.DataFrame(x, columns=['words'])\n",
    "x_df"
   ]
  },
  {
   "cell_type": "code",
   "execution_count": 200,
   "id": "8744824e",
   "metadata": {
    "ExecuteTime": {
     "end_time": "2022-11-08T13:07:41.868657Z",
     "start_time": "2022-11-08T13:07:41.854688Z"
    }
   },
   "outputs": [],
   "source": [
    "from sklearn.feature_extraction.text import TfidfVectorizer\n",
    "tfidf = TfidfVectorizer()\n",
    "x_tfidf = tfidf.fit_transform(x_df['words'])"
   ]
  },
  {
   "cell_type": "code",
   "execution_count": 201,
   "id": "5a02fd7b",
   "metadata": {
    "ExecuteTime": {
     "end_time": "2022-11-08T13:07:51.186704Z",
     "start_time": "2022-11-08T13:07:51.169611Z"
    }
   },
   "outputs": [
    {
     "data": {
      "text/plain": [
       "array([[0.45688214, 0.5396839 , 0.        , 0.        , 0.45688214,\n",
       "        0.5396839 ],\n",
       "       [0.        , 0.45329466, 0.        , 0.76749457, 0.        ,\n",
       "        0.45329466],\n",
       "       [0.        , 0.71307037, 0.60366655, 0.        , 0.        ,\n",
       "        0.35653519]])"
      ]
     },
     "execution_count": 201,
     "metadata": {},
     "output_type": "execute_result"
    }
   ],
   "source": [
    "x_tfidf.toarray()"
   ]
  },
  {
   "cell_type": "markdown",
   "id": "847f0a9b",
   "metadata": {},
   "source": [
    "# Word to Vec : Word embeddings\n",
    "## spacy word2vec"
   ]
  },
  {
   "cell_type": "code",
   "execution_count": 241,
   "id": "f54246a1",
   "metadata": {
    "ExecuteTime": {
     "end_time": "2022-11-08T14:36:23.692790Z",
     "start_time": "2022-11-08T14:36:22.174302Z"
    }
   },
   "outputs": [],
   "source": [
    "#!python -m spacy download en_core_web_lg\n",
    "nlp = spacy.load('en_core_web_lg')"
   ]
  },
  {
   "cell_type": "code",
   "execution_count": 206,
   "id": "1f774ea3",
   "metadata": {
    "ExecuteTime": {
     "end_time": "2022-11-08T14:08:55.854692Z",
     "start_time": "2022-11-08T14:08:55.790071Z"
    }
   },
   "outputs": [],
   "source": [
    "doc = nlp('Thank you! dog cat and lion')"
   ]
  },
  {
   "cell_type": "code",
   "execution_count": 208,
   "id": "ad80d6ae",
   "metadata": {
    "ExecuteTime": {
     "end_time": "2022-11-08T14:09:02.728933Z",
     "start_time": "2022-11-08T14:09:02.722499Z"
    }
   },
   "outputs": [
    {
     "name": "stdout",
     "output_type": "stream",
     "text": [
      "Thank True\n",
      "you True\n",
      "! True\n",
      "dog True\n",
      "cat True\n",
      "and True\n",
      "lion True\n"
     ]
    }
   ],
   "source": [
    "for token in doc:\n",
    "    print(token.text, token.has_vector)"
   ]
  },
  {
   "cell_type": "code",
   "execution_count": 211,
   "id": "08b4729a",
   "metadata": {
    "ExecuteTime": {
     "end_time": "2022-11-08T14:09:10.125183Z",
     "start_time": "2022-11-08T14:09:10.106156Z"
    }
   },
   "outputs": [
    {
     "data": {
      "text/plain": [
       "(300,)"
      ]
     },
     "execution_count": 211,
     "metadata": {},
     "output_type": "execute_result"
    }
   ],
   "source": [
    "token.vector.shape"
   ]
  },
  {
   "cell_type": "code",
   "execution_count": 212,
   "id": "42e1adbe",
   "metadata": {
    "ExecuteTime": {
     "end_time": "2022-11-08T14:09:13.160046Z",
     "start_time": "2022-11-08T14:09:13.148744Z"
    }
   },
   "outputs": [
    {
     "data": {
      "text/plain": [
       "(300,)"
      ]
     },
     "execution_count": 212,
     "metadata": {},
     "output_type": "execute_result"
    }
   ],
   "source": [
    "nlp('cat').vector.shape"
   ]
  },
  {
   "cell_type": "code",
   "execution_count": 213,
   "id": "25000fae",
   "metadata": {
    "ExecuteTime": {
     "end_time": "2022-11-08T14:09:50.020388Z",
     "start_time": "2022-11-08T14:09:49.991847Z"
    }
   },
   "outputs": [
    {
     "name": "stdout",
     "output_type": "stream",
     "text": [
      "Thank Thank 1.0\n",
      "Thank you 0.19567038118839264\n",
      "Thank ! 0.32500508427619934\n",
      "Thank dog 0.07719222456216812\n",
      "Thank cat 0.04961059242486954\n",
      "Thank and -0.07510451972484589\n",
      "Thank lion -0.19235652685165405\n",
      "\n",
      "you Thank 0.19567038118839264\n",
      "you you 1.0\n",
      "you ! 0.3429550528526306\n",
      "you dog 0.34409627318382263\n",
      "you cat 0.27984926104545593\n",
      "you and 0.06746923923492432\n",
      "you lion 0.05796932056546211\n",
      "\n",
      "! Thank 0.32500508427619934\n",
      "! you 0.3429550528526306\n",
      "! ! 1.0\n",
      "! dog 0.2505742013454437\n",
      "! cat 0.20256751775741577\n",
      "! and 0.037219975143671036\n",
      "! lion -0.032366640865802765\n",
      "\n",
      "dog Thank 0.07719222456216812\n",
      "dog you 0.34409627318382263\n",
      "dog ! 0.2505742013454437\n",
      "dog dog 1.0\n",
      "dog cat 0.8220816850662231\n",
      "dog and 0.02349545620381832\n",
      "dog lion 0.29493075609207153\n",
      "\n",
      "cat Thank 0.04961059242486954\n",
      "cat you 0.27984926104545593\n",
      "cat ! 0.20256751775741577\n",
      "cat dog 0.8220816850662231\n",
      "cat cat 1.0\n",
      "cat and -0.08736970275640488\n",
      "cat lion 0.3854507803916931\n",
      "\n",
      "and Thank -0.07510451972484589\n",
      "and you 0.06746923923492432\n",
      "and ! 0.037219975143671036\n",
      "and dog 0.02349545620381832\n",
      "and cat -0.08736970275640488\n",
      "and and 1.0\n",
      "and lion 0.007073633838444948\n",
      "\n",
      "lion Thank -0.19235652685165405\n",
      "lion you 0.05796932056546211\n",
      "lion ! -0.032366640865802765\n",
      "lion dog 0.29493075609207153\n",
      "lion cat 0.3854507803916931\n",
      "lion and 0.007073633838444948\n",
      "lion lion 1.0\n",
      "\n"
     ]
    }
   ],
   "source": [
    "for token1 in doc:\n",
    "    for token2 in doc:\n",
    "        print(token1.text, token2.text, token1.similarity(token2))\n",
    "    print()"
   ]
  },
  {
   "cell_type": "markdown",
   "id": "8e8e4ceb",
   "metadata": {},
   "source": [
    "# MAchine learning models for text classification"
   ]
  },
  {
   "cell_type": "code",
   "execution_count": 97,
   "id": "10e3acb6",
   "metadata": {
    "ExecuteTime": {
     "end_time": "2022-11-09T01:59:51.474381Z",
     "start_time": "2022-11-09T01:59:51.457935Z"
    }
   },
   "outputs": [
    {
     "data": {
      "text/plain": [
       "(1600000, 13)"
      ]
     },
     "execution_count": 97,
     "metadata": {},
     "output_type": "execute_result"
    }
   ],
   "source": [
    "df.shape"
   ]
  },
  {
   "cell_type": "markdown",
   "id": "4311de4b",
   "metadata": {},
   "source": [
    "# Bow"
   ]
  },
  {
   "cell_type": "code",
   "execution_count": 98,
   "id": "dd41e168",
   "metadata": {
    "ExecuteTime": {
     "end_time": "2022-11-09T01:59:56.308681Z",
     "start_time": "2022-11-09T01:59:55.893959Z"
    }
   },
   "outputs": [],
   "source": [
    "df0=df[df['sentiment']==0].sample(2000)\n",
    "df4=df[df['sentiment']==4].sample(2000)"
   ]
  },
  {
   "cell_type": "code",
   "execution_count": 99,
   "id": "89db9938",
   "metadata": {
    "ExecuteTime": {
     "end_time": "2022-11-09T01:59:57.145400Z",
     "start_time": "2022-11-09T01:59:57.105596Z"
    }
   },
   "outputs": [
    {
     "name": "stderr",
     "output_type": "stream",
     "text": [
      "C:\\Users\\pbann\\AppData\\Local\\Temp/ipykernel_38284/128539567.py:1: FutureWarning: The frame.append method is deprecated and will be removed from pandas in a future version. Use pandas.concat instead.\n",
      "  dfr = df0.append(df4)\n"
     ]
    }
   ],
   "source": [
    "dfr = df0.append(df4)"
   ]
  },
  {
   "cell_type": "code",
   "execution_count": 100,
   "id": "0b95058a",
   "metadata": {
    "ExecuteTime": {
     "end_time": "2022-11-09T02:00:01.696170Z",
     "start_time": "2022-11-09T02:00:01.685882Z"
    }
   },
   "outputs": [
    {
     "data": {
      "text/plain": [
       "(4000, 13)"
      ]
     },
     "execution_count": 100,
     "metadata": {},
     "output_type": "execute_result"
    }
   ],
   "source": [
    "dfr.shape"
   ]
  },
  {
   "cell_type": "code",
   "execution_count": 101,
   "id": "d72e93d5",
   "metadata": {
    "ExecuteTime": {
     "end_time": "2022-11-09T02:00:08.047109Z",
     "start_time": "2022-11-09T02:00:08.036109Z"
    }
   },
   "outputs": [],
   "source": [
    "dfr_feat = dfr.drop(columns=['twitts','sentiment','emails','URL_counts']).reset_index(drop=True)"
   ]
  },
  {
   "cell_type": "code",
   "execution_count": 102,
   "id": "08830f2e",
   "metadata": {
    "ExecuteTime": {
     "end_time": "2022-11-09T02:00:08.981393Z",
     "start_time": "2022-11-09T02:00:08.966773Z"
    }
   },
   "outputs": [
    {
     "data": {
      "text/html": [
       "<div>\n",
       "<style scoped>\n",
       "    .dataframe tbody tr th:only-of-type {\n",
       "        vertical-align: middle;\n",
       "    }\n",
       "\n",
       "    .dataframe tbody tr th {\n",
       "        vertical-align: top;\n",
       "    }\n",
       "\n",
       "    .dataframe thead th {\n",
       "        text-align: right;\n",
       "    }\n",
       "</style>\n",
       "<table border=\"1\" class=\"dataframe\">\n",
       "  <thead>\n",
       "    <tr style=\"text-align: right;\">\n",
       "      <th></th>\n",
       "      <th>word_count</th>\n",
       "      <th>charcter_count</th>\n",
       "      <th>avg_word_len</th>\n",
       "      <th>stopwords_len</th>\n",
       "      <th>hashtag_counts</th>\n",
       "      <th>mentions_counts</th>\n",
       "      <th>numerics_counts</th>\n",
       "      <th>upper_case_counts</th>\n",
       "      <th>email_count</th>\n",
       "    </tr>\n",
       "  </thead>\n",
       "  <tbody>\n",
       "    <tr>\n",
       "      <th>0</th>\n",
       "      <td>22</td>\n",
       "      <td>125</td>\n",
       "      <td>22.0</td>\n",
       "      <td>10</td>\n",
       "      <td>0</td>\n",
       "      <td>1</td>\n",
       "      <td>0</td>\n",
       "      <td>0</td>\n",
       "      <td>0</td>\n",
       "    </tr>\n",
       "    <tr>\n",
       "      <th>1</th>\n",
       "      <td>9</td>\n",
       "      <td>49</td>\n",
       "      <td>9.0</td>\n",
       "      <td>3</td>\n",
       "      <td>0</td>\n",
       "      <td>0</td>\n",
       "      <td>0</td>\n",
       "      <td>0</td>\n",
       "      <td>0</td>\n",
       "    </tr>\n",
       "    <tr>\n",
       "      <th>2</th>\n",
       "      <td>2</td>\n",
       "      <td>17</td>\n",
       "      <td>2.0</td>\n",
       "      <td>0</td>\n",
       "      <td>0</td>\n",
       "      <td>0</td>\n",
       "      <td>0</td>\n",
       "      <td>0</td>\n",
       "      <td>0</td>\n",
       "    </tr>\n",
       "    <tr>\n",
       "      <th>3</th>\n",
       "      <td>9</td>\n",
       "      <td>46</td>\n",
       "      <td>9.0</td>\n",
       "      <td>5</td>\n",
       "      <td>0</td>\n",
       "      <td>1</td>\n",
       "      <td>0</td>\n",
       "      <td>0</td>\n",
       "      <td>0</td>\n",
       "    </tr>\n",
       "    <tr>\n",
       "      <th>4</th>\n",
       "      <td>19</td>\n",
       "      <td>104</td>\n",
       "      <td>19.0</td>\n",
       "      <td>10</td>\n",
       "      <td>0</td>\n",
       "      <td>0</td>\n",
       "      <td>0</td>\n",
       "      <td>0</td>\n",
       "      <td>0</td>\n",
       "    </tr>\n",
       "    <tr>\n",
       "      <th>...</th>\n",
       "      <td>...</td>\n",
       "      <td>...</td>\n",
       "      <td>...</td>\n",
       "      <td>...</td>\n",
       "      <td>...</td>\n",
       "      <td>...</td>\n",
       "      <td>...</td>\n",
       "      <td>...</td>\n",
       "      <td>...</td>\n",
       "    </tr>\n",
       "    <tr>\n",
       "      <th>3995</th>\n",
       "      <td>13</td>\n",
       "      <td>83</td>\n",
       "      <td>13.0</td>\n",
       "      <td>4</td>\n",
       "      <td>0</td>\n",
       "      <td>1</td>\n",
       "      <td>0</td>\n",
       "      <td>0</td>\n",
       "      <td>0</td>\n",
       "    </tr>\n",
       "    <tr>\n",
       "      <th>3996</th>\n",
       "      <td>18</td>\n",
       "      <td>123</td>\n",
       "      <td>18.0</td>\n",
       "      <td>4</td>\n",
       "      <td>0</td>\n",
       "      <td>2</td>\n",
       "      <td>0</td>\n",
       "      <td>0</td>\n",
       "      <td>0</td>\n",
       "    </tr>\n",
       "    <tr>\n",
       "      <th>3997</th>\n",
       "      <td>6</td>\n",
       "      <td>30</td>\n",
       "      <td>6.0</td>\n",
       "      <td>4</td>\n",
       "      <td>0</td>\n",
       "      <td>1</td>\n",
       "      <td>0</td>\n",
       "      <td>0</td>\n",
       "      <td>0</td>\n",
       "    </tr>\n",
       "    <tr>\n",
       "      <th>3998</th>\n",
       "      <td>5</td>\n",
       "      <td>39</td>\n",
       "      <td>5.0</td>\n",
       "      <td>1</td>\n",
       "      <td>0</td>\n",
       "      <td>1</td>\n",
       "      <td>0</td>\n",
       "      <td>0</td>\n",
       "      <td>0</td>\n",
       "    </tr>\n",
       "    <tr>\n",
       "      <th>3999</th>\n",
       "      <td>6</td>\n",
       "      <td>46</td>\n",
       "      <td>6.0</td>\n",
       "      <td>3</td>\n",
       "      <td>0</td>\n",
       "      <td>0</td>\n",
       "      <td>0</td>\n",
       "      <td>0</td>\n",
       "      <td>0</td>\n",
       "    </tr>\n",
       "  </tbody>\n",
       "</table>\n",
       "<p>4000 rows × 9 columns</p>\n",
       "</div>"
      ],
      "text/plain": [
       "      word_count  charcter_count  avg_word_len  stopwords_len  hashtag_counts  \\\n",
       "0             22             125          22.0             10               0   \n",
       "1              9              49           9.0              3               0   \n",
       "2              2              17           2.0              0               0   \n",
       "3              9              46           9.0              5               0   \n",
       "4             19             104          19.0             10               0   \n",
       "...          ...             ...           ...            ...             ...   \n",
       "3995          13              83          13.0              4               0   \n",
       "3996          18             123          18.0              4               0   \n",
       "3997           6              30           6.0              4               0   \n",
       "3998           5              39           5.0              1               0   \n",
       "3999           6              46           6.0              3               0   \n",
       "\n",
       "      mentions_counts  numerics_counts  upper_case_counts  email_count  \n",
       "0                   1                0                  0            0  \n",
       "1                   0                0                  0            0  \n",
       "2                   0                0                  0            0  \n",
       "3                   1                0                  0            0  \n",
       "4                   0                0                  0            0  \n",
       "...               ...              ...                ...          ...  \n",
       "3995                1                0                  0            0  \n",
       "3996                2                0                  0            0  \n",
       "3997                1                0                  0            0  \n",
       "3998                1                0                  0            0  \n",
       "3999                0                0                  0            0  \n",
       "\n",
       "[4000 rows x 9 columns]"
      ]
     },
     "execution_count": 102,
     "metadata": {},
     "output_type": "execute_result"
    }
   ],
   "source": [
    "dfr_feat"
   ]
  },
  {
   "cell_type": "code",
   "execution_count": 103,
   "id": "37ccce83",
   "metadata": {
    "ExecuteTime": {
     "end_time": "2022-11-09T02:00:13.991676Z",
     "start_time": "2022-11-09T02:00:13.975387Z"
    }
   },
   "outputs": [],
   "source": [
    "y = dfr['sentiment']"
   ]
  },
  {
   "cell_type": "code",
   "execution_count": 225,
   "id": "7eb63311",
   "metadata": {
    "ExecuteTime": {
     "end_time": "2022-11-08T14:15:51.036733Z",
     "start_time": "2022-11-08T14:15:50.965224Z"
    }
   },
   "outputs": [],
   "source": [
    "from sklearn.feature_extraction.text import CountVectorizer\n",
    "cv= CountVectorizer()\n",
    "text_counts = cv.fit_transform(dfr['twitts'])"
   ]
  },
  {
   "cell_type": "code",
   "execution_count": 226,
   "id": "18ffb778",
   "metadata": {
    "ExecuteTime": {
     "end_time": "2022-11-08T14:16:40.717620Z",
     "start_time": "2022-11-08T14:16:40.672071Z"
    }
   },
   "outputs": [
    {
     "data": {
      "text/plain": [
       "(4000, 9791)"
      ]
     },
     "execution_count": 226,
     "metadata": {},
     "output_type": "execute_result"
    }
   ],
   "source": [
    "text_counts.toarray().shape"
   ]
  },
  {
   "cell_type": "code",
   "execution_count": 236,
   "id": "5929ebad",
   "metadata": {
    "ExecuteTime": {
     "end_time": "2022-11-08T14:32:59.006279Z",
     "start_time": "2022-11-08T14:32:58.933503Z"
    }
   },
   "outputs": [
    {
     "name": "stderr",
     "output_type": "stream",
     "text": [
      "C:\\Users\\pbann\\Anaconda3\\lib\\site-packages\\sklearn\\utils\\deprecation.py:87: FutureWarning: Function get_feature_names is deprecated; get_feature_names is deprecated in 1.0 and will be removed in 1.2. Please use get_feature_names_out instead.\n",
      "  warnings.warn(msg, category=FutureWarning)\n"
     ]
    }
   ],
   "source": [
    "dfr_bow = pd.DataFrame(text_counts.toarray(), columns=cv.get_feature_names())"
   ]
  },
  {
   "cell_type": "code",
   "execution_count": 240,
   "id": "8055c3f3",
   "metadata": {
    "ExecuteTime": {
     "end_time": "2022-11-08T14:34:51.262948Z",
     "start_time": "2022-11-08T14:34:51.233431Z"
    }
   },
   "outputs": [
    {
     "data": {
      "text/html": [
       "<div>\n",
       "<style scoped>\n",
       "    .dataframe tbody tr th:only-of-type {\n",
       "        vertical-align: middle;\n",
       "    }\n",
       "\n",
       "    .dataframe tbody tr th {\n",
       "        vertical-align: top;\n",
       "    }\n",
       "\n",
       "    .dataframe thead th {\n",
       "        text-align: right;\n",
       "    }\n",
       "</style>\n",
       "<table border=\"1\" class=\"dataframe\">\n",
       "  <thead>\n",
       "    <tr style=\"text-align: right;\">\n",
       "      <th></th>\n",
       "      <th>010</th>\n",
       "      <th>02</th>\n",
       "      <th>0515</th>\n",
       "      <th>0800</th>\n",
       "      <th>09</th>\n",
       "      <th>0900</th>\n",
       "      <th>095</th>\n",
       "      <th>0boy</th>\n",
       "      <th>10</th>\n",
       "      <th>100</th>\n",
       "      <th>...</th>\n",
       "      <th>zoedannielle</th>\n",
       "      <th>zombie</th>\n",
       "      <th>zombies</th>\n",
       "      <th>zone</th>\n",
       "      <th>zones</th>\n",
       "      <th>zoo</th>\n",
       "      <th>zune</th>\n",
       "      <th>zynga</th>\n",
       "      <th>zzzz</th>\n",
       "      <th>zzzzzzz</th>\n",
       "    </tr>\n",
       "  </thead>\n",
       "  <tbody>\n",
       "    <tr>\n",
       "      <th>0</th>\n",
       "      <td>0</td>\n",
       "      <td>0</td>\n",
       "      <td>0</td>\n",
       "      <td>0</td>\n",
       "      <td>0</td>\n",
       "      <td>0</td>\n",
       "      <td>0</td>\n",
       "      <td>0</td>\n",
       "      <td>0</td>\n",
       "      <td>0</td>\n",
       "      <td>...</td>\n",
       "      <td>0</td>\n",
       "      <td>0</td>\n",
       "      <td>0</td>\n",
       "      <td>0</td>\n",
       "      <td>0</td>\n",
       "      <td>0</td>\n",
       "      <td>0</td>\n",
       "      <td>0</td>\n",
       "      <td>0</td>\n",
       "      <td>0</td>\n",
       "    </tr>\n",
       "    <tr>\n",
       "      <th>1</th>\n",
       "      <td>0</td>\n",
       "      <td>0</td>\n",
       "      <td>0</td>\n",
       "      <td>0</td>\n",
       "      <td>0</td>\n",
       "      <td>0</td>\n",
       "      <td>0</td>\n",
       "      <td>0</td>\n",
       "      <td>0</td>\n",
       "      <td>0</td>\n",
       "      <td>...</td>\n",
       "      <td>0</td>\n",
       "      <td>0</td>\n",
       "      <td>0</td>\n",
       "      <td>0</td>\n",
       "      <td>0</td>\n",
       "      <td>0</td>\n",
       "      <td>0</td>\n",
       "      <td>0</td>\n",
       "      <td>0</td>\n",
       "      <td>0</td>\n",
       "    </tr>\n",
       "    <tr>\n",
       "      <th>2</th>\n",
       "      <td>0</td>\n",
       "      <td>0</td>\n",
       "      <td>0</td>\n",
       "      <td>0</td>\n",
       "      <td>0</td>\n",
       "      <td>0</td>\n",
       "      <td>0</td>\n",
       "      <td>0</td>\n",
       "      <td>0</td>\n",
       "      <td>0</td>\n",
       "      <td>...</td>\n",
       "      <td>0</td>\n",
       "      <td>0</td>\n",
       "      <td>0</td>\n",
       "      <td>0</td>\n",
       "      <td>0</td>\n",
       "      <td>0</td>\n",
       "      <td>0</td>\n",
       "      <td>0</td>\n",
       "      <td>0</td>\n",
       "      <td>0</td>\n",
       "    </tr>\n",
       "    <tr>\n",
       "      <th>3</th>\n",
       "      <td>0</td>\n",
       "      <td>0</td>\n",
       "      <td>0</td>\n",
       "      <td>0</td>\n",
       "      <td>0</td>\n",
       "      <td>0</td>\n",
       "      <td>0</td>\n",
       "      <td>0</td>\n",
       "      <td>0</td>\n",
       "      <td>0</td>\n",
       "      <td>...</td>\n",
       "      <td>0</td>\n",
       "      <td>0</td>\n",
       "      <td>0</td>\n",
       "      <td>0</td>\n",
       "      <td>0</td>\n",
       "      <td>0</td>\n",
       "      <td>0</td>\n",
       "      <td>0</td>\n",
       "      <td>0</td>\n",
       "      <td>0</td>\n",
       "    </tr>\n",
       "    <tr>\n",
       "      <th>4</th>\n",
       "      <td>0</td>\n",
       "      <td>0</td>\n",
       "      <td>0</td>\n",
       "      <td>0</td>\n",
       "      <td>0</td>\n",
       "      <td>0</td>\n",
       "      <td>0</td>\n",
       "      <td>0</td>\n",
       "      <td>0</td>\n",
       "      <td>0</td>\n",
       "      <td>...</td>\n",
       "      <td>0</td>\n",
       "      <td>0</td>\n",
       "      <td>0</td>\n",
       "      <td>0</td>\n",
       "      <td>0</td>\n",
       "      <td>0</td>\n",
       "      <td>0</td>\n",
       "      <td>0</td>\n",
       "      <td>0</td>\n",
       "      <td>0</td>\n",
       "    </tr>\n",
       "    <tr>\n",
       "      <th>...</th>\n",
       "      <td>...</td>\n",
       "      <td>...</td>\n",
       "      <td>...</td>\n",
       "      <td>...</td>\n",
       "      <td>...</td>\n",
       "      <td>...</td>\n",
       "      <td>...</td>\n",
       "      <td>...</td>\n",
       "      <td>...</td>\n",
       "      <td>...</td>\n",
       "      <td>...</td>\n",
       "      <td>...</td>\n",
       "      <td>...</td>\n",
       "      <td>...</td>\n",
       "      <td>...</td>\n",
       "      <td>...</td>\n",
       "      <td>...</td>\n",
       "      <td>...</td>\n",
       "      <td>...</td>\n",
       "      <td>...</td>\n",
       "      <td>...</td>\n",
       "    </tr>\n",
       "    <tr>\n",
       "      <th>3995</th>\n",
       "      <td>0</td>\n",
       "      <td>0</td>\n",
       "      <td>0</td>\n",
       "      <td>0</td>\n",
       "      <td>0</td>\n",
       "      <td>0</td>\n",
       "      <td>0</td>\n",
       "      <td>0</td>\n",
       "      <td>0</td>\n",
       "      <td>0</td>\n",
       "      <td>...</td>\n",
       "      <td>0</td>\n",
       "      <td>0</td>\n",
       "      <td>0</td>\n",
       "      <td>0</td>\n",
       "      <td>0</td>\n",
       "      <td>0</td>\n",
       "      <td>0</td>\n",
       "      <td>0</td>\n",
       "      <td>0</td>\n",
       "      <td>0</td>\n",
       "    </tr>\n",
       "    <tr>\n",
       "      <th>3996</th>\n",
       "      <td>0</td>\n",
       "      <td>0</td>\n",
       "      <td>0</td>\n",
       "      <td>0</td>\n",
       "      <td>0</td>\n",
       "      <td>0</td>\n",
       "      <td>0</td>\n",
       "      <td>0</td>\n",
       "      <td>0</td>\n",
       "      <td>0</td>\n",
       "      <td>...</td>\n",
       "      <td>0</td>\n",
       "      <td>0</td>\n",
       "      <td>0</td>\n",
       "      <td>0</td>\n",
       "      <td>0</td>\n",
       "      <td>0</td>\n",
       "      <td>0</td>\n",
       "      <td>0</td>\n",
       "      <td>0</td>\n",
       "      <td>0</td>\n",
       "    </tr>\n",
       "    <tr>\n",
       "      <th>3997</th>\n",
       "      <td>0</td>\n",
       "      <td>0</td>\n",
       "      <td>0</td>\n",
       "      <td>0</td>\n",
       "      <td>0</td>\n",
       "      <td>0</td>\n",
       "      <td>0</td>\n",
       "      <td>0</td>\n",
       "      <td>0</td>\n",
       "      <td>0</td>\n",
       "      <td>...</td>\n",
       "      <td>0</td>\n",
       "      <td>0</td>\n",
       "      <td>0</td>\n",
       "      <td>0</td>\n",
       "      <td>0</td>\n",
       "      <td>0</td>\n",
       "      <td>0</td>\n",
       "      <td>0</td>\n",
       "      <td>0</td>\n",
       "      <td>0</td>\n",
       "    </tr>\n",
       "    <tr>\n",
       "      <th>3998</th>\n",
       "      <td>0</td>\n",
       "      <td>0</td>\n",
       "      <td>0</td>\n",
       "      <td>0</td>\n",
       "      <td>0</td>\n",
       "      <td>0</td>\n",
       "      <td>0</td>\n",
       "      <td>0</td>\n",
       "      <td>0</td>\n",
       "      <td>0</td>\n",
       "      <td>...</td>\n",
       "      <td>0</td>\n",
       "      <td>0</td>\n",
       "      <td>0</td>\n",
       "      <td>0</td>\n",
       "      <td>0</td>\n",
       "      <td>0</td>\n",
       "      <td>0</td>\n",
       "      <td>0</td>\n",
       "      <td>0</td>\n",
       "      <td>0</td>\n",
       "    </tr>\n",
       "    <tr>\n",
       "      <th>3999</th>\n",
       "      <td>0</td>\n",
       "      <td>0</td>\n",
       "      <td>0</td>\n",
       "      <td>0</td>\n",
       "      <td>0</td>\n",
       "      <td>0</td>\n",
       "      <td>0</td>\n",
       "      <td>0</td>\n",
       "      <td>0</td>\n",
       "      <td>0</td>\n",
       "      <td>...</td>\n",
       "      <td>0</td>\n",
       "      <td>0</td>\n",
       "      <td>0</td>\n",
       "      <td>0</td>\n",
       "      <td>0</td>\n",
       "      <td>0</td>\n",
       "      <td>0</td>\n",
       "      <td>0</td>\n",
       "      <td>0</td>\n",
       "      <td>0</td>\n",
       "    </tr>\n",
       "  </tbody>\n",
       "</table>\n",
       "<p>4000 rows × 9791 columns</p>\n",
       "</div>"
      ],
      "text/plain": [
       "      010  02  0515  0800  09  0900  095  0boy  10  100  ...  zoedannielle  \\\n",
       "0       0   0     0     0   0     0    0     0   0    0  ...             0   \n",
       "1       0   0     0     0   0     0    0     0   0    0  ...             0   \n",
       "2       0   0     0     0   0     0    0     0   0    0  ...             0   \n",
       "3       0   0     0     0   0     0    0     0   0    0  ...             0   \n",
       "4       0   0     0     0   0     0    0     0   0    0  ...             0   \n",
       "...   ...  ..   ...   ...  ..   ...  ...   ...  ..  ...  ...           ...   \n",
       "3995    0   0     0     0   0     0    0     0   0    0  ...             0   \n",
       "3996    0   0     0     0   0     0    0     0   0    0  ...             0   \n",
       "3997    0   0     0     0   0     0    0     0   0    0  ...             0   \n",
       "3998    0   0     0     0   0     0    0     0   0    0  ...             0   \n",
       "3999    0   0     0     0   0     0    0     0   0    0  ...             0   \n",
       "\n",
       "      zombie  zombies  zone  zones  zoo  zune  zynga  zzzz  zzzzzzz  \n",
       "0          0        0     0      0    0     0      0     0        0  \n",
       "1          0        0     0      0    0     0      0     0        0  \n",
       "2          0        0     0      0    0     0      0     0        0  \n",
       "3          0        0     0      0    0     0      0     0        0  \n",
       "4          0        0     0      0    0     0      0     0        0  \n",
       "...      ...      ...   ...    ...  ...   ...    ...   ...      ...  \n",
       "3995       0        0     0      0    0     0      0     0        0  \n",
       "3996       0        0     0      0    0     0      0     0        0  \n",
       "3997       0        0     0      0    0     0      0     0        0  \n",
       "3998       0        0     0      0    0     0      0     0        0  \n",
       "3999       0        0     0      0    0     0      0     0        0  \n",
       "\n",
       "[4000 rows x 9791 columns]"
      ]
     },
     "execution_count": 240,
     "metadata": {},
     "output_type": "execute_result"
    }
   ],
   "source": [
    "dfr_bow"
   ]
  },
  {
   "cell_type": "markdown",
   "id": "c67df3f2",
   "metadata": {},
   "source": [
    "# ML algorithms"
   ]
  },
  {
   "cell_type": "code",
   "execution_count": 230,
   "id": "80fcb503",
   "metadata": {
    "ExecuteTime": {
     "end_time": "2022-11-08T14:23:07.521680Z",
     "start_time": "2022-11-08T14:23:07.516680Z"
    }
   },
   "outputs": [],
   "source": [
    "from sklearn.model_selection import train_test_split\n",
    "from sklearn.linear_model import LogisticRegression\n",
    "from sklearn.linear_model import LogisticRegressionCV\n",
    "from sklearn.linear_model import SGDClassifier\n",
    "from sklearn.svm import LinearSVC\n",
    "from sklearn.ensemble import RandomForestClassifier\n",
    "from sklearn.metrics import accuracy_score, confusion_matrix\n",
    "from sklearn.preprocessing import MinMaxScaler\n"
   ]
  },
  {
   "cell_type": "code",
   "execution_count": 231,
   "id": "db256943",
   "metadata": {
    "ExecuteTime": {
     "end_time": "2022-11-08T14:25:41.226501Z",
     "start_time": "2022-11-08T14:25:41.218477Z"
    }
   },
   "outputs": [],
   "source": [
    "sgd = SGDClassifier(n_jobs=-1,random_state=42,max_iter=200)\n",
    "lgr=LogisticRegression(n_jobs=-1,random_state=42,max_iter=200)\n",
    "lgrcv=LogisticRegressionCV(cv=2,random_state=42,max_iter=1000)\n",
    "svm=LinearSVC(random_state=42,max_iter=200)\n",
    "rfc=RandomForestClassifier(random_state=42,n_jobs=-1, n_estimators=200)"
   ]
  },
  {
   "cell_type": "code",
   "execution_count": 232,
   "id": "ae4e2736",
   "metadata": {
    "ExecuteTime": {
     "end_time": "2022-11-08T14:26:54.503084Z",
     "start_time": "2022-11-08T14:26:54.486122Z"
    }
   },
   "outputs": [],
   "source": [
    "clf= {'SGD': sgd, 'LGR': lgr,'LGR-CV': lgrcv, 'SVM':svm,'RFC': rfc}"
   ]
  },
  {
   "cell_type": "code",
   "execution_count": 233,
   "id": "08a95992",
   "metadata": {
    "ExecuteTime": {
     "end_time": "2022-11-08T14:27:04.547896Z",
     "start_time": "2022-11-08T14:27:04.536373Z"
    }
   },
   "outputs": [
    {
     "data": {
      "text/plain": [
       "dict_keys(['SGD', 'LGR', 'LGR-CV', 'SVM', 'RFC'])"
      ]
     },
     "execution_count": 233,
     "metadata": {},
     "output_type": "execute_result"
    }
   ],
   "source": [
    "clf.keys()"
   ]
  },
  {
   "cell_type": "code",
   "execution_count": 234,
   "id": "4272286f",
   "metadata": {
    "ExecuteTime": {
     "end_time": "2022-11-08T14:31:05.372321Z",
     "start_time": "2022-11-08T14:31:05.360033Z"
    }
   },
   "outputs": [],
   "source": [
    "def classify(X,y):\n",
    "    scaler = MinMaxScaler(feature_range=(0,1))\n",
    "    X=scaler.fit_transform(X) \n",
    "    X_train,X_test,y_train,y_test=train_test_split(X,y,test_size=0.2,random_state=42,stratify=y)\n",
    "    for key in clf.keys():\n",
    "        clf[key].fit(X_train,y_train)\n",
    "        y_pred = clf[key].predict(X_test)\n",
    "        ac=accuracy_score(y_test,y_pred)\n",
    "        print(key,\"----->>\", ac)"
   ]
  },
  {
   "cell_type": "code",
   "execution_count": 244,
   "id": "1331f7b1",
   "metadata": {
    "ExecuteTime": {
     "end_time": "2022-11-08T14:38:20.957464Z",
     "start_time": "2022-11-08T14:37:31.814953Z"
    }
   },
   "outputs": [
    {
     "name": "stdout",
     "output_type": "stream",
     "text": [
      "SGD ----->> 0.62625\n",
      "LGR ----->> 0.65875\n",
      "LGR-CV ----->> 0.665\n",
      "SVM ----->> 0.64\n",
      "RFC ----->> 0.6675\n",
      "Wall time: 49.1 s\n"
     ]
    }
   ],
   "source": [
    "%%time \n",
    "classify(dfr_bow,y)"
   ]
  },
  {
   "cell_type": "code",
   "execution_count": 245,
   "id": "968b7406",
   "metadata": {
    "ExecuteTime": {
     "end_time": "2022-11-08T14:38:46.114503Z",
     "start_time": "2022-11-08T14:38:45.610689Z"
    }
   },
   "outputs": [],
   "source": [
    "X=dfr_feat.join(dfr_bow)"
   ]
  },
  {
   "cell_type": "code",
   "execution_count": 246,
   "id": "c25e791a",
   "metadata": {
    "ExecuteTime": {
     "end_time": "2022-11-08T14:40:17.898436Z",
     "start_time": "2022-11-08T14:39:10.808133Z"
    }
   },
   "outputs": [
    {
     "name": "stdout",
     "output_type": "stream",
     "text": [
      "SGD ----->> 0.64375\n",
      "LGR ----->> 0.6675\n",
      "LGR-CV ----->> 0.66875\n",
      "SVM ----->> 0.655\n",
      "RFC ----->> 0.65125\n",
      "Wall time: 1min 7s\n"
     ]
    }
   ],
   "source": [
    "%%time \n",
    "classify(X,y)"
   ]
  },
  {
   "cell_type": "markdown",
   "id": "bbc460d9",
   "metadata": {},
   "source": [
    "# TFIDF"
   ]
  },
  {
   "cell_type": "code",
   "execution_count": 247,
   "id": "c548f1b2",
   "metadata": {
    "ExecuteTime": {
     "end_time": "2022-11-08T14:41:03.844669Z",
     "start_time": "2022-11-08T14:41:03.756063Z"
    }
   },
   "outputs": [],
   "source": [
    "tfidf=TfidfVectorizer() \n",
    "X=tfidf.fit_transform(dfr['twitts'])"
   ]
  },
  {
   "cell_type": "code",
   "execution_count": 249,
   "id": "84d72326",
   "metadata": {
    "ExecuteTime": {
     "end_time": "2022-11-08T14:42:36.123258Z",
     "start_time": "2022-11-08T14:41:39.462020Z"
    }
   },
   "outputs": [
    {
     "name": "stdout",
     "output_type": "stream",
     "text": [
      "SGD ----->> 0.6275\n",
      "LGR ----->> 0.65875\n",
      "LGR-CV ----->> 0.66375\n",
      "SVM ----->> 0.64375\n",
      "RFC ----->> 0.6525\n",
      "Wall time: 56.7 s\n"
     ]
    }
   ],
   "source": [
    "%%time \n",
    "classify(pd.DataFrame(X.toarray()),y)"
   ]
  },
  {
   "cell_type": "markdown",
   "id": "0445e53e",
   "metadata": {},
   "source": [
    "# Word2vec"
   ]
  },
  {
   "cell_type": "code",
   "execution_count": 250,
   "id": "db500017",
   "metadata": {
    "ExecuteTime": {
     "end_time": "2022-11-08T14:43:02.346620Z",
     "start_time": "2022-11-08T14:43:02.341568Z"
    }
   },
   "outputs": [],
   "source": [
    "def get_vec(x):\n",
    "    doc=nlp(x)\n",
    "    return doc.vector.reshape(1,-1)"
   ]
  },
  {
   "cell_type": "code",
   "execution_count": 251,
   "id": "ac528c8f",
   "metadata": {
    "ExecuteTime": {
     "end_time": "2022-11-08T14:44:09.940734Z",
     "start_time": "2022-11-08T14:43:46.920303Z"
    }
   },
   "outputs": [
    {
     "name": "stdout",
     "output_type": "stream",
     "text": [
      "Wall time: 23 s\n"
     ]
    }
   ],
   "source": [
    "%%time \n",
    "dfr['vec'] = dfr['twitts'].apply(lambda x: get_vec(x))"
   ]
  },
  {
   "cell_type": "code",
   "execution_count": 252,
   "id": "557602d8",
   "metadata": {
    "ExecuteTime": {
     "end_time": "2022-11-08T14:44:57.147416Z",
     "start_time": "2022-11-08T14:44:57.133412Z"
    }
   },
   "outputs": [],
   "source": [
    "X=np.concatenate(dfr['vec'].to_numpy(), axis=0)"
   ]
  },
  {
   "cell_type": "code",
   "execution_count": 254,
   "id": "40a22ff0",
   "metadata": {
    "ExecuteTime": {
     "end_time": "2022-11-08T14:45:21.873938Z",
     "start_time": "2022-11-08T14:45:21.868943Z"
    }
   },
   "outputs": [
    {
     "data": {
      "text/plain": [
       "(4000, 300)"
      ]
     },
     "execution_count": 254,
     "metadata": {},
     "output_type": "execute_result"
    }
   ],
   "source": [
    "X.shape"
   ]
  },
  {
   "cell_type": "code",
   "execution_count": 255,
   "id": "defb600b",
   "metadata": {
    "ExecuteTime": {
     "end_time": "2022-11-08T14:45:46.357246Z",
     "start_time": "2022-11-08T14:45:35.855333Z"
    }
   },
   "outputs": [
    {
     "name": "stdout",
     "output_type": "stream",
     "text": [
      "SGD ----->> 0.54125\n",
      "LGR ----->> 0.7\n"
     ]
    },
    {
     "name": "stderr",
     "output_type": "stream",
     "text": [
      "C:\\Users\\pbann\\Anaconda3\\lib\\site-packages\\sklearn\\linear_model\\_logistic.py:814: ConvergenceWarning: lbfgs failed to converge (status=1):\n",
      "STOP: TOTAL NO. of ITERATIONS REACHED LIMIT.\n",
      "\n",
      "Increase the number of iterations (max_iter) or scale the data as shown in:\n",
      "    https://scikit-learn.org/stable/modules/preprocessing.html\n",
      "Please also refer to the documentation for alternative solver options:\n",
      "    https://scikit-learn.org/stable/modules/linear_model.html#logistic-regression\n",
      "  n_iter_i = _check_optimize_result(\n",
      "C:\\Users\\pbann\\Anaconda3\\lib\\site-packages\\sklearn\\linear_model\\_logistic.py:814: ConvergenceWarning: lbfgs failed to converge (status=1):\n",
      "STOP: TOTAL NO. of ITERATIONS REACHED LIMIT.\n",
      "\n",
      "Increase the number of iterations (max_iter) or scale the data as shown in:\n",
      "    https://scikit-learn.org/stable/modules/preprocessing.html\n",
      "Please also refer to the documentation for alternative solver options:\n",
      "    https://scikit-learn.org/stable/modules/linear_model.html#logistic-regression\n",
      "  n_iter_i = _check_optimize_result(\n"
     ]
    },
    {
     "name": "stdout",
     "output_type": "stream",
     "text": [
      "LGR-CV ----->> 0.70375\n"
     ]
    },
    {
     "name": "stderr",
     "output_type": "stream",
     "text": [
      "C:\\Users\\pbann\\Anaconda3\\lib\\site-packages\\sklearn\\svm\\_base.py:1206: ConvergenceWarning: Liblinear failed to converge, increase the number of iterations.\n",
      "  warnings.warn(\n"
     ]
    },
    {
     "name": "stdout",
     "output_type": "stream",
     "text": [
      "SVM ----->> 0.69125\n",
      "RFC ----->> 0.65875\n",
      "Wall time: 10.5 s\n"
     ]
    }
   ],
   "source": [
    "%%time \n",
    "classify(pd.DataFrame(X),y)"
   ]
  },
  {
   "cell_type": "code",
   "execution_count": 256,
   "id": "2b9aa47d",
   "metadata": {
    "ExecuteTime": {
     "end_time": "2022-11-08T14:47:22.119525Z",
     "start_time": "2022-11-08T14:47:22.107963Z"
    }
   },
   "outputs": [],
   "source": [
    "def predict_w2v(x):\n",
    "    for key in clf.keys():\n",
    "        y_pred = clf[key].predict(get_vec(x))\n",
    "        print(key,'---->>',y_pred)"
   ]
  },
  {
   "cell_type": "code",
   "execution_count": 266,
   "id": "aa1a231a",
   "metadata": {
    "ExecuteTime": {
     "end_time": "2022-11-08T14:50:04.424146Z",
     "start_time": "2022-11-08T14:50:04.347135Z"
    }
   },
   "outputs": [
    {
     "name": "stdout",
     "output_type": "stream",
     "text": [
      "SGD ---->> [0]\n",
      "LGR ---->> [0]\n",
      "LGR-CV ---->> [0]\n",
      "SVM ---->> [0]\n",
      "RFC ---->> [4]\n"
     ]
    }
   ],
   "source": [
    "predict_w2v(' please let me know if you want more help')"
   ]
  },
  {
   "cell_type": "markdown",
   "id": "7b1ab8fc",
   "metadata": {},
   "source": [
    "# NLP Techniques"
   ]
  },
  {
   "cell_type": "code",
   "execution_count": 192,
   "id": "399774ae",
   "metadata": {
    "ExecuteTime": {
     "end_time": "2022-11-09T02:55:41.120071Z",
     "start_time": "2022-11-09T02:55:41.091551Z"
    }
   },
   "outputs": [
    {
     "data": {
      "text/html": [
       "<div>\n",
       "<style scoped>\n",
       "    .dataframe tbody tr th:only-of-type {\n",
       "        vertical-align: middle;\n",
       "    }\n",
       "\n",
       "    .dataframe tbody tr th {\n",
       "        vertical-align: top;\n",
       "    }\n",
       "\n",
       "    .dataframe thead th {\n",
       "        text-align: right;\n",
       "    }\n",
       "</style>\n",
       "<table border=\"1\" class=\"dataframe\">\n",
       "  <thead>\n",
       "    <tr style=\"text-align: right;\">\n",
       "      <th></th>\n",
       "      <th>twitts</th>\n",
       "      <th>sentiment</th>\n",
       "      <th>word_count</th>\n",
       "    </tr>\n",
       "  </thead>\n",
       "  <tbody>\n",
       "    <tr>\n",
       "      <th>0</th>\n",
       "      <td>switchfoot awww bummer shoulda got david carr ...</td>\n",
       "      <td>0</td>\n",
       "      <td>19</td>\n",
       "    </tr>\n",
       "    <tr>\n",
       "      <th>1</th>\n",
       "      <td>upset update facebook texting cry result schoo...</td>\n",
       "      <td>0</td>\n",
       "      <td>21</td>\n",
       "    </tr>\n",
       "    <tr>\n",
       "      <th>2</th>\n",
       "      <td>kenichan dived times ball managed save 50 rest...</td>\n",
       "      <td>0</td>\n",
       "      <td>18</td>\n",
       "    </tr>\n",
       "    <tr>\n",
       "      <th>3</th>\n",
       "      <td>body feels itchy like fire</td>\n",
       "      <td>0</td>\n",
       "      <td>10</td>\n",
       "    </tr>\n",
       "    <tr>\n",
       "      <th>4</th>\n",
       "      <td>nationwideclass behaving mad</td>\n",
       "      <td>0</td>\n",
       "      <td>21</td>\n",
       "    </tr>\n",
       "    <tr>\n",
       "      <th>...</th>\n",
       "      <td>...</td>\n",
       "      <td>...</td>\n",
       "      <td>...</td>\n",
       "    </tr>\n",
       "    <tr>\n",
       "      <th>1599995</th>\n",
       "      <td>woke having school best feeling</td>\n",
       "      <td>4</td>\n",
       "      <td>11</td>\n",
       "    </tr>\n",
       "    <tr>\n",
       "      <th>1599996</th>\n",
       "      <td>thewdbcom cool hear old walt interviews</td>\n",
       "      <td>4</td>\n",
       "      <td>11</td>\n",
       "    </tr>\n",
       "    <tr>\n",
       "      <th>1599997</th>\n",
       "      <td>ready mojo makeover ask details</td>\n",
       "      <td>4</td>\n",
       "      <td>11</td>\n",
       "    </tr>\n",
       "    <tr>\n",
       "      <th>1599998</th>\n",
       "      <td>happy 38th birthday boo alll time tupac amaru ...</td>\n",
       "      <td>4</td>\n",
       "      <td>12</td>\n",
       "    </tr>\n",
       "    <tr>\n",
       "      <th>1599999</th>\n",
       "      <td>happy charitytuesday thenspcc sparkscharity sp...</td>\n",
       "      <td>4</td>\n",
       "      <td>5</td>\n",
       "    </tr>\n",
       "  </tbody>\n",
       "</table>\n",
       "<p>1600000 rows × 3 columns</p>\n",
       "</div>"
      ],
      "text/plain": [
       "                                                    twitts  sentiment  \\\n",
       "0        switchfoot awww bummer shoulda got david carr ...          0   \n",
       "1        upset update facebook texting cry result schoo...          0   \n",
       "2        kenichan dived times ball managed save 50 rest...          0   \n",
       "3                               body feels itchy like fire          0   \n",
       "4                             nationwideclass behaving mad          0   \n",
       "...                                                    ...        ...   \n",
       "1599995                    woke having school best feeling          4   \n",
       "1599996            thewdbcom cool hear old walt interviews          4   \n",
       "1599997                    ready mojo makeover ask details          4   \n",
       "1599998  happy 38th birthday boo alll time tupac amaru ...          4   \n",
       "1599999  happy charitytuesday thenspcc sparkscharity sp...          4   \n",
       "\n",
       "         word_count  \n",
       "0                19  \n",
       "1                21  \n",
       "2                18  \n",
       "3                10  \n",
       "4                21  \n",
       "...             ...  \n",
       "1599995          11  \n",
       "1599996          11  \n",
       "1599997          11  \n",
       "1599998          12  \n",
       "1599999           5  \n",
       "\n",
       "[1600000 rows x 3 columns]"
      ]
     },
     "execution_count": 192,
     "metadata": {},
     "output_type": "execute_result"
    }
   ],
   "source": [
    "df_16M = df.copy()\n",
    "df_16M"
   ]
  },
  {
   "cell_type": "code",
   "execution_count": 218,
   "id": "25e87b63",
   "metadata": {
    "ExecuteTime": {
     "end_time": "2022-11-09T03:35:47.512441Z",
     "start_time": "2022-11-09T03:35:47.432372Z"
    }
   },
   "outputs": [],
   "source": [
    "df = df[['twitts','sentiment']]"
   ]
  },
  {
   "cell_type": "code",
   "execution_count": 219,
   "id": "eaa71f6b",
   "metadata": {
    "ExecuteTime": {
     "end_time": "2022-11-09T03:35:48.917332Z",
     "start_time": "2022-11-09T03:35:48.877363Z"
    }
   },
   "outputs": [
    {
     "data": {
      "text/plain": [
       "0    800000\n",
       "4    800000\n",
       "Name: sentiment, dtype: int64"
      ]
     },
     "execution_count": 219,
     "metadata": {},
     "output_type": "execute_result"
    }
   ],
   "source": [
    "df['sentiment'].value_counts()"
   ]
  },
  {
   "cell_type": "code",
   "execution_count": 220,
   "id": "2f5b7ba4",
   "metadata": {
    "ExecuteTime": {
     "end_time": "2022-11-09T03:35:53.031091Z",
     "start_time": "2022-11-09T03:35:52.856420Z"
    }
   },
   "outputs": [],
   "source": [
    "df0=df[df['sentiment']==0].sample(2000)\n",
    "df4=df[df['sentiment']==4].sample(2000)"
   ]
  },
  {
   "cell_type": "code",
   "execution_count": 221,
   "id": "722976d0",
   "metadata": {
    "ExecuteTime": {
     "end_time": "2022-11-09T03:35:54.912389Z",
     "start_time": "2022-11-09T03:35:54.832723Z"
    }
   },
   "outputs": [
    {
     "name": "stderr",
     "output_type": "stream",
     "text": [
      "C:\\Users\\pbann\\AppData\\Local\\Temp/ipykernel_38284/868579094.py:1: FutureWarning: The frame.append method is deprecated and will be removed from pandas in a future version. Use pandas.concat instead.\n",
      "  df=df0.append(df4).reset_index(drop=True)\n"
     ]
    }
   ],
   "source": [
    "df=df0.append(df4).reset_index(drop=True)"
   ]
  },
  {
   "cell_type": "code",
   "execution_count": 222,
   "id": "81f61d58",
   "metadata": {
    "ExecuteTime": {
     "end_time": "2022-11-09T03:35:56.535757Z",
     "start_time": "2022-11-09T03:35:56.503514Z"
    }
   },
   "outputs": [
    {
     "data": {
      "text/html": [
       "<div>\n",
       "<style scoped>\n",
       "    .dataframe tbody tr th:only-of-type {\n",
       "        vertical-align: middle;\n",
       "    }\n",
       "\n",
       "    .dataframe tbody tr th {\n",
       "        vertical-align: top;\n",
       "    }\n",
       "\n",
       "    .dataframe thead th {\n",
       "        text-align: right;\n",
       "    }\n",
       "</style>\n",
       "<table border=\"1\" class=\"dataframe\">\n",
       "  <thead>\n",
       "    <tr style=\"text-align: right;\">\n",
       "      <th></th>\n",
       "      <th>twitts</th>\n",
       "      <th>sentiment</th>\n",
       "    </tr>\n",
       "  </thead>\n",
       "  <tbody>\n",
       "    <tr>\n",
       "      <th>0</th>\n",
       "      <td>hello sofa massive spider room mam terrified s...</td>\n",
       "      <td>0</td>\n",
       "    </tr>\n",
       "    <tr>\n",
       "      <th>1</th>\n",
       "      <td>anastaciakayray cavs games reg season tribe ga...</td>\n",
       "      <td>0</td>\n",
       "    </tr>\n",
       "    <tr>\n",
       "      <th>2</th>\n",
       "      <td>ji sad itsdacia talk anymore</td>\n",
       "      <td>0</td>\n",
       "    </tr>\n",
       "    <tr>\n",
       "      <th>3</th>\n",
       "      <td>blairangela looking mess cute ppl fml lol</td>\n",
       "      <td>0</td>\n",
       "    </tr>\n",
       "    <tr>\n",
       "      <th>4</th>\n",
       "      <td>oooh imagine longest time pao apart</td>\n",
       "      <td>0</td>\n",
       "    </tr>\n",
       "    <tr>\n",
       "      <th>...</th>\n",
       "      <td>...</td>\n",
       "      <td>...</td>\n",
       "    </tr>\n",
       "    <tr>\n",
       "      <th>3995</th>\n",
       "      <td>inlovewithsteff missed today saw</td>\n",
       "      <td>4</td>\n",
       "    </tr>\n",
       "    <tr>\n",
       "      <th>3996</th>\n",
       "      <td>ltizz time use bathroom</td>\n",
       "      <td>4</td>\n",
       "    </tr>\n",
       "    <tr>\n",
       "      <th>3997</th>\n",
       "      <td>chelseamarie haha oh cool sounds great</td>\n",
       "      <td>4</td>\n",
       "    </tr>\n",
       "    <tr>\n",
       "      <th>3998</th>\n",
       "      <td>jaked76 haha donta tap season prada shoes hone...</td>\n",
       "      <td>4</td>\n",
       "    </tr>\n",
       "    <tr>\n",
       "      <th>3999</th>\n",
       "      <td>pinkstripes ha hubs early day went car sleep c...</td>\n",
       "      <td>4</td>\n",
       "    </tr>\n",
       "  </tbody>\n",
       "</table>\n",
       "<p>4000 rows × 2 columns</p>\n",
       "</div>"
      ],
      "text/plain": [
       "                                                 twitts  sentiment\n",
       "0     hello sofa massive spider room mam terrified s...          0\n",
       "1     anastaciakayray cavs games reg season tribe ga...          0\n",
       "2                          ji sad itsdacia talk anymore          0\n",
       "3             blairangela looking mess cute ppl fml lol          0\n",
       "4                   oooh imagine longest time pao apart          0\n",
       "...                                                 ...        ...\n",
       "3995                   inlovewithsteff missed today saw          4\n",
       "3996                            ltizz time use bathroom          4\n",
       "3997             chelseamarie haha oh cool sounds great          4\n",
       "3998  jaked76 haha donta tap season prada shoes hone...          4\n",
       "3999  pinkstripes ha hubs early day went car sleep c...          4\n",
       "\n",
       "[4000 rows x 2 columns]"
      ]
     },
     "execution_count": 222,
     "metadata": {},
     "output_type": "execute_result"
    }
   ],
   "source": [
    "df"
   ]
  },
  {
   "cell_type": "code",
   "execution_count": 223,
   "id": "e2b5e10a",
   "metadata": {
    "ExecuteTime": {
     "end_time": "2022-11-09T03:35:59.350538Z",
     "start_time": "2022-11-09T03:35:59.332423Z"
    }
   },
   "outputs": [],
   "source": [
    "# pd.concat([df0, df4], axis=0)"
   ]
  },
  {
   "cell_type": "code",
   "execution_count": 224,
   "id": "ee9ef89c",
   "metadata": {
    "ExecuteTime": {
     "end_time": "2022-11-09T03:35:59.942471Z",
     "start_time": "2022-11-09T03:35:59.930269Z"
    }
   },
   "outputs": [],
   "source": [
    "y = df['sentiment']"
   ]
  },
  {
   "cell_type": "code",
   "execution_count": 225,
   "id": "2028ed30",
   "metadata": {
    "ExecuteTime": {
     "end_time": "2022-11-09T03:36:00.498549Z",
     "start_time": "2022-11-09T03:36:00.482444Z"
    }
   },
   "outputs": [],
   "source": [
    "from tensorflow.keras.preprocessing.text import Tokenizer\n",
    "from tensorflow.keras.preprocessing.sequence import pad_sequences\n",
    "from tensorflow.keras.models import Sequential\n",
    "from tensorflow.keras.layers import Dense,Flatten,Embedding,Activation, Dropout\n",
    "from tensorflow.keras.layers import Conv1D, MaxPooling1D, GlobalMaxPooling1D \n",
    "import numpy as np\n",
    "from numpy import array\n",
    "import pandas as pd\n",
    "from sklearn.model_selection import train_test_split"
   ]
  },
  {
   "cell_type": "code",
   "execution_count": 226,
   "id": "87d073d1",
   "metadata": {
    "ExecuteTime": {
     "end_time": "2022-11-09T03:36:01.041990Z",
     "start_time": "2022-11-09T03:36:01.004375Z"
    }
   },
   "outputs": [
    {
     "data": {
      "text/plain": [
       "['hello sofa massive spider room mam terrified sacrificing sleep near future',\n",
       " 'anastaciakayray cavs games reg season tribe games tennis chance ive busy school',\n",
       " 'ji sad itsdacia talk anymore',\n",
       " 'blairangela looking mess cute ppl fml lol',\n",
       " 'oooh imagine longest time pao apart',\n",
       " 'wow parents split',\n",
       " '1 exam 3',\n",
       " 'hating weather',\n",
       " 'faceysarah sad saw tweet late def visited known working',\n",
       " 'youtubes having mental breakdown videos load',\n",
       " 'trillmill need shopping youbut need save money',\n",
       " 'shopping swim suit depressing',\n",
       " 'jonasbrothers agh missed oh maybe nxt week',\n",
       " 'business usual francesca leaves cali tomorrow aka live red bullrockstar anymore',\n",
       " 'reenxoxo sian ut later boohoo',\n",
       " 'arielgrows dunno totally vacay travel schedule fledgling website dirtyblaqboicom travel plans',\n",
       " 'mom texted told rodney chasing fireflies backyard awwwww miss',\n",
       " 'going easier hell sad',\n",
       " 'hotel fucking awesome time drink vodka rum bummed kendrajae leaves tomorrow seriously bummed drink',\n",
       " 'realized mom kept promise breaking especially comes',\n",
       " 'paulpuddifoot noones space party lol',\n",
       " 'swimmermag good luck',\n",
       " 'ow ow ow',\n",
       " 'chuckdmcluvin damn',\n",
       " 'mrfoto owh alritey bad rest',\n",
       " 'angiezherself youve idea husband amp work amp knew loong time believe far fallen',\n",
       " 'itrying figure gonna graduation daddy',\n",
       " 'leaving races wrecks bunch flat tires',\n",
       " '7 nights britney',\n",
       " 'collegedidnt mind drawing aint liking buisness assignment',\n",
       " 'mother set sorry brittany',\n",
       " 'im soooo tired wish bed right',\n",
       " 'vito connies closed plans thrown',\n",
       " 'time good bye twimulations miss tweeps',\n",
       " 'stormcrow yeah sort thing taste bitter hope day improves soon',\n",
       " 'jogging isnt cool especially youve got fever',\n",
       " 'cant wait til play practice 2moro wish didnt jr fair board farmgirllt3',\n",
       " 'hey socialmediatv new recorded viewable later thanks social media tv live gt',\n",
       " 'zilaya know nona majal cakap kesian trueeeee mygod ngam masa visited mcm struggling',\n",
       " '9am woke slept 2am scariest nightmare',\n",
       " 'goodsex heard guy named trucksfan got butt',\n",
       " 'photo artpixie ah rain making feel depressed',\n",
       " 'dead',\n",
       " 'joelmchale wish',\n",
       " 'himynameisrose woooooooo haha omg tell shortstack says dun think got 1000 x',\n",
       " 'whitneyjene agree minus smoking ok',\n",
       " 'realize quotshit look scratch 24 months contractquot',\n",
       " 'love train late like getting morning step',\n",
       " 'lemeus19 pick haha damn lost remote turned right',\n",
       " 'jonasbrothers wish like play instrument heart desired vocals piano guitar',\n",
       " 'pushl1 know',\n",
       " 'mahhriahh homepage',\n",
       " 'reality tons email stuff',\n",
       " 'way frikin paradon yaaay',\n",
       " 'exam tomorrown looking forward',\n",
       " 'fcuk ayoko na said tagalog cuz idk anymore',\n",
       " 'mjoftheday love roll fall asleep miss important',\n",
       " 'oh yaystuck denver airport 3 hours',\n",
       " 'getting ice creamm tired',\n",
       " 'lunch time cheese toast know cook',\n",
       " 'pleae talk peoples',\n",
       " 'dreading tomorrow morning sisters start training lb marathon altho plan run krispy kreme haha',\n",
       " 'ruisemblano thank true awful imagine',\n",
       " 'kyledlife aw youre missing great',\n",
       " 'jxox hahahaha know good times haha wish got pic im idiot ha',\n",
       " 'tokyodriftmovie oh reallyit warehousehow cool love movie awesomewish car',\n",
       " 'fbottone subs dood outta loop hate miss man',\n",
       " 'wishes work wasnt cancelled',\n",
       " 'dying going sleep love lt3',\n",
       " 'highly complex vm tasks went simple ftp upload ended tears work chill play yarm hic',\n",
       " 'getting ready week ahead',\n",
       " 'theadamcoleman oh shit sorry hear hope youre able find new better soon',\n",
       " 'want sims 3',\n",
       " 'know im getting sick im liking',\n",
       " 'jus got bad news',\n",
       " 'bobbyvoicu progress site sale seen updated',\n",
       " 'miss george carlin',\n",
       " 'incredibly mad cant sign vote tca',\n",
       " 'woke nasty cough',\n",
       " 'liesgirlstell guy calls phone number real ohh phone working try tomorrow',\n",
       " 'finishing interior design project studyingg math final',\n",
       " 'got eggs stripper aerobics realized moves bored',\n",
       " 'minicooperr yeahh ryland amazing xd hug booo suarez bit tbhbut think woken',\n",
       " 'going miss job day yesterday bigger opportunities await time try summin diff',\n",
       " 'homeworks sorry talk later maybe tomorrow',\n",
       " 'celtic gonae new manager',\n",
       " 'thepistol',\n",
       " 'leahbryson totally hear',\n",
       " 'ashleym know hate auto real estate advertising drives afraid ad rates compensate lost',\n",
       " 'lookimacowmoo',\n",
       " 'shediaaaaa fbi reh noon 6',\n",
       " 'life right exact moment s d need phone workingand gross feeling',\n",
       " 'step 2 tuuuuunes safe y reading buy prom shoes epic ones sheeesh',\n",
       " 'write report light different points room',\n",
       " 'exam eurgh',\n",
       " 'wanted sleep today ended waking 9 uggggggim tiredi todayboring',\n",
       " 'sore throat sucks',\n",
       " 'kushantidrug damnit want tragus redone homie wants vag dont know best place',\n",
       " 'im cold want sun picked bargains aldi snakevenom cream stock wait',\n",
       " 'vispandex damndarth needs new liver sad',\n",
       " 'omg woke throat killing gonna sleep',\n",
       " 'mrsjhcrabtree think thats wife',\n",
       " 'llistening father yell brother think father stressed tinyest things ugh',\n",
       " 'current gripe',\n",
       " 'feel intimidated',\n",
       " 'taking break 3 hour classes fun boooo',\n",
       " 'feelin lt3',\n",
       " 'stewartkris im sorry kristen got hacked twitterwas email account facebook im tired',\n",
       " 'family meal 5536',\n",
       " 'storms brewing',\n",
       " 'home babies r sick uggh water country maybe l8r moms hubby gets home',\n",
       " 'whattha damn considers relocating equatorial region',\n",
       " 'cherrellrene know born raised longhorn anti ou',\n",
       " 'summer great start weather pretty sucked far cat missingprolly wont',\n",
       " 'fighting corrupt user profile kde',\n",
       " 'hey play',\n",
       " 'reading insert finally 5 people called quotone kindquot 6 people called quotuniquequot called fabulous',\n",
       " 'marctheone got pregnant play travel sick',\n",
       " 'littlefluffycat exactly brilliant squarespace seen lots contests residents',\n",
       " 'goodness sake buttheadnot hating himbut im likes himnot girl met',\n",
       " 'kimmy2006 kimmy ru awake early hurt want work',\n",
       " 'tonite runningmy shoe came offi stood toeon gravelevery minute gets blackersoooo sore bookfest tomorrow',\n",
       " 'wynnec sorry hear job thing thinking day',\n",
       " 'attitudee hahahaha crazy cooking 2day ayo starvinggggggg',\n",
       " 'looooove scraping painting rescue',\n",
       " 'yellowxbirddd happens',\n",
       " 'video edited ready weeks video shoots exciting promo coming end',\n",
       " '1vs100xboxlive working',\n",
       " 'dude shit hit fan night ended killing dude',\n",
       " 'soo hungryy lol eaten 1pm good wats open right good',\n",
       " 'gonna classic delusion tonight lakeside',\n",
       " 'bugs room',\n",
       " 'going try sleep lola wakes eat tired',\n",
       " 'wndrldy got dudes',\n",
       " 'kimjunsu cuts okay guess like color',\n",
       " 'having bad mood damn hot want cold',\n",
       " 'nervous idea isps capping monthly bandwith like butterflies nervous puking desk nervous',\n",
       " 'lauradunne yeh bu need mams credit card runnin like mad cunt work days prob wont hav time t send ha',\n",
       " 'lost converse sneakers',\n",
       " 'crapcouver smell makes depressed',\n",
       " 'sis left homewishing safe trip home',\n",
       " 'like realizing allnighter efforts vain happy stayed 4 stinking disk failure',\n",
       " 'sad max left sytycd wanted bad',\n",
       " 'trying stay healthy 2 4 devine family feel icky',\n",
       " 'apercheddove oh oo thought cooking cleaing good wives waitin good husbands',\n",
       " 'know um hear message',\n",
       " 'getting headache sure hayfever related headache hurts',\n",
       " 'femmetality lol o yeah im sad',\n",
       " 'change background ive finally decided difficult 1 hour trying',\n",
       " 'bro going china 17 days crying',\n",
       " 'working selling new beginning bunch stuff looks like bmw items wont trip',\n",
       " 'restored iphone',\n",
       " 'brewstermax true case break week worry ill find way work',\n",
       " 'melissa808 gone',\n",
       " 'sad brandons night town tonight cristinas moving away party work early amp jason wont talk',\n",
       " 'hate broke',\n",
       " 'whiteroses98 doubt money ticket time wanna soooo bad',\n",
       " 'locked emilys house',\n",
       " 'hate converting movies em itouch',\n",
       " 'auroravictoria haha maybe jst sick weeks ago fun roadtrip',\n",
       " 'horrible weather want shoppping',\n",
       " 'turned invite xldb trips especially w long flight',\n",
       " 'finished carving need repour little center eyedropper tomorrow cooler melting point got holes',\n",
       " 'laying comp twitter getting good bob',\n",
       " 'butterfactory fun like new zouk days totally lost touch nightlife',\n",
       " 'darn week summer exciting',\n",
       " 'sorry text called work 11 til close expenses pay people lol',\n",
       " 'therealryanhiga oh knew busy',\n",
       " 'suddenly got crabby',\n",
       " 'misssabrinasin oooof theres things completely hazardous step haha',\n",
       " 'thunderbolts amp lightening frightening eeeeekkk x',\n",
       " 'summers',\n",
       " 'quackkkkk got econs project meeting sch',\n",
       " 'sleep watched friday 13th lol',\n",
       " 'dreamsequins sorry missed',\n",
       " 'got viewing tomorrow',\n",
       " 'wow forced hour twitter',\n",
       " 'hmmm digiweb hosting servers',\n",
       " 'plan getting earlier today fell hurts sleeping long',\n",
       " 'metro station played oslo friday missed',\n",
       " 'esmeeworld esmee happy album unfortunately live bulgaria guess able hear love',\n",
       " 'v3events way game right',\n",
       " 'gutted bout feefifofumphs mural',\n",
       " 'ashleyltmsyf sending lot love no1 checks 2 c alright amp pulling love amp nic',\n",
       " 'gym accomplish waisted yesterday days',\n",
       " 'view thhe game',\n",
       " 'tweet deck slow today like hour pourquoi',\n",
       " 'hate finals',\n",
       " 'feel good waaaah',\n",
       " 'access tie',\n",
       " 'maths revision test later merrr boredd wrote naomis leavers book tad sad',\n",
       " 'ripped shorts playing street hockey',\n",
       " 'lechai beach nowthe rain coming',\n",
       " 'wedding day yeah sun wifes cuz nice peps working party face bac aftr poker tourny hangover congrats stlconciergeguy',\n",
       " 'sairafaz miss otalia goodies',\n",
       " 'seen new moon trailer download',\n",
       " 'chadmacklin saw today late left hello',\n",
       " 'antonyedwards womans voice weight watchers commercials drives wall',\n",
       " 'broken fave wine glasses',\n",
       " 'got outta showerrr sick',\n",
       " 'kidbmoon miss',\n",
       " 'finished ginormous pile noticesand right celebrate boss dropped huge pile poop',\n",
       " 'wish telephone sigh',\n",
       " 'rebecca ashley sort things',\n",
       " 'good mood aim amp stuff relacksing miss goldie hospital grr miss bessfren chenelle 2',\n",
       " 'im gonna moving soon gonna sad im gonna rid lil doggie oh better',\n",
       " 'going duxford today appalling forecast coupled agony moment means going wish lived closer',\n",
       " 'wishing rich stay belleville',\n",
       " 'dave killed bird face 10 miles ago kid',\n",
       " 'youngq sweetieyour page requires password',\n",
       " 'nickcarter wont let register nickcarternet bsb',\n",
       " 'arrived school late',\n",
       " 'way heathers grad partyhoping erikscottberg seen thurs',\n",
       " 'zenarchy eddiecurrent cool wish video',\n",
       " 'wish nick didnt college x',\n",
       " 'kendellrenee 3 weeks gone need catch',\n",
       " 'warning jewellery makers careful clean properlyi aampe til early hours wire stuck foot ow',\n",
       " 'donate bone marrow asthma',\n",
       " 'gotta try study todayboo tired bored hopefully true blood posted sunday instead monday tv',\n",
       " 'actually felt sorry gokey kris doesnt deserve final 2 way adaammm',\n",
       " 'butt hurts',\n",
       " 'vonpud oh wish going instead sit office',\n",
       " 'alexmcelroy thanks alex starving eaten noon break 2001000',\n",
       " 'rain rain away come day world waiting sun',\n",
       " 'told asthma camp',\n",
       " 'catoasapun near ok walk room cause crying ep started isuck',\n",
       " 'sventy tempting weather outside stuck working place thesis',\n",
       " 'ddlovato madison cutest thing alivee doesnt need frustrated paps im sorry sister thatlt3',\n",
       " 'morning beautiful day study aahhhhhhhhhhhhhhhhh',\n",
       " 'ate tummy hurts',\n",
       " 'boyfriend phil kessel going 46 months',\n",
       " 'heading gym work fattummy',\n",
       " 'sign msn uh',\n",
       " 'kidnapdavey aw guess sleep deprived lol woke 7 gr mister',\n",
       " 'havent seen savanah wednesday',\n",
       " 'kaydazzle red robin hurt lol',\n",
       " '',\n",
       " 'maryjjohns people leave return abandon accounts delete reason clue',\n",
       " 'got english paper 2 exam tomorrow',\n",
       " 'god ive got tweets l ok theres seriously weird music radio disney l went outside macbeth ugh hate p2',\n",
       " 'morning feelin poo covered bites happy ah hey ho work nice day peoples xx',\n",
       " 'saw movie paul blart mall cop thought funnier',\n",
       " 'im going inhale tar soot lungsim sorry lungs wrote letter yesterday quitting forgot send',\n",
       " 'left list willing offer barcamp session adopting newscloud facebook publishing app code fb app kncmit',\n",
       " 'chinese',\n",
       " 'fishlisha trying',\n",
       " 'wieviele events kann man eigentlich mit google analytics trackevent anlegen possible showstopper',\n",
       " 'mrticky sorry didnt post drunk twitter updates dont net phone dobut credit allow',\n",
       " 'tomorrow schooool boring amp perform drama know lines play boy 0',\n",
       " 'kingston cat flu',\n",
       " 'missfionalim yess like stop knew b4 kinda annoying shoot',\n",
       " 'shontellelayne hey shontelle long got ticket coome shopping grafton street xp l',\n",
       " 'glamorousamanda wish help honestly',\n",
       " 'lastfm wont let listen anymore music',\n",
       " 'missterray 500 bucks dang gotten game',\n",
       " 'best purchases today yard sales 2 large dog crates 30 refrigerator office 35 buy old',\n",
       " 'louiiseeeeee apparently probably wont becuase 3d effects change',\n",
       " 'kaatje68 know huh sad surprised hear spanish news',\n",
       " 'burnt look like lobster ouch',\n",
       " 'aztejana84 add services theorapist cuz youmannnn',\n",
       " 'wanted nandos',\n",
       " 'arameabonita brother hall died weds visitation tonight sad 40 6 month old',\n",
       " '4rustedhorses aww bebe care youre upset',\n",
       " 'zamon thinking got time work sure peace quiet work home',\n",
       " 'busily attacking vat paperwork',\n",
       " 'mselyse sad',\n",
       " 'brookelockart okay guess destined meet hhh east coast day pretty decided stay',\n",
       " 'hot herecannot sleep',\n",
       " 'friend fired',\n",
       " 'bed soooo hope feel britney tomorrow',\n",
       " 'super tired work',\n",
       " 'got takin little park sad leave',\n",
       " 'impossible',\n",
       " 'xbox live',\n",
       " 'woohooo good morning world oddly good mood happen lot anymore',\n",
       " 'oh cold',\n",
       " 'got good nights sleep frustrated wp mu buddypress trying start',\n",
       " 'sad federer won deserves preferred nadal big sigh',\n",
       " 'going coffee getting hair nice easy dayuntil commute city',\n",
       " 'work hour',\n",
       " 'hate hate hate hate making dinner like like pointless necessary task wont',\n",
       " '2 bed looking foward 2morrow',\n",
       " 'ddlovato wots tummy xxxx',\n",
       " 'friends gone homework time',\n",
       " 'kentia hall classic arcade area year evidently',\n",
       " 'kirstie going hospital today poor girl',\n",
       " 'davidalston love report buried long reg form username pass',\n",
       " 'good day wake buildings fire alarm actually meet neighbours venturing find flames find',\n",
       " 'outgoing connections external email servers marvell weird twitter works fine',\n",
       " 'crud mountain dew throwback kroger',\n",
       " 'want twit computer afraid dad come home suddenly act awkwardly',\n",
       " 'swear know wife maya rudolph daughter minnie riperton',\n",
       " 'omg worst possible time sick',\n",
       " 'best friends drove glasto yesterday scotland jealous working option',\n",
       " 'broddo clontarf maybe hate moving',\n",
       " 'thats sad song',\n",
       " 'yelyahwilliams horrible thing cant outta bed till 11am everyday twins mum aint 6weeks sob',\n",
       " 'leaving jet plane cried way atlanta',\n",
       " 'got owned hangout text play games online im smo earlier',\n",
       " 'ddlovato omg love biggie rest peace damn didnt know liked biggie',\n",
       " 'went exhausted',\n",
       " 'christophery graphic account seen twitter',\n",
       " 'know meh repeat self worth doesnthaveaflashdrive worth doesnthaveaflashdrive',\n",
       " 'time visiting mom hospital wifi',\n",
       " 'bored wanna study spanish',\n",
       " 'thepauldaniels looks like followers eloped swans 5 awww',\n",
       " 'mztworkalot knew ps3 thing life doesnt disappoint amp moment broke hate life',\n",
       " 'southwestair mean youre leaving isp',\n",
       " 'help tell abt box model boxmodel use quothtmlquot',\n",
       " 'weenith hope youre better tomorrow',\n",
       " 'catherine1213 know craving blizzered',\n",
       " 'zoniczulu alright little pennies left work required',\n",
       " 'pounding headache',\n",
       " 'sox game cancelled dollar drafts',\n",
       " 'davidlehre ahhhh want camera cant pay lol oh',\n",
       " 'mrsmichels oh sux tweezers',\n",
       " 'aaaahhhhhhhhh tmr having sort sims gathering iluma',\n",
       " 'jeeps alternator went blahhhh',\n",
       " 'long line',\n",
       " 'sleep',\n",
       " 'damn steam fine deals buckled got deals',\n",
       " 'storming seriously',\n",
       " 'watching pouring rain window wet weekend',\n",
       " 'charmania got wet disconnected',\n",
       " 'razaeletan haha outbreak 1 confirmed case pa lang scary',\n",
       " 'rampage4real lmao awww sucks',\n",
       " 'dropped richard 2 seatac airport home amp house feels eerily lonely wo sister parents r home',\n",
       " 'jacket smell like austins car air freshener',\n",
       " 'bball4life brb chanel accident sisters dog stepped tracked floor',\n",
       " 'longer attending samas quotdue budget constraintsquot',\n",
       " 'lip swollen prolly bumped hand piercing yesterday',\n",
       " 'went bed dozed woke panic attack thinking today writing livejournal ease mind sleep ugh',\n",
       " 'board bus crappy feeling yesterday',\n",
       " 'happy bunny lens died dying painfully judging noise making got figure return sigma',\n",
       " 'tumblr neglected',\n",
       " 'oooopspicnikcom having problems photo waiting',\n",
       " 'aww weather great bbq etc crap shootn',\n",
       " 'wasting time trying figure quotselective twitterquot facebook fb',\n",
       " 'nickybyrneoffic oh poor u ive gotta soon im terrified enjoyed itare mad hope feel better soon',\n",
       " 'morning time cake coffee sleepy hope awesome day lt3',\n",
       " 'supposed eating pho parents cause vegan gotta nibble',\n",
       " 'jamiesour digital travel clock means cellphone battery yes know draining super fast today',\n",
       " 'ill know mouth ulcers live throat',\n",
       " 'untrainedninja hes v cute fun following twitter acc ollywolly wana kitty',\n",
       " 'confused',\n",
       " 'jordanknight links working',\n",
       " 'sittin bus stop foot hurts like hell yay',\n",
       " 'finally home im sunburnt',\n",
       " 'search printer ink amp new keyboard soon 3 day studyathon family bbqs trips park sticky boo',\n",
       " 'elkharttruth interesting picture sad story',\n",
       " 'feeling',\n",
       " 'hate living la surrounded perfect noses huge breasts caused question beauty',\n",
       " 'day clean',\n",
       " 'got sniffles want sick need',\n",
       " 'super long day super long weekend',\n",
       " 'ps im having sex',\n",
       " 'anavanhelsing understand prince dark master nurse mosquito oh poor girl',\n",
       " 'ladipurpz miss 2 day',\n",
       " 'ok lets shit works lol way home sick weekend dc',\n",
       " 'hear normal cast',\n",
       " 'wants tired took nap today',\n",
       " 'annielang mommas baby aww missed twitter life banter banter real life xxxx',\n",
       " '8 days till surgery',\n",
       " 'nevermind galaxy music jipped tim strings noooo feel bad',\n",
       " 'sampotts sad nyc',\n",
       " 'bought kzone kapitan sino bob ongyay sadly tg mag stands',\n",
       " 'thebeancast games preschool ones iphone',\n",
       " 'going fathers day shopping today im soooo late',\n",
       " 'kristylovescarl omg totally vvvbffl know think came twitter anymore answer cont',\n",
       " 'tv boreeeeeeeeeeeeeeedd',\n",
       " 'twinkle47 lol morning raining',\n",
       " 'mplstweets sad wont citcon minneapolis end week hand',\n",
       " 'headache',\n",
       " 'eeeeeeee amazon says probably spn 4 september 3rd eeeeeeeeee months away',\n",
       " 'dougiemcfly bloody bluewaters open 2 work puttin college totally sucksan think heaven looks like mcfly',\n",
       " 'hungry want breakfast',\n",
       " 'woke 0530 night sleep looks like wont hackday',\n",
       " 'monday sucks miss mp4',\n",
       " 'reese going animal shelter today smart choices future like',\n",
       " 'goodnight',\n",
       " 'debbiefletcher hi brazilians',\n",
       " 'says soul rest peace bude titi aaaaa hold tearrrsssss',\n",
       " 'chrishasboobs oh buddy know fucking hate',\n",
       " 'dropdeadjemila think hunni',\n",
       " 'think raining outside',\n",
       " 'rodolfobraz actually got late lost lol going buy collection watch',\n",
       " 'believe raining south shields know think bag enter shikaris new album chill day',\n",
       " 'absolutely hate chlorine hair',\n",
       " 'danielfielding nope picture whatsoever',\n",
       " 'nadiaishere yeah',\n",
       " 'angielala time cause club went horrible miss trey',\n",
       " 'days la flight great weather sydney',\n",
       " 'selenagomez miss',\n",
       " 'jamison904 cigarettes little gas left room',\n",
       " 'shayyyg aww miss tomorrow',\n",
       " 'suiteaces ran vodka days ago long island ice tea sadly',\n",
       " 'goin 2 bed soon chillaxin 2moro watch tennis wish nadal playing',\n",
       " 'rebeccarem yeahwere currently planning complete cut peeps',\n",
       " 'wishes seetickets stop telling morrissey dates sold',\n",
       " 'left baby family work miss',\n",
       " 'noiseporn defo im booked tother country',\n",
       " 'kinda sad cos crazy fast web browser phone stopped working depresseedddddddddddddddddddd',\n",
       " 'nolagets heykenya laziest friend leave lmao',\n",
       " 'carebear2003 hope scared 2',\n",
       " 'canadianfamily nursing stroller walks time babysitter gym anymore',\n",
       " 'wishes high school',\n",
       " 'grand mothers dont wanna computer oh phone',\n",
       " 'away headache goodnight friendz',\n",
       " 'farisloveapple tidur lagi youre lucky school tmrw',\n",
       " 'hospital sweet guy like meet im shy talk',\n",
       " 'think got sunburn',\n",
       " 'pepsi max gone need worry dad gonna buy right',\n",
       " 'miatyler yeah east coast snow tornadoes fuck',\n",
       " 'ommyygoshh going cell phone soon billl 800 dollars stupid bell',\n",
       " 'lutfisk hate sunday nights',\n",
       " 'going ptown soon minus roast',\n",
       " 'blankets sooft gonna fall asleep drink',\n",
       " 'dont know spell cherios',\n",
       " 'im tired didnt sleep night im work',\n",
       " 'burnt body flip',\n",
       " 'joshtastic1 lmfao yeah twitter best way comunicate meet new people fb bores apps',\n",
       " 'awedgirl ny day amp booked loved met drink',\n",
       " 'nihaoheatherxx know movie',\n",
       " 'motivation start list low morning',\n",
       " 'great day sun went away started rain',\n",
       " 'astroboyclassic nthn bout 2 hw',\n",
       " 'lot time away home faced stuff dropped place mess',\n",
       " 'megamonious day going slow missed microsoft e3 press conference wont replay',\n",
       " 'try solace v4 boot drawing board',\n",
       " 'miche77er catch rays rainy toronto',\n",
       " 'lovenals stuck frozen reset stuck cant quotslide unlockquot',\n",
       " 'going miss pawpaw rip',\n",
       " 'darkvanity aww im sorry hear',\n",
       " 'soooooooooo sad score wwe tix',\n",
       " 'look feel like death right',\n",
       " 'karimzreik quotbigggquot mean henry think heart drop deep abyss found',\n",
       " 'tummy ache',\n",
       " 'heading beach fonewoo',\n",
       " 'terrencej106 got 2jobs ampa degree damn car died lamborghinibow feel shitty bout havin car',\n",
       " 'tommcfly ive plane',\n",
       " 'techcrunch holding breath n97 lets hope nokia dont disappoint',\n",
       " 'iamsili think replay',\n",
       " 'watched outsiders',\n",
       " 'hate waiting service',\n",
       " 'leighton meester gossip girls sex tape amp flood watch nyc today good day',\n",
       " 'yllis amish clockwork orange look dhell yah amish',\n",
       " 'dissapointing aquarium',\n",
       " 'crazy mondays like wana home chill amp watch kyle xy man miss',\n",
       " 'peterson5756 sorry disappoint blue bikini',\n",
       " 'bit nail trying hard grow',\n",
       " 'rcproam good news flyer fine owe wg bad news come saturday nj fathers day',\n",
       " 'im getting ready spend day bed feel fluish',\n",
       " 'motokok like talk',\n",
       " 'sweetl80 oi london didnt tell seen pic matrix paul',\n",
       " 'told mom siblings thinking care mom amp dad er past year',\n",
       " 'renzi28 hey hun',\n",
       " 'justcindy ha c pouche',\n",
       " 'omg movie sad amp creepy',\n",
       " 'going watch quotthe happeningquot demand appears longer available oh guess watch quotrole modelsquot instead',\n",
       " 'rachelcantfly seriously jelous',\n",
       " 'watching pirates caribbean right tweet night early homebye bye flat',\n",
       " '10k gone wind',\n",
       " 'lol ended baking onli cuz watchn wat eat',\n",
       " 'raining favorite weather help smile',\n",
       " 'volta pros trendings bouvierbday frenchiebday bouvierbday frenchiebday bouvierbday frenchiebday bouvierbday frenchiebday',\n",
       " 'scpancake hahaha sam daa uni subject',\n",
       " 'know unlock gmc pu toyota remote clicker true',\n",
       " 'kind today sure',\n",
       " '2 ngy na thi',\n",
       " 'accidentilly cut chunk tounghn nail clippers long story id talk',\n",
       " 'dantheman61 remember important bits x',\n",
       " 'donitabrown r runningaheadcom map runswish motiv early run 3 marathons took',\n",
       " 'sooooo fucking boring',\n",
       " 'mandyluvsjbx3 silent treatment',\n",
       " 'long gave sorry ashamed lt mc sexy gt',\n",
       " 'barely able touch lunch today sitting cold ice lol shaking damn aching head',\n",
       " 'vomiting 5 year old',\n",
       " 'kbenjy thanks sugar day',\n",
       " 'bought steaks charcoal need flame grill fired lighter matches',\n",
       " 'lanabanaluva probably conference day',\n",
       " 'good day charley got little bit sunburnt worse today thoo l',\n",
       " 'joewilcox nifty device considered n95 wound iphone instead regrets atampt',\n",
       " 'cried lot',\n",
       " 'xxpodex scare mad',\n",
       " 'dont feel good dont know',\n",
       " 'ryanseacrest condolences david cooks family sad news',\n",
       " 'sad',\n",
       " 'shit leighton meester involved sex tape scandal',\n",
       " 'cathysymaco knowwww ust everyday haayyyyy',\n",
       " 'runny nose cough',\n",
       " 'finished calculus project ugh',\n",
       " 'reason looking forward new phone likely wait eligible hopefully',\n",
       " 'jihav rode short bus family poor quotpretendedquot poor ppl classist',\n",
       " 'started job want finish',\n",
       " 'friends san pablo right drinking laughing swimming iim huhuhu',\n",
       " 'tonys tonight bad gays closejust',\n",
       " 'dakshinamurti sorry',\n",
       " 'lovely day sun yesterday left splitting headache',\n",
       " 'nites barmitzvah crazy sole power puts big mayhems finest 1 2nite covert ops revival got cold 2',\n",
       " 'didnt tatthere alwayz 2morrow',\n",
       " 'solve problemi dying right',\n",
       " 'finaly got stop crying',\n",
       " 'time walking beach work gonna miss',\n",
       " 'dougiemcfly tried tried tried reply',\n",
       " 'bored hating home',\n",
       " 'willbradley purelifestyle going lake pleasant camping frisun camping adventure',\n",
       " 'went scuba diving caymans got quotthe bendsquot decompression chamber 5 hours fun',\n",
       " 'murnahan link takes twitter page tried valiantly find funny',\n",
       " 'tired weather colds',\n",
       " 'oh dead poa',\n",
       " 'kimkardashian drink glass h2o hour awake wash flu lots sleep flu probably plane ride',\n",
       " 'think broke ubertwitter',\n",
       " 'miss bestfriend havent seen agess like agess read',\n",
       " 'jayme1988 im ok thanks got bit heavy chest atm sense bitch cough makin recce person ready strike anytime',\n",
       " 'jonathanrknight thing want quotstep stepquot oncie nkotbstore cc',\n",
       " 'rob pattinson taking toooo long come instead got pic kat de luna lt3',\n",
       " 'royfromit yesim idiot firefox amp explorer wont open flash 2 secs goso cant whats wrong',\n",
       " 'jreagon11 im going stay awake try',\n",
       " 'selenagomez blog post internet',\n",
       " 'inrose sorry frustrating frustrated work harder',\n",
       " 'nds bumhole wont connect net',\n",
       " 'jenmarielle haha jen jb fan awww care alright miss like drawing hahaha',\n",
       " 'happy birthday karina day goes dont think hope youre watching lt3',\n",
       " 'arrogant',\n",
       " 'nicolejensen think 10k team 5k mark attending case beer',\n",
       " 'sarahg ill volunteering mattian look like things wont better year financially',\n",
       " 'hot',\n",
       " 'twit pic work',\n",
       " 'neck killing help',\n",
       " 'grasped',\n",
       " 'jrsmith1 stephenasmith good job far lakers',\n",
       " 'wanna nap',\n",
       " 'linux4me28 wonder shes going like super tampon sized penis',\n",
       " 'having hard time properly conveying faceeeee annoying',\n",
       " 'half dead friends',\n",
       " 'going raining wanted market',\n",
       " 'want mad people',\n",
       " 'modelmandylynn help babe pleasee',\n",
       " 'aaacckk forgot order indian cigs gotta pay price smokers check wwwescapetocheapcigsonline',\n",
       " 'needs sleep setting suse pxeboot install server home 300am',\n",
       " 'massive sneeze scared fur poor thor kitty sorry puff vacuums',\n",
       " 'ok woke late starting drink oral solution',\n",
       " 'partyin mg ontario danny amp marilyn wanna sigma nu haha good luck findin ride cuz gonna turn phones',\n",
       " 'writing thing weeks handwriting barely legible',\n",
       " 'washing clothes',\n",
       " 'curlsdiva means working boooo',\n",
       " 'tired barely eyes open need sleep 138',\n",
       " 'bad mood',\n",
       " 'sfkpinstripe sweet holidays rock enjoy quickly gone sava flava life',\n",
       " '2 ocder 2 eat 12 meals day meds amp watch slowly fall apart eat like horse',\n",
       " 'going sheffield later bad times',\n",
       " 'feeling great',\n",
       " 'billy talents great mum came wanted watch tv',\n",
       " 'vprincess working fine',\n",
       " 'feel cold coming',\n",
       " 'loooonnnggg day',\n",
       " 'gloves missing',\n",
       " 'race night needs read animal farm english',\n",
       " 'mrjannis searching didt find',\n",
       " 'tomorrow fungymrelaxwill amp grace timedatehomesleepwake work',\n",
       " 'officially ordered bed night thanks chat reneebarber amp tealou catch ya later today',\n",
       " 'fartfree lol girls iron maiden p',\n",
       " 'jodycones want 21st come',\n",
       " 'ewwwwh trainin',\n",
       " 'feel like reading anymore hate finals',\n",
       " 'kimli version wiiiiiiiiiiiiiiiiiiiiiiiiiiiiiiiiiiiiiiiiiiiiiiiiiiiiii',\n",
       " 'weekends left tdeee',\n",
       " 'dosent help x',\n",
       " 'packed nearly ready leave toon',\n",
       " 'uploading youtube takes forever poo',\n",
       " 'getting swing things work wishing home girls',\n",
       " 'boneystarks myt',\n",
       " 'relaxing wonderful trip er sigh hate sick',\n",
       " 'days school taking longer thought remember wishing long time',\n",
       " 'jinak je dobr tipovaka 49ers hill broncos orton browns anderson bucs mccown jets sanchez vikings nevim rosenfels',\n",
       " 'rnyalison yep nyer apples cider pumpkins leaves changing color crisp nights hot october',\n",
       " 'rayray14 davhaq add list',\n",
       " 'discuit ok mistake web designer layout reminded creativesuit website',\n",
       " 'alrighti need addiction rest tomorrow dreaming twitter lt3 goodnight',\n",
       " 'head killing want read',\n",
       " 'goin yo vietnam tomorrow im tweeting month',\n",
       " 'llcooljew poor dear fellow busty mavens gym belong peac',\n",
       " 'tommcfly tom youre superhero right turning 22 tomorrow cries stay 21 forever wanna oldddd',\n",
       " 'incredibly bored making want eat exaggoration',\n",
       " 'littled1976 tiiiiired glad youre complaining',\n",
       " 'nextrevolution think people west care care hard find things know help',\n",
       " 'bbtent awwww',\n",
       " 'jbmcdlts ino clear hopefully lol',\n",
       " 'trying study real estate finance',\n",
       " 'moms computer crashed',\n",
       " 'gemmakatie lost help find good home',\n",
       " 'ughhh feel like',\n",
       " 'fwdmotion bumout totally takeem class noon',\n",
       " 'lashesbytoya yes r ones 4 years ago sad',\n",
       " 'abletontweets theres quotpresetquot akai mpk 49 wiv ableton cant find',\n",
       " '20 minute estimate download stupid conference wifi private network judging room spoiled',\n",
       " 'late school tomorrow worse sleep',\n",
       " 'henselnoise taking refuge house hot pool',\n",
       " 'feel like death walking',\n",
       " 'feeling insecure',\n",
       " 'yamanakaino whats x',\n",
       " 'cavang hackintosh m lm qui g c tin mac xn',\n",
       " 'gerst521 baby time watch tv place',\n",
       " 'amp blown',\n",
       " 'sonisphere thats shame getting replace bands longer set times',\n",
       " 'face burnt bueno',\n",
       " 'miss outside world',\n",
       " 'lizzzzzzi guess sat cinema need info 10 minutes ago happy bunny',\n",
       " 'killed bee think pain hobbling floor flying',\n",
       " 'damn storm knocked internetwhat supposed',\n",
       " 'specialist mtb racing month looks like roadie',\n",
       " 'ughh hate life',\n",
       " 'tommcfly tom plans germany answer germany fas',\n",
       " 'know wanna play game wanna play xd',\n",
       " 'nekas wishing talk',\n",
       " 'jbulley1 jaomahony agreed x 2 isnt spotify',\n",
       " 'having hard time thinking leaving d know allie care himjust sad wont 10 days miss',\n",
       " 'marquitathomas oh sorry knew option therei tried set',\n",
       " 'thewhorerocks diekksnfasejkmcke',\n",
       " 'getting ready fo work',\n",
       " 'dunno follow friday',\n",
       " 'finished accompanying hoping parents come pick soon evensong',\n",
       " 'ugh work',\n",
       " 'missed wbc counterprotests probably going waterfire ben yay',\n",
       " 'fretsy bring dunkin donuts remember time saw dunkin donuts',\n",
       " 'mooshinindy 1stthing todo change locks bc forgot live anymore sad tweet',\n",
       " 'artemisofluna came home sick today eww gross nasty hate flu whatve got',\n",
       " 'screwed math like',\n",
       " 'kno feelings r hella hurt bc kno y upset w amp bestie behavior',\n",
       " 'like dancing bedroom wishing blastbeat wanna talk mom bout',\n",
       " 'nathlouise michael cera pretty cool twitterer sorry',\n",
       " 'kayleeosaurus warm sleep soooo tired think coming',\n",
       " 'lisasullivan great day pool waiting hear fr abberly signing lease today hopefully later today',\n",
       " 'stopahmadi sound good',\n",
       " 'everyday pray miracle invisable',\n",
       " 'inseparablejb aww poor stomach hurts lmao',\n",
       " 'stinkweasels meh quotmehquot sad jesus phone',\n",
       " 'shadowstaarr nasty pasty',\n",
       " 'board miget theme park',\n",
       " 'oooooooooooohhhhhh gee decide blog layout pick look like picasso met escher',\n",
       " 'dark scared need security blanket',\n",
       " 'homework stress surgery stress exam stressi gonna die',\n",
       " 'watchin weird science girls got hot bod depressing',\n",
       " 'work amp practice tomorrow',\n",
       " 'hopefully wheather clears raining',\n",
       " 'bleedthegabbi home',\n",
       " 'leaving sarah going feel',\n",
       " 'cry pain barely breathe argh',\n",
       " 'thirsty',\n",
       " 'gone set 4 hour extensionsonly big burn thumb',\n",
       " 'damn pulling gordon win today ugh fan stewart oh week',\n",
       " 'worst head ache time sucks',\n",
       " 'hospital poor sick baby',\n",
       " 'know pictures twitter updates',\n",
       " 'best vacation real life',\n",
       " 'pac said quotjust sunny day californiaquot',\n",
       " 'came monique colemans houuse missed like mad',\n",
       " 'watch perezhiltondude avail iphone',\n",
       " 'phone kelsey sorry dani',\n",
       " 'murrrrrrrrrrr lazy sunday called workbb',\n",
       " 'didnt watch tonight forgot',\n",
       " 'missashley07 ewww yes dat gross lol trackball fell like 2xs amp looks like gonna come',\n",
       " 'says left homework think wont finish today wanna finish homework',\n",
       " 'sings song missing',\n",
       " 'got sociology exam tomorrow education 3rd time ds',\n",
       " 'isnt im 3d',\n",
       " 'sad happy know want feel happening lost',\n",
       " 'episode terminator sarah connor chronicles god damn fox cancelling',\n",
       " 'chelseadiviney camp weeks school sooooo gay',\n",
       " 'taklandrock ahhhh chipotle nearest chipotle downtown cs 102 miles away',\n",
       " 'repomadam blargh hugs tight',\n",
       " 'office booo',\n",
       " 'flyaarmy edie bauer going hoping fly new boeing 787 edie bauer edition',\n",
       " 'saturday waitthats work day navy work legs today lunch workout',\n",
       " 'vichick oh lawd',\n",
       " 'tonylovato chicago date mest showits green day',\n",
       " 'heading shabu 115 hour work day ache headache tummy ache',\n",
       " 'says happy fathers day especially dad',\n",
       " 'laptops screen keeps blacking middle hope broken maybe need shut',\n",
       " 'dj carrasco interacting saturday amp tried multiple times ball kid snagged sad',\n",
       " 'jonperezinsd yeah super sleepy',\n",
       " 'ugh school hate early',\n",
       " 'wanting pleasanton worried grandma',\n",
       " 'churchcucumber hmm tinnitus sucks',\n",
       " 'jazwheel avoiding crapsticks',\n",
       " 'darealsebastian ok thats gonna think im goofy stupid e mail seeingim new twitter',\n",
       " 'interested watching cricket anymore',\n",
       " 'redantiques smokers round good girls pity',\n",
       " 'oh god eyes want open',\n",
       " 'lagi di facial aw men hurts',\n",
       " 'gregorypleau cog spring fling yesterday wanted early',\n",
       " 'sims 3 keeps crashing',\n",
       " 'kinkytinky7 aww sorry hear lucky',\n",
       " 'leslieknope',\n",
       " 'like quotyou woke home dont wanna sleep couchbed comfortable',\n",
       " 'watchin greys anatomy coz cant sleep 2am',\n",
       " 'eng won yeah scot baby blues',\n",
       " 'grudgejudy thank kind words sad old ppl watching spouses health fail',\n",
       " 'petaaa gutted',\n",
       " 'woahamber afford international rates hear accent',\n",
       " 'blogspot account visit di pa kasi ako makapagdecide',\n",
       " 'kassjones yes know feeling',\n",
       " 'ouch fingers sore making jewellery',\n",
       " 'staying bed day today afford shake flu',\n",
       " 'stephaniemusic got sushi jamba',\n",
       " 'sarahtonner shattered',\n",
       " 'feelin good',\n",
       " 'crunchygoddess gwenbell oh god jealous',\n",
       " 'felt like crap behaved like son ate compensate pigged homeroasted sugar almonds painful tum threw feel sick',\n",
       " '1 cat everytime amp stares amp feel guilty weird like owem somethin knowm',\n",
       " 'wanted cavs win',\n",
       " 'tummy hurts sleepy eyes hurt head wanna bed',\n",
       " 'bored school throat swollen',\n",
       " 'jackthedrummer hah yout youth leader sounds pretty awesome latley havent talked facebook awhile',\n",
       " 'exam today 12pm comes rolling ill happy exam semester celebrate',\n",
       " 'ukgirlie best shut eye got work hours',\n",
       " 'clearly gonna able sleep tonight clean',\n",
       " 'xomusicloverxo middle sampr developed fully half year updated',\n",
       " 'yes solessobe bed getting picked goodbye soon send pics',\n",
       " 'xuwang evil minded person',\n",
       " 'wish quothequot myside',\n",
       " 'know today',\n",
       " 'mildly offended invited webby shindig',\n",
       " 'bed 6am work gutted sunday',\n",
       " 'wanna crank high voltage today im cash bank closed today',\n",
       " 'got real bad sunburn help x',\n",
       " 'air france story freaking lil hate flying im soon going canada im sure cry',\n",
       " 'feeling sad participating open 10k',\n",
       " 'like hot sweaty cleaning',\n",
       " 'mouth hurts bad wisdom teeth acomin',\n",
       " 'grad party',\n",
       " 'kinzyy yes',\n",
       " 'briannaaax playing day',\n",
       " 'beniblanco thanks ben believe 22 gives x',\n",
       " 'lauradrh umm sooo good sooo weird wish best friends',\n",
       " 'ahhh porno follower stopped following sad',\n",
       " 'glarawen insured amp driven 3 years butttt driving',\n",
       " 'college aibt doin',\n",
       " 'think flu boo flu boo',\n",
       " 'catirah',\n",
       " 'jesssicababesss told friends late getting tickets im going sister',\n",
       " 'hav cold goin paris 3 days tips people rid cold lyk fast',\n",
       " 'cae going stay monday exam tues home wait summerseptember movin',\n",
       " 'time life sadly complete lack gorgeous men disappointing haha',\n",
       " 'yaymy car readywas 2500 miles oil change yikes good worst 8k miles',\n",
       " 'work slow surprisingly fun home supaaa stuffed',\n",
       " 'kinagrannis kina sooo sad cant prevents seeing east coast',\n",
       " 'wishing showtime missed weeds tonight',\n",
       " 'stuffed nose',\n",
       " 'email dane',\n",
       " 'bin 3 times altogethermillenium tour fabnever gone good wuz wiv kevin unbreakable favxx bsb',\n",
       " 'bens car broke middle ahhhhh',\n",
       " 'prom fun legs killing',\n",
       " 'iheartbrooke fail tear',\n",
       " 'gosh week gone quick school toz',\n",
       " 'wish option sick work today alas',\n",
       " 'foodurchin brilliant concept new blog love quotback old tradingquot style far away participate good luck',\n",
       " 'feel good',\n",
       " 'morning tweet peeps amp fb folks plans 2 replace brakes morning raining maybe aftenoon gonna busy morning',\n",
       " 'best friends friend commit suicide going lt3',\n",
       " 'end era gm finally files bankruptcy miss big cars',\n",
       " '4 hours work sunday nice outside',\n",
       " 'owengreaves youve got sun send way gonna need boat minute',\n",
       " 'doenst happen im losing beer pong',\n",
       " 'jessieeeexox yeah awful tired x',\n",
       " 'beckyc3 aww sure right ipod',\n",
       " 'wheres olivia thought going bike riding',\n",
       " 'dishes hating fact 96 degrees outside hot',\n",
       " 'okay tomorrow comes',\n",
       " 'im im stood',\n",
       " 'homesick devon',\n",
       " 'biggest headache photosensitivity getting control help',\n",
       " 'need job',\n",
       " 'work tomottow im slightly drunk uh oh lmao ata leats work people witrh know yayayayay',\n",
       " 'jadieladie soon federal code sick people woking blood nn',\n",
       " 'going bars stood 3rd time week record drinking beats crying',\n",
       " 'leylacarter celymclean ceeelyyy esk leyla kieereee buaaaa hehe',\n",
       " 'drewoodard twitter im limited word count',\n",
       " 'deansbitch feel bad wub',\n",
       " 'jeez gonna bored',\n",
       " 'wait 4 preparing prom sis wait afraid clothe dress',\n",
       " 'blackmetalkitty book club details',\n",
       " 'chadmichaelx yeah makes miserable',\n",
       " 'catherine2894 whats wrong',\n",
       " 'lizh33 looking rent manayunk stressed stay excited 4 tomorrow',\n",
       " 'isparkletoo lost followers day showed day twitters screwing bit lately',\n",
       " 'bloomington atlanta love miss',\n",
       " 'mexicano',\n",
       " 'working project god cant find jewish heritage',\n",
       " 'joaniesc cupcake updated phone night touchscreen works bit better loving phone',\n",
       " 'wish seeing dave matthews',\n",
       " 'wtf getting sicker day come care',\n",
       " 'grumpy ones bestest friend',\n",
       " 'odeio hoje want',\n",
       " 'walking home got bag stuff trumpet pe gear',\n",
       " 'studying like crazy exams friday',\n",
       " 'ryanstorey miss',\n",
       " 'cpaladino like infamous rented copy cash buy',\n",
       " 'foxsake work bank holiday monday fail',\n",
       " 'islapyou yeah agreed seriously sucks intern case',\n",
       " 'justins stepping ceremony today gettin big',\n",
       " 'sarahsmith5 haha damnit hmm doo',\n",
       " 'cousins left couple grad parties',\n",
       " 'zoemartinn earthquake important fault line good sign',\n",
       " 'mention failed challenge',\n",
       " 'sooooooo sunburnt hurts',\n",
       " 'marianna26 hey mar miss yeah gotta find stupidstupid school',\n",
       " '21k run morning working garden students tomorrow',\n",
       " 'wish cobra later sad times lol',\n",
       " 'wont home 6 monday morning tomorrow sell tickets',\n",
       " 'orangy68 hope things lost',\n",
       " 'therealglambert sorrygot carried away gossip note pass hippo birdie amp big koala hug kris xoxo k',\n",
       " 'kankzxd headphones died miss earphones good',\n",
       " 'wearing gloves inside coldddd',\n",
       " 'madgab bask misery',\n",
       " 'bextastic okay',\n",
       " 'missing michael got talk yesterday',\n",
       " 'hmm suffering',\n",
       " 'zoejohnsonx yeah gusse spend hours car going chelmsford looking forward today',\n",
       " 'summer worst fml',\n",
       " 'johnny want quotpretty boyquot',\n",
       " 'hernseugene dnt high',\n",
       " 'mexican midnight bad choice',\n",
       " 'saddened loss carolinadeans friend',\n",
       " 'class',\n",
       " 'gah 2 hours fart new iphone freely',\n",
       " 'azamann hah eeee understandable need new picture thing sweaty',\n",
       " 'jennajean regis whats',\n",
       " 'lexitronavenue nm recording sober pink high sounds bad xx',\n",
       " 'longest day year today downhill',\n",
       " 'forced church wife',\n",
       " 'scared shless ahhhh watching ghost videos',\n",
       " 'stoptouching',\n",
       " 'frickingreat eleanors sadhbh gonna busy',\n",
       " 'finally got bbycks order sent wrong stuff s send',\n",
       " 'royal mail wouldnt deliver letter underpaid postage',\n",
       " 'lost internet connection 2 hours',\n",
       " 'tr going happy think help reply people goodbye nincommunication',\n",
       " 'miss shack study morning amp miss church',\n",
       " 'wait husband comes home lonely bed',\n",
       " 'tezzer57 shocking people treat pets realise commitment guess recurring theme',\n",
       " 'im dying 4 nick im gonna cry',\n",
       " 'days feeling bit sorts',\n",
       " 'blusterydream semester find straights promise',\n",
       " 'want api exam',\n",
       " 'nolis',\n",
       " 'sea food dinner fam chris srsly alergic childhood pets',\n",
       " 'listening old schoolremember ols times',\n",
       " 'guess atampt available internet hate area got weird monopoly things rest mpls',\n",
       " 'damn chalk chalkboard useless',\n",
       " 'fact pass matter hard try makes lose motivation',\n",
       " 'alaksir course wish able post pic today busy lol',\n",
       " 'got hectic sore throat going working home today',\n",
       " 'smallmatryoshka longsight flat lovely housemate gem literally thing wrong smallness room',\n",
       " 'lunchh people',\n",
       " 'want sw results',\n",
       " 'feeling',\n",
       " 'tummy hurts',\n",
       " 'stormey09 damn uh robert downey iron man liked heath ledger seth rogen usually every1 lol',\n",
       " 'jamesbrnett whats wrong yesterdays haul',\n",
       " 'geology shit waaaant',\n",
       " 'stuck tmobile forever',\n",
       " 'chillin hotel room check city richmond va head home gonna b traveling aaaaallll day',\n",
       " 'nh em qu thui git qun o ri lm vic',\n",
       " 'boys frustrating wrong tried ampamp failed apparently walking away fix ugh win',\n",
       " 'kaylaoh im ulta buying nail polish come tomorrow sel snacks',\n",
       " 'going baby shots',\n",
       " 'divorce makes cry',\n",
       " 'long drive long nightthe music good people goodbut meet green eyed beauty',\n",
       " 'im waiting wake updamn cold cant sleep',\n",
       " 'dvr',\n",
       " 'gonna sleep minutes want',\n",
       " 'recovering food poisoning',\n",
       " 'got wet stood line watch poor leadership stood line tried stay dry waiting bad regal',\n",
       " 'interview good want job ughhh free time come',\n",
       " 'darkkial time right actually use bold statement',\n",
       " '15 min bored',\n",
       " 'hurt nikkis foot',\n",
       " 'mr taxman thank 4 bill gonna contrib 2 econ w new car office gears pockt amp gonna waste',\n",
       " 'wooglemyshoogle sux care guess',\n",
       " 'shattered 2hrs home want bed zzzz',\n",
       " 'whats good sorry gone holla miss yall',\n",
       " 'dannymcfly twitter blocking ignoring fair hate israel plz answear',\n",
       " 'happy mothers day rip grandma today makes year',\n",
       " 'davidarchie david stuck hasting moment hope later m sure great',\n",
       " 'wish check box twitter mass delete dms',\n",
       " 'ps sunburt shoulders helping help x',\n",
       " 'way mall long long long morning ugly people helping day better',\n",
       " 'paulafanx13 omg ahh convince some1 ik tht 1629 audition meet paula lol wahh shes',\n",
       " 'train melbourne lone big day passed broadmeadows lots wankers train fun',\n",
       " 'sengupta maybe explains syllabus stuff esp cs shit',\n",
       " 'want dairy queen',\n",
       " 'epiphanyc',\n",
       " 'drunk running simon dizzy fun dizzy',\n",
       " 'miss long hair',\n",
       " 'bo44 good thanks busy good stuck work moment',\n",
       " 'clubesso got home miss',\n",
       " 'amazed mums home',\n",
       " 'kiddisco dude believe tweeted crapped pants',\n",
       " 'wish dance',\n",
       " 'chriseatworld yes nomore redbull hk',\n",
       " 'workgod',\n",
       " 'sammytheduck wowee theyve thought believe ive mentioned cats 14 times cat lover',\n",
       " 'missing jessy wish work today',\n",
       " 'happy hump day hope wild crazy sex think think energy today',\n",
       " 'want macbook soo',\n",
       " 'kelbow darling sorry gets day day youll wake hurt little bit x',\n",
       " '4 long ya bored right online 2 chat oh sighs',\n",
       " 'bed able tomorrow morning mondays hardest',\n",
       " 'dineth paper waking late exam day nerve wrecking time relax',\n",
       " 'fuck xbox live went maintenance goes netflix day good thing means watching dexter',\n",
       " 'bridgetcooks know flood quotes short time find annoying',\n",
       " 'love siddhambonji wont encoded unicode',\n",
       " 'tawagpromotions yeah background large dont know expand screens resolution',\n",
       " 'need motivation post lunch dip nice weather helping',\n",
       " 'suppose day summer',\n",
       " 'got home frm cleaning tias new house got boombbb tacos frm',\n",
       " 'sonyaina ouch hottest day year',\n",
       " 'chilling tirrrrred',\n",
       " 'rainaa know like owls',\n",
       " 'titch hugs hope feel better soon',\n",
       " 'andopolis lusting know need lose weight',\n",
       " 'plugin talon aviary quotscreen shotsquot page maybe day useful hope',\n",
       " 'wilkesey nope wed thenand obv hike lol',\n",
       " 'brokerkathy eat pickle today went lunch bojangles amp pickles',\n",
       " 'guessing gonna donnies twisted vid pic clues easier',\n",
       " 'r33s driving home taken madisonmm scottramm fail',\n",
       " 'paulaabdul um idont know hard therre good',\n",
       " 'walkinghorse heading town tunes town',\n",
       " 'like weekend chandler cinemas',\n",
       " 'mood',\n",
       " 'rogue unit member harbinger death series word coming pending abc final judgement',\n",
       " 'flippin whyyyyy oh whyyyyy',\n",
       " 'davidshoare nightmare know odd mention think similar happened rock bar poor thing',\n",
       " 'irritatedgoshmy sleep gone messed tonight gotta 5 amgreat way start week',\n",
       " 'jenwilsonsydney yes havent month wb',\n",
       " 'purekismet funny hurt prolly hand print face',\n",
       " 'saying goodbye lake time',\n",
       " 'chubbx gooooooood mooooooorning love miss long time',\n",
       " 'time fight safe hell oh god',\n",
       " 'working 11 tonight',\n",
       " 'woke tired want',\n",
       " 'home head bed sorry girls blogmy dad went hospital today',\n",
       " 'supposed study upcoming exam end watching 17',\n",
       " 'ok grrrrmy tummy rumble bronxgahhhh shutup',\n",
       " 'alexalltimelow release personal ukshipping cds costs money',\n",
       " 'drank tap water think good idea',\n",
       " 'ah anthro final hardconfusing ughhh think okay getting b amp lakers won',\n",
       " 'kivathadiva dyin laughin lol remember yall singin right mrswrustare mayb ull win year gemini ok lol',\n",
       " 'rainy day',\n",
       " 'office uploading pics vancouver trip tests pass todays going heck day tell',\n",
       " 'ashmona12 good morning sleep worth crap sunday weekend',\n",
       " 'thinking past brings alot tears happens reason',\n",
       " 'pkandrosy noo brought food haha',\n",
       " 'bhdonovan wish',\n",
       " 'little baby turned 6 months old today',\n",
       " 'wish going dmb jason mraz concert august',\n",
       " 'deborah91473 according nws hot amp humid air mass moves late friday nite heard temps heat index sat 100',\n",
       " 'nervous wreck hands r shaking bad great start summer',\n",
       " 'soo irraplaceable huff',\n",
       " 'everyones gone',\n",
       " 'northernsweetie didnt lift quotphysicallyquot today tomorrow oh look gonna lift freak lol',\n",
       " 'tried 30stm got far no2 touche 123 place',\n",
       " 'morningi woke studyingshame',\n",
       " 'teddybabe1 sounds like weekend horrible',\n",
       " 'band probation sooooo nervous gig friday buhu',\n",
       " 'msundrstood dunno sorry',\n",
       " 'locked computer system work unknown reason',\n",
       " 'twitter sooo slow today',\n",
       " 'oh son bitch footy going eat gaming time bring friday night bitches',\n",
       " 'jkabiling life semester',\n",
       " 'thunderstorm',\n",
       " 'phone cracked ugly thing',\n",
       " 'dawnmariedunn sorry birthday end year wrapping physically',\n",
       " 'battery laptop end heres killer power cable bed bound nicest weekend yr lush',\n",
       " 'gregcollins fitness fine including speed far stretching performed reflection amp',\n",
       " 'sniff hold sanding wood outside world pollen based',\n",
       " 'lazy clean',\n",
       " 'arash war military school',\n",
       " 'ladymix traffic report come 5 minutes sooner',\n",
       " 'great weekend pei tomorrow 4 sleeps til come home 4 weeks left',\n",
       " 'think aft drilling hammering banging started door',\n",
       " 'heycassadee omg seattle loves bad cant im bummed great lt3',\n",
       " 'lost old twitter account',\n",
       " 'xlucyloox dog wont vets tonight need operation 2moro',\n",
       " 'pixelatedmemory know jealous likely free coz friends dad connections',\n",
       " 'sorry hear loss',\n",
       " 'work till 530 class',\n",
       " 'time home leaving phoenix hours',\n",
       " 'going home hour homework',\n",
       " 'mrsmcsupergirl gonna start hiit training stalled 63lbs',\n",
       " 'lysig vamonosi flying need buddy',\n",
       " 'lovely day work tomorrw thou',\n",
       " 'lying bedd watchingg soo channel 7 grrrrr knights lost worriors',\n",
       " 'ill eating fruit cause',\n",
       " 'ryanseacrest oh rest peace',\n",
       " 'patriots day south fl',\n",
       " 'webhost blocked ip update websites happened tweeking wordpress plugins layout',\n",
       " 'rain brings mellowness x',\n",
       " 'fucking break stuck illinois bent rim terrys going pissed',\n",
       " ...]"
      ]
     },
     "execution_count": 226,
     "metadata": {},
     "output_type": "execute_result"
    }
   ],
   "source": [
    "text = df['twitts'].tolist()\n",
    "text"
   ]
  },
  {
   "cell_type": "code",
   "execution_count": 227,
   "id": "c2ce19e9",
   "metadata": {
    "ExecuteTime": {
     "end_time": "2022-11-09T03:36:02.087773Z",
     "start_time": "2022-11-09T03:36:02.005592Z"
    }
   },
   "outputs": [],
   "source": [
    "token = Tokenizer()\n",
    "token.fit_on_texts(text)"
   ]
  },
  {
   "cell_type": "code",
   "execution_count": 228,
   "id": "568e4661",
   "metadata": {
    "ExecuteTime": {
     "end_time": "2022-11-09T03:36:02.810779Z",
     "start_time": "2022-11-09T03:36:02.733278Z"
    }
   },
   "outputs": [
    {
     "data": {
      "text/plain": [
       "<keras.preprocessing.text.Tokenizer at 0x240015582b0>"
      ]
     },
     "execution_count": 228,
     "metadata": {},
     "output_type": "execute_result"
    }
   ],
   "source": [
    "token = Tokenizer()\n",
    "token.fit_on_texts(text)\n",
    "token"
   ]
  },
  {
   "cell_type": "code",
   "execution_count": 229,
   "id": "fab348b4",
   "metadata": {
    "ExecuteTime": {
     "end_time": "2022-11-09T03:36:03.475108Z",
     "start_time": "2022-11-09T03:36:03.458877Z"
    }
   },
   "outputs": [
    {
     "data": {
      "text/plain": [
       "9716"
      ]
     },
     "execution_count": 229,
     "metadata": {},
     "output_type": "execute_result"
    }
   ],
   "source": [
    "vocab_size = len(token.index_word)+1\n",
    "vocab_size # no of unique words"
   ]
  },
  {
   "cell_type": "code",
   "execution_count": 230,
   "id": "5c8496d4",
   "metadata": {
    "ExecuteTime": {
     "end_time": "2022-11-09T03:36:04.041506Z",
     "start_time": "2022-11-09T03:36:04.033429Z"
    }
   },
   "outputs": [],
   "source": [
    "#df.to_csv('tweets4000.csv')"
   ]
  },
  {
   "cell_type": "code",
   "execution_count": 231,
   "id": "4a6ecc4c",
   "metadata": {
    "ExecuteTime": {
     "end_time": "2022-11-09T03:36:04.707791Z",
     "start_time": "2022-11-09T03:36:04.661044Z"
    }
   },
   "outputs": [
    {
     "data": {
      "text/plain": [
       "{1: 'good',\n",
       " 2: 'day',\n",
       " 3: 'like',\n",
       " 4: 'going',\n",
       " 5: 'today',\n",
       " 6: 'got',\n",
       " 7: 'lol',\n",
       " 8: 'love',\n",
       " 9: 'know',\n",
       " 10: 'work',\n",
       " 11: 'im',\n",
       " 12: 'time',\n",
       " 13: 'amp',\n",
       " 14: 'home',\n",
       " 15: 'oh',\n",
       " 16: 'new',\n",
       " 17: 'night',\n",
       " 18: 'think',\n",
       " 19: 'tomorrow',\n",
       " 20: 'thanks',\n",
       " 21: 'miss',\n",
       " 22: 'morning',\n",
       " 23: 'want',\n",
       " 24: 'need',\n",
       " 25: 'haha',\n",
       " 26: 'wish',\n",
       " 27: '2',\n",
       " 28: 'twitter',\n",
       " 29: 'great',\n",
       " 30: 'feel',\n",
       " 31: 'sorry',\n",
       " 32: 'gonna',\n",
       " 33: 'hope',\n",
       " 34: 'fun',\n",
       " 35: 'sleep',\n",
       " 36: 'right',\n",
       " 37: 'bad',\n",
       " 38: 'happy',\n",
       " 39: 'nice',\n",
       " 40: 'getting',\n",
       " 41: 'sad',\n",
       " 42: 'way',\n",
       " 43: 'youre',\n",
       " 44: 'bed',\n",
       " 45: 'better',\n",
       " 46: 'hey',\n",
       " 47: 'people',\n",
       " 48: 'watch',\n",
       " 49: 'look',\n",
       " 50: 'yeah',\n",
       " 51: 'wait',\n",
       " 52: 'hate',\n",
       " 53: 'awesome',\n",
       " 54: 'watching',\n",
       " 55: 'school',\n",
       " 56: 'went',\n",
       " 57: 'tonight',\n",
       " 58: 'friends',\n",
       " 59: 'thank',\n",
       " 60: 'come',\n",
       " 61: 'find',\n",
       " 62: 'long',\n",
       " 63: 'week',\n",
       " 64: 'wont',\n",
       " 65: '4',\n",
       " 66: 'life',\n",
       " 67: 'dont',\n",
       " 68: 'having',\n",
       " 69: 'yes',\n",
       " 70: 'wow',\n",
       " 71: 'working',\n",
       " 72: 'sick',\n",
       " 73: 'cant',\n",
       " 74: 'ready',\n",
       " 75: 'days',\n",
       " 76: 'house',\n",
       " 77: 'soon',\n",
       " 78: 'x',\n",
       " 79: 'sure',\n",
       " 80: 'damn',\n",
       " 81: 'thing',\n",
       " 82: 'ok',\n",
       " 83: 'sun',\n",
       " 84: 'hot',\n",
       " 85: 'year',\n",
       " 86: 'yay',\n",
       " 87: '3',\n",
       " 88: 'late',\n",
       " 89: 'maybe',\n",
       " 90: 'later',\n",
       " 91: 'cool',\n",
       " 92: 'best',\n",
       " 93: 'trying',\n",
       " 94: 'feeling',\n",
       " 95: 'left',\n",
       " 96: 'little',\n",
       " 97: 'god',\n",
       " 98: 'tired',\n",
       " 99: 'phone',\n",
       " 100: 'things',\n",
       " 101: 'away',\n",
       " 102: 'weekend',\n",
       " 103: 'hours',\n",
       " 104: 'times',\n",
       " 105: 'try',\n",
       " 106: 'finally',\n",
       " 107: 'sunday',\n",
       " 108: 'old',\n",
       " 109: 'looking',\n",
       " 110: 'hear',\n",
       " 111: 'wanna',\n",
       " 112: 'stuff',\n",
       " 113: 'start',\n",
       " 114: 'let',\n",
       " 115: 'bit',\n",
       " 116: 'missed',\n",
       " 117: 'movie',\n",
       " 118: 'thought',\n",
       " 119: 'help',\n",
       " 120: 'glad',\n",
       " 121: 'lt3',\n",
       " 122: 'bored',\n",
       " 123: 'yesterday',\n",
       " 124: 'early',\n",
       " 125: 'guess',\n",
       " 126: 'gone',\n",
       " 127: 'lost',\n",
       " 128: 'big',\n",
       " 129: 'hard',\n",
       " 130: 'head',\n",
       " 131: 'read',\n",
       " 132: 'weather',\n",
       " 133: 'tell',\n",
       " 134: 'car',\n",
       " 135: 'man',\n",
       " 136: 'hurts',\n",
       " 137: 'world',\n",
       " 138: 'beautiful',\n",
       " 139: 'music',\n",
       " 140: 'room',\n",
       " 141: 'talk',\n",
       " 142: '1',\n",
       " 143: 'live',\n",
       " 144: 'far',\n",
       " 145: 'didnt',\n",
       " 146: 'woke',\n",
       " 147: 'video',\n",
       " 148: 'eat',\n",
       " 149: 'ill',\n",
       " 150: 'gotta',\n",
       " 151: 'friend',\n",
       " 152: 'hair',\n",
       " 153: 'follow',\n",
       " 154: 'guys',\n",
       " 155: 'busy',\n",
       " 156: 'tweet',\n",
       " 157: 'totally',\n",
       " 158: 'omg',\n",
       " 159: 'lunch',\n",
       " 160: 'amazing',\n",
       " 161: 'buy',\n",
       " 162: 'thinking',\n",
       " 163: 'makes',\n",
       " 164: 'waiting',\n",
       " 165: 'aww',\n",
       " 166: 'ya',\n",
       " 167: 'listening',\n",
       " 168: 'rain',\n",
       " 169: 'email',\n",
       " 170: 'sucks',\n",
       " 171: 'ugh',\n",
       " 172: 'hour',\n",
       " 173: 'lot',\n",
       " 174: 'stuck',\n",
       " 175: 'outside',\n",
       " 176: 'probably',\n",
       " 177: 'whats',\n",
       " 178: 'sounds',\n",
       " 179: 'exam',\n",
       " 180: 'party',\n",
       " 181: 'play',\n",
       " 182: 'thats',\n",
       " 183: 'friday',\n",
       " 184: 'actually',\n",
       " 185: 'office',\n",
       " 186: 'tweets',\n",
       " 187: 'baby',\n",
       " 188: 'hahaha',\n",
       " 189: 'lovely',\n",
       " 190: 'check',\n",
       " 191: 'excited',\n",
       " 192: 'saw',\n",
       " 193: 'believe',\n",
       " 194: 'seen',\n",
       " 195: 'place',\n",
       " 196: 'r',\n",
       " 197: '5',\n",
       " 198: 'lots',\n",
       " 199: 'girl',\n",
       " 200: 'crazy',\n",
       " 201: 'weeks',\n",
       " 202: 'coming',\n",
       " 203: 'game',\n",
       " 204: 'stop',\n",
       " 205: 'coffee',\n",
       " 206: 'poor',\n",
       " 207: 'till',\n",
       " 208: 'use',\n",
       " 209: 'tried',\n",
       " 210: 'mom',\n",
       " 211: 'leaving',\n",
       " 212: 'making',\n",
       " 213: 'says',\n",
       " 214: 'true',\n",
       " 215: 'wanted',\n",
       " 216: 'came',\n",
       " 217: 'looks',\n",
       " 218: 'finished',\n",
       " 219: 'followers',\n",
       " 220: 'stupid',\n",
       " 221: 'girls',\n",
       " 222: 'enjoy',\n",
       " 223: 'hehe',\n",
       " 224: 'tv',\n",
       " 225: 'family',\n",
       " 226: 'summer',\n",
       " 227: 'pretty',\n",
       " 228: 'stay',\n",
       " 229: 'iphone',\n",
       " 230: 'eating',\n",
       " 231: 'goodnight',\n",
       " 232: 'hi',\n",
       " 233: 'wrong',\n",
       " 234: 'boys',\n",
       " 235: 'free',\n",
       " 236: 'told',\n",
       " 237: 'guy',\n",
       " 238: 'forward',\n",
       " 239: 'pic',\n",
       " 240: 'final',\n",
       " 241: 'okay',\n",
       " 242: 'headache',\n",
       " 243: 'o',\n",
       " 244: 'leave',\n",
       " 245: 'kinda',\n",
       " 246: 'care',\n",
       " 247: 'dinner',\n",
       " 248: 'jealous',\n",
       " 249: 'song',\n",
       " 250: 'reply',\n",
       " 251: 'birthday',\n",
       " 252: 'welcome',\n",
       " 253: 'anymore',\n",
       " 254: 'shopping',\n",
       " 255: 'jonasbrothers',\n",
       " 256: 'drink',\n",
       " 257: 'seriously',\n",
       " 258: 'luck',\n",
       " 259: 'news',\n",
       " 260: 'job',\n",
       " 261: 'cold',\n",
       " 262: 'facebook',\n",
       " 263: 'send',\n",
       " 264: 'trip',\n",
       " 265: 'playing',\n",
       " 266: 'monday',\n",
       " 267: 'heading',\n",
       " 268: 'forgot',\n",
       " 269: 'meet',\n",
       " 270: 'wake',\n",
       " 271: 'fine',\n",
       " 272: 'mean',\n",
       " 273: 'picture',\n",
       " 274: 'raining',\n",
       " 275: 'kind',\n",
       " 276: 'remember',\n",
       " 277: 'funny',\n",
       " 278: 'cute',\n",
       " 279: 'knew',\n",
       " 280: 'ah',\n",
       " 281: 'missing',\n",
       " 282: 'able',\n",
       " 283: 'account',\n",
       " 284: 'end',\n",
       " 285: 'ago',\n",
       " 286: 'gym',\n",
       " 287: 'face',\n",
       " 288: 'study',\n",
       " 289: 'started',\n",
       " 290: 'mothers',\n",
       " 291: 'sweet',\n",
       " 292: 'course',\n",
       " 293: 'dance',\n",
       " 294: 'mileycyrus',\n",
       " 295: 'ppl',\n",
       " 296: 'hell',\n",
       " 297: 'idea',\n",
       " 298: 'mind',\n",
       " 299: 'said',\n",
       " 300: 'run',\n",
       " 301: 'ha',\n",
       " 302: 'shit',\n",
       " 303: 'real',\n",
       " 304: 's',\n",
       " 305: 'd',\n",
       " 306: 'different',\n",
       " 307: 'taking',\n",
       " 308: 'called',\n",
       " 309: 'hurt',\n",
       " 310: 'mood',\n",
       " 311: 'xx',\n",
       " 312: 'dog',\n",
       " 313: 'super',\n",
       " 314: 'dad',\n",
       " 315: 'lmao',\n",
       " 316: 'u',\n",
       " 317: 'following',\n",
       " 318: 'took',\n",
       " 319: 'link',\n",
       " 320: 'win',\n",
       " 321: 'fail',\n",
       " 322: 'rest',\n",
       " 323: 'figure',\n",
       " 324: 'set',\n",
       " 325: 'soooo',\n",
       " 326: 'gt',\n",
       " 327: 'photo',\n",
       " 328: 'cuz',\n",
       " 329: 'reading',\n",
       " 330: 'cat',\n",
       " 331: 'awake',\n",
       " 332: 'hit',\n",
       " 333: 'soo',\n",
       " 334: 'moving',\n",
       " 335: 'book',\n",
       " 336: 'beach',\n",
       " 337: 'hopefully',\n",
       " 338: 'cause',\n",
       " 339: 'add',\n",
       " 340: 'homework',\n",
       " 341: 'absolutely',\n",
       " 342: 'cut',\n",
       " 343: 'saturday',\n",
       " 344: 'blog',\n",
       " 345: 'half',\n",
       " 346: 'years',\n",
       " 347: 'sooo',\n",
       " 348: 'evening',\n",
       " 349: 'talking',\n",
       " 350: 'enjoying',\n",
       " 351: 'til',\n",
       " 352: 'heart',\n",
       " 353: 'xd',\n",
       " 354: '6',\n",
       " 355: 'needs',\n",
       " 356: 'break',\n",
       " 357: 'dude',\n",
       " 358: 'open',\n",
       " 359: 'town',\n",
       " 360: 'broke',\n",
       " 361: 'w',\n",
       " 362: 'sister',\n",
       " 363: 'works',\n",
       " 364: 'longer',\n",
       " 365: 'bus',\n",
       " 366: 'breakfast',\n",
       " 367: 'p',\n",
       " 368: 'wonderful',\n",
       " 369: 'pain',\n",
       " 370: 'hoping',\n",
       " 371: 'cry',\n",
       " 372: 'tour',\n",
       " 373: 'word',\n",
       " 374: 'food',\n",
       " 375: 'usually',\n",
       " 376: 'b',\n",
       " 377: 'concert',\n",
       " 378: '100',\n",
       " 379: 'luv',\n",
       " 380: 'kids',\n",
       " 381: 'fucking',\n",
       " 382: 'youve',\n",
       " 383: 'train',\n",
       " 384: 'ice',\n",
       " 385: 'site',\n",
       " 386: 'ones',\n",
       " 387: 'fan',\n",
       " 388: 'change',\n",
       " 389: 'slow',\n",
       " 390: 'test',\n",
       " 391: 'huge',\n",
       " 392: 'means',\n",
       " 393: 'page',\n",
       " 394: 'havent',\n",
       " 395: 'reason',\n",
       " 396: 'weird',\n",
       " 397: 'fb',\n",
       " 398: '30',\n",
       " 399: 'died',\n",
       " 400: 'air',\n",
       " 401: 'story',\n",
       " 402: 'perfect',\n",
       " 403: 'ps',\n",
       " 404: 'hungry',\n",
       " 405: 'tea',\n",
       " 406: 'goin',\n",
       " 407: 'lucky',\n",
       " 408: 'found',\n",
       " 409: 'sat',\n",
       " 410: 'sunny',\n",
       " 411: 'lazy',\n",
       " 412: 'pics',\n",
       " 413: 'church',\n",
       " 414: 'special',\n",
       " 415: 'definitely',\n",
       " 416: 'hello',\n",
       " 417: 'near',\n",
       " 418: 'website',\n",
       " 419: 'especially',\n",
       " 420: '7',\n",
       " 421: 'bye',\n",
       " 422: 'sort',\n",
       " 423: 'board',\n",
       " 424: 'heard',\n",
       " 425: 'agree',\n",
       " 426: 'pick',\n",
       " 427: 'aw',\n",
       " 428: 'ended',\n",
       " 429: 'number',\n",
       " 430: 'moment',\n",
       " 431: 'waking',\n",
       " 432: 'wants',\n",
       " 433: 'gets',\n",
       " 434: 'decided',\n",
       " 435: 'pay',\n",
       " 436: 'earlier',\n",
       " 437: 'c',\n",
       " 438: 'alright',\n",
       " 439: 'download',\n",
       " 440: 'wishing',\n",
       " 441: '10',\n",
       " 442: 'catch',\n",
       " 443: 'post',\n",
       " 444: 'boring',\n",
       " 445: 'month',\n",
       " 446: 'happen',\n",
       " 447: 'won',\n",
       " 448: 'crap',\n",
       " 449: 'sleepy',\n",
       " 450: 'boo',\n",
       " 451: 'fuck',\n",
       " 452: 'favorite',\n",
       " 453: 'smile',\n",
       " 454: 'sexy',\n",
       " 455: 'person',\n",
       " 456: 'version',\n",
       " 457: 'forever',\n",
       " 458: 'relaxing',\n",
       " 459: 'class',\n",
       " 460: 'mac',\n",
       " 461: 'tickets',\n",
       " 462: 'ipod',\n",
       " 463: 'holiday',\n",
       " 464: 'couple',\n",
       " 465: 'sent',\n",
       " 466: 'wouldnt',\n",
       " 467: 'shots',\n",
       " 468: 'update',\n",
       " 469: 'thx',\n",
       " 470: 'miley',\n",
       " 471: 'fantastic',\n",
       " 472: 'chocolate',\n",
       " 473: 'singing',\n",
       " 474: 'save',\n",
       " 475: 'travel',\n",
       " 476: 'realized',\n",
       " 477: 'nights',\n",
       " 478: 'dead',\n",
       " 479: 'turned',\n",
       " 480: 'sisters',\n",
       " 481: 'jus',\n",
       " 482: 'mad',\n",
       " 483: 'vote',\n",
       " 484: 'sore',\n",
       " 485: 'throat',\n",
       " 486: 'cream',\n",
       " 487: 'killing',\n",
       " 488: 'wife',\n",
       " 489: 'profile',\n",
       " 490: 'cooking',\n",
       " 491: 'happens',\n",
       " 492: 'nervous',\n",
       " 493: 'sis',\n",
       " 494: 'text',\n",
       " 495: 'watched',\n",
       " 496: 'hmmm',\n",
       " 497: 'congrats',\n",
       " 498: 'hospital',\n",
       " 499: 'lil',\n",
       " 500: 'miles',\n",
       " 501: 'instead',\n",
       " 502: 'walk',\n",
       " 503: 'drunk',\n",
       " 504: 'flu',\n",
       " 505: 'peace',\n",
       " 506: 'park',\n",
       " 507: 'computer',\n",
       " 508: 'mum',\n",
       " 509: 'online',\n",
       " 510: 'awww',\n",
       " 511: 'line',\n",
       " 512: 'writing',\n",
       " 513: 'supposed',\n",
       " 514: 'fast',\n",
       " 515: 'interesting',\n",
       " 516: 'la',\n",
       " 517: '8',\n",
       " 518: 'bought',\n",
       " 519: 'fathers',\n",
       " 520: 'high',\n",
       " 521: 'drinking',\n",
       " 522: 'ride',\n",
       " 523: 'goes',\n",
       " 524: 'order',\n",
       " 525: 'eyes',\n",
       " 526: 'pool',\n",
       " 527: 'minutes',\n",
       " 528: 'shut',\n",
       " 529: 'ball',\n",
       " 530: 'visit',\n",
       " 531: 'loving',\n",
       " 532: 'drive',\n",
       " 533: 'saying',\n",
       " 534: 'nite',\n",
       " 535: 'btw',\n",
       " 536: 'xxx',\n",
       " 537: 'tho',\n",
       " 538: 'share',\n",
       " 539: 'bless',\n",
       " 540: 'afternoon',\n",
       " 541: 'future',\n",
       " 542: 'games',\n",
       " 543: 'fml',\n",
       " 544: 'money',\n",
       " 545: 'red',\n",
       " 546: 'plans',\n",
       " 547: 'easier',\n",
       " 548: 'bummed',\n",
       " 549: 'comes',\n",
       " 550: 'isnt',\n",
       " 551: 'asleep',\n",
       " 552: 'plan',\n",
       " 553: 'project',\n",
       " 554: 'safe',\n",
       " 555: 'shoes',\n",
       " 556: 'write',\n",
       " 557: 'brother',\n",
       " 558: 'minute',\n",
       " 559: 'exciting',\n",
       " 560: 'classic',\n",
       " 561: 'case',\n",
       " 562: 'horrible',\n",
       " 563: 'laying',\n",
       " 564: 'theres',\n",
       " 565: 'wedding',\n",
       " 566: 'lived',\n",
       " 567: 'felt',\n",
       " 568: 'ddlovato',\n",
       " 569: 'ate',\n",
       " 570: 'tummy',\n",
       " 571: 'l',\n",
       " 572: 'list',\n",
       " 573: 'updates',\n",
       " 574: 'annoying',\n",
       " 575: 'liked',\n",
       " 576: 'worth',\n",
       " 577: 'feels',\n",
       " 578: 'hand',\n",
       " 579: 'mouth',\n",
       " 580: 'living',\n",
       " 581: 'sex',\n",
       " 582: 'nap',\n",
       " 583: 'peeps',\n",
       " 584: 'sold',\n",
       " 585: 'scared',\n",
       " 586: 'loved',\n",
       " 587: 'rainy',\n",
       " 588: 'tommcfly',\n",
       " 589: 'short',\n",
       " 590: 'finish',\n",
       " 591: 'power',\n",
       " 592: 'internet',\n",
       " 593: 'turn',\n",
       " 594: 'chat',\n",
       " 595: 'yep',\n",
       " 596: 'west',\n",
       " 597: 'shame',\n",
       " 598: 'storm',\n",
       " 599: 'bring',\n",
       " 600: 'die',\n",
       " 601: 'argh',\n",
       " 602: 'keeps',\n",
       " 603: 'coz',\n",
       " 604: 'words',\n",
       " 605: 'staying',\n",
       " 606: 'ahhh',\n",
       " 607: 'driving',\n",
       " 608: 'seeing',\n",
       " 609: 'boat',\n",
       " 610: 'studying',\n",
       " 611: 'garden',\n",
       " 612: 'matter',\n",
       " 613: 'min',\n",
       " 614: 'ahh',\n",
       " 615: 'running',\n",
       " 616: 'youll',\n",
       " 617: 'happened',\n",
       " 618: 'fight',\n",
       " 619: 'personal',\n",
       " 620: 'alot',\n",
       " 621: 'traffic',\n",
       " 622: 'loves',\n",
       " 623: 'shall',\n",
       " 624: 'boyle',\n",
       " 625: 'july',\n",
       " 626: 'shop',\n",
       " 627: 'asked',\n",
       " 628: 'photos',\n",
       " 629: 'needed',\n",
       " 630: 'sunshine',\n",
       " 631: 'tweetdeck',\n",
       " 632: 'bday',\n",
       " 633: 'jk',\n",
       " 634: 'bb',\n",
       " 635: 'songs',\n",
       " 636: 'wit',\n",
       " 637: '1st',\n",
       " 638: 'company',\n",
       " 639: 'season',\n",
       " 640: 'ive',\n",
       " 641: 'mess',\n",
       " 642: 'parents',\n",
       " 643: 'def',\n",
       " 644: 'videos',\n",
       " 645: 'hotel',\n",
       " 646: 'kept',\n",
       " 647: 'practice',\n",
       " 648: 'fair',\n",
       " 649: 'step',\n",
       " 650: 'idk',\n",
       " 651: 'fall',\n",
       " 652: 'important',\n",
       " 653: 'cheese',\n",
       " 654: 'toast',\n",
       " 655: 'wasnt',\n",
       " 656: 'chill',\n",
       " 657: 'ahead',\n",
       " 658: 'sims',\n",
       " 659: 'updated',\n",
       " 660: 'incredibly',\n",
       " 661: 'cough',\n",
       " 662: 'noon',\n",
       " 663: 'y',\n",
       " 664: 'light',\n",
       " 665: '9',\n",
       " 666: 'hubby',\n",
       " 667: 'born',\n",
       " 668: 'exactly',\n",
       " 669: 'met',\n",
       " 670: 'stood',\n",
       " 671: 'color',\n",
       " 672: 'hav',\n",
       " 673: 'bro',\n",
       " 674: 'worry',\n",
       " 675: 'em',\n",
       " 676: 'flight',\n",
       " 677: 'album',\n",
       " 678: 'gutted',\n",
       " 679: 'bout',\n",
       " 680: 'sending',\n",
       " 681: 'maths',\n",
       " 682: 'moon',\n",
       " 683: 'trailer',\n",
       " 684: 'boss',\n",
       " 685: 'sigh',\n",
       " 686: 'killed',\n",
       " 687: 'clean',\n",
       " 688: 'doesnt',\n",
       " 689: 'paper',\n",
       " 690: 'app',\n",
       " 691: 'google',\n",
       " 692: 'boy',\n",
       " 693: 'apparently',\n",
       " 694: 'burnt',\n",
       " 695: 'ouch',\n",
       " 696: 'easy',\n",
       " 697: 'pass',\n",
       " 698: 'twit',\n",
       " 699: 'plane',\n",
       " 700: 'box',\n",
       " 701: 'cake',\n",
       " 702: 'answer',\n",
       " 703: 'bloody',\n",
       " 704: 'hold',\n",
       " 705: 'bag',\n",
       " 706: 'rip',\n",
       " 707: 'drop',\n",
       " 708: 'spend',\n",
       " 709: 'london',\n",
       " 710: 'past',\n",
       " 711: 'sooooo',\n",
       " 712: 'gave',\n",
       " 713: 'sitting',\n",
       " 714: 'worse',\n",
       " 715: 'walking',\n",
       " 716: 'team',\n",
       " 717: 'beer',\n",
       " 718: 'wonder',\n",
       " 719: 'shes',\n",
       " 720: 'rock',\n",
       " 721: '12',\n",
       " 722: 'yo',\n",
       " 723: 'bc',\n",
       " 724: 'sound',\n",
       " 725: 'watchin',\n",
       " 726: 'dat',\n",
       " 727: 'fly',\n",
       " 728: 'men',\n",
       " 729: 'gorgeous',\n",
       " 730: 'control',\n",
       " 731: 'exams',\n",
       " 732: 'gettin',\n",
       " 733: 'wearing',\n",
       " 734: '15',\n",
       " 735: 'mr',\n",
       " 736: 'yall',\n",
       " 737: 'relax',\n",
       " 738: 'susan',\n",
       " 739: 'soup',\n",
       " 740: 'packing',\n",
       " 741: 'major',\n",
       " 742: 'jonas',\n",
       " 743: 'article',\n",
       " 744: 'thursday',\n",
       " 745: 'art',\n",
       " 746: 'yup',\n",
       " 747: 'bet',\n",
       " 748: 'support',\n",
       " 749: 'shower',\n",
       " 750: 'spending',\n",
       " 751: 'brothers',\n",
       " 752: 'hollywood',\n",
       " 753: 'beta',\n",
       " 754: 'ideas',\n",
       " 755: 'yum',\n",
       " 756: 'hills',\n",
       " 757: 'chance',\n",
       " 758: 'hating',\n",
       " 759: 'schedule',\n",
       " 760: 'flat',\n",
       " 761: 'jogging',\n",
       " 762: 'months',\n",
       " 763: 'guitar',\n",
       " 764: 'na',\n",
       " 765: 'awful',\n",
       " 766: 'wishes',\n",
       " 767: 'dying',\n",
       " 768: 'upload',\n",
       " 769: 'sign',\n",
       " 770: 'ohh',\n",
       " 771: 'math',\n",
       " 772: 'hug',\n",
       " 773: 'gross',\n",
       " 774: 'prom',\n",
       " 775: 'picked',\n",
       " 776: 'water',\n",
       " 777: 'fabulous',\n",
       " 778: 'brilliant',\n",
       " 779: 'likes',\n",
       " 780: 'desk',\n",
       " 781: 'message',\n",
       " 782: 'crying',\n",
       " 783: 'ticket',\n",
       " 784: 'movies',\n",
       " 785: 'point',\n",
       " 786: 'touch',\n",
       " 787: 'meeting',\n",
       " 788: 'fell',\n",
       " 789: 'station',\n",
       " 790: 'voice',\n",
       " 791: 'weight',\n",
       " 792: 'broken',\n",
       " 793: 'wine',\n",
       " 794: 'bird',\n",
       " 795: 'nick',\n",
       " 796: 'college',\n",
       " 797: 'deserve',\n",
       " 798: 'camp',\n",
       " 799: 'boyfriend',\n",
       " 800: 'english',\n",
       " 801: 'mall',\n",
       " 802: 'net',\n",
       " 803: 'b4',\n",
       " 804: 'listen',\n",
       " 805: 'upset',\n",
       " 806: 'quiet',\n",
       " 807: 'coast',\n",
       " 808: 'drove',\n",
       " 809: 'everyday',\n",
       " 810: 'ahhhh',\n",
       " 811: 'lonely',\n",
       " 812: 'floor',\n",
       " 813: 'battery',\n",
       " 814: 'understand',\n",
       " 815: '3rd',\n",
       " 816: 'web',\n",
       " 817: 'motivation',\n",
       " 818: 'nail',\n",
       " 819: 'available',\n",
       " 820: 'nose',\n",
       " 821: 'lake',\n",
       " 822: 'de',\n",
       " 823: 'flash',\n",
       " 824: 'jen',\n",
       " 825: 'mark',\n",
       " 826: 'clothes',\n",
       " 827: 'youtube',\n",
       " 828: 'hill',\n",
       " 829: 'complaining',\n",
       " 830: 'clear',\n",
       " 831: '20',\n",
       " 832: 'info',\n",
       " 833: 'ben',\n",
       " 834: 'warm',\n",
       " 835: 'pray',\n",
       " 836: 'sarah',\n",
       " 837: 'burn',\n",
       " 838: 'episode',\n",
       " 839: 'hugs',\n",
       " 840: 'green',\n",
       " 841: 'grandma',\n",
       " 842: 'hmm',\n",
       " 843: 'afford',\n",
       " 844: 'fingers',\n",
       " 845: 'semester',\n",
       " 846: 'goodbye',\n",
       " 847: 'invited',\n",
       " 848: 'teeth',\n",
       " 849: 'follower',\n",
       " 850: 'tips',\n",
       " 851: 'wheres',\n",
       " 852: 'fact',\n",
       " 853: 'copy',\n",
       " 854: 'mention',\n",
       " 855: 'k',\n",
       " 856: 'pink',\n",
       " 857: 'fam',\n",
       " 858: 'chris',\n",
       " 859: 'fix',\n",
       " 860: 'plz',\n",
       " 861: '14',\n",
       " 862: 'energy',\n",
       " 863: 'tunes',\n",
       " 864: 'laptop',\n",
       " 865: 'seattle',\n",
       " 866: 'hang',\n",
       " 867: 'myspace',\n",
       " 868: 'suck',\n",
       " 869: 'white',\n",
       " 870: '25',\n",
       " 871: 'notice',\n",
       " 872: 'status',\n",
       " 873: 'twitterers',\n",
       " 874: 'tough',\n",
       " 875: 'possibly',\n",
       " 876: 'mtv',\n",
       " 877: 'piece',\n",
       " 878: 'history',\n",
       " 879: 'finale',\n",
       " 880: 'plus',\n",
       " 881: '50',\n",
       " 882: 'research',\n",
       " 883: 'lame',\n",
       " 884: 'filming',\n",
       " 885: 'cup',\n",
       " 886: 'drinks',\n",
       " 887: 'june',\n",
       " 888: 'twitpic',\n",
       " 889: 'tweeters',\n",
       " 890: 'laugh',\n",
       " 891: 'join',\n",
       " 892: 'yea',\n",
       " 893: 'library',\n",
       " 894: 'twice',\n",
       " 895: 'wooo',\n",
       " 896: 'joke',\n",
       " 897: 'problem',\n",
       " 898: 'single',\n",
       " 899: 'windows',\n",
       " 900: 'hanging',\n",
       " 901: 'women',\n",
       " 902: '1130',\n",
       " 903: 'twittering',\n",
       " 904: 'proud',\n",
       " 905: 'dreams',\n",
       " 906: 'river',\n",
       " 907: 'excellent',\n",
       " 908: 'hiho',\n",
       " 909: 'trending',\n",
       " 910: 'mental',\n",
       " 911: 'usual',\n",
       " 912: 'leaves',\n",
       " 913: 'cali',\n",
       " 914: 'ow',\n",
       " 915: 'husband',\n",
       " 916: 'daddy',\n",
       " 917: 'aint',\n",
       " 918: 'liking',\n",
       " 919: 'mother',\n",
       " 920: 'fever',\n",
       " 921: 'slept',\n",
       " 922: 'nightmare',\n",
       " 923: '1000',\n",
       " 924: 'scratch',\n",
       " 925: 'reality',\n",
       " 926: 'airport',\n",
       " 927: 'cook',\n",
       " 928: 'hahahaha',\n",
       " 929: 'idiot',\n",
       " 930: 'outta',\n",
       " 931: 'complex',\n",
       " 932: 'nasty',\n",
       " 933: 'design',\n",
       " 934: 'bigger',\n",
       " 935: 'epic',\n",
       " 936: 'report',\n",
       " 937: 'father',\n",
       " 938: 'meal',\n",
       " 939: 'moms',\n",
       " 940: 'goodness',\n",
       " 941: '2day',\n",
       " 942: 'eaten',\n",
       " 943: 'prob',\n",
       " 944: 'locked',\n",
       " 945: 'close',\n",
       " 946: 'played',\n",
       " 947: 'finals',\n",
       " 948: 'wrote',\n",
       " 949: 'street',\n",
       " 950: 'poker',\n",
       " 951: 'hangover',\n",
       " 952: 'dropped',\n",
       " 953: 'grad',\n",
       " 954: 'foot',\n",
       " 955: 'blood',\n",
       " 956: 'sit',\n",
       " 957: 'starving',\n",
       " 958: 'uh',\n",
       " 959: 'wednesday',\n",
       " 960: 'return',\n",
       " 961: 'poo',\n",
       " 962: 'letter',\n",
       " 963: 'offer',\n",
       " 964: 'possible',\n",
       " 965: 'large',\n",
       " 966: '3d',\n",
       " 967: 'huh',\n",
       " 968: 'east',\n",
       " 969: 'city',\n",
       " 970: '2morrow',\n",
       " 971: 'daughter',\n",
       " 972: 'worst',\n",
       " 973: 'option',\n",
       " 974: 'ps3',\n",
       " 975: 'brb',\n",
       " 976: 'accident',\n",
       " 977: 'attack',\n",
       " 978: 'bunny',\n",
       " 979: 'bbq',\n",
       " 980: 'digital',\n",
       " 981: 'v',\n",
       " 982: 'wana',\n",
       " 983: 'confused',\n",
       " 984: 'search',\n",
       " 985: 'beauty',\n",
       " 986: 'dark',\n",
       " 987: 'nevermind',\n",
       " 988: 'sadly',\n",
       " 989: 'south',\n",
       " 990: 'currently',\n",
       " 991: 'telling',\n",
       " 992: 'cos',\n",
       " 993: 'browser',\n",
       " 994: 'bell',\n",
       " 995: 'spell',\n",
       " 996: 'ny',\n",
       " 997: 'low',\n",
       " 998: 'hw',\n",
       " 999: 'press',\n",
       " 1000: 'death',\n",
       " ...}"
      ]
     },
     "execution_count": 231,
     "metadata": {},
     "output_type": "execute_result"
    }
   ],
   "source": [
    "token.index_word"
   ]
  },
  {
   "cell_type": "code",
   "execution_count": 232,
   "id": "12cf9d9c",
   "metadata": {
    "ExecuteTime": {
     "end_time": "2022-11-09T03:36:05.374753Z",
     "start_time": "2022-11-09T03:36:05.366548Z"
    }
   },
   "outputs": [],
   "source": [
    "x= [' i to the a and']"
   ]
  },
  {
   "cell_type": "code",
   "execution_count": 233,
   "id": "7d6ab6c0",
   "metadata": {
    "ExecuteTime": {
     "end_time": "2022-11-09T03:36:06.005980Z",
     "start_time": "2022-11-09T03:36:05.984240Z"
    }
   },
   "outputs": [
    {
     "data": {
      "text/plain": [
       "[[]]"
      ]
     },
     "execution_count": 233,
     "metadata": {},
     "output_type": "execute_result"
    }
   ],
   "source": [
    "token.texts_to_sequences(x)"
   ]
  },
  {
   "cell_type": "code",
   "execution_count": 234,
   "id": "993c5c10",
   "metadata": {
    "ExecuteTime": {
     "end_time": "2022-11-09T03:36:06.793858Z",
     "start_time": "2022-11-09T03:36:06.712277Z"
    }
   },
   "outputs": [
    {
     "name": "stdout",
     "output_type": "stream",
     "text": [
      "[[416, 1631, 1161, 2625, 140, 2626, 1632, 2627, 35, 417, 541], [2628, 1633, 542, 1162, 639, 2629, 542, 1163, 757, 640, 155, 55], [2630, 41, 2631, 141, 253], [2632, 109, 641, 278, 295, 543, 7], [1164, 1165, 1634, 12, 2633, 1635], [70, 642, 1636], [142, 179, 87], [758, 132], [2634, 41, 192, 156, 88, 643, 1166, 1637, 71], [2635, 68, 910, 2636, 644, 1167], [2637, 24, 254, 2638, 24, 474, 544], [254, 1168, 1169, 1638], [255, 2639, 116, 15, 89, 1170, 63], [1171, 911, 1639, 912, 913, 19, 2640, 143, 545, 2641, 253], [2642, 2643, 2644, 90, 2645], [2646, 1172, 157, 1640, 475, 759, 2647, 418, 2648, 475, 546], [210, 1641, 236, 2649, 2650, 2651, 2652, 1642, 21], [4, 547, 296, 41], [645, 381, 53, 12, 256, 1643, 2653, 548, 2654, 912, 19, 257, 548, 256], [476, 210, 646, 1173, 1644, 419, 549], [2655, 2656, 1174, 180, 7], [2657, 1, 258], [914, 914, 914], [2658, 80], [2659, 2660, 2661, 37, 322], [2662, 382, 297, 915, 13, 10, 13, 279, 2663, 12, 193, 144, 2664], [2665, 323, 32, 2666, 916], [211, 2667, 2668, 1175, 760, 2669], [420, 477, 1176], [2670, 298, 1177, 917, 918, 2671, 2672], [919, 324, 31, 2673], [11, 325, 98, 26, 44, 36], [2674, 2675, 1645, 546, 1646], [12, 1, 421, 2676, 21, 1178], [2677, 50, 422, 81, 1647, 2678, 33, 2, 2679, 77], [761, 550, 91, 419, 382, 6, 920], [73, 51, 351, 181, 647, 1179, 26, 145, 2680, 648, 423, 2681], [46, 2682, 16, 1180, 2683, 90, 20, 1181, 1182, 224, 143, 326], [2684, 9, 2685, 2686, 2687, 2688, 2689, 2690, 2691, 2692, 1166, 2693, 1648], [2694, 146, 921, 1649, 2695, 922], [2696, 424, 237, 1650, 2697, 6, 1183], [327, 2698, 280, 168, 212, 30, 1184], [478], [2699, 26], [2700, 2701, 25, 158, 133, 2702, 213, 2703, 18, 6, 923, 78], [2704, 425, 1651, 2705, 82], [1652, 2706, 49, 924, 1653, 762, 2707], [8, 383, 88, 3, 40, 22, 649], [2708, 426, 25, 80, 127, 1654, 479, 36], [255, 26, 3, 181, 2709, 352, 2710, 2711, 1655, 763], [2712, 9], [2713, 1656], [925, 2714, 169, 112], [42, 2715, 2716, 2717], [179, 2718, 109, 238], [2719, 2720, 764, 299, 2721, 328, 650, 253], [2722, 8, 2723, 651, 551, 21, 652], [15, 2724, 1185, 926, 87, 103], [40, 384, 2725, 98], [159, 12, 653, 654, 9, 927], [2726, 141, 1186], [1657, 19, 22, 480, 113, 1187, 2727, 1188, 2728, 552, 300, 2729, 2730, 25], [2731, 59, 214, 765, 1165], [2732, 427, 43, 281, 29], [2733, 928, 9, 1, 104, 25, 26, 6, 239, 11, 929, 301], [2734, 15, 2735, 2736, 91, 8, 117, 2737, 134], [2738, 2739, 2740, 930, 2741, 52, 21, 135], [766, 10, 655, 1189], [767, 4, 35, 8, 121], [1190, 931, 2742, 1191, 56, 1192, 2743, 768, 428, 1658, 10, 656, 181, 2744, 2745], [40, 74, 63, 657], [2746, 15, 302, 31, 110, 33, 43, 282, 61, 16, 45, 77], [23, 658, 87], [9, 11, 40, 72, 11, 918], [481, 6, 37, 259], [2747, 1193, 385, 2748, 194, 659], [21, 1659, 1660], [660, 482, 73, 769, 483, 2749], [146, 932, 661], [2750, 237, 1661, 99, 429, 303, 770, 99, 71, 105, 19], [1194, 2751, 933, 553, 2752, 771, 240], [6, 1662, 2753, 2754, 476, 1195, 122], [2755, 2756, 2757, 160, 353, 772, 1196, 2758, 115, 2759, 18, 2760], [4, 21, 260, 2, 123, 934, 2761, 2762, 12, 105, 2763, 2764], [1663, 31, 141, 90, 89, 19], [2765, 2766, 16, 2767], [2768], [2769, 157, 110], [2770, 9, 52, 2771, 303, 1664, 2772, 1665, 1197, 2773, 1666, 1667, 127], [2774], [2775, 2776, 2777, 662, 354], [66, 36, 1668, 430, 304, 305, 24, 99, 2778, 773, 94], [649, 27, 2779, 554, 663, 329, 161, 774, 555, 935, 386, 2780], [556, 936, 664, 306, 1669, 140], [179, 2781], [215, 35, 5, 428, 431, 665, 2782, 2783, 2784], [484, 485, 170], [2785, 1670, 23, 2786, 2787, 1198, 432, 2788, 67, 9, 92, 195], [11, 261, 23, 83, 775, 2789, 2790, 2791, 486, 1199, 51], [2792, 2793, 355, 16, 1671, 41], [158, 146, 485, 487, 32, 35], [2794, 18, 182, 488], [2795, 937, 2796, 557, 18, 937, 1672, 2797, 100, 171], [2798, 2799], [30, 2800], [307, 356, 87, 172, 2801, 34, 1673], [1200, 121], [1674, 11, 31, 2802, 6, 2803, 2804, 169, 283, 262, 11, 98], [225, 938, 2805], [1675, 2806], [14, 1676, 196, 72, 2807, 776, 1201, 89, 2808, 939, 666, 433, 14], [2809, 80, 2810, 2811, 2812, 2813], [2814, 9, 667, 2815, 2816, 2817, 2818], [226, 29, 113, 132, 227, 1677, 144, 330, 2819, 64], [2820, 2821, 2822, 489, 2823], [46, 181], [329, 2824, 106, 197, 47, 308, 2825, 2826, 354, 47, 308, 2827, 308, 777], [2828, 6, 1678, 181, 475, 72], [2829, 668, 778, 1202, 194, 198, 2830, 2831], [940, 1203, 2832, 758, 2833, 11, 779, 2834, 199, 669], [2835, 2836, 2837, 331, 124, 309, 23, 10], [1204, 2838, 1205, 216, 2839, 670, 2840, 2841, 558, 433, 2842, 484, 2843, 19], [2844, 31, 110, 260, 81, 162, 2], [2845, 928, 200, 490, 941, 2846, 2847], [2848, 2849, 1206, 2850], [2851, 491], [147, 2852, 74, 201, 147, 2853, 559, 1679, 202, 284], [2854, 71], [357, 302, 332, 387, 17, 428, 487, 357], [333, 2855, 7, 942, 2856, 1, 2857, 358, 36, 1], [32, 560, 2858, 57, 2859], [1680, 140], [4, 105, 35, 2860, 1681, 148, 98], [2861, 6, 2862], [2863, 2864, 241, 125, 3, 671], [68, 37, 310, 80, 84, 23, 261], [492, 297, 2865, 2866, 1682, 2867, 3, 2868, 492, 1683, 780, 492], [2869, 1684, 2870, 24, 2871, 1207, 1685, 2872, 3, 482, 2873, 10, 75, 943, 64, 672, 12, 2874, 263, 301], [127, 2875, 1686], [2876, 1208, 163, 1184], [493, 95, 2877, 554, 264, 14], [3, 1687, 2878, 1688, 1689, 38, 1209, 65, 2879, 2880, 2881], [41, 1210, 95, 1690, 215, 37], [93, 228, 1691, 27, 65, 1692, 225, 30, 2882], [2883, 15, 1211, 118, 490, 2884, 1, 2885, 1693, 1, 2886], [9, 1212, 110, 781], [40, 242, 79, 2887, 1694, 242, 136], [2888, 7, 243, 50, 11, 41], [388, 1213, 640, 106, 434, 2889, 142, 172, 93], [673, 4, 1695, 1696, 75, 782], [71, 1697, 16, 2890, 1175, 112, 217, 3, 2891, 1698, 64, 264], [2892, 229], [2893, 214, 561, 356, 63, 674, 149, 61, 42, 10], [2894, 126], [41, 2895, 17, 359, 57, 2896, 334, 101, 180, 10, 124, 13, 1214, 64, 141], [52, 360], [2897, 1215, 544, 783, 12, 111, 325, 37], [944, 2898, 76], [52, 2899, 784, 675, 2900], [2901, 25, 89, 1699, 72, 201, 285, 34, 2902], [562, 132, 23, 2903], [479, 1216, 2904, 1700, 419, 361, 62, 676], [218, 2905, 24, 2906, 96, 1217, 2907, 19, 2908, 2909, 785, 6, 2910], [563, 1701, 28, 40, 1, 1218], [2911, 34, 3, 16, 2912, 75, 157, 127, 786, 2913], [1702, 63, 226, 559], [31, 494, 308, 10, 1219, 351, 945, 2914, 435, 47, 7], [1703, 15, 279, 155], [1220, 6, 2915], [2916, 2917, 564, 100, 1221, 2918, 649, 25], [2919, 13, 2920, 1704, 2921, 78], [1705], [2922, 6, 2923, 553, 787, 2924], [35, 495, 183, 2925, 7], [2926, 31, 116], [6, 2927, 19], [70, 1706, 172, 28], [496, 2928, 2929, 1707], [552, 40, 436, 5, 788, 136, 1222, 62], [1708, 789, 946, 2930, 183, 116], [2931, 2932, 38, 677, 1709, 143, 2933, 125, 282, 110, 8], [2934, 42, 203, 36], [678, 679, 2935, 2936], [2937, 680, 173, 8, 1710, 2938, 27, 437, 438, 13, 1223, 8, 13, 2939], [286, 2940, 2941, 123, 75], [1711, 2942, 203], [156, 1712, 389, 5, 3, 172, 2943], [52, 947], [30, 1, 1713], [1224, 2944], [681, 1225, 390, 90, 2945, 2946, 948, 2947, 2948, 335, 1226, 41], [2949, 2950, 265, 949, 2951], [2952, 336, 2953, 168, 202], [565, 2, 50, 83, 2954, 328, 39, 2955, 71, 180, 287, 2956, 2957, 950, 2958, 951, 497, 2959], [2960, 21, 2961, 2962], [194, 16, 682, 683, 439], [2963, 192, 5, 88, 95, 416], [2964, 2965, 790, 791, 2966, 1714, 1665, 1227], [792, 1715, 793, 1716], [6, 930, 2967, 72], [2968, 21], [218, 2969, 1228, 2970, 36, 1229, 684, 952, 391, 1228, 2971], [26, 2972, 685], [2973, 1230, 422, 100], [1, 310, 2974, 13, 112, 2975, 21, 2976, 498, 1231, 21, 2977, 2978, 27], [11, 32, 334, 77, 32, 41, 11, 32, 1232, 499, 2979, 15, 45], [4, 2980, 5, 2981, 2982, 2983, 2984, 430, 392, 4, 26, 566, 1717], [440, 2985, 228, 2986], [1233, 686, 794, 287, 441, 500, 285, 1234], [1235, 2987, 393, 2988, 1718], [1719, 64, 114, 2989, 2990, 1236], [2991, 55, 88], [42, 2992, 953, 2993, 2994, 194, 2995], [2996, 2997, 91, 26, 147], [26, 795, 145, 796, 78], [2998, 87, 201, 126, 24, 442], [1720, 1721, 2999, 1722, 687, 3000, 1723, 351, 124, 103, 3001, 174, 954, 914], [3002, 3003, 3004, 1724], [150, 105, 288, 3005, 98, 122, 337, 214, 955, 1237, 107, 501, 266, 224], [184, 567, 31, 3006, 1238, 688, 797, 240, 27, 42, 3007], [1183, 136], [3008, 15, 26, 4, 501, 956, 185], [3009, 20, 1725, 957, 942, 662, 356, 3010], [168, 168, 101, 60, 2, 137, 164, 83], [236, 1724, 798], [3011, 417, 82, 502, 140, 338, 782, 1726, 289, 3012], [3013, 3014, 132, 175, 174, 71, 195, 3015], [568, 3016, 3017, 81, 3018, 688, 24, 1239, 3019, 11, 31, 362, 3020], [22, 138, 2, 288, 3021], [569, 570, 136], [799, 3022, 3023, 4, 3024, 762], [267, 286, 10, 3025], [769, 1727, 958], [3026, 427, 125, 35, 3027, 7, 146, 420, 1728, 3028], [394, 194, 3029, 959], [3030, 545, 3031, 309, 7], [], [3032, 47, 244, 960, 3033, 1729, 1240, 395, 1241], [6, 800, 689, 27, 179, 19], [97, 640, 6, 186, 571, 82, 564, 257, 396, 139, 1242, 1730, 571, 56, 175, 3034, 171, 52, 3035], [22, 1200, 961, 1731, 3036, 38, 280, 46, 3037, 10, 39, 2, 1186, 311], [192, 117, 1732, 3038, 801, 1733, 118, 3039], [11, 4, 3040, 3041, 3042, 3043, 31, 3044, 948, 962, 123, 1734, 268, 263], [95, 572, 3045, 963, 1243, 1735, 3046, 3047, 262, 3048, 690, 1244, 397, 690, 3049], [1736], [3050, 93], [3051, 1737, 3052, 135, 3053, 1738, 691, 3054, 3055, 3056, 964, 3057], [3058, 31, 145, 443, 503, 28, 573, 67, 802, 99, 3059, 1207, 3060], [19, 1739, 444, 13, 1740, 1245, 9, 1246, 181, 692, 3061], [3062, 330, 504], [3063, 1741, 3, 204, 279, 803, 245, 574, 1247], [1248, 46, 3064, 62, 6, 783, 3065, 254, 3066, 949, 3067, 571], [3068, 26, 119, 1742], [1743, 64, 114, 804, 253, 139], [3069, 1744, 1249, 1250, 1251, 203], [92, 3070, 5, 3071, 1252, 27, 965, 312, 3072, 398, 3073, 185, 1745, 161, 108], [3074, 693, 176, 64, 1746, 966, 1747, 388], [3075, 9, 967, 41, 1253, 110, 1748, 259], [694, 49, 3, 1254, 695], [3076, 339, 3077, 3078, 328, 3079], [215, 3080], [3081, 557, 1255, 399, 1749, 3082, 57, 41, 3083, 354, 445, 108], [3084, 165, 3085, 246, 43, 805], [3086, 162, 6, 12, 10, 79, 505, 806, 10, 14], [3087, 1750, 3088, 3089], [3090, 41], [3091, 241, 125, 3092, 269, 3093, 968, 807, 2, 227, 434, 228], [84, 3094, 35], [151, 1751], [44, 325, 33, 30, 1176, 19], [313, 98, 10], [6, 1752, 96, 506, 41, 244], [1753], [1256, 143], [3095, 1, 22, 137, 3096, 1, 310, 446, 173, 253], [15, 261], [6, 1, 477, 35, 1239, 3097, 3098, 3099, 93, 113], [41, 3100, 447, 3101, 3102, 1754, 128, 685], [4, 205, 40, 152, 39, 696, 3103, 3104, 969], [10, 172], [52, 52, 52, 52, 212, 247, 3, 3, 3105, 1755, 3106, 64], [27, 44, 109, 3107, 970], [568, 3108, 570, 1257], [58, 126, 340, 12], [3109, 1255, 560, 3110, 1258, 85, 3111], [3112, 4, 498, 5, 206, 199], [3113, 8, 936, 3114, 62, 1162, 1756, 1757, 697], [1, 2, 270, 3115, 1758, 1759, 184, 269, 1259, 3116, 61, 3117, 61], [3118, 1760, 3119, 169, 1707, 3120, 396, 28, 363, 271], [3121, 1761, 3122, 3123, 3124], [23, 698, 507, 1197, 314, 60, 14, 1220, 1762, 3125], [1763, 9, 488, 3126, 3127, 971, 3128, 3129], [158, 972, 964, 12, 72], [92, 58, 808, 3130, 123, 3131, 248, 71, 973], [3132, 3133, 89, 52, 334], [182, 41, 249], [1764, 562, 81, 73, 930, 44, 207, 3134, 809, 1765, 508, 917, 3135, 1766], [211, 3136, 699, 1260, 42, 1767], [6, 1261, 3137, 494, 181, 542, 509, 11, 3138, 436], [568, 158, 8, 1262, 322, 505, 80, 145, 9, 575, 1262], [56, 1768], [3139, 3140, 283, 194, 28], [9, 1263, 1769, 1264, 576, 1770, 576, 1770], [12, 1265, 210, 498, 1771], [122, 111, 288, 1748], [3141, 217, 3, 219, 3142, 3143, 197, 510], [3144, 279, 974, 81, 66, 688, 1266, 13, 430, 360, 52, 66], [3145, 272, 43, 211, 3146], [119, 133, 1267, 700, 1772, 3147, 208, 3148], [3149, 33, 43, 45, 19], [3150, 9, 1268, 3151], [3152, 438, 96, 3153, 95, 10, 3154], [1773, 242], [1774, 203, 1189, 3155, 1775], [3156, 810, 23, 1269, 73, 435, 7, 15], [3157, 15, 1270, 3158], [3159, 1271, 68, 422, 658, 3160, 3161], [3162, 3163, 56, 3164], [62, 511], [35], [80, 3165, 271, 1776, 3166, 6, 1776], [1777, 257], [54, 1778, 168, 1779, 1272, 102], [3167, 6, 1272, 3168], [3169, 25, 3170, 142, 3171, 561, 1273, 1274, 3172], [3173, 315, 510, 170], [952, 3174, 27, 3175, 926, 14, 13, 76, 577, 3176, 811, 1780, 362, 642, 196, 14], [1781, 1208, 3, 3177, 134, 400, 3178], [3179, 975, 3180, 976, 480, 312, 3181, 3182, 812], [364, 1782, 3183, 3184, 1783, 3185], [3186, 1275, 1276, 3187, 578, 1784, 123], [56, 44, 3188, 146, 1277, 977, 162, 5, 512, 3189, 3190, 298, 35, 171], [423, 365, 1278, 94, 123], [38, 978, 3191, 399, 767, 3192, 1785, 3193, 212, 6, 323, 960, 1786], [1279, 3194], [3195, 68, 1787, 327, 164], [165, 132, 29, 979, 1280, 448, 3196], [3197, 12, 93, 323, 3198, 3199, 262, 397], [3200, 15, 206, 316, 640, 150, 77, 11, 1632, 1788, 3201, 482, 33, 30, 45, 77], [22, 12, 701, 205, 449, 33, 53, 2, 121], [513, 230, 1281, 642, 338, 1282, 150, 3202], [3203, 980, 475, 1283, 392, 3204, 813, 69, 9, 3205, 313, 514, 5], [149, 9, 579, 3206, 143, 485], [3207, 3208, 981, 278, 34, 317, 28, 3209, 3210, 982, 1789], [983], [1790, 1284, 71], [3211, 365, 204, 954, 136, 3, 296, 86], [106, 14, 11, 1285], [984, 3212, 3213, 13, 16, 3214, 77, 87, 2, 3215, 225, 3216, 1700, 506, 3217, 450], [3218, 515, 273, 41, 401], [94], [52, 580, 516, 3219, 402, 3220, 391, 3221, 3222, 1286, 985], [2, 687], [6, 3223, 23, 72, 24], [313, 62, 2, 313, 62, 102], [403, 11, 68, 581], [3224, 814, 1791, 986, 3225, 1792, 1793, 15, 206, 199], [3226, 21, 27, 2], [82, 1794, 302, 363, 7, 42, 14, 72, 102, 1287], [110, 1288, 1795], [432, 98, 318, 582, 5], [3227, 1796, 187, 165, 116, 28, 66, 1797, 1797, 303, 66, 1257], [517, 75, 207, 1289], [987, 3228, 139, 3229, 1798, 3230, 3231, 30, 37], [3232, 41, 1290], [518, 3233, 3234, 1799, 1218, 3235, 988, 1800, 3236, 1291], [3237, 542, 3238, 386, 229], [4, 519, 2, 254, 5, 11, 325, 88], [3239, 158, 157, 3240, 9, 18, 216, 28, 253, 702, 1801], [224, 3241], [3242, 7, 22, 274], [3243, 41, 64, 3244, 1802, 284, 63, 578], [242], [3245, 1803, 213, 176, 3246, 65, 1292, 815, 3247, 762, 101], [1293, 703, 3248, 358, 27, 10, 3249, 796, 157, 3250, 18, 1804, 217, 3, 3251], [404, 23, 366], [146, 3252, 17, 35, 217, 3, 64, 3253], [266, 170, 21, 3254], [3255, 4, 1294, 3256, 5, 1805, 1295, 541, 3], [231], [3257, 232, 3258], [213, 1806, 322, 505, 3259, 3260, 3261, 704, 3262], [3263, 15, 1296, 9, 381, 52], [3264, 18, 3265], [18, 274, 175], [3266, 184, 6, 88, 127, 7, 4, 161, 3267, 48], [193, 274, 989, 3268, 9, 18, 705, 3269, 3270, 16, 677, 656, 2], [341, 52, 3271, 152], [3272, 1297, 273, 3273], [3274, 50], [3275, 12, 338, 1298, 56, 562, 21, 3276], [75, 516, 676, 29, 132, 1299], [1807, 21], [3277, 3278, 96, 1808, 95, 140], [3279, 165, 21, 19], [3280, 1300, 1643, 75, 285, 62, 1301, 384, 405, 988], [406, 27, 44, 77, 3281, 1179, 48, 1163, 26, 1754, 265], [3282, 3283, 990, 1302, 1303, 342, 583], [766, 3284, 204, 991, 3285, 1809, 584], [95, 187, 225, 10, 21], [3286, 3287, 11, 1304, 3288, 1201], [245, 41, 992, 200, 514, 816, 993, 99, 1305, 71, 3289], [3290, 3291, 3292, 151, 244, 315], [3293, 33, 585, 27], [3294, 3295, 1810, 3296, 12, 3297, 286, 253], [766, 520, 55], [3298, 290, 67, 111, 507, 15, 99], [101, 242, 231, 3299], [3300, 3301, 1811, 43, 407, 55, 1306], [498, 291, 237, 3, 269, 11, 3302, 141], [18, 6, 1812], [3303, 1210, 126, 24, 674, 314, 32, 161, 36], [3304, 50, 968, 807, 1813, 3305, 451], [3306, 4, 1307, 99, 77, 3307, 3308, 3309, 220, 994], [3310, 52, 107, 477], [4, 3311, 77, 1651, 3312], [1814, 3313, 32, 651, 551, 256], [67, 9, 995, 3314], [11, 98, 145, 35, 17, 11, 10], [694, 1308, 3315], [3316, 1309, 50, 28, 92, 42, 3317, 269, 16, 47, 397, 3318, 1815], [3319, 996, 2, 13, 1304, 586, 669, 256], [3320, 9, 117], [817, 113, 572, 997, 22], [29, 2, 83, 56, 101, 289, 168], [3321, 3322, 679, 27, 998], [173, 12, 101, 14, 3323, 112, 952, 195, 641], [3324, 2, 4, 389, 116, 1816, 3325, 999, 1310, 64, 1817], [105, 3326, 3327, 3328, 1177, 423], [3329, 442, 1818, 587, 1819], [3330, 174, 1820, 3331, 174, 73, 3332, 3333], [4, 21, 3334, 706], [3335, 165, 11, 31, 110], [3336, 41, 1821, 3337, 1822], [49, 30, 3, 1000, 36], [3338, 3339, 272, 3340, 18, 352, 707, 1311, 3341, 408], [570, 1001], [267, 336, 3342], [1823, 6, 3343, 3344, 3345, 80, 134, 399, 1824, 30, 1825, 679, 1312, 134], [588, 640, 699], [3346, 3347, 1313, 3348, 1794, 33, 3349, 67, 1266], [3350, 18, 1817], [495, 3351], [52, 164, 1002], [1826, 1827, 1828, 221, 581, 1829, 13, 1830, 48, 1290, 5, 1, 2], [3352, 1831, 3353, 1832, 49, 3354, 3355, 1831], [3356, 3357], [200, 1314, 3, 982, 14, 656, 13, 48, 3358, 3359, 135, 21], [3360, 31, 1266, 3361, 3362], [115, 818, 93, 129, 1003], [3363, 1, 259, 3364, 271, 3365, 3366, 37, 259, 60, 343, 3367, 519, 2], [11, 40, 74, 708, 2, 44, 30, 3368], [3369, 3, 141], [3370, 3371, 709, 145, 133, 194, 239, 3372, 1732], [236, 210, 3373, 162, 246, 210, 13, 314, 1833, 710, 85], [3374, 46, 1315], [3375, 301, 437, 3376], [158, 117, 41, 13, 1316], [4, 48, 1004, 3377, 3378, 3379, 364, 819, 15, 125, 48, 3380, 3381, 501], [3382, 257, 3383], [54, 1834, 3384, 36, 156, 17, 124, 3385, 421, 760], [1317, 126, 3386], [7, 428, 3387, 3388, 328, 3389, 1835, 148], [274, 452, 132, 119, 453], [3390, 3391, 3392, 1005, 1006, 1005, 1006, 1005, 1006, 1005, 1006], [3393, 188, 1318, 3394, 1319, 1320], [9, 3395, 3396, 3397, 3398, 1654, 3399, 214], [275, 5, 79], [27, 3400, 764, 3401], [3402, 342, 3403, 3404, 818, 3405, 62, 401, 1007, 141], [3406, 276, 652, 1836, 78], [3407, 196, 3408, 3409, 3410, 3411, 124, 300, 87, 3412, 318], [711, 381, 444], [3413, 3414, 3415], [62, 712, 31, 3416, 1321, 1008, 454, 326], [1009, 282, 786, 159, 5, 713, 261, 384, 7, 1837, 80, 3417, 130], [3418, 197, 85, 108], [3419, 20, 1010, 2], [518, 3420, 3421, 24, 3422, 1838, 1751, 3423, 3424], [3425, 176, 1310, 2], [1, 2, 3426, 6, 96, 115, 1285, 714, 5, 1839, 571], [3427, 1840, 3428, 3429, 3430, 3431, 229, 501, 3432, 1841], [1260, 173], [3433, 3434, 482], [67, 30, 1, 67, 9], [1842, 3435, 1011, 3436, 225, 41, 259], [41], [302, 1826, 1827, 3437, 581, 1829, 3438], [3439, 3440, 1843, 809, 3441], [3442, 820, 661], [218, 3443, 553, 171], [395, 109, 238, 16, 99, 1844, 51, 1845, 337], [3444, 3445, 589, 365, 225, 206, 3446, 206, 295, 3447], [289, 260, 23, 590], [58, 1012, 3448, 36, 521, 1846, 1322, 3449, 3450], [3451, 57, 37, 3452, 3453], [3454, 31], [189, 2, 83, 123, 95, 3455, 242], [3456, 3457, 200, 3458, 591, 3459, 128, 3460, 1847, 142, 1848, 3461, 3462, 3463, 6, 261, 27], [145, 3464, 3465, 970], [1323, 3466, 767, 36], [3467, 6, 204, 782], [12, 715, 336, 10, 32, 21], [1293, 209, 209, 209, 250], [122, 758, 14], [3468, 3469, 4, 821, 3470, 1849, 3471, 1849, 1324], [56, 3472, 3473, 3474, 6, 1004, 3475, 3476, 1850, 197, 103, 34], [3477, 319, 1325, 28, 393, 209, 3478, 61, 277], [98, 132, 3479], [15, 478, 3480], [1851, 256, 3481, 3482, 172, 331, 1852, 504, 198, 35, 504, 176, 699, 522], [18, 360, 3483], [21, 1326, 394, 194, 1853, 3, 1853, 131], [1854, 11, 82, 20, 6, 115, 3484, 3485, 3486, 1013, 1327, 661, 1855, 3487, 455, 74, 3488, 3489], [1014, 81, 23, 3490, 3491, 3492, 3493, 1328], [1329, 3494, 307, 3495, 62, 60, 501, 6, 239, 3496, 822, 3497, 121], [3498, 3499, 929, 1015, 13, 3500, 64, 358, 823, 27, 3501, 3502, 73, 177, 233], [3503, 11, 4, 228, 331, 105], [1807, 344, 443, 592], [3504, 31, 1330, 1239, 10, 3505], [3506, 3507, 64, 1331, 802], [3508, 25, 824, 1332, 387, 510, 246, 438, 21, 3, 1177, 188], [38, 251, 1856, 2, 523, 67, 18, 33, 43, 54, 121], [3509], [3510, 18, 1317, 716, 3511, 825, 1782, 561, 717], [3512, 149, 3513, 3514, 49, 3, 100, 64, 45, 85, 3515], [84], [698, 239, 10], [1333, 487, 119], [3516], [3517, 3518, 1, 260, 144, 1016], [111, 582], [3519, 718, 719, 4, 3, 313, 3520, 3521, 1857], [68, 129, 12, 1334, 3522, 3523, 574], [345, 478, 58], [4, 274, 215, 3524], [23, 482, 47], [3525, 119, 1335, 3526], [3527, 268, 524, 1858, 3528, 150, 435, 1336, 1859, 190, 3529], [355, 35, 1860, 3530, 3531, 3532, 1861, 14, 3533], [1161, 1337, 585, 3534, 206, 3535, 1789, 31, 3536, 3537], [82, 146, 88, 1338, 256, 3538, 1862], [3539, 3540, 3541, 1863, 13, 3542, 111, 1786, 3543, 25, 1, 258, 3544, 522, 328, 32, 593, 3545], [512, 81, 201, 3546, 1009, 3547], [1864, 826], [3548, 392, 71, 1673], [98, 1009, 525, 358, 24, 35, 3549], [37, 310], [3550, 291, 1339, 720, 222, 3551, 126, 3552, 3553, 66], [27, 3554, 27, 148, 721, 3555, 2, 1865, 13, 48, 1866, 651, 1635, 148, 3, 3556], [4, 3557, 90, 37, 104], [94, 29], [1867, 3558, 29, 508, 216, 215, 48, 224], [3559, 71, 271], [30, 261, 202], [3560, 2], [1340, 281], [1868, 17, 355, 131, 1294, 1869, 800], [3561, 1870, 3562, 61], [19, 3563, 13, 1341, 3564, 10], [1017, 1871, 44, 17, 20, 594, 3565, 13, 3566, 442, 166, 90, 5], [3567, 7, 221, 1018, 3568, 367], [3569, 23, 3570, 60], [3571, 1872], [30, 3, 329, 253, 52, 947], [3572, 456, 3573], [3574, 95, 3575], [1873, 119, 78], [3576, 1019, 74, 244, 3577], [1020, 827, 1325, 457, 961], [40, 3578, 100, 10, 440, 14, 221], [3579, 3580], [458, 368, 264, 1833, 685, 52, 72], [75, 55, 307, 364, 118, 276, 440, 62, 12], [3581, 3582, 3583, 3584, 3585, 828, 3586, 3587, 3588, 3589, 3590, 3591, 3592, 3593, 3594, 3595, 3596], [3597, 595, 3598, 3599, 3600, 1874, 912, 1021, 671, 1342, 477, 84, 3601], [3602, 3603, 339, 572], [3604, 82, 1875, 816, 1343, 1344, 1876, 3605, 418], [3606, 24, 1877, 322, 19, 1345, 28, 121, 231], [130, 487, 23, 131], [406, 722, 3607, 19, 11, 3608, 445], [3609, 206, 1022, 1023, 3610, 3611, 286, 1878, 3612], [588, 1879, 43, 3613, 36, 1880, 1881, 19, 3614, 228, 3615, 457, 111, 3616], [660, 122, 212, 23, 148, 3617], [3618, 3619, 120, 43, 829], [3620, 18, 47, 596, 246, 246, 129, 61, 100, 9, 119], [3621, 1882], [3622, 3623, 830, 337, 7], [93, 288, 303, 1664, 3624], [939, 507, 1883], [3625, 127, 119, 61, 1, 14], [1346, 30, 3], [3626, 3627, 157, 3628, 459, 662], [3629, 69, 196, 386, 65, 346, 285, 41], [3630, 564, 3631, 3632, 3633, 3634, 1884, 3635, 73, 61], [831, 558, 3636, 439, 220, 1310, 1771, 1885, 1886, 1785, 140, 1887], [88, 55, 19, 714, 35], [3637, 307, 3638, 76, 84, 526], [30, 3, 1000, 715], [94, 3639], [3640, 177, 78], [3641, 3642, 1888, 1889, 3643, 1890, 437, 1891, 460, 3644], [3645, 187, 12, 48, 224, 195], [13, 3646], [3647, 182, 597, 40, 1892, 1893, 364, 324, 104], [287, 694, 3648], [21, 175, 137], [3649, 125, 409, 1894, 24, 832, 441, 527, 285, 38, 978], [686, 1895, 18, 369, 3650, 812, 1347], [80, 598, 3651, 3652, 513], [1896, 3653, 1897, 445, 217, 3, 3654], [3655, 52, 66], [588, 1879, 546, 1024, 702, 1024, 3656], [9, 111, 181, 203, 111, 181, 353], [3657, 440, 141], [3658, 3659, 1025, 78, 27, 550, 3660], [68, 129, 12, 162, 211, 305, 9, 3661, 246, 3662, 41, 64, 441, 75, 21], [3663, 15, 31, 279, 973, 3664, 209, 324], [3665, 3666], [40, 74, 1898, 10], [1172, 153, 183], [218, 3667, 370, 642, 60, 426, 77, 3668], [171, 10], [116, 3669, 3670, 176, 4, 3671, 833, 86], [3672, 599, 1899, 1900, 276, 12, 192, 1899, 1900], [3673, 3674, 3675, 388, 3676, 723, 268, 143, 253, 41, 156], [3677, 216, 14, 72, 5, 1901, 773, 932, 52, 504, 3678, 6], [1902, 771, 3], [1348, 1349, 196, 1350, 309, 723, 1348, 663, 805, 361, 13, 1903, 3679], [3, 1026, 3680, 440, 3681, 111, 141, 210, 679], [3682, 1351, 3683, 227, 91, 3684, 31], [3685, 834, 35, 325, 98, 18, 202], [3686, 29, 2, 526, 164, 110, 1352, 3687, 1027, 1904, 5, 337, 90, 5], [3688, 724, 1], [809, 835, 3689, 3690], [3691, 165, 206, 1353, 136, 315], [3692, 1263, 3693, 41, 1905, 99], [3694, 932, 3695], [423, 3696, 1354, 506], [3697, 3698, 1355, 344, 1344, 426, 49, 3, 3699, 669, 3700], [986, 585, 24, 3701, 3702], [340, 1906, 1289, 1906, 179, 3703, 32, 600], [725, 396, 1907, 221, 6, 84, 3704, 1638], [10, 13, 647, 19], [337, 3705, 1908, 274], [3706, 14], [211, 836, 4, 30], [371, 369, 1009, 1909, 601], [3707], [126, 324, 65, 172, 3708, 128, 837, 3709], [80, 1223, 3710, 320, 5, 171, 387, 3711, 15, 63], [972, 130, 1001, 12, 170], [498, 206, 72, 187], [9, 1028, 28, 573], [92, 1356, 303, 66], [3712, 299, 3713, 410, 2, 3714], [216, 3715, 3716, 3717, 116, 3, 482], [48, 3718, 3719, 229], [99, 3720, 31, 3721], [3722, 411, 107, 308, 3723], [145, 48, 57, 268], [3724, 1910, 69, 726, 773, 7, 3725, 788, 3, 3726, 13, 217, 3, 32, 60], [213, 95, 340, 18, 64, 590, 5, 111, 590, 340], [1357, 249, 281], [6, 3727, 179, 19, 1911, 815, 12, 3728], [550, 11, 966], [41, 38, 9, 23, 30, 1912, 127], [838, 1358, 836, 3729, 3730, 97, 80, 1913, 3731], [3732, 798, 201, 55, 711, 1029], [3733, 810, 1359, 3734, 1359, 3735, 1914, 3736, 500, 101], [3737, 3738, 839, 3739], [185, 1196], [3740, 1915, 1916, 4, 370, 727, 16, 3741, 3742, 1915, 1916, 1360], [343, 3743, 10, 2, 3744, 10, 1030, 5, 159, 1031], [3745, 15, 3746], [3747, 3748, 1361, 3749, 3750, 840, 2], [267, 3751, 1917, 172, 10, 2, 1001, 242, 570, 1001], [213, 38, 519, 2, 419, 314], [1918, 1919, 602, 3752, 1362, 33, 792, 89, 24, 528], [1920, 3753, 3754, 343, 13, 209, 1363, 104, 529, 1234, 3755, 41], [3756, 50, 313, 449], [171, 55, 52, 124], [3757, 3758, 1032, 841], [3759, 842, 3760, 170], [3761, 3762, 3763], [3764, 82, 182, 32, 18, 11, 3765, 220, 1033, 1034, 3766, 16, 28], [3767, 54, 3768, 253], [3769, 1859, 1364, 1, 221, 3770], [15, 97, 525, 23, 358], [1811, 1035, 3771, 427, 728, 136], [3772, 3773, 1921, 3774, 123, 215, 124], [658, 87, 602, 1922], [3775, 165, 31, 110, 407], [3776], [3, 1036, 146, 14, 67, 111, 35, 3777, 1365], [725, 1366, 1923, 603, 73, 35, 1649], [3778, 447, 50, 3779, 187, 1924], [3780, 59, 275, 604, 41, 108, 295, 54, 3781, 1925, 321], [3782, 678], [3783, 843, 3784, 1666, 110, 1926], [3785, 283, 530, 1035, 1273, 3786, 3787, 3788], [3789, 69, 9, 94], [695, 844, 484, 212, 1721], [605, 44, 2, 5, 843, 1927, 504], [3790, 6, 1037, 3791], [3792, 1928], [1200, 1], [3793, 3794, 15, 97, 248], [567, 3, 448, 3795, 3, 1038, 569, 1667, 3796, 3797, 1010, 3798, 1929, 1367, 1368, 30, 72], [142, 330, 1369, 13, 3799, 13, 30, 1930, 396, 3, 3800, 3801, 3802], [215, 1633, 320], [570, 136, 449, 525, 309, 130, 111, 44], [122, 55, 485, 1275], [3803, 1039, 3804, 3805, 1931, 178, 227, 53, 3806, 394, 1370, 262, 1932], [179, 5, 3807, 549, 3808, 149, 38, 179, 845, 1229], [3809, 92, 528, 1040, 6, 10, 103], [3810, 32, 282, 35, 57, 687], [3811, 1362, 3812, 3813, 1933, 345, 85, 659], [69, 3814, 44, 40, 775, 846, 77, 263, 412], [3815, 1371, 3816, 455], [26, 3817, 3818], [9, 5], [3819, 3820, 847, 3821, 3822], [44, 1934, 10, 678, 107], [111, 1935, 520, 3823, 5, 11, 1041, 1372, 1645, 5], [6, 303, 37, 1812, 119, 78], [400, 1042, 401, 1373, 499, 52, 1347, 11, 77, 4, 1936, 11, 79, 371], [94, 41, 1937, 358, 1317], [3, 84, 1374, 1043], [579, 136, 37, 1375, 848, 3824], [953, 180], [3825, 69], [3826, 265, 2], [3827, 20, 833, 193, 1881, 1938, 78], [3828, 3829, 347, 1, 347, 396, 26, 92, 58], [606, 3830, 849, 1305, 317, 41], [3831, 3832, 13, 1939, 87, 346, 3833, 607], [796, 3834, 1376], [18, 504, 450, 504, 450], [3835], [3836, 236, 58, 88, 40, 461, 11, 4, 362], [672, 261, 406, 1377, 87, 75, 850, 47, 1232, 261, 1940, 514], [3837, 4, 228, 266, 179, 3838, 14, 51, 3839, 3840], [12, 66, 988, 1303, 1044, 729, 728, 3841, 25], [3842, 134, 3843, 3844, 500, 3845, 388, 3846, 1, 972, 3847, 500], [10, 389, 1941, 34, 14, 3848, 1378], [3849, 3850, 347, 41, 73, 3851, 608, 968, 807], [440, 3852, 116, 3853, 57], [1378, 820], [169, 3854], [3855, 87, 104, 3856, 372, 3857, 126, 1, 3858, 1884, 1942, 3859, 3860, 1236], [3861, 134, 360, 1362, 1379], [774, 34, 1030, 487], [3862, 321, 1943], [1045, 63, 126, 1380, 55, 3863], [26, 973, 72, 10, 5, 1944], [3864, 778, 3865, 16, 344, 8, 1945, 108, 3866, 1046, 144, 101, 1946, 1, 258], [30, 1], [22, 156, 583, 13, 397, 3867, 546, 27, 1892, 3868, 22, 274, 89, 3869, 32, 155, 22], [92, 58, 151, 3870, 3871, 4, 121], [284, 1947, 1381, 106, 1948, 3872, 21, 128, 1382], [65, 103, 10, 107, 39, 175], [3873, 382, 6, 83, 263, 42, 32, 24, 609, 558], [3874, 446, 11, 3875, 717, 1383], [3876, 50, 765, 98, 78], [3877, 165, 79, 36, 462], [851, 3878, 118, 4, 1384, 1385], [3879, 758, 852, 3880, 3881, 175, 84], [241, 19, 549], [11, 11, 670], [3882, 3883], [1949, 242, 3884, 40, 730, 119], [24, 260], [10, 3885, 11, 1386, 503, 958, 15, 315, 3886, 3887, 10, 47, 3888, 9, 3889], [3890, 77, 3891, 1244, 72, 47, 3892, 955, 3893], [4, 1950, 670, 815, 12, 63, 1951, 521, 3894, 782], [3895, 3896, 3897, 3898, 3899, 3900, 3901, 223], [3902, 28, 11, 1952, 373, 1387], [3903, 30, 37, 3904], [1953, 32, 122], [51, 65, 1047, 774, 493, 51, 1197, 3905, 1048], [3906, 335, 1298, 1049], [3907, 50, 163, 1954], [3908, 177, 233], [3909, 109, 3910, 3911, 1672, 228, 191, 65, 19], [3912, 127, 219, 2, 1955, 2, 1956, 3913, 115, 3914], [3915, 1767, 8, 21], [3916], [71, 553, 97, 73, 61, 3917, 3918], [3919, 3920, 659, 99, 17, 3921, 363, 115, 45, 531, 99], [26, 608, 1233, 3922], [1388, 40, 3923, 2, 60, 246], [3924, 386, 3925, 151], [3926, 3927, 23], [715, 14, 6, 705, 112, 3928, 1389, 1957], [610, 3, 200, 731, 183], [3929, 21], [3930, 3, 3931, 1958, 853, 1041, 161], [3932, 10, 1372, 463, 266, 321], [3933, 50, 1025, 257, 170, 3934, 561], [3935, 3936, 3937, 5, 732, 128], [3938, 25, 1670, 842, 3939], [1050, 95, 464, 953, 3940], [3941, 1959, 652, 3942, 511, 1, 769], [854, 1390, 1960], [1961, 1285, 136], [3943, 46, 3944, 21, 50, 150, 61, 3945, 55], [3946, 300, 22, 71, 611, 1051, 19], [26, 3947, 90, 41, 104, 7], [64, 14, 354, 266, 22, 19, 1391, 461], [3948, 33, 100, 127], [3949, 3950, 3951, 101, 1828, 1052, 697, 3952, 3953, 13, 128, 3954, 772, 1238, 1962, 855], [3955, 1392, 399, 21, 3956, 1], [733, 1340, 1053, 3957], [3958, 3959, 1963], [3960, 241], [281, 1351, 6, 141, 123], [842, 1964], [3961, 50, 3962, 708, 103, 134, 4, 3963, 109, 238, 5], [226, 972, 543], [3964, 23, 3965, 3966], [3967, 1393, 520], [1965, 1966, 37, 1967], [3968, 1394, 3969, 151], [459], [1968, 27, 103, 3970, 16, 229, 3971], [3972, 1039, 3973, 3974, 24, 16, 273, 81, 1374], [3975, 3976, 177], [3977, 3978, 1969, 1970, 856, 520, 178, 37, 311], [1634, 2, 85, 5, 3979], [1706, 413, 488], [585, 3980, 810, 54, 1395, 644], [3981], [3982, 3983, 3984, 32, 155], [106, 6, 3985, 524, 465, 233, 112, 304, 263], [1971, 1034, 466, 1972, 962, 3986, 3987], [127, 592, 1973, 27, 103], [3988, 4, 38, 18, 119, 250, 47, 846, 3989], [21, 3990, 288, 22, 13, 21, 413], [51, 915, 549, 14, 811, 44], [3991, 3992, 47, 1396, 1974, 1397, 3993, 125, 3994, 1354], [11, 767, 65, 795, 11, 32, 371], [75, 94, 115, 3995], [3996, 845, 61, 3997, 1173], [23, 1975, 179], [3998], [1398, 374, 247, 857, 858, 1976, 3999, 4000, 1974], [167, 108, 4001, 4002, 104], [125, 1841, 819, 592, 52, 1258, 6, 396, 4003, 100, 322, 4004], [80, 4005, 4006, 4007], [852, 697, 612, 129, 105, 163, 1399, 817], [4008, 292, 26, 282, 443, 239, 5, 155, 7], [6, 4009, 484, 485, 4, 71, 14, 5], [4010, 4011, 760, 189, 4012, 4013, 1400, 81, 233, 4014, 140], [4015, 47], [23, 4016, 1977], [94], [570, 136], [4017, 80, 958, 4018, 4019, 1018, 135, 575, 4020, 4021, 1978, 4022, 375, 1979, 7], [4023, 177, 233, 4024, 4025], [4026, 302, 4027], [174, 1401, 457], [1402, 645, 140, 190, 969, 1980, 1981, 130, 14, 32, 376, 4028, 4029, 2], [4030, 675, 4031, 4032, 4033, 4034, 243, 4035, 1889, 4036], [234, 1330, 233, 209, 1982, 1390, 693, 715, 101, 859, 171, 320], [4037, 11, 4038, 1983, 818, 1403, 60, 19, 4039, 1984], [4, 187, 467], [4040, 163, 371], [62, 532, 62, 4041, 139, 1, 47, 4042, 269, 840, 4043, 985], [11, 164, 270, 4044, 261, 73, 35], [4045], [32, 35, 527, 23], [4046, 374, 1985], [6, 1272, 670, 511, 48, 206, 4047, 670, 511, 209, 228, 1404, 164, 37, 4048], [1405, 1, 23, 260, 1346, 235, 12, 60], [4049, 12, 36, 184, 208, 4050, 1986], [734, 613, 122], [309, 4051, 954], [735, 4052, 59, 65, 1406, 32, 4053, 27, 4054, 361, 16, 134, 185, 4055, 4056, 13, 32, 1054], [4057, 1270, 246, 125], [1928, 1987, 14, 23, 44, 4058], [177, 1, 31, 126, 1407, 21, 736], [1988, 28, 1408, 4059, 648, 52, 4060, 860, 4061], [38, 290, 2, 706, 841, 5, 163, 85], [1989, 1011, 174, 4062, 430, 33, 90, 1888, 79, 29], [26, 190, 700, 28, 1990, 1240, 1991], [403, 4063, 4064, 1409, 119, 78], [42, 801, 62, 62, 62, 22, 1410, 47, 1409, 2, 45], [4065, 158, 614, 4066, 1055, 1992, 1993, 4067, 4068, 269, 4069, 7, 4070, 719], [383, 4071, 4072, 128, 2, 1411, 4073, 198, 4074, 383, 34], [4075, 89, 4076, 4077, 112, 1412, 1914, 302], [23, 4078, 1994], [4079], [503, 615, 4080, 1413, 34, 1413], [21, 62, 152], [4081, 1, 20, 155, 1, 174, 10, 430], [4082, 6, 14, 21], [4083, 1056, 14], [4084, 357, 193, 1995, 4085, 1057], [26, 293], [4086, 69, 4087, 4088, 4089], [4090], [4091, 4092, 4093, 118, 193, 640, 1996, 1414, 861, 104, 330, 1997], [281, 4094, 26, 10, 5], [38, 4095, 2, 33, 4096, 200, 581, 18, 18, 862, 5], [23, 1998, 333], [4097, 1999, 31, 433, 2, 2, 616, 270, 309, 96, 115, 78], [65, 62, 166, 122, 36, 509, 27, 594, 15, 4098], [44, 282, 19, 22, 1314, 2000], [4099, 689, 431, 88, 179, 2, 4100, 4101, 12, 737], [451, 1256, 143, 56, 4102, 523, 4103, 2, 1, 81, 392, 54, 2001], [4104, 9, 1830, 2002, 589, 12, 61, 574], [8, 4105, 64, 4106, 4107], [4108, 50, 1213, 965, 67, 9, 4109, 4110, 4111], [24, 817, 443, 159, 4112, 39, 132, 1409], [1415, 2, 226], [6, 14, 1058, 1043, 4113, 16, 76, 6, 4114, 4115, 1058], [4116, 695, 2003, 2, 85], [1416, 4117], [4118, 9, 3, 4119], [4120, 839, 33, 30, 45, 77], [4121, 4122, 9, 24, 1399, 791], [2004, 4123, 4124, 4125, 4126, 393, 89, 2, 2005, 33], [4127, 1297, 4128, 4129, 4130, 2006, 7], [4131, 148, 4132, 5, 56, 159, 4133, 13, 4134], [2007, 32, 4135, 4136, 2008, 239, 4137, 547], [4138, 607, 14, 1417, 4139, 4140, 321], [4141, 1212, 4142, 9, 129, 4143, 1], [4144, 267, 359, 863, 359], [3, 102, 4145, 4146], [310], [4147, 4148, 4149, 4150, 1000, 1418, 373, 202, 4151, 1419, 240, 4152], [4153, 2009, 15, 2009], [4154, 922, 9, 4155, 854, 18, 4156, 617, 720, 1059, 206, 81], [4157, 35, 126, 4158, 57, 150, 197, 4159, 42, 113, 63], [4160, 69, 394, 445, 4161], [4162, 277, 309, 1276, 578, 2010, 287], [533, 846, 821, 12], [4163, 4164, 4165, 8, 21, 62, 12], [12, 618, 554, 296, 15, 97], [71, 1219, 57], [146, 98, 23], [14, 130, 44, 31, 221, 4166, 314, 56, 498, 5], [513, 288, 4167, 179, 284, 54, 1696], [82, 4168, 570, 4169, 4170, 4171], [4172, 4173, 619, 4174, 4175, 4176, 544], [4177, 2011, 776, 18, 1, 297], [280, 4178, 240, 4179, 1346, 18, 241, 40, 376, 13, 1016, 447], [4180, 2012, 4181, 7, 276, 736, 4182, 36, 4183, 1420, 1421, 320, 85, 4184, 82, 7], [587, 2], [185, 1020, 412, 2013, 264, 4185, 697, 4186, 4, 1422, 2, 133], [4187, 1, 22, 35, 576, 448, 107, 102], [162, 710, 1423, 620, 1658, 491, 395], [4188, 2014, 2015, 374, 25], [4189, 26], [96, 187, 479, 354, 762, 108, 5], [26, 4, 4190, 1214, 2016, 377, 1060], [4191, 2017, 4192, 84, 13, 1424, 400, 1990, 1195, 88, 183, 534, 424, 4193, 2018, 4194, 409, 378], [492, 4195, 1061, 196, 1837, 37, 29, 113, 226], [333, 4196, 4197], [1062, 126], [4198, 145, 2019, 4199, 5, 19, 15, 49, 32, 2019, 2020, 7], [209, 2021, 6, 144, 4200, 4201, 4202, 195], [4203, 146, 4204], [4205, 178, 3, 102, 562], [1425, 4206, 711, 492, 1426, 183, 4207], [4208, 1172, 31], [944, 507, 2022, 10, 2023, 395], [28, 347, 389, 5], [15, 1038, 1327, 2024, 4, 148, 2025, 12, 599, 183, 17, 2026], [4209, 66, 845], [4210], [99, 4211, 1410, 81], [4212, 31, 251, 284, 85, 4213, 4214], [813, 864, 284, 1427, 4215, 591, 2027, 44, 1428, 4216, 102, 1063, 4217], [4218, 1429, 271, 1430, 1064, 144, 4219, 4220, 4221, 13], [2028, 704, 4222, 4223, 175, 137, 4224, 4225], [411, 687], [4226, 2029, 4227, 55], [4228, 621, 936, 60, 197, 527, 2030], [29, 102, 4229, 19, 65, 1431, 351, 60, 14, 65, 201, 95], [18, 4230, 4231, 4232, 2031, 289, 1432], [4233, 158, 865, 622, 37, 73, 11, 548, 29, 121], [127, 108, 28, 283], [4234, 312, 64, 4235, 57, 24, 4236, 1179], [4237, 9, 248, 1844, 235, 603, 58, 314, 1760], [31, 110, 1394], [10, 207, 4238, 459], [12, 14, 211, 4239, 103], [4, 14, 172, 340], [4240, 32, 113, 4241, 1187, 4242, 4243], [4244, 4245, 1347, 24, 1296], [189, 2, 10, 4246, 1433], [2032, 2033, 2034, 333, 2035, 420, 4247, 4248, 127, 4249], [149, 230, 1434, 338], [1842, 15, 322, 505], [4250, 2, 989, 4251], [4252, 4253, 4254, 468, 4255, 617, 4256, 4257, 4258, 1344], [168, 1423, 4259, 78], [381, 356, 174, 2036, 4260, 4261, 4262, 4, 2037], [1187, 371], [548, 4263, 21, 108, 4264, 414, 348, 372, 83, 4265, 2, 1435, 409, 4266, 12], [4267, 4268, 151, 129, 10, 93, 4269, 320, 1065], [4270, 209, 2038, 365, 436, 4271, 4272, 310, 62, 284, 792], [432, 14, 2039, 4273], [591, 56, 76], [67, 9, 11, 512, 253], [18, 712, 374, 1985, 1368, 3, 87, 4274], [2040, 345, 2041, 4275, 18], [42, 1012, 1436, 103, 14, 2, 336, 2042], [46, 28, 360, 1437, 4276], [4277, 4278, 4279, 861, 186, 122, 4280, 361], [525, 837], [94, 57, 623, 34], [4281, 4282, 27, 4283, 417, 91, 866, 1438, 4284, 511, 528, 4285, 696, 27, 4286], [4287, 4288, 4289, 4290, 170, 31, 4291], [694, 1439, 654], [4292, 37, 242], [4293, 1404, 220, 4294, 265, 4295, 79, 230, 4296, 119], [1066, 145, 702], [395, 4297, 4298, 4299, 64, 2043, 4300], [52, 431], [4301, 80, 236, 204, 4302], [349, 499, 4303, 21], [39, 330, 95, 478, 794, 580, 140, 61, 22], [4304, 6, 14, 207, 4305, 4306, 4307, 36, 145, 21], [193, 738, 624, 127, 4308, 6, 4309, 41], [48, 838, 4310, 4311], [347, 4312, 23, 14, 4313, 36], [2044, 694, 2045, 1440, 776, 4314, 4315, 348, 1820, 2046, 4316, 206, 96, 81], [2047, 50, 110, 166, 47, 68, 767, 4317, 4318, 4319], [4320, 23, 4321], [267, 377, 4322, 4323, 4324], [4325, 1882, 4326], [138, 5, 92, 2, 113, 1067, 10], [4327, 8, 4328, 739, 4329, 2048, 386, 2049, 49, 45, 7], [4330, 4331, 32, 1441, 584, 1983, 1822, 1328, 13, 332, 161, 13, 299, 584], [4332, 7, 23, 4333, 176, 284, 1644, 229, 514], [16, 418, 4334, 867, 1442, 999, 1068, 641, 2050, 1443, 4335], [109, 2051, 4336, 4337, 4338, 1024], [4339, 1262, 26, 216, 2052, 961], [23, 544, 1054, 100, 24, 1713], [4340, 26, 1816, 6, 4341, 4342, 1743], [93, 131, 4343, 2053, 1418, 32, 2054], [155, 63, 61, 12, 1444, 459], [27, 10], [4344, 4345, 4346, 655, 733, 4347, 4348], [1069], [4349, 50, 719, 191, 678, 4350, 2, 187], [33, 1445, 4351, 4352, 2055], [1044, 35, 2056, 2057, 152, 4353], [2058, 555, 1871, 1199, 2059, 456, 3], [4354, 21, 2060], [4355, 510, 4356, 21], [4357, 137, 42, 4358], [4359, 73, 133, 46, 203, 234, 4360, 192, 2061, 203, 4361], [4362, 15, 50, 52, 491, 1211], [4363, 74, 4, 4364, 523, 23], [4365, 31, 868, 4366, 163, 41], [4367, 243, 4368, 399, 17, 4369, 2037, 808, 976, 4370], [270, 42, 124], [4371, 4372, 1850, 4373, 1426, 625, 10, 2062, 625, 397], [4374, 4375, 4376, 9, 1846, 7, 7], [1763, 37, 446, 722, 4377, 24, 2063, 390, 4378, 1169, 4379, 1203], [4380, 4381], [167, 4382, 677, 20, 4383, 4384, 168, 4385, 139, 143, 2064, 5], [211, 10, 957, 1446, 247, 4386, 14], [4387, 11, 585, 446, 27], [21, 825], [30, 31, 58, 2065, 295, 686, 400, 1042, 676], [390, 800, 19], [32, 105, 651, 551, 1165, 1222, 57], [2066, 4388], [740, 19, 2027, 4389, 76, 11, 605, 2067, 500, 543], [230, 610, 771, 90], [106, 14, 264, 4390, 3, 4391, 141, 858, 2], [72, 1702, 278, 4392, 72, 76, 422, 4393, 5], [70, 3, 1913, 4394, 651, 741, 321, 37, 1358, 575], [311, 98, 24, 2068, 100, 4395, 63, 305], [563, 44, 4396, 72], [4397, 9, 1022, 236, 466, 804, 714, 673, 4398, 314], [120, 183, 32, 1337, 1070, 2069, 284, 4399, 4400, 1070, 1071, 1070], [15, 116, 57, 4401, 4402, 275, 215, 48, 375, 268, 5, 183], [4403, 2070, 4404, 58, 2071, 4405, 1430], [4, 4406, 4407, 57, 24, 2072, 4408, 251, 180], [4409, 309], [4, 4410, 10, 19, 2073], [4411, 56, 1057, 2074, 681, 82, 2074, 681, 37, 3, 517, 346, 111, 166], [28, 64, 10, 507, 448, 468], [4412, 4413], [97, 26, 2075], [4414, 4415, 4416, 4417, 4418, 4419, 4420, 4421, 2076], [4422, 15, 4423, 2077, 1336, 2006], [1447, 4, 464, 103], [4424, 152, 4425, 1040, 12], [8, 602, 440, 352, 602, 360], [4426, 4427, 372, 4428], [94, 313, 1278, 4429, 4430], [146, 4431, 285, 171, 10, 98], [138, 1252, 132, 5, 32, 1448, 4432, 176, 261, 1449, 2078, 5], [4433, 1350, 173, 295, 6, 4434, 1396, 675, 3, 302, 111, 2079, 4435, 1072, 1450, 4436], [136, 4437], [4438, 76, 1073], [4, 57, 104, 3, 113, 21, 799, 21, 8], [4439, 4440, 759, 216, 5, 91, 1193, 385, 4441], [4442, 4443, 216, 157, 2080, 122], [4444, 1451, 319, 6, 127, 93, 483], [267, 4445, 14], [93, 289, 37, 2081, 4446, 2082, 4447, 4448], [98, 577, 72], [508, 236, 6, 4449, 461, 2083, 38], [304, 740, 2084, 4450, 41, 104], [1, 22, 146, 4451, 90], [4452, 20, 4453, 24, 4454, 52, 4455, 642, 94, 422, 4456], [1413], [4457, 1452, 411, 2, 6, 10], [159, 4458, 1205, 254, 801, 1453, 656, 343, 4459, 2085], [11, 4460, 158, 4461, 724], [2086, 1018, 407, 869, 1057, 5, 870, 103, 383, 49, 3, 775, 812], [88, 113, 5], [4462, 251, 102, 11, 32, 21, 4463], [271, 149, 2087, 739, 949], [4464, 4465], [2088, 871, 4466], [385, 602, 162, 49, 3, 199, 13, 49, 3, 237, 4467, 4468, 4469, 4470], [4471, 50, 386, 61, 28], [4472, 177, 233], [1961, 122, 6, 220, 340], [209, 327, 666, 489, 327, 126], [4473, 15, 135, 170, 178, 53, 6, 327, 51], [287, 577, 3, 4, 4474, 1375, 848, 126, 369, 4475], [58], [369, 35], [4476, 127, 4477, 131, 63, 285, 155, 759], [84, 175], [206, 4478, 4479, 4480, 89, 2089, 530, 19], [4481, 178, 1, 4482, 1342, 1074, 4483], [841, 64, 342, 4484, 1, 37, 64, 114, 4485, 174, 773, 4486, 4487, 152], [4488, 243, 280, 1454, 333, 1075], [1437, 94, 45], [1220, 94, 1184], [2090, 197, 1076, 626, 524, 4489, 1455, 18, 4490, 837], [66, 170, 1388, 135], [21, 14], [318, 412, 4491, 128, 828, 145, 56, 135, 1456, 1457, 309], [18, 4492, 4493, 15, 6, 2091, 2091, 4494, 25], [4495, 4496, 240], [4497, 20], [30, 4498, 270, 6, 155, 2, 657, 4499], [4500, 15, 4501, 4502, 4503, 4504, 4505, 1, 2092, 1, 258], [1033, 4506, 4507, 4508, 2093, 308, 4509, 1077, 188, 243, 4510, 4511, 4512, 2094, 1033, 1458, 4513, 2094, 4514, 4515, 25], [432, 35, 73], [4516, 108, 151, 97, 62], [4517, 101, 168, 101], [4518, 34, 104, 216, 195, 1459, 318, 66, 806], [26, 279, 872, 224, 4519, 553], [80, 707, 27, 2095, 4520], [379, 30, 3, 4521, 379, 253], [4522, 2096, 599, 4523, 19, 210, 3, 54, 74, 2097], [929], [4524, 61, 5, 808, 93, 61], [4525, 157, 26, 2098, 4, 4526, 57, 26, 4527, 73, 1839, 328, 55, 17], [4528, 309, 1365, 449], [26, 4529, 4530], [934, 2099, 4531, 2100, 4532, 1460, 1996, 2101, 1417], [352, 977], [10, 5, 868, 1000, 2102, 4533, 84, 410], [4534, 1078], [276, 104, 32, 21, 2103], [583, 2104, 27, 27, 4535, 57, 304, 441, 13, 64, 1219], [281, 58], [4536, 232, 1461, 4537, 873, 9], [459, 95, 4538, 4539, 13, 4540, 4541, 328, 11, 585, 986, 811, 76, 25], [145, 35, 17, 11, 227, 4542, 36, 33, 35, 365, 11, 404, 650, 148], [4543, 874, 9, 92], [4544, 4545, 2105, 1991, 17, 28, 4546, 4547], [11, 4548, 4549, 1462, 1320], [2106, 387], [10, 4550, 4551, 4552], [4553, 232, 3, 1079, 4554, 118, 232], [6, 174, 621, 1080, 5, 4555, 1081], [44, 170, 136, 37], [164, 1463, 185], [350, 83, 4556, 4, 4557, 597, 21, 10], [46, 4558, 627, 1082, 123, 4559, 143, 326], [4560, 31, 110, 33, 9, 100, 45, 1464, 225, 2107], [427, 429, 219, 126, 4561, 4562, 7, 321, 2108, 464], [113, 740], [70, 30, 411, 42], [4563, 340, 12], [4564], [4565, 4566, 4567, 55, 1083, 665], [622, 58, 21], [4568, 91, 33, 30, 45, 56, 366, 161, 126], [4569, 21, 279, 2109, 4570, 4571, 2, 4572], [4573, 20, 194, 572, 4574, 1936], [4575, 87, 34], [81, 49, 65, 2, 2110, 1465, 244, 10, 88, 1640, 397], [4576, 4577, 1392, 4578, 4579, 203, 323], [12, 4580, 4581, 16, 3, 2111, 96, 115, 1330], [713, 1466, 4, 796, 603, 11, 72, 60, 2112, 25], [4582, 5, 274], [6, 14, 925], [568, 407, 30, 42, 2113, 23, 66, 9], [4583, 91, 14, 5, 40, 74, 875, 4584, 16, 195, 213, 4585], [4586, 42, 2114, 4587, 182, 32, 2115, 38, 251, 535, 31, 116, 180, 72], [4588, 3, 1467, 257, 274, 2116, 102, 72, 132], [4589, 4590, 4591, 4592, 2117, 4593, 24, 4594, 2118], [605, 42, 88, 18, 862, 4595, 1902, 40, 4596, 862, 233, 104], [4597, 2119, 1084, 2120, 79, 4598, 4599, 593, 726, 27, 446, 193, 316], [4600, 4601, 15, 135, 64, 4602, 4603], [2121, 2121, 31, 4604, 953, 55], [174, 4605, 65, 1382, 4606, 621, 356, 26, 279], [274, 2122], [2123, 4607, 96, 124, 31, 943, 804, 509, 31], [46, 736, 6, 4608, 690, 250, 1270, 46, 4609, 99, 4610, 1255, 1287, 1801], [24, 4611, 12], [55, 4612], [851, 454, 1733], [4613, 4614], [4615, 439, 398, 123, 592, 149, 105, 5], [4616, 4617, 395, 24, 4618, 1085, 4619], [66, 4620, 2124, 67, 244, 2125, 256, 4621, 4622, 734, 1076], [56, 615, 1205, 254, 216, 4623, 87, 2067, 90], [4624, 30, 45, 57, 369, 1865, 1468], [68, 411, 2069, 274], [37, 94, 4625], [563, 812, 645, 35], [349], [4626, 4627, 4628], [4629, 26, 48, 876, 644, 1086], [21, 159], [4630, 136, 4631], [4632, 1469, 16, 792, 1284, 2126, 859], [4633, 33, 198, 34, 1470, 31, 1081, 577, 3, 4634, 877, 2127], [294, 15, 31, 1471, 21, 210, 225], [22, 4635, 136, 4636, 916, 4637, 4638, 920], [3, 587, 75, 419, 587, 75, 609, 230, 4639], [42, 10, 77, 228, 14, 2], [4640, 4641, 4642], [15, 1022, 4643, 4644, 1472, 1, 1, 4645, 4646, 4647, 4648, 486, 1080, 4649], [174, 878], [184, 55, 1087, 1087, 2038, 2, 170, 543], [4650, 2128, 129, 532, 1883, 2015, 4651, 4652, 1948], [432, 37, 1349, 101], [14, 2129, 1404, 703, 132], [4653, 810, 23], [4654, 134, 158, 31, 1329, 4655], [4656, 4657, 60, 61, 4658, 2130, 1803], [4659, 133, 161, 461, 4660, 1473, 4661, 2131], [54, 1474, 879, 1], [189, 410, 2, 51, 55, 365, 10, 952, 841], [293, 459, 4662, 321, 57, 95, 2132, 129], [4, 44, 1065, 5, 19, 2133, 124, 536], [4663, 45, 4664, 17], [615, 4665], [4666], [4667, 165, 31, 110, 554], [1870, 4668, 4669, 4670, 2134], [4671, 564, 628, 262, 15, 1022, 97, 67, 23, 49], [4672, 4673, 27, 1088, 1411, 101, 85], [4674, 70, 182, 91, 6, 72, 1209, 14, 37, 1089, 142, 4675, 27], [], [4676, 317, 43, 317, 328], [4677, 1368, 529, 4678, 4679, 130, 2135, 159, 4680], [92, 102, 6, 544], [25, 163, 21, 4681, 25], [4682, 165, 53, 4683, 646, 2136, 4684, 2137, 742, 412, 315, 4685], [26, 12, 24, 4686, 1326], [4687, 46, 122, 36, 121], [68, 4688, 4689, 2138, 4690, 274, 4691], [11, 991, 28, 67, 256, 205, 105, 35, 4692], [4693, 4694, 6, 983, 513, 343, 445], [4695, 26, 144, 475, 913], [218, 4696, 1069, 480, 1442, 4697, 4698, 12], [338, 2139, 5, 10, 11, 83, 12, 13, 74, 10], [4699, 4700], [93, 474, 66, 4701, 794, 919, 95, 27, 386, 399, 386, 4702], [2140, 61, 16, 743], [4703, 30, 1, 33, 697, 4704, 28, 1221, 790, 485, 484], [4705, 85], [6, 781, 4706, 4707, 21, 798, 1379], [18, 686, 4708, 1475], [26, 4709, 36, 4710, 4711], [21, 2141], [1, 2142, 4712, 4713], [476, 21, 4714, 343, 801], [404, 1422, 2143, 4715, 205, 938, 982, 4716, 263, 374], [4717, 132, 68], [18, 1476, 12, 880, 4718, 376, 1446, 817, 17, 428, 4719], [4720, 4721, 4722, 4723, 2144, 4724, 2001, 945, 1090, 7, 8, 1966, 83, 26, 218], [4725, 15, 4726, 31, 1394, 43, 777, 772], [146, 404], [4727, 6, 169, 533, 1477, 680, 2145, 348, 1290, 1478, 4728], [83, 84, 83], [691, 1815, 4729, 2146, 1360, 169, 1729, 881, 629, 1744], [4730, 31, 569], [308, 1294, 4731, 94, 1, 68, 4732, 775, 4733, 785], [1701, 19, 427, 4734, 73, 51, 207], [4735, 4736, 4737, 654, 4738, 109, 238, 10, 84], [15, 882, 2147, 4739, 2148, 4740, 1695, 1068, 131, 2148, 1049], [122], [4741, 15, 177, 233, 4742], [9, 72, 2149, 1281, 723, 163, 30, 45, 111, 1281, 5, 21, 4743], [111, 4744, 2150], [4745, 9], [68, 4746, 324, 4747, 1759, 1283, 4748, 4749, 431, 12, 22, 4750, 5], [4751, 56, 2151, 626, 1761, 39, 112, 454, 1994, 4752, 47, 4753, 4754], [4755, 25, 2152], [4756, 1479, 250, 56, 349, 1414, 299], [4757, 1406, 4758, 4759, 1091, 1011, 4760, 408, 478, 4761, 645, 140, 4762, 80], [4763, 427, 4764, 170, 31, 134], [21, 75, 566, 1299, 13, 4765], [4766, 368, 627, 41, 412, 1280, 298, 457], [18, 4767, 600, 71, 1092, 72, 1350, 883], [4768, 496, 4769, 2032], [24, 152, 342, 2153, 4770, 1093, 32, 342], [4771, 28, 2154], [192, 4772, 4773, 884, 12, 104, 2155, 17, 94, 1386, 149, 36], [4774, 242, 15, 97, 119], [2156, 2156, 73], [356, 168, 107, 89, 168, 63, 2028], [4775, 4776, 44, 318, 582, 436, 11], [170, 16, 682, 852, 683, 216, 51, 207, 2157, 144, 101], [4777, 31, 88, 4778, 99, 4779, 40, 16, 28, 4780, 4781, 444], [4782, 55], [452, 2], [93, 298, 4, 10, 71], [4783, 1480, 16, 216], [4784, 469, 33, 585, 1267, 282, 27, 502, 7, 254, 2158, 1686, 4785, 1162, 555, 1094], [4786, 25, 232, 1999, 1241], [2159, 308, 5, 143, 4787, 55, 536], [161, 16, 2160, 2161, 338, 209, 4788, 302], [270, 197, 103, 4789], [4790, 15, 97], [94, 4791, 72], [318, 240, 55, 88, 1292, 4792, 245, 4793], [88, 477, 2162, 2163, 2071, 4794, 4795, 17, 142, 2031, 242], [4796, 4797, 352, 1095, 1481, 4798, 102, 126, 8, 139], [218, 4799, 151, 127, 620], [2, 520, 55, 66], [228, 417], [738, 624, 4, 482, 2017, 259, 4800], [4801, 653, 4802, 27, 148, 23, 80, 4803, 1420, 757, 2066], [274, 617, 2164, 630, 68, 63, 709], [4804, 595], [213, 274, 4805, 4806, 4807, 4808, 4809], [799, 1641, 4810, 215, 356, 1688, 1689], [4811, 4812], [868, 11, 174, 10, 154, 4, 776, 4813, 562], [146, 332, 44, 303, 124, 17], [29, 102, 23, 244, 4814], [4815, 405, 235, 4816, 521, 198, 405, 395, 135, 23, 885, 405, 4817, 144], [4818, 4819, 4820, 213, 172, 296, 513, 172], [4821, 4822, 2165, 2166, 814, 4823, 45, 108], [706, 579], [519, 2, 519], [4824, 49, 454, 26], [237, 127, 1927, 130, 718], [270, 1208, 4825, 1053, 1316, 128, 76, 967], [4826, 83, 4827, 71, 1053], [4828, 18, 607, 197, 103], [1096, 96, 492, 212, 1074, 1269, 4829], [4830, 7, 56, 886, 17, 37, 2167, 23, 256, 52, 521], [4831, 11, 325, 4832, 381, 1424, 132], [4833, 113, 340], [2168, 1482, 392, 4834, 48, 879, 127, 313], [15, 99, 615, 813, 67, 9, 11, 40, 14], [732, 74, 862], [4835, 31, 110, 864, 2054], [256, 256, 256, 717, 4836, 4837, 4838, 4839, 13, 2169, 198, 24, 717], [4840, 529, 525, 1483, 916], [4841, 127, 119, 61, 1, 14], [24, 1, 366, 596, 1858, 1484, 21, 4842], [4843, 687], [4844, 95, 76, 88], [32, 17, 57, 480, 1050, 211, 13, 480, 4845], [718, 187, 4846, 21], [40, 2170, 13, 2170, 2, 1687, 4847, 522], [4848, 12], [4849, 4850, 729, 4851], [4852, 2171, 105, 276, 291, 2172, 158, 49, 3, 303, 4853], [4854, 409, 4855, 2173, 115, 37, 310, 18, 4856, 1433, 4857, 65, 2174, 5], [4858, 98, 15, 322, 1485, 2175], [61, 117, 48, 4859, 744], [4860, 136], [15, 4861, 4862, 4863, 1097, 1308, 3, 338, 30, 4864, 4865, 36], [145, 1397, 53, 4866, 4867, 25, 26, 306, 12, 439], [4868, 1253, 135, 3, 1486, 2176, 206, 380], [171, 1487, 1872], [4869, 855, 19], [202, 920, 2177, 4870], [2178, 1439, 84, 4871, 4872, 837, 136, 173], [4873, 26, 4874, 67, 9, 204, 4875, 25], [4876, 4877, 4878, 4879, 4880], [4881, 10], [4882, 405, 4883], [2147, 180, 428, 124, 123, 129, 4884, 324, 4885, 4886], [171, 15, 97, 4887, 157, 30, 4888, 4889, 527, 4890], [177, 233, 100, 4891, 883, 4892, 4893, 97, 119], [1471, 4894, 11, 32, 1463, 1196], [4895, 82, 143, 169, 150, 115, 4896, 254, 1488, 33, 21, 168], [4897, 4898, 165, 281], [62, 2, 10], [68, 4899, 1489, 119], [4900, 109, 238, 4901, 5, 4902, 478, 1098, 5], [4903, 668, 4904, 7, 13, 196, 1490, 4905, 4906, 856, 149, 4907, 7], [4908, 50, 1013], [4909, 4910, 1098, 706, 4911], [4912, 165, 4913, 31, 680, 781, 2179, 4914, 45, 48], [4915, 4916, 1071], [243, 232, 4917, 186, 153], [4918, 362, 1411, 101, 887, 721], [4919, 4920, 2180, 4921, 208, 961, 4922, 587, 115, 2181], [4923, 26, 154, 207, 959], [4924, 70, 156, 620, 1211, 4925, 18, 6, 3, 378, 573], [1723, 1934, 67, 1277, 4926, 1099, 4927, 233, 712, 151, 4928, 4929, 4930], [46, 4931, 530, 4932, 73], [4, 426, 4933, 4934, 72], [188, 4935, 180, 847, 73, 161, 4936], [4937, 1100], [4938, 533, 2107, 1101, 187], [204, 54, 16, 682, 683, 41, 2144, 213, 12, 437], [4939, 43, 211, 58, 76, 847, 4940, 236, 60], [4941, 30, 369], [4, 288, 4942], [4943, 23, 4944], [2182, 4945, 235, 618, 27, 4946], [74, 55, 11, 4947, 5, 15, 11, 4, 161, 4948, 2183, 273, 4949], [4950, 758, 4951], [4952, 152, 671, 26, 667, 1102, 152], [4953, 107, 30, 3, 102, 1103], [1434, 1282, 81, 159, 5], [72, 391, 2178, 954, 99, 602, 4954, 41], [4955, 199, 18, 888], [1052, 212, 631, 4956, 4957, 1473, 4958, 745, 61, 2184, 597], [133, 728, 333, 4959, 430, 69, 430], [1491, 4960, 12, 762, 1104, 1044, 95], [1968, 513, 288, 1337, 98], [4961, 18, 4962, 2, 83], [451, 95, 229, 4963, 134, 97, 80, 4964], [4965, 4966, 4967, 1105], [86, 218, 1492, 2185, 288, 1106, 18, 10, 2041, 998, 685], [4968, 814, 105, 4969, 3, 161, 398, 2186, 1391, 398, 2186], [2187, 1107, 460, 4970], [1493, 33, 320, 597, 1399, 272, 295, 4971, 3, 448, 2188], [1494, 4972, 128, 4973, 55, 30, 3, 4, 4974], [2189, 1023, 889, 118, 2190, 416, 660, 155, 12, 18], [2191, 4, 248, 41, 460], [851, 4975, 974, 843, 4976], [488, 149, 1189, 264, 565, 108, 151], [110, 4977, 533, 2192, 4978, 61], [4979, 4980, 25, 50, 4981, 52, 28], [52, 4982], [26, 4, 4983, 25], [4984, 31, 368, 195, 352, 457, 330, 312], [2193, 58, 4985], [4986, 11, 4987, 1108, 171, 30, 3, 2194, 2, 149, 1495], [35, 4988, 150, 932, 4989, 4990, 4991, 376], [706, 4992, 4993, 495, 4994, 4995, 4996, 364, 369, 4997, 4998, 2195], [4999, 196, 1496, 47, 2196, 317, 11, 245, 5000], [5001, 26, 216], [5002, 257, 357, 1400, 890, 13, 371, 2197, 868], [658, 87, 229], [10, 154, 1307, 5003, 543], [73, 1355, 23, 704, 99, 1497, 4, 5004], [5005, 5006, 209, 5007, 454, 58, 343, 91, 114, 437, 2198, 363], [5008, 746, 66, 41, 532, 5009, 866, 58, 176, 13, 2199], [5010, 329, 5011, 42, 14, 41, 225, 401], [132, 5012, 194, 83, 63], [5013, 31, 88, 250, 2200, 5014, 681], [5015, 2201, 71], [983, 191, 343], [8, 658, 87, 10], [226, 587, 8, 168, 121, 6, 16, 2202, 864, 353, 11, 2203, 5016, 37, 226, 55], [5017, 607, 587, 5018, 5019, 1802], [485, 136, 770, 50, 535, 132, 170, 23, 14, 737, 36], [14, 35, 360, 5020, 1032, 8, 244, 1201, 16, 5021, 37, 1498, 1499], [193, 1675, 2204, 222, 1, 2205, 200, 2206, 646, 331, 172], [87, 2207, 300, 5022, 5023, 5024, 5025, 60], [70, 283, 5026], [24, 1356], [5027, 70, 170, 33, 72], [5028, 1500, 278], [5029, 2208, 1092, 1671, 5030, 272, 5031, 5032, 2209, 2208, 1092], [1750, 5033, 661, 661, 661, 118, 45, 123, 233], [5034, 70, 2210, 967, 50, 5035, 352, 1412, 5036], [5037, 95, 700, 85, 598, 474, 5038, 246, 5039, 988], [1321, 284, 5040, 199, 5041, 3, 200, 387, 1, 1495, 5042], [5043, 5044, 98], [61, 5045], [5046, 11, 32, 632], [5047, 5048, 5049], [257, 52, 1043, 2058, 5050, 249], [5051, 23, 5052, 16, 5053, 1650, 5054, 5055, 1109], [5056, 187, 312, 5057, 1289, 5058], [6, 463, 11, 5059, 2057, 140, 2060, 84, 175], [23, 2211, 2212, 5060, 309, 3, 1766], [2106, 1501, 5061, 5062, 56, 233, 434, 1502, 52], [4, 5063, 5064, 648, 5065, 2103, 89, 61, 1862, 5066, 5067], [5068, 695, 125, 2213, 1109], [3, 1291, 5069, 581, 10, 20, 836, 5070], [548, 116, 5071, 56, 150, 10, 181, 537], [5072, 8, 394, 85, 29, 112, 1503], [5073, 5074, 52, 204, 1110, 305], [5075, 1504, 5], [1375, 2214, 2215, 2196, 163, 41, 5076], [242, 13, 72, 1353], [325, 98, 5077, 264, 5078, 62, 103, 365], [174, 741, 621, 813, 600], [77, 204, 5079, 155, 35, 144, 63, 218, 639, 5080, 13, 5081], [67, 30, 10, 172], [1265, 210, 498, 290, 2], [93, 324, 1111, 468, 28, 67, 10], [5082, 5083, 71, 5, 52, 365, 345, 42, 14, 280], [5084, 1447, 5085], [5086, 425, 5087, 30, 227, 5088, 6, 334], [5089, 39, 5090, 548, 105, 417, 541], [304, 5091, 5092, 5093], [5094, 5095, 628, 5096, 5097, 1087, 85], [5098, 69, 84, 1102, 428, 5099, 1077, 357, 457], [833, 236, 1112, 1505, 105, 5100, 3, 5101], [122, 745, 878, 124, 5102, 745, 803, 240, 114, 5103, 930], [184, 173, 369, 5104, 1792, 5105], [204, 5106], [26, 731, 95, 3, 47], [5107, 605], [2216, 1094, 108, 30, 108, 3, 1113, 66], [761, 550, 91, 419, 382, 6, 920], [2217, 5108, 338, 32, 1012, 1436, 943, 4, 5109, 789], [2218, 741, 242, 3, 1206, 253], [5110, 34, 368, 14, 731, 242, 67, 814, 5111], [808, 361, 22, 198, 248, 47, 1382, 757, 63, 132, 5112, 49, 37], [5113, 296, 69, 7, 5114, 5115, 172, 285, 204, 507, 780], [5116, 5117, 336, 584], [5118, 466, 5119], [220, 5120, 2219, 5121, 5122], [355, 16, 260, 1717, 14, 576, 532], [75, 5123, 5124], [1114, 586, 151, 5125], [5126, 195, 516, 143, 5127, 1104, 2140, 51], [1504, 1043, 76, 83, 2220], [631, 1680, 16, 456, 631], [5128, 41, 4], [26, 5129, 331, 26, 32, 1306], [6, 944, 5130, 2221, 2222, 5131], [5132, 5133, 116, 5134, 2223, 318, 273, 5135, 2224], [5136, 27, 201], [5137, 268, 133, 922], [5138, 686, 5, 1245, 670, 5139, 649, 5140], [76, 5141, 85, 34], [5142, 49, 306, 5143, 5144, 369], [31, 10, 5145, 111, 891, 1249, 164, 140, 141], [5146, 5147], [111, 44, 245, 30, 3, 945, 525, 10, 446], [2225, 5148, 848, 37, 297, 328, 2169], [15, 5149, 519, 2, 107, 5150, 5151], [5152, 5153, 116, 5154, 820, 646, 5155, 5156, 34], [5157, 25, 7, 892, 45, 5158, 367, 394, 218, 878, 1474, 2, 5159, 2226], [5160], [924, 274, 5161], [606, 564, 391, 1895, 67, 23, 1506], [688, 612, 1507, 463, 2014, 509, 5162, 5163, 112], [257, 355, 288, 1115, 390, 785, 79, 321], [29, 5164, 509, 802], [1, 2, 5165, 281, 666], [5166, 52, 35, 21, 1, 112, 11, 38, 7], [9, 4, 5167, 36, 5168, 9, 765, 5169, 130, 1250, 41, 837], [1, 71, 1071, 1116, 360, 95, 1081, 324], [5170, 21, 464, 5171, 4, 5172, 18], [703, 5173, 336, 5], [370, 5174, 941, 409, 14, 257, 5175, 104], [5176, 5177, 157, 6, 5178, 5179, 199, 447, 997, 332, 5180, 2227], [4, 1202, 5, 119, 5181, 660, 1278, 63, 1117], [5182, 79, 2228, 812, 5183, 107, 633], [5184, 7, 2229, 5185, 43, 43, 507, 25, 270, 197], [30, 1118, 5186, 5187, 5188, 1019, 5189, 31], [68, 5190, 2], [5191, 5192, 1], [6, 5193, 2230, 7, 5194, 623, 745, 5195, 11, 444, 7], [10, 281, 414], [5196, 340, 23, 63, 25, 5197, 2231, 1274], [5198, 52, 5199, 373], [5200, 221, 17], [26, 5201, 36], [5202, 91, 14, 23, 16, 229, 1], [5203, 948, 1180, 249, 371, 5204, 883], [5205, 29, 260, 186, 858, 31, 699, 4, 5206], [5207, 5208, 5209, 5210, 5211, 5212], [5213, 5214, 5215, 5216, 5217, 28, 129], [5218, 142, 5219, 56, 44, 124, 5220, 574, 2232, 282, 35], [5221, 5222, 50, 450, 173, 108, 560, 112, 394, 424, 7, 481, 424, 5223, 1215, 63], [87, 1094, 5224, 137, 2233, 2234], [2, 10, 27, 201, 571], [5225, 365, 721, 5226, 5227, 5228, 5229, 5230], [5231, 5232, 129, 208], [5233, 31, 141, 27, 17], [1461, 5234, 314, 307, 1401, 1117, 2235, 283, 98], [5235, 5236, 49, 562, 11, 109, 2201, 465, 1119], [6, 1508, 684, 240, 5237, 5238, 686], [5239, 793, 1, 99, 260, 1405], [4, 10], [5240, 116, 40], [5241, 116, 83, 155, 732, 84, 2236, 5242, 102, 78], [40, 74, 10], [244, 1728, 5243, 45, 195], [5244, 631, 389, 57, 2237, 2237], [21, 5245, 5246], [54, 5247, 116, 436, 975, 311], [99, 4, 600, 5248], [5249, 5250, 765, 49, 2238, 1901, 206, 1329], [2211, 5251, 12], [1988, 15, 5252, 1509, 616, 181, 1091, 199, 5253], [1081, 136, 2239, 2, 27, 75, 1120, 579, 136, 328, 16, 1893, 5254, 111, 35], [5255, 170, 617], [1268, 5256, 37, 408, 417, 580, 2240, 359], [5257, 5258, 545, 869, 5259, 71], [5260, 1510, 82, 183, 33, 61, 941], [32, 181, 542, 262, 1121, 5261, 121, 200, 5262, 436, 145, 5263, 7], [268, 133, 916, 38, 937, 2, 145, 37, 971, 597], [281, 28], [80, 11, 2232, 1511, 199, 5264], [5265, 67], [5266, 589, 319, 321], [5267, 2, 657, 99, 5268, 1512, 64, 9, 1019, 300, 87, 104, 42], [5269, 9, 983, 23, 1513], [5270, 5271, 747, 23], [4, 801, 47, 171, 204, 5272, 546], [135, 215, 5273, 711, 37], [294, 67, 5274, 5275], [1339, 10, 19, 450], [2241, 878, 731, 9, 5276, 5277, 5278, 2242, 403, 8, 83], [115, 976, 5279, 63, 1731, 5280], [5281, 159, 2, 5282, 2243, 5283, 2244, 5284, 2244, 2], [5285, 5286, 271, 1514, 688, 2025, 5287, 2245], [5288, 50, 198, 100, 200, 491, 129, 730], [308, 1326, 5289, 5290], [365, 792, 4, 2246, 506, 268, 2247, 502, 144, 10], [2248, 196, 1947, 2249, 5291, 5292], [130, 1494], [1061, 261], [5293, 9, 9, 5294, 253, 31, 5295, 1515, 1516, 109], [5296, 450, 5297, 634, 975], [11, 805, 94, 2250, 295, 8, 3, 557], [80, 5298, 6, 5299, 312, 506, 73, 791, 95, 2045, 2089], [1517, 5300, 264, 359, 559, 254, 537], [376, 95, 5301, 2251, 162, 100, 101], [5302, 46, 493, 5303, 846, 147], [2, 5304, 35, 1308, 1017, 126, 5305, 5306, 22, 5307], [126], [4, 956, 1682, 1518], [168, 1519, 14, 64, 244], [5308, 467, 135, 116, 7, 467, 11], [766, 184, 410, 226], [150, 926, 77, 9, 32, 37, 621], [4, 1101, 348, 5309, 5310, 305, 173, 340], [5311, 4, 34, 162, 33, 5312, 839], [5313, 5314, 154, 2252, 5315, 5316, 147], [2185, 727, 140, 5317, 5318, 724, 5319, 64, 727, 1779], [24, 113, 733, 5320], [2253, 5321, 372, 1809, 4, 95, 5322, 121], [41, 723, 1265, 2254, 713, 5323, 108, 185], [5324, 96, 5325, 5326, 5327, 5328, 10, 65, 544, 2255, 5329], [6, 2256, 589, 5330, 2088, 392, 60, 19], [512, 5331, 5332, 689, 19, 212, 1472, 19, 450], [331, 665, 343, 22, 5333, 5334], [5335, 404, 15, 241, 5336, 928, 7], [5337, 1108, 1520, 1825, 2257, 1452, 5338, 78], [29, 5339, 5340, 7], [164, 2258, 30, 72], [8, 1929], [2195, 6, 937, 519, 2, 85, 173, 1078], [41], [2259, 5341, 748, 5342, 239], [582, 215, 15, 893, 2260, 85], [1867, 5343, 776, 618, 5, 5344, 170], [158, 2261, 5345, 399, 5346, 2262], [5347, 53, 461, 894, 727, 2122], [330, 5348, 149, 646, 5349, 5350, 233], [5351, 243, 220, 813], [5352, 1231], [5353, 2, 116, 362, 5354], [25, 208, 2199, 58, 1029, 28], [5355, 5356, 248, 52, 261, 887], [725, 2259, 2263, 2264, 1, 49, 5357, 5, 554, 5358, 1798, 5359, 554], [294, 566, 5360, 96, 5361, 47, 9, 5362, 21, 12], [5363, 396, 318, 749, 5364, 1122, 41, 214], [156, 465, 494, 1251, 127, 2118], [5365, 1521, 263, 748, 2265, 28, 283, 875, 5366], [5367, 5368, 186, 2266, 377, 1679, 163, 41, 601, 5369, 5370, 5371], [5372, 34, 209, 123, 61], [610, 731], [5373, 746, 464, 103, 5374, 1123, 2, 5375, 5376], [5377, 5378, 5379, 5380, 474], [5381, 251, 734, 278], [5382, 245, 2184, 109, 364, 2131], [5383, 510, 233, 42, 10, 5384, 22], [5385, 150, 2267, 2268], [5386, 5387, 5388, 5389, 5390, 27, 75, 40, 5391, 5392, 21, 199], [5393, 946, 129, 1469, 1, 71, 1522, 5394, 181, 253], [562, 310, 109, 238, 40, 101, 1963], [5395, 31, 60], [5396, 171, 272, 266], [663, 550, 239, 2269], [5397, 9, 37, 104], [1300, 96, 5398, 134], [15, 543, 2270, 2271, 5399, 2272, 52], [5400, 156, 1236], [26, 530, 58, 419, 652, 1737], [1017, 944, 1523, 283], [5401, 36, 22, 1120, 5402, 25, 270, 4, 270], [601, 52, 5403, 5404, 5405, 111, 119, 26, 55, 5, 220, 5406, 75], [1373, 72, 494, 23, 594, 141], [1953, 118, 457], [5407, 683, 64, 358, 99], [432, 5408, 5409, 96, 5410, 5411, 5412, 5413, 77, 5414], [5415, 15, 178, 3, 34, 380, 5416, 5417, 299, 61, 5418, 489, 239], [5419, 9, 5420, 571, 987, 4, 5421], [340, 64, 1306, 30, 245, 37, 3, 68, 112, 12, 11, 5422, 135, 1], [5423, 30, 2273, 891, 608, 58, 1897, 79, 64, 5424, 448, 5425, 556, 389], [2274, 5426, 1477, 1314], [424, 5427, 2275, 1008], [601, 5428, 208, 1363, 5429], [146, 420, 476, 24, 207, 5430, 209, 35, 5431, 15], [601, 68, 1787, 5432, 28, 344], [68, 313, 805, 5433, 1524, 12, 5, 1525, 488], [5434, 617, 346], [5435, 35, 91], [167, 560, 5436, 1526, 163, 66, 547, 2050, 104, 21, 5437], [5438, 479, 5439, 203, 48, 2276, 5440, 18, 482, 5441, 298, 388, 121, 5442], [12, 44, 10, 19], [215, 656, 5443, 383, 789, 5444, 5445], [5446, 7, 11, 272, 569, 402, 1527, 564, 95], [116, 634, 24, 48, 19, 120, 5447, 8, 567, 37, 5448, 78], [5449, 18, 5450, 873, 5451, 5452, 5453, 2277, 2278], [37, 242, 5], [39, 410, 2, 174, 185], [5454, 681, 2279, 14, 5455, 19], [750, 107, 14, 5456, 5457], [2213, 342, 152, 589, 5458], [650, 701, 655, 1276, 1058, 2280, 293, 108, 176, 50, 5459, 2281, 84, 650, 1528, 5460, 5461, 2110], [93, 48, 5462, 1472, 1973, 389], [314, 5, 23, 708, 5463, 56, 290, 2, 5464, 5], [766, 4, 742, 751, 377, 57, 470, 32], [2137, 5465, 127, 96, 362, 134, 976, 17], [2228, 286, 80, 127, 190, 5466, 194, 25], [5467, 2282, 3, 5468, 2282, 451], [5469, 9, 11, 805, 20, 729, 239, 634], [5470, 5471, 10], [5472, 687], [5473, 5474, 128, 2, 202, 35, 1313], [366, 83, 97, 80, 8, 132, 597, 126, 183], [4, 44, 1124], [191, 5475, 22, 201, 101, 37, 12, 351, 845], [23, 44, 24, 556, 5476, 2283, 377, 19], [14, 458, 989, 19], [106, 282, 1122, 895, 5477, 5478, 21, 896], [34, 5479, 5, 590, 740], [80, 94, 123, 5480, 5481, 264, 2284], [5482, 50, 1, 297, 910, 1052, 429, 219, 809, 429, 5483, 5484], [319, 5485, 5486, 71], [2285, 404, 394, 942, 1334, 183], [15, 80, 6, 169, 299, 5487, 2286, 317, 5488, 279, 1, 214], [5489, 78, 5490], [707, 5491, 10, 68, 5492, 134, 5493], [531, 5494, 219, 123, 7], [5495, 9, 53, 248, 142, 5496, 5497], [303, 696, 601, 1054, 12], [4, 44, 24, 35, 517, 103, 19, 149, 5498, 1, 17, 295], [5499, 980, 693, 513, 2287], [146, 88, 5, 172, 7, 55, 74, 5500], [5501, 48, 5502], [782, 398, 527, 408, 5503, 5504, 5505, 299, 328, 1529, 525, 655, 648], [5506, 15, 97, 5507, 41], [164, 1125, 240, 179], [5508, 11, 191, 471, 34, 102, 4, 11, 41, 392, 211], [230, 5509, 5510, 58], [5511, 7, 5512, 5513, 1030, 49, 3, 5514, 5515, 287, 5516], [5517, 2129, 2288, 1657, 124, 477], [80, 5518, 23, 439, 5519], [464, 75, 1677, 142, 721, 75, 591, 313, 1072, 84, 197, 103, 2289, 1475, 244, 5520, 5521, 1475, 126], [10, 57], [5522, 69, 21, 620, 82, 13, 59, 2290, 2049, 43, 5523, 25], [204, 5524, 24, 5525, 5526], [5527, 125, 5528, 5529, 111, 5530, 5531, 5532, 144], [70, 5533, 2291, 6, 1530, 2292, 181], [5534, 692], [5535, 33, 1126, 5536, 176, 281, 5537, 130, 371], [639, 27, 185, 5538, 5539, 5540, 5541], [5542, 2293, 171, 360, 1093, 2294, 17], [52, 88, 17, 99, 1661, 37, 259], [40, 449, 5543, 14, 351, 87, 337, 436], [5544, 24, 1, 771, 240, 1389, 240, 19], [158, 158, 158, 5545, 3, 5546, 220, 1784, 54, 3, 345, 117, 4, 44, 10, 22], [5547, 7, 277, 33, 68, 1, 17, 106, 14, 618, 621], [5548, 15, 302, 5549, 1503, 93, 276, 108, 283, 263, 5550], [113, 5551, 28, 548, 75], [1191, 75, 5552, 514, 577, 3, 334, 2295, 373, 999], [21, 312, 1210], [5553, 722, 250, 5554, 49, 1940, 5555, 860, 250, 1855, 41, 5556], [957, 942, 2], [47, 185, 200, 5557, 59, 97, 1392, 12, 36], [5558, 5559, 406, 1531, 752], [5560, 1495, 5561, 5562, 5563, 133, 21, 173], [54, 5564, 406], [11, 122, 811, 21, 2296, 5565], [35, 17, 5566, 2297, 36], [52, 1424, 124, 22], [568, 5567, 2298, 549, 7, 881, 1532], [5568, 864, 788, 5569], [5570, 2005, 156, 5571, 5572], [1533, 38, 5573, 26, 60, 1534], [5574, 194, 5575, 987, 1090, 7, 614, 60, 5576, 77, 2012, 2299], [73, 199, 3, 177, 5577], [5578, 116, 617, 58, 572], [5579, 5580, 168, 272], [71, 5581], [80, 736, 1113, 2300, 1170, 2301, 108, 296], [2302, 23, 5582, 1127, 5583, 37, 67, 143, 913], [54, 403, 8, 51, 2303], [5584, 341, 5585, 5586], [294, 26, 33, 5587, 60, 5588, 2304, 5589, 11], [31, 342, 2305, 56, 278, 2305, 1535], [5590, 20, 680, 319, 5591, 627, 155, 5592, 2, 1100], [5593, 5594, 897, 1, 791, 1223, 5595, 5596], [380, 948, 1353, 1885, 1258], [95, 335, 10, 678], [5597, 88, 893, 335, 268, 5598, 6, 271], [5599, 280, 609, 5600, 5601, 1064, 898, 17], [5602, 248, 535, 174, 460, 990, 5603, 468, 5604, 103], [2085, 56, 5605, 580, 140], [50, 94, 1], [5606, 5607], [1309, 1992, 105, 105, 1460, 1013], [5608, 503, 7, 808, 256, 3, 215, 142, 664, 791], [666, 212, 5609, 52, 490, 84, 13, 5610], [5611, 164, 140], [5612, 579, 2306, 5613, 26, 205], [56, 88, 17, 984, 105, 61, 16, 618, 17, 65, 203, 974, 258], [5614, 1709], [5615, 69, 973, 5616], [5617, 89, 382, 6, 5618, 504], [5619, 741, 1111, 993, 321, 1263, 672, 49, 14], [5620, 9, 12, 437, 1421, 376, 5621, 89, 625, 5622, 196, 5623, 60], [2307, 2307, 2308, 486], [5624, 154, 5625, 5626], [164, 362, 48, 5627, 683, 487, 171], [5628, 5629, 24, 707, 5630, 5631, 5632, 5633, 1119, 37, 112], [5634, 5635], [6, 288, 52, 2260, 5636, 73, 51, 207, 721, 887, 5637], [15, 135, 33, 619, 5638, 19], [5639, 1056, 212, 148], [5640, 5641, 34, 85, 85], [5642, 83, 563, 997, 54, 58, 619, 5643], [1813, 5644, 5645], [3, 16, 5646, 220, 5647, 5648, 220, 899, 117, 2309], [9, 2310], [1648, 16, 676, 730, 5649], [5650, 341, 160, 6, 235, 183, 428, 5651, 861, 134], [296, 331], [5652, 5653, 655, 1845, 1128, 1336], [5654, 5655, 5656, 693, 465, 5657, 730], [5658, 48, 414, 5659, 838, 266, 17, 192, 2311, 171, 331], [5660, 595, 164, 1524, 226, 56, 1087, 55, 991, 2312, 4, 5661], [5662, 30, 2250, 2105, 5663, 2313, 43, 5664, 2313], [5665, 9, 9, 893, 275, 389, 26, 5666], [5667, 24, 246, 5668, 5669, 42, 5670, 524, 77], [5671, 1186, 310, 5672, 163, 5673, 41, 5674, 30], [2314, 1283, 725], [5675, 70, 332, 5676, 831, 1094, 334, 923, 500, 101, 19, 282, 5677, 1747], [919, 2315, 23, 1122, 526, 2316, 13, 96, 2317, 5678, 13, 5679, 123], [137, 5680, 899, 5681, 23, 804, 2024], [1129, 17, 415, 5682, 1061, 206, 499, 135, 1954], [5683, 2318, 5684, 5685], [5686, 663, 67, 982, 866], [11, 140, 122, 184, 130, 136, 37, 1536, 1107, 994, 42, 14, 21, 5687, 5688], [26, 5689, 194, 85], [1483, 5690], [16, 187, 5691, 667, 5692, 5693, 116], [5694], [218, 1943, 1127, 538, 2319, 705, 986, 472, 1537, 5695], [71, 5696, 34, 79, 175, 341, 1440], [307, 522, 5697, 6, 760, 2320, 2320], [5698, 73, 71, 911, 5699], [1538, 5700], [5701, 334, 5702, 1], [21, 58], [5703, 835, 5704, 2065, 400, 1042, 676, 5705], [1494, 5706, 652, 169, 2321], [5707, 5708], [5709, 5710, 2322, 68, 206, 1207, 321], [5711, 5712, 5713, 27, 753, 5714], [220, 220, 5715, 549, 2150, 5716], [5717, 5718], [5719, 69, 1431, 5720, 5721], [788, 1456, 22], [157, 24, 2258, 5722, 1327, 5723, 3, 296, 623, 960], [5724, 9, 116, 154, 215], [411, 5725, 5726, 5727, 5728, 10, 5729, 2], [2323, 272, 87, 5730, 392, 5731], [5732, 86, 5733, 768, 327], [5734, 31, 5735, 169, 5, 155], [5736, 631, 229, 602, 1922], [5737, 5738, 5739, 5740, 11, 5741, 1676, 7], [94, 122, 21, 55, 12], [201, 190, 617, 1539, 5742, 5743, 5744, 12, 1100], [128, 5745, 2324, 5746, 5747, 399, 2325, 85, 352, 977], [438, 44, 2326, 5748, 22, 170, 301, 301, 17, 97, 539, 78, 78], [52, 523, 35, 13, 298, 4, 3, 923, 500, 172, 339, 5749, 5750], [8, 2327, 624, 206, 634, 44, 54, 448, 224], [229, 479, 176, 64, 479, 351, 1130, 2042, 867, 125], [2328, 345, 172], [5751, 712, 47, 5752, 1917], [5753, 248], [1293, 165, 539, 166, 79, 166, 160, 166, 5754, 5755, 820], [5756, 393, 23, 5757, 13, 653, 2329, 7], [5758, 80, 96, 72, 12, 285], [5759, 165, 4, 359, 102, 31, 34, 467, 7], [108, 66, 1007, 1925, 5760, 5761, 5762, 1540, 662, 1130, 2330, 1904, 183, 5763, 685], [4, 55, 5764], [326, 2331, 326, 2331, 5765, 861, 822, 5766, 822, 5767, 470, 1541], [93, 288, 5768, 5769], [149, 312, 289, 1542, 5770], [5771, 26, 5772, 743], [5773, 609, 1834, 318, 823, 628, 12], [5774, 184], [35, 5775, 33, 1543, 179, 243], [490, 3, 445, 98], [496, 888, 71, 15, 105, 90], [2332, 447, 49, 39, 5776, 624, 738, 624], [211, 183, 2333], [369], [394, 6, 936, 1685, 5777, 65, 462, 786], [122, 30, 2319, 76, 463, 4, 765, 2334], [5778, 5779, 654], [10, 444, 421, 421, 154], [242], [5780, 5781, 93, 859, 374, 81, 649, 12, 9, 93, 148, 5782, 13, 472], [193, 5783, 5784, 123, 5, 2335, 16, 392, 61], [1521, 58, 5785, 412, 4, 5786, 5787, 394, 194, 3, 5788, 5789, 5790, 372], [5791, 5792, 30, 3, 143], [5793, 1008, 473, 64, 5794, 367, 64, 612, 603, 5795, 326, 158, 5796, 5797], [23, 1222, 5798, 57, 66, 61, 5799], [5800, 2108], [206, 237, 64, 9, 281, 541, 5801, 187, 692, 667, 1857, 5802], [1369, 2336, 163, 21, 37, 706, 2336], [601, 1015, 2063, 11, 32, 5803, 2154], [5804, 426, 5805], [5806, 5807, 33, 40, 714, 433, 45, 9, 40, 714], [5808, 5809, 1461, 11, 5810, 5811, 2084, 24, 618, 593, 224], [5812, 5813, 390, 5814, 1977, 5815, 1544, 5816, 5817, 931, 5818, 7, 543], [46, 255, 5819, 447, 2337, 5820, 47, 5821, 145, 114, 1260, 173, 5822], [1412, 272, 11, 389, 5823, 18, 5824, 5825], [15, 5826, 1131, 17], [37, 75, 37, 348, 103, 130, 14], [5827, 5828, 2093, 847, 5829, 2187, 180, 5830], [134, 5831, 5832, 1002, 5833, 1075, 1406], [5834, 1282, 5835, 37, 5836, 5837, 417], [6, 5838, 10, 137, 1132, 5839, 1545, 1896, 193, 5840, 5841], [1133, 503], [350, 14, 979, 2338, 857, 5, 32, 41, 130, 14, 19], [229, 5842, 690, 5843, 5844, 2277, 112, 23], [434, 204, 2339, 1427, 499, 1134, 2339, 78], [5845, 695, 33, 34, 2340], [5846, 165, 874], [5847, 46, 60, 5848, 39], [174, 185, 409, 534, 15, 5849, 37, 2], [172, 102, 113, 164, 5850], [5851, 1438, 3, 27, 103, 532, 101, 322, 170], [810, 347, 369, 5852], [1, 5853, 718, 5854, 5855, 5856, 5857, 1861, 659], [71, 88, 57], [93, 323, 220, 1242, 1244, 220, 134, 6, 754], [5858, 6, 5859, 733], [42, 14, 67, 30, 115, 588, 592, 5860, 78], [5861, 651, 551, 98, 171], [5862, 26, 10, 1398], [3, 9], [2341, 2], [149], [4, 1463, 426, 5863, 467, 773], [46, 5864, 133, 2342, 5865, 2343, 5866, 481, 2344, 726, 28, 376, 5867, 726, 2342], [963, 1546, 541, 5868, 131, 1547, 5869, 335, 695], [5870, 52, 250], [1010, 20, 291, 36, 2345, 81, 272, 305, 121], [366, 5871, 605, 364, 5872], [5873, 102], [60, 5874, 5875, 684, 24, 35], [28, 360, 5876], [135, 700, 1242, 163, 21], [5877, 73, 48, 344, 224, 5878, 5879, 5880, 11, 31, 536], [5881, 46, 1548, 4, 5882, 426, 84, 154, 148, 5883, 5884, 2064, 84, 237], [5885, 29, 5886, 2346, 5887, 2347, 1926, 1415, 48, 2348, 785], [2070, 3, 5888, 5889], [1549, 51, 93, 197, 1091, 1128, 5890, 5891, 584], [26, 5892, 1659, 1660, 399], [175, 142, 172, 83, 703, 84, 1067, 51, 266, 708, 27, 103, 175], [1302, 63, 519, 2, 1435, 5893, 71, 5, 5894, 90], [72, 771], [107, 10], [5895, 8, 1527, 1536], [5896, 1, 5897, 289], [1036, 3, 5898, 700, 5899, 833, 43, 5900, 3, 1046, 7, 2349], [73, 5901], [5902, 25, 292, 149, 153, 149, 900, 5903, 494, 77], [5904, 39, 1117, 1550, 344, 198, 1252], [183, 410], [5905, 26, 1470, 5906], [5907, 1135, 1136, 357, 960, 115], [5908, 1, 923, 5909, 5910, 1551, 1551, 1551, 5911], [5912, 5913, 5914, 214, 5915, 5916, 5917], [5918, 53, 2350, 1385, 5919, 5920, 5921, 5922, 27, 5923, 62, 336], [6, 35, 25, 134, 557, 267, 2351, 18, 1987, 2352, 557, 2351], [480, 211, 55, 5, 67, 111, 244, 85, 145, 654, 5924, 5925, 5, 6, 5926], [5927, 5928, 18, 42, 60, 1082], [1854, 20, 1296], [568, 5929, 160, 455, 97, 539, 338, 797, 33, 60, 5930, 1332], [901, 1095, 894, 104, 728, 79, 5931], [5932, 18, 233, 643, 1493, 42], [48, 1016, 203, 5, 1016], [54, 108, 55, 5933, 784, 26, 593, 5934, 224], [167, 1552, 16, 5935, 898, 29, 10], [5936, 5937, 5938, 55, 777, 42], [5939, 5940, 1553, 481, 131, 489, 143, 1780], [5941, 20, 1118, 9, 5942], [245, 94, 5943, 310, 33, 222, 5944, 189, 102], [5945, 69, 149, 493, 8, 42], [5946, 186, 408, 112, 726, 515], [5947, 11, 957, 5948, 5949, 2353, 1112, 5950, 111, 148, 5951], [5952, 5953, 5954, 5955], [5956, 53, 5957, 2099], [5958, 341, 5959, 927, 1125, 5960, 184, 1, 927], [5961, 1130, 178, 271], [5962, 18, 293, 5963], [1980, 1380, 204, 5964, 5965, 2354, 5966, 755, 1361, 17, 5967, 90], [5968, 5969, 75, 5970, 5971, 5972, 77, 734, 75], [5973, 185, 65, 75, 5974, 5975, 13, 5976], [5977, 1, 17], [5978, 114, 9, 77, 9, 7], [4, 5979, 15, 5980, 5981, 5982, 2290, 5983], [5984, 5985, 528], [5986, 43, 252], [5987, 93, 5988, 877], [5989, 43, 2355, 32, 866], [5990, 5991, 370, 105, 2356, 1074, 970], [88, 17, 2101, 2357], [611, 5992, 2241], [5993, 56, 247, 575], [2358, 221, 5994, 376, 2], [1554, 158, 5995, 143, 5996, 15, 18, 1555, 32, 36], [5997, 5998, 5999, 90, 154, 209, 114, 9], [6000, 53, 2, 7, 11, 2359, 38, 6001, 599], [996, 65, 2], [6002, 453, 6003, 20], [6004, 123, 6005, 5, 33, 6006, 426, 754], [6007, 6008, 1510, 1079, 49, 9, 6009, 2360], [109, 238, 17, 901, 6010, 901, 472, 111, 60, 2361, 755, 472, 15, 901, 6011], [44, 12, 6012, 29, 348], [1556, 408, 559, 6, 250, 6013, 6014, 2362, 2362, 6015, 536], [6016, 25, 2363, 24, 6017, 6018], [6019, 1945, 6020, 402, 183, 1080], [38, 290, 2, 290], [2364, 2158, 374, 6021, 754, 6022, 1557, 13, 6023, 6024, 63, 13, 282, 148, 2127], [6025, 1, 552, 830, 130, 2365, 76, 547], [6026, 6027, 151, 6028, 6029, 412, 6030, 6031, 6032], [86, 380, 18, 91], [1194, 998, 1932, 167, 6033, 2366, 6034, 1938, 6035], [6036, 6037, 1558, 2367, 6038, 2061, 6039, 6040, 129], [6041, 1137, 6042, 53], [6043, 217, 3, 2368, 6044, 1418, 291], [6045, 20, 291, 6046, 49, 287, 7, 69, 49, 3, 6047], [6048, 497, 1, 258, 6049, 55, 6050], [255, 2369, 6051, 8, 8, 6052, 635, 341, 138], [6053, 26, 6054, 6055, 6056, 704, 6057, 1911, 260], [6058, 267, 980, 1545, 6059, 1, 112, 130, 1256], [6060, 6061, 101, 1866, 6062, 2298, 82], [1352, 1656, 28, 1975, 1738, 6063, 6064, 6065, 6066], [6067, 45, 33, 6068, 6069, 1075], [8, 40, 1887, 6070, 809], [6071, 382, 2370, 6072], [6073, 1559, 40, 753, 6074, 6075, 20], [6076, 6077], [1], [6078, 70, 47, 669, 5, 1490, 1, 154, 34], [6079, 6080, 6081, 821, 402, 356, 1783], [6082, 20, 18, 34, 380], [6083, 2168], [6084, 39, 49], [2328, 1439, 6085, 1], [6086, 59, 1559], [6087, 6088], [191, 2371], [6089, 6090, 6091, 2372], [1138, 49, 16, 489, 273, 6092, 489], [6093, 2373, 2374], [6094, 1560, 7, 118, 1007, 6095], [6096, 6097, 11], [6098, 1, 67, 35, 7, 69], [6099, 6100, 990, 884, 456, 6101, 400, 1086, 90, 85, 85, 1478, 31, 1139], [1, 22, 286, 2, 69, 2, 147, 6102, 307, 2375, 186], [68, 2, 6103, 6104, 32, 6105, 1056, 1525, 90], [6106, 223, 1, 22, 33, 124, 7], [56, 2376, 192, 1358, 1140, 227, 29], [588, 6107, 34, 78, 11, 79, 249, 1485, 536], [6108, 43, 931, 323], [6109, 6110, 338, 6111, 1357], [255, 51, 23, 110, 16, 635, 70, 43, 160], [6112, 59], [11, 531, 598, 255, 6113, 294], [6114], [6115, 6116, 2377, 2378, 468, 872, 2231, 250, 2379, 2380, 6117, 1141, 6118, 250, 6119, 6120, 6121, 2377, 6122, 2378, 2380, 2379, 6123], [6124, 6125, 853, 1476], [24, 8, 6126, 24, 8, 2381, 6127, 24, 8, 2381, 24, 8, 6128], [120, 6129, 413, 17], [29, 2], [53, 565, 464, 103, 6130, 147, 6131, 6132, 628], [6133, 535, 192, 6134, 397, 6, 6135, 196, 6136, 62, 135, 2149, 442], [1533, 38, 251, 33, 2273], [6137, 70], [6138, 20, 18], [563, 44, 54, 6139, 463, 8], [99, 836, 36, 243], [9, 2382, 229, 443, 6140, 2382], [6141, 2383, 6142, 1175, 1561], [6143, 6144, 696, 7, 6145, 16, 219, 1036, 1097, 636, 6146, 305], [146, 368, 2, 6147, 76, 2384, 553, 6148, 90], [6149, 6150, 6, 353], [6151, 6152, 1096, 637, 649, 45, 455], [6153, 59, 946, 115, 8], [80, 6154], [6155, 120, 110, 38, 6156], [6157, 401, 66, 401, 2385, 1469, 12], [6158, 2386, 2188, 550, 278], [6159, 959, 22, 2, 741, 1445, 666, 202, 704, 578], [6160, 2376, 6161, 1097, 6162, 186], [2387, 22, 137, 191, 5, 198, 6163, 48, 6164, 358, 6165, 372, 6166, 181, 86], [6, 152, 342, 38, 342, 3, 6167, 27, 6168, 732, 6169, 6170, 474, 150, 161], [6171, 156, 156, 6172, 6173, 43, 652, 1519], [6174, 120, 575, 6175, 6176, 6177, 6178, 6179], [6180, 25, 89, 24, 984, 6181], [6182, 182, 241, 177, 1318, 7, 176, 1062, 32, 3, 2318, 424, 311], [2217, 464, 373, 6, 620, 1491, 2388, 1491, 6183, 65, 1106], [6184, 46, 276, 1370, 6185, 6186, 151, 1547, 153], [8, 46, 187, 6187, 6188, 255], [6189, 16, 626], [50, 11, 120, 408, 154, 2389, 3, 6190, 6191, 323, 66, 6192], [6, 6193, 472, 6194, 684, 7], [6195, 6196, 6197, 596, 752, 462, 6198, 1522, 31, 1139, 2390], [6199, 164, 240, 147, 2329], [1562, 823, 6200, 753], [6201, 86, 325, 53, 30, 235, 474, 7], [2391, 2392, 6202, 6203, 265, 229, 36], [599, 979, 6204, 6205], [6206, 25, 79, 131, 129, 12, 512, 6207, 1428, 6208], [6209, 375, 6210, 65, 1142, 434, 339, 6211, 12, 33, 312, 779], [2393, 1045, 951, 381, 53], [6212, 341, 6213], [48, 6214, 94, 2359, 79, 11, 1, 6215, 112, 304], [6216, 1, 22], [6217, 2394, 44, 12], [9, 299, 4, 35, 73, 35, 11, 329, 6218], [70, 373, 1563, 723, 2395, 186, 272, 619, 58, 301], [6219, 1564], [1, 22, 241, 107, 132, 302, 6220, 6221], [265, 2396, 6222, 6223, 2397], [6224, 2398, 186, 6225, 1452, 202, 76, 490, 178], [6226, 186, 2389, 6227, 8, 329, 78], [6228, 292, 6229], [345, 54, 6230, 529, 1218, 33, 6231, 6232, 108, 117, 473, 1026], [68, 29, 2, 144], [6233, 6234, 1395, 6235, 6236, 6237, 414, 6238, 6239], [6240, 59], [6241, 616, 3, 212, 6242, 2326, 1479], [8, 2399, 1442, 16, 452, 195], [2400, 24, 2104], [6243, 189, 205, 6244, 3, 2306, 579], [6245, 9, 1143, 6246, 6247, 2401, 337, 3, 223], [106, 14, 160, 17, 6248, 277, 234], [725, 876, 117, 1144, 1230, 2402, 6249, 6250, 13, 6251, 6252], [6253, 243, 496, 18], [93, 323, 28], [6254, 276, 604], [6255, 292, 1, 2403, 6256, 1931], [6257, 166, 1034, 2404, 6258, 1527, 7, 79, 3, 27, 105, 1145], [6259, 46, 20, 57], [6260, 38, 291, 6261, 8], [75, 226], [6262], [855, 12, 48, 756, 879], [39, 2, 6263, 6264], [1, 17, 1138, 156, 19], [6265, 15, 9, 1565, 679, 6266, 36, 275, 93, 60, 6267, 6268], [6269, 6270, 2280, 16, 249], [65, 73, 193, 47, 6271, 91, 6272, 2405, 89], [6273, 746, 6274, 11, 94, 411], [2406, 2407, 6275, 1493, 43, 53], [6276, 18], [6277, 120, 110, 154, 29, 43, 160, 8], [25, 277, 6278], [6279, 70, 39, 38, 6, 1, 35, 629, 79], [6280, 1135, 1566, 30, 235, 1567, 1106, 6281, 1280], [406, 27, 44, 231, 873], [6282, 7, 535, 388, 1919, 6283], [6284, 59], [6285, 6286, 6287], [6288, 6289, 1958, 6290, 197, 6291, 6292, 435, 6293, 6294, 65, 1720], [6295, 115, 44], [6296, 1039, 18, 118, 1477, 39, 176, 52, 248], [153, 295, 2338, 1117, 363, 6297, 2218, 355, 42], [4, 582, 270, 2333, 17], [6298, 50, 125, 446, 12], [91, 6299, 219, 6300, 188, 6301], [2408, 1, 1453, 1568, 1777], [6302, 5, 163, 38], [438, 47, 267, 44, 1, 17], [6303, 1, 273, 407, 2120], [6304, 317, 1325, 12], [6305, 191, 2409, 19, 51, 6306, 1500, 701], [6307, 70, 18, 2192, 105, 924, 101, 6308, 6309, 188], [6310, 2410, 6311, 6312, 340, 6313, 6314, 524, 6315, 6316, 631], [6317, 6318, 53, 17, 471, 677], [6319, 11, 1, 59], [6320, 150, 109, 785, 2040, 147], [6321, 6322, 6323, 319, 6324, 2411, 439, 262, 6325, 2233, 223, 469], [6326, 81, 2052, 6327, 91], [164, 167, 6328, 626, 86, 16, 6329, 139], [6330, 1569, 8, 751, 325], [951, 6331, 6332, 144, 85, 6333, 6334, 6335, 425], [349, 6336, 6337, 6338], [2315, 320], [6339, 182, 289, 829, 6340, 6341], [6342, 97, 2412, 300, 6343], [6344, 6345, 6346, 2413, 51, 60], [6347, 6348, 1570, 6349, 6350], [1548, 6351, 299, 6352, 3, 441, 104, 69, 9, 6353, 93, 3, 6354], [6355, 1642], [6356, 2414, 1454, 6357, 102, 82, 144, 45, 6358, 63, 39], [6359, 24, 1064, 6360, 786], [6361, 1302, 2415, 6362, 1396, 178, 1], [969, 6363], [6364, 471, 51, 110, 20], [6365, 100, 1, 418, 155, 6366, 6367, 2416, 445, 981, 191, 531, 83, 316, 78], [6368, 1146, 414], [6369, 305, 86, 119], [6370, 20, 6371, 673, 1571, 6372, 119, 1147, 6373, 6374, 6375], [294, 69, 6376, 2417, 36, 470, 6377, 6378, 285, 33, 320, 6379], [6380, 1379, 9, 11, 202, 14, 63, 625, 6381, 264, 34, 6382], [6383, 746, 88, 331, 96, 124], [50, 605, 57, 4, 48, 1572, 501], [6384, 2007, 508, 6385, 5, 128, 772], [6386, 188, 14, 902, 289, 6387, 1121], [6, 1361, 6388, 1405, 744, 6389], [6390, 1133, 1133, 538, 6391, 125, 544, 455], [6392, 1045, 6393, 633, 1, 17, 673, 1573, 121, 6394, 6395, 6396, 1109], [6397, 79, 2418, 89, 1148, 963, 208, 6398, 6399], [71, 620, 900, 336, 607, 1464, 155, 6400, 35], [6401, 195, 268, 6402, 6403, 926, 6404, 6405], [6406, 6407, 218], [6408, 6409, 2173, 64, 2419], [6410, 475, 137, 3], [6411, 1198, 492, 404, 7], [6412, 892, 6413, 1484, 6414, 11, 6415, 6416, 430, 13, 6, 6417, 13, 6418, 150, 888, 1484], [6419, 80, 673, 14, 2102, 616, 442, 357], [6420, 89, 1390, 6421, 1139, 6422, 6423, 257, 6424], [6425, 6426, 153], [6427, 46, 6428, 1, 6429, 100, 316, 6430, 2420, 81, 4], [82, 320, 411, 7, 132, 1, 430, 73, 193, 38, 6, 1727], [1550, 6431, 6432, 6433, 119, 753, 390, 5, 6434], [6435, 2302, 50, 182, 108, 259, 851, 134], [6436, 43, 2003, 368, 6437, 199, 1567], [6438, 1499, 667, 66, 144, 1021, 77], [6439, 341], [6440, 29, 20, 265, 249], [458, 83], [4, 35, 2421, 12, 6441, 12, 39, 106, 846, 1131], [8, 372, 372, 2352, 6442, 123, 6443, 43, 347, 84], [6444, 6445, 903, 778, 180], [483, 273, 418, 23, 16, 1998, 59], [6446, 6447, 1264, 214, 8, 8], [2153, 152, 545, 25], [6448, 6449, 632, 6450, 26, 92], [609, 180, 57, 56, 20, 216, 6451, 6452, 1107, 12], [768, 147, 6453, 1035, 827], [6454, 2422, 2423, 1669, 6455, 6456, 86, 2424, 32, 105, 522, 5, 277, 701], [153, 6457, 6458, 13, 515, 1136], [6459, 561, 871, 707, 112, 744, 200, 63, 169, 1049], [6460, 6461, 152, 6462, 200], [14, 6463, 6464, 458, 484, 6465], [6466, 6467, 6468], [6469, 15, 7, 241, 20, 6470, 36], [22, 113, 2, 260, 115, 48, 1869, 107], [97, 623, 1753, 6471, 6472, 1138, 9], [1524, 102, 821, 6473, 694, 287, 1342, 6474, 49, 3, 1254, 15, 7], [6475, 6476, 6477, 6478, 2425, 6479, 6480], [12, 44, 6, 681, 179, 19, 2226, 935, 321, 280, 19, 1574, 78], [232, 77, 32, 6481, 2357, 6482, 421, 305], [6483, 352, 2053, 16, 6484], [434, 5, 1662, 2, 19, 623, 6485, 1806, 806, 6486, 1, 638, 6487, 1488], [230, 366], [6488, 59], [40, 470, 461, 6489, 33, 78], [6490, 2369, 6491, 6492, 2426, 757, 319], [6493, 162, 6494, 6495, 520, 1575, 1800, 442, 6496, 6497], [921], [6498, 263, 6499, 6500, 6501, 6502, 6503, 6504, 6505, 6506], [6507, 6508, 153, 28], [4, 148, 2427, 2096, 6509, 794, 335], [234, 234, 2428, 3, 234, 6510, 886, 6511, 234, 234, 2111, 6512, 234, 2428, 8], [54, 2182, 164, 247, 74, 1576, 755, 900, 6513, 1577, 13, 6514, 265, 6515, 27, 86], [6516, 70, 199, 2429, 37, 451, 36, 25, 8, 6517, 1230], [6518, 2367], [32, 6519, 2275, 6520, 57, 1010, 2112, 163, 453], [6521, 84, 1093, 939, 23, 44], [6522, 25, 86], [6523, 20, 6524, 6525, 1578], [434, 105, 306, 6526, 6527, 818, 1403, 637, 49, 306, 1508, 842, 37, 815, 1, 1967, 6528], [94, 4, 30, 6529, 744], [1579, 1015, 1745, 753, 65, 105, 6530, 147], [6531, 6532, 6533, 6534, 433], [6535, 1580, 122, 6536, 38, 410, 175, 51, 506, 90], [6537, 1539, 81], [6538, 8, 1581, 6539, 13, 6540, 157], [6541, 34, 232, 6542, 6543, 3, 346, 285], [211, 1730, 137, 103], [111, 769, 28, 6544, 6545, 6546, 2215], [6547, 6548, 252, 990, 162, 6549, 181, 6550], [6551, 1, 112, 2296, 49, 904, 25], [296, 6552, 349, 7, 389, 6553, 79], [6554, 49, 1], [6555, 1699, 216, 462, 13, 3, 305], [38, 251], [6556, 56, 6557, 3, 18, 2355, 2, 5], [213, 388, 761, 1957, 761], [6558, 50, 6559, 46, 214, 6560, 223, 243], [14, 251, 180, 682, 2220, 2430, 53, 57], [6561, 113, 201, 170, 51, 6562], [6563, 1582, 1564, 378, 6564, 629, 6565, 6566], [6567, 188, 241, 9, 6568, 214, 1349, 1970], [6569, 15, 20], [6570, 2252, 1539, 6571, 2043, 6572, 262, 6573, 6574], [6575, 308, 6576], [1352, 6577, 6578, 2082, 6579, 326, 6580, 6581, 6582], [6583, 6584, 6585, 1444, 715, 8, 6586, 843, 36], [6587, 844, 2353, 1112, 1505, 178, 53, 755, 755, 1367, 1367], [6588], [6589, 14, 226, 207, 1292, 334, 76], [6590, 1, 112, 1026, 110, 16, 139, 535, 282, 293], [2431, 1583, 205, 452, 2297, 477, 6591], [6592, 6593, 578, 15, 15, 2068], [6594, 6595, 334], [4, 44, 431, 6596, 798], [6597, 33, 518, 27], [6598, 29, 29, 17, 6599, 6600, 7, 38, 38], [1020, 112, 6601, 190, 675, 90], [6602], [6603, 15, 897, 6604, 373], [6605, 214, 2432, 2433, 54, 1149, 6606, 3, 6607], [6608, 25, 531, 857, 1069, 2219, 277], [6609, 154, 2035, 197, 1584, 876, 2223], [6610, 1], [6611, 508, 1121, 210, 2434, 6612, 2348, 1459], [350, 6613, 6614, 502, 6615, 2286, 2247, 221, 402], [6616, 6617, 6618, 6619, 1835, 299, 6620, 994, 6621, 159, 27, 27, 459, 6622, 6623, 6624, 653, 6625], [6626, 31, 37, 905, 35, 6627, 57], [6628, 7, 2373, 6629], [2368, 725, 2435, 6630, 6631, 1752, 467, 2436, 6632, 2437, 450, 7, 120, 95, 1, 6633, 1113, 21], [6634, 6635, 408, 6636, 466, 60], [6637, 610, 6638, 179, 19, 4, 6639, 834, 612], [6640, 826, 1], [513, 84, 5, 189, 2317, 2316, 2181], [6641, 82, 20], [1045, 8, 750, 12, 906, 415, 226, 6642, 333, 120, 83, 216, 6643], [14, 1020, 644, 1180, 1746, 6644, 768, 644, 82, 166], [193, 6645, 6646, 890, 453, 629], [3, 381, 51, 3, 1585], [6647, 82, 39, 1135, 684, 918, 1044, 6648, 5], [6649, 69, 907, 205, 819, 6650, 405, 6651, 289, 27, 405, 6652], [6653, 96, 493, 317, 7, 38, 104, 700, 324, 1366, 1923], [6654, 28, 583, 98, 2310, 1573], [6655, 466, 674, 1003, 438, 6656], [1150, 169, 358, 26, 258, 93, 6657, 6658, 5, 86, 473], [6659, 9, 9, 1313, 101], [84, 158, 6660], [6661, 747, 870, 6662, 870, 6663, 747, 6664, 182, 320, 320, 6665], [6666, 1115, 6667, 179, 5, 2246, 506, 32, 1115, 6668, 981, 1115, 2384, 6669], [159, 6670, 345, 42, 2], [6671, 56, 286, 189], [6672, 255, 6673, 2436, 160], [6674, 59], [6675, 378, 219, 2, 2438, 339, 383, 435, 1586], [6676, 218, 1562, 452, 249, 36, 1506, 593, 36, 1506], [398, 527, 615, 118, 32, 600, 2077, 19, 17], [6677, 133, 3, 45, 6678, 1151, 6679, 13, 6680, 749, 6681, 7], [6, 254, 15], [6682, 748, 6683, 2439, 1653, 85, 497, 53, 6684], [6685, 29, 2440, 1690, 415, 6686, 293, 1587], [483], [1944, 106, 14, 10, 94, 6687, 120, 14, 1365], [29, 17, 17], [1027, 58, 2441, 1588, 368, 2, 66, 17, 22, 7], [6688, 6689, 1338, 674], [1, 2, 578, 159, 62, 129, 1168, 39, 388, 6690, 6691, 906], [6692, 754, 6693, 19, 2238, 6694, 62, 1960], [6695, 46, 6696, 6697, 249, 135, 182, 6698], [38, 36, 6699, 240, 6700, 12, 6701, 115, 2442, 1568], [70, 6702, 28, 55, 106, 246, 6703], [6704, 20, 138, 1028, 2443, 1578], [57, 48, 240, 2197, 6705, 6706, 51, 106, 491], [6707, 80, 36, 6708, 2293, 90], [6709, 130, 6710, 6711, 520, 2444, 198, 2398, 1295, 6712, 6713, 189, 6714], [15, 2164, 2], [6715, 20, 1589, 412, 49, 227], [6716, 2445, 8, 6717, 6718, 6719, 6720, 6721, 6722, 228, 2446], [413, 6723, 6724, 6725, 912, 1726, 2314], [458], [6, 14, 6726, 17, 517, 4, 205, 6727, 103], [6728, 783, 742, 751, 966, 377, 1089, 586, 1257], [6729, 7, 337], [6730, 7, 118, 6731, 6732, 6733, 6734, 6735], [6736, 1449], [65, 47, 2447, 36, 2, 2448, 45, 123, 20], [6737, 70, 32, 139, 1324, 20], [347, 38, 19, 6738, 300, 18, 1054, 2, 101, 563, 6739], [6740, 56, 183, 22], [416, 28, 137], [6741, 70, 217, 3, 1072], [1, 2, 8, 58, 4, 44, 387, 899, 358, 1814, 8, 168], [6742, 822, 6743, 6744, 391, 2449], [6745, 50, 91, 8, 221, 6746], [2095, 2399, 6747, 30, 2450, 231], [6748, 89, 6749, 505, 806, 81, 89, 16, 6750, 355, 1647, 2257], [1, 22, 28, 40, 74, 244, 6751, 86, 629, 2202, 1356], [307, 1590, 749, 13, 441, 86, 2451], [1764, 6752, 29, 790, 8, 635], [615, 92, 58, 6753, 750, 172, 254, 6754, 92, 8, 6755], [1124], [6756, 88, 17], [6757, 44, 167, 168], [4, 6758, 2422, 166, 134, 1852, 337, 40, 354, 19, 180, 76, 2452], [293, 185, 6759], [1312, 885, 965, 2198, 1591, 6760, 13, 6761], [6762, 6763, 6764, 6765, 6766, 538, 668, 349, 459, 36, 20], [6767, 425, 6768, 29, 2008], [6769, 1, 2453], [6770, 6771, 96, 2239], [6772, 596, 807, 12, 88, 163, 547, 124, 22, 6773, 596], [6774, 252, 2454], [123, 53], [4, 44], [1105, 122, 14, 167, 635], [6775, 250], [6776, 6777, 6778, 248], [223, 268, 108, 8, 665, 346, 1085], [6779, 26, 672, 39, 63, 657, 246], [6780, 72, 6781, 1558, 3], [735, 6782, 43, 329, 1489, 153, 184, 10, 6783], [6784, 508, 433, 1040, 390, 13, 6785, 433, 16, 1716, 55, 6786, 6787, 1389, 5], [34, 6788, 6789, 6790, 14, 737], [14, 646, 40, 6791, 6792, 6793, 14, 173, 2030, 15, 6794, 554], [6795, 6796, 156], [6797, 471, 259, 370, 2455, 12, 639], [26, 38, 2456, 38, 2], [22, 1979, 6798, 1029, 915, 7], [6799, 8, 249], [86, 6, 6800, 962, 6801], [6802, 186, 6803, 1423, 14, 1592], [6804, 19, 355, 1593, 2433], [56, 6805, 1429, 1594, 198, 200, 34], [6806, 23, 25, 92, 117, 6807, 45, 2424, 6808, 117], [157, 68, 594, 6809, 36, 1595], [6810, 67, 59, 263, 67, 9, 284, 65, 239, 1742, 6811, 672], [6812, 12, 947, 63, 351, 902], [6813, 18, 1522, 445, 1065, 1143, 256, 6814, 205, 22], [4, 1384], [6815, 214, 1099, 269, 6816, 6817, 226, 643, 23, 161, 461, 1596], [6818, 27, 613, 2457], [6819, 933, 849, 29, 1343], [6820, 6821, 277], [6822, 82, 6823, 6824, 2458], [201, 1031, 759, 4, 53, 184, 289, 123, 2206], [6825, 41, 81, 214], [12, 629, 6826], [852, 122, 298, 227, 1, 2, 5, 6827, 19, 305], [6828, 177], [1693, 6829, 143, 40, 131, 332, 6830, 10, 19], [6831, 86, 770, 272, 6832, 23, 455, 292, 23, 556], [6833, 275, 422], [6834, 6835, 1457, 487, 6836, 2459, 6837, 2356, 361, 234], [230, 384, 486, 84, 2, 5, 996], [6838, 6839], [230, 230, 230, 829, 223], [6840, 349, 6841, 6842, 2460, 6843, 716], [403, 48, 293, 143, 57, 420, 6844], [6845, 58, 6846, 1033, 157, 6847, 6848, 6849, 1446, 13, 6850, 1116], [6851, 141, 1595, 169], [1164, 1042, 432, 161, 1698, 2461, 559], [6852, 6853, 25, 50, 6854, 3, 6855, 436, 362, 3, 1357, 2462, 6856, 188], [1, 1333, 1103, 6857, 130, 467], [6858, 6859, 87, 306, 1597], [6860, 1597, 100, 6861, 75, 34, 100, 33], [39, 215, 9, 1088, 6862, 1598], [6863, 415, 1050, 609, 264], [6864, 6865, 182, 128, 169, 8, 329], [6866, 6867, 6868, 6869, 904, 1096, 1599, 2459, 3, 49], [22, 1574, 484, 1333, 6870, 304, 6, 613, 1216, 1215, 1848, 53], [1579, 16, 6871, 1964, 6872, 6873, 6874, 75, 10], [8, 139, 1597, 160, 163, 38], [6875, 763, 493], [795, 6876, 6877, 6878, 278], [54, 224, 6879, 440, 6880, 331], [267, 44, 2463, 1, 104, 60, 1271, 17], [6881, 20, 173, 8, 139, 23, 110, 114, 9], [6882, 416, 6883], [733, 6884, 130, 6885, 395, 6886, 820, 30, 53], [6887, 236, 325, 1, 11, 120, 1, 6888, 6889, 384, 486], [6890, 6891, 18, 63, 34, 79, 232, 223], [6892, 47, 775, 1167, 13, 6893, 6894, 1972, 19, 22], [6895, 407, 6896, 42, 481, 347, 1480, 1075], [1235, 2, 4, 79, 177, 247, 6897, 150, 148, 6898, 264], [6899, 92, 724, 1400, 720], [6900, 494], [6901, 6902, 1, 2, 6903, 6904, 6905, 6906, 59, 735, 2464], [44, 12], [6907, 178, 1], [6908, 859, 6909], [6910, 114, 9, 61, 2465, 6911, 222], [606, 11, 6912, 6913, 6914, 6915], [6916, 118, 6917, 4, 6918, 816, 19, 6919], [1312, 2466, 2466, 636, 6920, 406, 1950, 57], [924, 2287, 626, 297, 1073, 6921, 81, 501, 15, 2467, 2467, 298], [2468, 69], [8, 630], [6922, 6923, 405, 13, 139, 13, 89, 6924, 13, 1918], [6925, 91], [6926, 2469, 34, 1843, 250, 12, 11, 128, 387, 8, 1152], [6927, 6928, 18, 6929, 6930, 6931, 118, 275, 6932], [6933, 82, 1, 9], [6934, 315, 747, 241, 14, 880], [6935, 428, 1778, 6936, 13, 2470], [114, 6937, 1986, 533, 6938, 6939], [255, 1942, 43, 2471, 43, 2472, 1509, 622], [2473, 2, 32, 6940], [6941, 232, 6942, 45, 59, 33, 43, 680, 8], [6943, 6944, 6945, 1190, 6946, 117], [6947, 190, 169], [167, 27, 470, 6948, 727, 1227, 315, 70, 150, 1096, 227, 6949, 257], [6950, 630, 29, 885, 205, 66, 471], [18, 6951, 6952, 1204, 39, 91], [6953, 1137, 6954, 6955, 6956, 828, 2299, 881], [46, 1697, 461, 6957, 175, 796, 6958, 5, 19, 60, 161], [255, 6959, 173, 47], [8, 6960, 140, 45], [16, 99, 329, 6961], [6962, 1166, 28, 6963, 1736, 186, 275, 6964, 192, 850], [6965, 2130, 6966, 6967, 1458, 6968, 483, 12, 566, 1065], [1, 259, 85, 610, 6969, 2142], [54, 16, 838, 2474, 7, 6970, 6971], [106, 68, 1288, 102, 734, 346, 5, 107], [6972, 223], [70, 641, 2309, 25, 8, 157, 396, 1496, 6973, 375, 25], [6, 14, 6974, 307, 107, 6975], [54, 6976, 400, 234], [6977, 38, 251], [6978, 18, 113], [6979, 6980, 6981, 6982, 25], [622, 6983, 6984, 565, 41, 756, 879, 876, 147, 1144], [1, 17, 6985, 219, 8], [6986, 804, 1454], [10, 6987, 6988, 684, 6989, 10, 39, 110], [40, 74, 55, 1600, 6990, 1024, 55, 1083, 6991, 5], [819, 6992, 2458, 5, 263, 1601, 130, 169], [6993, 897, 120, 119], [211, 6994, 625, 637, 1287, 625, 6995], [6996, 1602, 825, 1601, 465], [6997, 1603, 2475, 271, 1209, 14, 5, 2, 180, 6998, 114, 34], [6999, 91, 272, 11, 122, 149, 60], [1604, 144, 7000, 7001], [384, 486, 7002, 2], [420, 103, 1227, 949, 7003, 13, 35, 51, 7004, 2, 1605, 523, 1605, 850], [40, 74, 1419, 7005, 7006, 1360], [7007, 36, 1606, 7008, 1082, 1, 152, 7009], [7010, 1602, 469, 65, 153, 3, 542, 891, 1560, 385, 269, 58, 196], [7011, 11, 40, 74, 128, 107, 366, 13, 11, 32, 10], [7012, 88, 113, 5, 42, 10], [7013, 43, 415, 36, 7014, 7015, 1561, 130, 7016], [18, 83, 682, 7017, 42, 2476, 54], [7018, 7019, 1027, 7020, 1085, 401, 162, 424], [89, 1584, 324, 2083, 7021, 2109, 66, 7022, 7023, 1093, 7024, 596, 496], [69, 358, 1376, 1544, 2124, 2404, 7025, 460, 653], [307, 629, 356, 1181, 7026, 24], [7027, 50, 109, 7028, 12, 1123, 28, 7029], [40, 7030, 40, 210, 236, 148, 182, 82, 314, 149, 7031], [19, 552, 16, 7032, 16, 7033, 7034, 5, 10], [7035, 22, 583, 32, 181, 611, 413, 342, 7036, 247, 58, 7037, 1204], [836, 586, 7038, 221, 8, 2477, 1021, 826, 4], [7039, 586, 2370, 2176], [7040, 292, 712, 402, 702, 7041, 2294, 1341, 7042, 985], [7043, 86, 6, 7044, 7045, 7046, 7047], [12, 10, 90, 540, 4, 286], [1047, 1171, 7048, 7049, 19], [231], [59, 7050, 1, 22, 328, 7051], [248, 521, 7052, 703, 7053, 7054, 2, 643, 7055, 352], [7056, 204, 4, 2478, 1068, 7057], [22, 15, 540, 89, 348, 33, 103, 2, 17, 38, 386, 70, 24, 7058, 7059], [235, 7060, 2449, 80, 1], [7061, 25, 230, 472, 701, 903], [2236, 131, 116, 186, 101, 1225, 7062, 1818], [254], [7063, 57, 7064, 13, 7065], [7066, 1059, 7067, 7068, 382, 2479, 7069], [7070, 125, 1528, 139, 99, 9, 27, 113, 13, 125, 127, 462, 7], [23, 342, 1046, 152, 7071], [7072, 341, 475, 664, 140], [298, 7073, 7074, 2480, 685, 1237, 134, 124], [7075, 241, 39, 7076, 7], [40, 74, 7077, 7078, 1531, 7079, 565], [7080, 2285, 7081, 13, 7082], [7083, 115, 7084, 790, 7085, 139, 1288], [7086, 1470, 2481, 632, 13, 350, 304, 7087, 793, 361, 7088], [7089, 61, 113, 884], [2482, 593, 100, 422, 81], [7090, 1898, 7091, 505], [7092, 59, 1589, 40, 191, 512, 515], [7093, 20, 176, 115, 191, 16, 7094, 380, 7095, 48, 22], [1, 22, 736], [7096, 46, 21, 7097, 316, 1, 33, 7], [86, 13, 1341, 311], [568, 43, 407, 269, 7098, 138], [7099, 46, 7100, 644, 720], [74, 1607, 848, 7101, 1781, 705, 715, 7102, 2], [7103, 298, 707, 332, 7104, 2126, 42], [162, 4, 198, 1864, 5, 48, 7105, 221, 57, 86], [515, 17, 476, 27, 1, 58], [22, 1023, 873, 68, 637, 1591, 1810, 390, 532, 5, 26, 258], [7106, 280, 39, 6, 1952, 816, 1224, 73, 7107, 373, 615], [7108, 510, 39], [7109, 188, 2483, 62, 1646, 7110, 18, 143], [171, 1129, 7111, 1129, 2, 106, 4, 44], [7112, 7113, 7114, 7115], [294, 46, 2484, 2485, 117, 216, 123, 92, 7116, 56, 941, 160, 379], [27, 16, 467, 222, 628, 1819, 2383, 1523], [106, 102, 1465], [7117, 7118, 1376, 7119], [7120, 402, 20], [7121, 1348, 36, 25, 7122, 1008, 7123, 21, 287], [7124, 70, 263, 115, 630, 2486, 7125, 3, 43, 7126, 38, 343], [24, 698, 239, 7127, 7128], [7129, 827, 1478, 401, 7130, 7131, 611, 7132, 7133, 7134, 48], [317, 219, 28, 12, 156, 156], [7135, 483, 483, 483, 65, 2021, 7136, 7137, 7138], [7139, 232, 7140, 62, 100, 114, 1331, 8, 442], [2115, 17, 379, 245, 379, 1608, 1116, 284, 245, 26, 17, 457], [290, 2, 247, 1126, 13, 857], [2364, 49, 278, 8, 117, 29], [7141, 20], [7142, 14, 610, 7143, 7144, 7145, 7146, 34], [1014, 17, 20], [7147, 9, 7148, 8, 36], [95, 7149, 2134, 7150, 518, 7151, 7152, 187, 140], [7153, 46, 859, 28, 283, 329, 2487, 393, 688, 7154, 60], [4, 1322, 27, 345, 75, 351, 226, 15, 296, 1741], [7155, 20, 530, 344], [2488, 7156, 7157], [449, 2347, 2489, 18, 4, 1137, 1092, 10], [7158, 7159, 781, 1279, 19, 231, 403, 154, 60, 1981, 77], [7160, 1106, 2010, 7161, 7162, 7163, 446, 63, 29, 7164], [225, 237, 1535], [7165, 1, 22, 540, 1555, 12, 33, 196, 68, 1, 2], [230, 530, 1126], [7166, 7167, 43, 4, 51, 7168, 364, 7169, 95], [28, 68, 7170, 1021, 273, 20], [7171, 101, 732, 7172, 780, 7173, 38, 287, 1198, 7174], [7175, 122, 7176, 288, 7177, 166], [7178, 7179, 23, 64, 298], [7180, 29, 247, 128, 128, 312], [24, 8, 7181], [1719, 265, 763, 7182, 12, 8], [349, 2490, 2464, 516, 36, 904, 7183, 752, 1152], [7184, 59, 119, 18, 1192, 1355, 49, 23], [7185, 1143, 58, 7186], [7187], [7188, 35, 354, 75, 1301, 126], [7189, 24, 7190, 262, 131, 1956], [7191, 17, 7192, 8, 1315, 1609], [1, 7193, 163, 100, 7194, 222], [7195, 7196, 2419, 523, 442, 7197, 377], [265, 1185, 7198, 790, 7199, 7200, 503], [11, 45, 40], [7201, 360, 7202], [7203, 7204, 451, 2491, 245, 118, 2363, 1090, 7205, 7206, 163, 1013], [7207, 7208, 7209, 7210], [7211, 12, 7212], [4, 2033, 431, 7213, 7214], [7215, 26, 176, 192, 3, 7216, 89, 7217, 576, 1041], [241, 11, 1141, 99, 636, 138, 7218, 7219, 149, 590, 1504, 13, 534, 534, 149, 1407, 1414, 7220, 13, 379], [7221, 391, 497], [7222, 69, 7223, 302, 193, 320], [7224, 7225, 7226, 7227, 7228], [7229, 7230, 2402, 438, 82], [199], [7231, 107, 1462, 1419, 1432, 1971, 535, 7232, 537, 1142], [7233, 1474, 7234, 7235, 89, 69, 1286, 1363, 7236], [7237, 7238, 2492, 308, 5, 1485, 191, 13, 7239, 7240, 114, 9, 9], [7241, 728, 8, 991], [217, 3, 83, 106, 7242, 7243, 33, 1705, 42], [7244, 34, 116, 1610, 117, 2493, 7245, 216, 627, 279, 25], [251, 1085, 7246, 58, 53], [7247, 7248, 576, 43, 275, 444, 43, 1553, 81, 60, 14], [7249, 7250, 2494, 112], [7251, 1611, 882, 57, 34, 104], [7252, 333, 4, 7253, 2495, 4, 2495, 536], [7254, 7, 209, 1018, 7255, 18, 196, 7256], [7257, 43, 252, 39, 102, 7258, 246], [2496, 7259, 7260, 15, 114, 359], [38, 22, 630, 65, 607, 899, 473, 1110, 733, 555, 7261], [7262, 853, 7263, 1516, 897, 24, 7264, 7265, 7266], [39, 16, 7267, 10, 522], [6, 332, 454, 1612, 237, 709, 138, 7268, 7269, 62, 155, 10, 2, 1508, 260], [7270, 452, 455, 2], [7271, 188, 8], [1549, 609, 877, 245, 43, 72, 193], [7272, 182, 82, 20, 325, 66, 7273], [159, 2141], [6, 632, 1147, 414, 7274, 5, 7275, 225, 12], [2497, 7276, 306, 7277, 7278, 27, 27, 2498, 7279, 2498, 7280, 7281], [7282, 711, 278], [7283, 299, 151], [7284, 23, 131, 689], [5, 7285, 2499, 7286, 7287, 7288, 7289, 7290], [7291, 469, 69, 559, 1277, 7292, 7, 74, 469, 1613, 7293, 173, 1613, 13, 2500], [7294, 7295, 20, 153], [164, 16, 147, 1703, 827, 276, 47, 7296], [1427, 370, 1614, 343, 4, 105, 830, 100, 964, 26, 258], [573, 7297, 7298], [7299, 15, 38, 7300, 1315, 59, 97, 263, 7301], [29, 2, 2366, 7302, 344, 190, 138, 7303, 7304], [416, 1138], [333, 404, 44, 6, 1500, 2125], [7305, 1025], [7306, 33, 1380, 13, 7307, 7308], [7309, 349, 2116, 283, 7310, 7311, 7312, 1443, 1034], [7313, 241, 4, 339, 1595], [2138, 540, 13, 17, 98, 880, 52, 512, 1615, 7314, 7315, 7316, 1615, 390, 970], [7317, 468, 7318, 9, 378, 7, 7319, 7320], [106, 1, 477, 35], [6, 7321, 7322, 7323, 5, 1116, 53, 42, 68, 1444, 1457, 25], [22, 7324, 33, 1], [7325, 7326, 246, 2501, 1193], [645, 40, 7327, 583, 8, 16, 555, 7328, 19], [82, 289, 7329, 523], [7330, 1032, 1371, 794, 76, 7331], [1073, 14], [1047, 10, 19, 59, 1492, 62, 102], [349, 7332], [7333, 7334, 269, 92, 151, 38, 151, 232, 154, 21, 5], [7335, 7, 127, 7336, 597, 7337, 82, 1715], [94, 3, 851, 7338, 89, 963, 235, 7339, 7340, 204], [2469, 1554, 147, 1878, 160, 245, 217, 3, 7341, 2272, 1529, 152, 7342], [7343, 69, 351, 1060], [7344, 334, 491, 7345, 1083, 1566, 7346, 446, 222, 83, 674], [93, 28, 637, 12, 7347, 79, 77, 7348], [1788, 7349, 54, 1091, 7350, 7351, 144, 838, 197], [7352, 7353, 252, 7354, 1609, 1609, 33, 7355, 4, 1543, 7356, 7357, 46, 7358, 546, 7359], [294, 39, 10, 166], [373, 2, 7360, 917, 883], [294, 8, 470, 1503, 47, 141, 37, 7361, 228, 214, 612], [7362, 2502, 510, 7363, 7364], [7365, 1476, 2391, 7366, 7367, 1890, 142, 7368, 7369, 7370], [7371, 460, 92, 2503, 616], [30, 42, 45, 236], [7372, 1, 258, 51, 131, 2504], [799, 455, 51, 103, 7373, 626], [106, 7374], [1253, 17, 825, 1955, 902, 14, 118, 14], [7375, 7376, 66, 80, 1], [7377, 7378, 1135, 2365, 276, 2501, 1425, 7379, 603, 7380], [7381, 503, 2425, 178, 3, 515, 1593], [83, 1119, 92, 107], [7382, 46, 7383, 7384], [7385], [7386, 291, 971, 196, 7387, 314, 8], [7388, 120, 1061, 92, 1607, 7389, 7390], [7391, 7392, 1428, 558, 783, 1821, 124, 1181, 1182, 366, 301], [28, 7393, 541, 7394, 53, 7395], [842, 7396, 178, 1], [7397, 7398, 533, 145, 1652, 1, 269], [7399], [7400, 550, 709], [7401, 18, 7402, 8, 7403, 724, 7404, 34], [94, 45, 159, 7405, 56, 1978], [7406, 4, 735, 7407, 143, 464, 201], [7408, 292, 2505, 898, 2506, 7409, 2100], [7410, 1125, 7411, 13, 1111, 13, 28, 7412, 96, 115, 1704, 106, 479], [7413, 18, 36], [7414, 39, 832, 7415, 209, 363, 157, 271], [458, 2, 228, 1466, 2], [7416, 160, 123, 2507, 215, 114, 9], [7417, 847, 86], [7418, 425, 2332, 1616, 1, 81, 150, 1055, 8, 1055, 52, 1055, 79], [7419, 46, 7420, 194, 2508, 7421, 7422], [98, 3, 200, 449, 3, 200, 5, 7423, 2, 231, 47, 7424], [7425, 7426, 163, 1, 1171], [7427, 46, 120, 9, 45, 1032], [7428, 93, 7429, 24, 133, 894, 1202], [162, 4, 7430, 7431, 7432, 7433, 7434, 552, 1464, 7435, 7436, 7437, 323], [190, 147, 7438, 142, 8, 1639], [7439, 3, 7440, 1921, 1512, 704, 898, 1059, 7441, 911, 7442, 7443], [7444, 634, 7445, 439, 16, 659, 397, 690, 184, 45, 108, 456], [1114, 1575, 296, 7446, 1149, 1318, 7447, 7448, 16, 7449, 2264, 34, 1089, 54], [39, 2, 174, 185, 86, 410, 7450], [7451, 144, 178, 3, 907, 2, 254, 2504], [7452, 1153, 7453, 7454, 134, 407, 622], [7455, 11, 79, 337], [255, 8], [165, 884, 16, 682, 125, 51, 2157, 831, 48, 117], [2481, 565, 2392], [7456, 46, 1335, 7457, 143, 7458, 2269, 8], [7459, 7460, 7461, 7462, 7463, 6, 7464, 304, 429, 125], [7465, 2240, 137, 25, 214, 7466, 1, 1134, 83, 104], [7467, 1545, 141, 56, 627, 87, 20, 561, 7468, 7469], [127, 142, 849, 1408, 718, 118, 573, 515, 7], [1131, 7470, 7471, 19, 14, 7472], [7473, 120, 575, 7474, 8, 1051, 538, 7475], [7476, 6, 7477, 169, 17, 1483, 2509, 7478, 76, 1206, 839], [7479, 7480, 7481], [7482, 252, 7483, 337, 208, 25], [231, 137, 138, 58, 6, 7484, 83, 7485], [7486, 190, 7487, 29, 96, 7488, 359, 204, 1492, 7489, 7490, 7491], [7492, 20, 1571, 7493, 7494, 1604], [50, 21, 365, 380, 272, 419, 7495, 225], [72, 5, 45, 413, 22, 650, 1, 17], [7496, 15, 2189, 9, 1148, 7497, 28, 236, 7498, 88, 317], [327, 1247, 138, 1102, 7499, 117, 488], [99, 7500, 121, 1194, 1129, 1775, 878, 1447, 7, 2447, 295, 89, 87, 42, 7501, 25, 494], [7502, 18, 11, 32, 7503, 7504, 7505, 1039, 8], [7506, 177, 335], [46, 47, 331, 98, 7507, 7508], [7509, 7510, 1, 217, 573, 860, 675, 202, 1559], [7511, 178, 3, 382, 1933, 7512, 638, 38, 7513], [7514, 7515, 7516, 1334, 7517, 118, 383, 1142, 7518, 297], [521, 717, 1487, 716, 503], [20, 153, 7519], [2510, 1098, 154, 599], [7520, 7521, 724, 3, 1, 297, 415, 7522, 6, 10, 125], [7523, 25, 245, 81, 2511, 1, 7524], [7525, 1616, 7526, 7527, 7528], [7529, 604, 2385, 7530], [7531, 7532, 34, 1617, 2162], [7533, 53, 131, 7534, 1589, 567, 3, 2337], [7535, 192, 7536, 2354, 7537, 7538, 7539, 7540, 7541, 304], [1047, 7542, 7543, 7544], [7545, 1618, 367, 371, 7546, 534, 59, 940, 192, 1608], [30, 7547, 7548, 722, 137, 7, 633, 1959, 7549, 7550, 2499, 2512], [14, 7551, 2, 30, 341, 7552, 8, 75, 7553, 532], [7554, 7555, 7556, 648, 7557, 739, 8, 112, 7558, 44, 92, 221], [7559, 566, 398, 1076, 101, 7560, 3, 87, 104, 85, 7], [904, 2513, 138, 7561], [7562, 748, 1132, 7563, 7564, 714, 311], [30, 7565, 7566, 104, 246, 8], [1226, 2225, 17], [7567, 29, 12], [6, 1619, 1903, 7568], [7569, 69, 925, 7570, 7571, 433, 42, 590, 12, 79], [301, 192, 638, 156, 7572, 7573, 1501, 355, 7574, 7575, 2462, 750, 115], [7576, 49, 3, 7577, 453], [294, 46, 827, 1068, 619, 385, 7578, 7579], [1114, 138, 16, 2], [7580, 26, 131, 1403, 20, 800, 698], [313, 191, 7581, 625, 7582], [7583, 20, 47, 2429], [7584, 1758, 384, 1465, 7585, 86], [52, 66, 225, 15, 4, 437, 951, 361, 7586, 7587, 875, 7588], [7589, 51], [7590, 7591, 46, 7592, 113, 903], [4, 148, 7593], [7594, 7595, 7596, 7597, 7598, 7599], [7600, 1133, 23, 7], [7601, 8, 236, 867, 262, 28], [7602, 1, 7, 43, 275, 353], [7603, 15, 8, 1192, 2174, 7604, 189], [7605, 424, 7606, 7607, 66, 34, 2080, 7608, 1496, 2132], [7609, 7610, 150, 388, 7611], [2494, 2492, 2229], [7612, 20, 357, 2514, 7613, 2372, 7614, 2515, 7615, 2516, 7616, 7617], [7618, 9, 674, 2505, 488], [7619, 1074, 7620, 13, 48, 7621, 7622, 7623, 7624, 885, 1868, 835, 7625, 1064], [7626, 316, 7627], [7628, 252, 2344, 7629, 378, 425, 379, 1451, 7630, 2517, 2475, 7631, 1041], [2518, 266, 7632, 7633], [203, 882, 7634, 7635, 7636, 349, 7637, 882, 1615, 7638, 7639, 39], [7640, 1502], [7641, 7642, 15, 425, 7643, 7644, 118, 402, 7645, 7646], [121, 7647, 352, 7648, 2519, 234], [7649, 2345, 43, 1098], [1, 22, 1537, 7650, 654], [4, 48, 117, 2520, 2439, 199, 7, 1, 348, 7651], [255, 73, 51, 898, 147, 154, 53], [7652, 49, 3, 7653, 1100, 7654, 133], [7655, 850, 7656, 676, 730], [40, 198, 47, 339, 7657, 345, 710, 721, 7658, 7659, 938], [7660, 1079, 177, 469, 173, 628, 538, 316], [7661, 586, 184, 890, 7662, 265, 29], [7663, 189, 2521, 34, 2, 311], [7664, 515, 18, 39, 2, 90, 141, 8, 316], [2522, 89, 6, 35, 466, 72, 7], [71, 2523, 7665, 7666, 662, 390, 104, 2155, 7667, 423, 662], [234, 1591, 705, 7668, 1229, 367, 223], [26, 47, 7669, 7670, 12, 7671, 197, 2026], [7672, 2, 2335, 7673, 552, 17, 230], [7674, 7675], [7676, 7677, 20], [7678, 59, 7679, 2524, 2146, 7680, 7681, 2524, 1471, 7682, 7683, 7684, 7685, 367], [7686, 24, 7687, 13, 7688], [7689, 1547, 858, 2, 71, 2525, 7690, 2], [2526, 7691, 89], [7692, 7693, 7694, 8], [1949, 1105, 7695, 7696, 7, 7697, 2489, 142, 57, 803, 1441], [7698, 1804, 39, 1233], [7699, 824, 824, 824, 25, 16, 2527, 7700, 195, 19, 73, 51, 660, 277], [7701, 995, 8, 7702, 67, 995, 30], [7703, 29, 112, 109, 238], [7704, 7705, 55, 716, 375, 2528, 115, 2059, 407], [1, 22, 139, 266, 305], [2034, 396, 1146, 7706], [2529, 7707, 2432, 2222, 7708, 2224, 516, 7709, 29, 12, 7710, 1, 7711], [1221, 287], [2304, 7712, 5], [7713, 7714, 19, 76, 1924], [484, 87, 78, 378, 2207, 7715, 7716, 1322, 870, 558, 300, 420, 75, 7717, 7718, 2530, 300], [34, 48, 1284, 754, 1995, 75, 285, 1617, 7719, 3, 16, 259], [7720, 7721, 7722, 17, 33, 2387, 142, 7723, 525], [7724, 7725, 113, 19, 4, 7726, 1526, 6, 379, 7727, 5], [146, 7728, 40, 44, 4, 359, 90], [157, 350, 1620, 7729, 16, 1620, 7730, 223], [7731, 7732, 7733, 1856, 68, 974, 7734, 1071, 203, 7735, 1170, 2301], [7736, 9, 36, 7737, 520], [7738, 1621, 114, 9, 284, 7739], [7740, 508, 314, 161, 1536, 374, 1268, 7741, 161], [7742, 7743, 60, 7744, 1035, 429, 7745, 99, 451], [7746, 7747], [114, 1324, 7748], [129, 2531, 112, 3, 603, 1182, 295, 7749, 323, 119, 42, 121, 1516], [7750, 7751, 164, 9, 45, 2435, 7752, 7753], [7754, 9, 1528, 60, 12, 5, 257, 7755, 7756], [7757, 202, 19, 7758], [7759, 43, 349], [167, 470, 1541, 325, 53, 379, 26, 269], [7760, 1025], [7761, 1, 1150, 418, 7762], [11, 40, 492, 264, 19, 96, 444, 25, 15, 7763, 462, 7764, 292, 7], [7765, 1603, 177], [7766, 231, 7767], [307, 49, 541, 1655, 1587, 7768, 1590, 844], [7769, 1585, 1585, 82, 126, 7770, 1622, 75], [425, 7771, 147, 160, 11, 7772, 393], [7773, 15, 448, 31, 301, 118, 241, 2410, 311], [7774, 218, 54, 29, 877], [7775, 2531, 772], [7776, 128, 7777, 54, 756, 1448], [7778, 24, 1568, 2523], [1, 22, 630], [7779, 26, 7780, 403, 8, 489, 239], [588, 7781], [3, 197, 167, 462, 11, 98, 1583, 205, 7782, 7783], [7784, 194, 7785, 7786, 3, 2128, 696, 208, 24, 1587, 291], [2358, 17, 62, 2, 59, 940, 74, 7787, 113, 19], [1261, 7788, 398, 7789, 639], [1674, 31, 7790, 260, 120, 537], [7791, 69, 145, 321, 7792, 2479], [7793, 1134, 7794, 243, 2374, 675, 1154, 7795, 2514, 7796], [7797, 7, 62, 7798, 363], [476, 1791, 557, 538, 632], [4, 413, 5, 12, 457, 86, 7799], [7800, 7801, 1243, 7802, 1735], [7803, 770, 20, 48, 780], [180, 12], [7804, 4, 7805, 63, 1435, 7806, 1060], [7807, 28, 1213, 222], [7808, 1309, 2532, 182, 277, 131, 1451, 7809], [7810, 2533, 2533, 606, 7811], [7812, 7813], [7814, 1722, 2534, 1805, 1623], [1, 348, 873, 247, 12, 2, 7815], [106, 40, 7816], [8, 7817, 1319, 286, 7818, 7819, 7820, 5, 1108, 1067, 40, 1, 30, 160], [447, 7821, 2535, 2397, 1151, 7822], [7823, 15, 7824, 7825, 1316, 7826, 1, 616, 1599], [1580, 273, 1146, 2], [9, 61, 1240, 7827, 1624, 2511], [1556, 7828, 410, 2, 34, 78], [105, 4, 286, 10, 7829, 193, 106, 7830, 7831, 7832], [7833, 61, 7834, 276, 40, 769, 40, 108, 7835, 2536], [1823, 1601, 316, 133], [7836, 21, 7837], [7838, 368, 7839, 7840, 8, 239, 330, 7841, 7842, 330, 213, 416], [22, 1910, 124, 220, 55, 7843, 469, 167, 829, 540], [7844, 2537, 26, 38, 38, 251], [7845, 832, 7846, 7847, 832, 7848, 910, 1772], [7849, 7850, 7851, 855, 465], [965, 2535, 7852, 739, 63, 7853, 7854, 7855, 7856, 7857, 1636, 2046, 7858, 7859], [167, 1214, 2016, 863, 458, 53], [7860, 892, 1582, 32, 435, 38, 7, 307, 7861], [7862, 1467, 401, 1154, 2538, 133, 574, 2539], [196, 87, 354, 1110, 420, 61, 277, 1110, 279, 665, 145, 871, 7863, 429, 441], [1455, 7864, 7865], [7866, 142, 92, 635, 257, 7867, 7868, 473], [7869, 2420, 5, 7870, 2477, 1343, 308, 7871, 7872], [2445, 1176, 7873, 17], [7874, 7875, 399, 1612, 145, 1169, 245, 545], [289, 903], [7876, 1, 9], [7877, 2325, 2409, 7878], [444], [439, 7879, 993, 235, 7880, 591, 993], [7881, 907, 29, 269], [7882, 595, 7883, 223, 68, 261, 749, 364, 7884, 1259, 27, 7885], [478, 1381, 1335, 7886, 450, 7887], [7888, 627], [7889, 174, 7890, 2540, 7891, 1593, 7892, 7893, 7894, 10, 2540, 539, 1, 2], [7895, 2386, 1575, 7896, 7897, 292], [7898, 120, 6, 184, 190, 7899, 7900, 1543, 41, 41, 2255], [7901, 31, 110, 100, 200, 680, 839, 42], [7902, 7903, 111, 607, 34, 311], [393, 2512, 160, 17, 7904, 921, 53, 234, 2394, 7905, 663, 311], [28, 5, 7906, 155], [7907, 292, 6], [1231, 262, 13, 7908, 265, 5, 6, 7909, 7910, 1756, 27, 7911, 1808, 979], [234, 13, 221, 1298, 122], [7912, 1510, 449, 62, 53, 17], [18, 10, 12], [7913, 33, 342, 237, 7914], [2400, 7915, 18, 354, 380, 880, 642, 5, 34, 34, 34], [7916, 232, 7917, 318, 273, 7918, 7919], [7920, 710, 66, 7921, 86, 118, 38, 978, 7922], [7923, 7, 7924], [458, 29, 372, 71, 198, 16, 635, 863], [908, 908, 55, 8, 637, 2, 128, 1249, 908, 908, 908], [7925, 7926, 466, 1241, 727, 7927, 1063, 7928, 2092, 855], [4, 1619, 7929], [7930, 7931, 545, 1774], [1, 17, 900, 45, 58, 35], [1108, 5, 1434, 13, 2230, 366, 1620, 13, 1505, 159, 378, 7932, 247], [7933, 7934, 11, 120, 7935, 7936, 315], [7937, 7938, 29], [7939, 1, 258], [7940, 118, 1291, 58, 7941, 36], [7942, 2541, 7943, 691, 7944, 7945, 7946, 1015], [1, 22, 28, 137, 114, 1614, 2446, 2], [7947, 67, 10, 7948, 7949], [1199, 74, 7950, 1617, 1561, 7951, 60, 190], [70, 1479, 6, 2216, 219, 17, 7952, 73, 1387], [106, 7953, 7954, 1616, 20, 7955], [7956, 7957, 7958, 20, 31, 7959, 2542, 7960, 7961, 250, 1150, 28, 188], [7962, 146, 22], [7963, 7964, 2543, 7965, 1155, 789], [22, 7966, 2249, 5, 1384, 522, 7967, 1768], [7968, 7969, 7970, 1254, 7971, 1605, 384, 486], [7972, 244, 113, 16, 66], [54, 756, 153, 7973], [279, 7974, 77, 332, 192, 2437, 13, 16, 199, 31, 7975, 187], [6, 28], [7976, 427, 291, 7977, 287, 96, 7978, 7979], [606, 138, 2, 175, 24, 260, 7980, 400, 7981, 185, 367], [2473, 301, 6, 1832, 7982, 16, 555], [94, 45, 66, 6, 1520, 42, 14, 927, 29, 366], [867, 431, 148], [1549, 1086, 23, 187, 1, 129, 1002], [1079, 622, 218, 1951, 7983, 4, 1511, 7984, 437, 1538, 121], [40, 322, 7985, 45, 49, 203, 99], [7986, 915, 1678, 7987, 210, 208, 830, 468], [336, 7988, 7989, 7990, 7991, 98], [7992, 1546, 1838, 2544, 1, 7993, 545, 7994, 1557, 1153, 7995, 2393, 2545, 2545], [7996, 185, 109], [11, 4, 844, 126, 7997, 992, 261, 212, 129, 2519], [7998, 273, 125], [2, 174, 185, 10, 38, 887], [7999, 29, 8000, 271, 1532, 135, 23, 2245, 8], [125, 8001, 66, 1880, 558, 1840, 1570, 8002], [8003, 631, 2179, 186, 2321, 58], [581, 107, 8004, 889, 276, 339, 581, 107, 8005], [8006, 8, 34, 2051, 114, 9, 61], [8007, 170, 367, 33, 100, 8008, 166, 868], [8009, 327, 2457], [8010, 8011], [85, 2546, 346, 8012, 45, 1003, 451, 514], [8013, 7, 277, 154, 1146, 379, 239, 2408], [8014, 8015, 1592, 115], [8016, 1602, 1148, 236, 1622], [154, 194, 201, 2191, 8017, 8018, 414, 355, 8019, 8020], [1014, 29, 12, 187, 1407], [8021, 8022, 45, 636, 295], [1513, 8023, 722], [46, 177, 154], [8024, 8025, 82, 114, 9, 443, 1007, 8026, 47, 433, 8027], [6, 140, 34, 17, 763, 821, 1, 81, 2205, 334], [8028, 8029, 8030, 1070, 8031, 8032, 24, 8033, 8034], [169, 2324, 92, 8035, 1501, 119, 327, 697, 8036], [59, 167, 8, 8037, 8038, 835, 302, 3], [8, 8039, 8040, 1518, 8041, 8042, 2547, 456, 45, 8043], [8044, 27, 8045, 735, 8046, 8047, 27, 384, 76], [8048, 53, 1072, 432, 76, 353, 271], [8049, 575, 13, 740, 445], [8050, 8051], [8052, 8053, 95, 1228, 826, 8054, 2056, 1572, 24, 830, 20, 212, 30, 37], [29, 2, 1416, 906, 109, 8055, 8056, 8057, 230, 384, 486], [8058, 11, 8059, 236, 148, 8060, 8061, 8062, 18, 65, 8063, 8064, 11, 2350, 1710, 387, 13, 8, 78], [2548, 465], [8065, 46, 8066, 1103, 169], [8067, 8068, 1124, 1099, 306, 8069, 1509, 669, 8070, 8071, 2276], [8072, 496, 8073, 202, 63, 1], [38, 290, 2, 939], [4, 10, 665, 2418, 198, 8074, 186, 2], [840, 13, 8075, 1625, 472, 1692, 212, 405, 356, 313, 8076], [8077, 620, 100, 21, 14, 1984, 8078, 8079], [8080, 63, 4, 708, 12, 610], [8081, 8082, 8083, 7, 633, 8084], [8085, 184, 24, 208, 460, 8086, 8087], [8088, 437, 49, 8089, 39, 1393, 8090, 1141, 716], [8091, 22, 231], [8092, 1136, 252, 8, 317], [729, 1012, 1436, 8093, 193, 865, 465, 91, 8094, 8095], [147, 8096, 165, 8097, 182, 381, 1156], [8098, 59, 316], [70, 8099], [8100, 223, 67, 9, 8101, 82, 8102, 487, 8103, 149, 48, 64, 38], [8104, 2190, 2221, 84, 559, 8105, 2334, 8106], [8107, 24, 8108, 618, 573, 547, 153, 48, 224], [280, 8109, 8110, 578, 518, 5, 181, 336], [8111, 8112, 8113, 8114, 8115, 8116, 2448], [463, 8117, 73, 703, 51], [8118, 1572, 8119, 86, 8120, 104], [8121, 427, 8], [8122, 49, 186, 465, 8123], [8124, 1450, 51, 372, 1, 8125, 8126, 8127, 890, 424, 6, 8128, 8129, 8130], [1610, 8131, 57, 29, 180, 17, 802, 8132, 468, 8133, 8134, 8135], [156, 8136], [350, 138, 2, 606, 806, 110, 312, 2549], [511, 883, 144, 184, 25, 584, 8137, 2550, 8138, 25], [8139, 1468], [2441], [147, 29, 2004, 8140, 8141, 1512, 8142], [364, 8143, 223], [294, 60, 511, 1625, 2278, 208], [46, 166, 8144], [128, 828, 777, 1711], [8145, 26, 8146], [8147, 422, 8148], [8149, 165, 371], [2, 254, 210], [8150, 8151, 8152, 189], [26, 736, 29, 2, 65, 159], [1], [8153, 214, 1, 2551, 2], [8154, 183, 266], [350, 2, 380], [8155, 59, 309, 567, 1, 120, 2552, 81, 576], [1, 22, 137, 2553, 146, 58, 55, 11, 8156, 8157], [738, 624, 53, 8158, 8159, 8160, 8161], [280, 4, 48, 17, 8162, 27, 90, 217, 227, 1, 495, 107, 2442, 8163, 1140], [8164, 1157, 368, 904], [1443, 2554, 8165, 549, 19, 8166, 853], [8167, 1158, 1158, 1158, 1109, 2312, 1078, 8168, 383], [8169, 6, 36], [678, 1863, 8170, 4, 8171, 8172, 45, 546], [2555, 8173, 8174, 163, 453], [8175, 8176, 8177, 2388], [8178, 109, 1, 217, 3, 43, 74, 8179], [8180, 211, 179], [742, 751, 16, 2556, 19], [8181, 8182, 2557, 8183, 397], [8184, 25, 1565, 400, 763, 8185, 8186, 7], [8187, 25, 34], [18, 12, 44, 109, 96, 840, 1, 17, 58, 156, 8188], [8189, 350, 452, 275, 8190, 235], [8191, 69, 2558], [8192, 1626, 893, 4, 8193], [8194, 1150, 139, 8195, 481, 8196, 39, 10], [182, 291, 18], [8197, 51, 57], [231, 137], [8198, 1, 22, 8199, 8200, 8201], [8202, 105, 756, 8203, 8204, 1], [8205, 50, 11, 605, 8206, 76], [8207, 7, 591, 8208, 50, 1415, 43, 36, 1417, 8209, 25], [8210, 133, 56, 784, 17, 29, 107], [2, 14, 370, 1, 2], [8211, 23, 2559, 34], [86, 65, 103, 55, 353], [7, 215, 8212], [23, 62, 1301, 303, 37, 7], [8213, 104, 764, 8214, 8215, 114, 9, 43, 32, 48, 85, 223], [8216, 62, 336, 1101, 279, 1, 1438, 8217, 8218], [8219, 528, 528, 528, 9, 9, 9], [8220, 31, 110, 8221, 8222, 8223, 29, 34, 17, 6, 8224, 198, 638], [8225, 8226, 8227], [319, 439, 16, 2560, 249], [473, 8228, 8229, 8230, 8231, 51, 1060, 8232, 8233], [2561, 8234, 8235, 318, 8236, 76, 17, 8237], [8238, 33, 882, 689, 2562, 1694, 288, 8239, 8240, 1, 258, 9, 24], [8241, 20, 2528, 306, 8242, 1251, 8243], [8244, 1, 1588, 6], [8245, 73, 48, 992, 99, 375, 363, 7, 1, 473], [2563, 1151, 8246, 18, 3, 2563, 45], [1, 17], [8247, 71, 8248, 8249, 8250], [8251, 280, 8252, 266, 22, 2254, 8253, 185, 34, 2, 77], [8254, 4, 869, 8255], [8256, 1, 258, 2210, 13, 8257, 306, 8258, 2403], [2555, 139, 8259, 13, 8260], [8261, 9, 874, 61, 21, 224, 18], [8262, 56, 14, 23, 8263], [213, 38, 290, 2, 290], [74, 202, 155, 63], [8264, 59], [8265, 8266, 215, 282, 8267, 205, 84, 1102, 8268, 8269, 8270], [8271, 82, 357, 120, 14, 227, 79, 8272, 8273], [8274], [8275, 854, 344, 443, 2013], [8276, 8277, 1627], [8278, 2564, 8279, 1057, 8280, 20, 145, 1123, 2565, 13, 64, 1123], [224, 92, 2047], [8281, 8282, 749, 8283], [8284, 8285, 909], [8286, 8287, 8288, 42], [16, 452, 249], [414, 1136, 1613, 1569, 8289, 8290, 10, 8291, 8292, 1907, 8293], [8294, 237, 471, 68, 423, 1152], [8295, 8296, 213, 2566, 79, 8297], [8298, 8299, 761, 151], [218, 27, 1307, 1132, 2341, 196, 53], [8300, 20, 20, 153, 3], [8301, 37, 6, 63, 1836, 8302, 7], [8303, 1, 262, 20, 387], [8304, 69, 8305, 92, 8306, 8307, 8308, 320, 78], [8309, 92, 258, 2460, 8310, 1049, 90], [8, 8311, 20, 8312], [8313, 196, 248, 8314, 8315, 23, 8316], [65, 8317, 28, 7], [1366, 2, 2552], [481, 95, 8318, 8319, 11, 481, 1267], [8320, 166, 49, 65, 16, 1391, 15, 49, 8321], [8322, 1488, 664, 159, 2413, 1364, 247, 90], [8323, 368, 97, 539], [8324, 30, 834, 1127, 8325, 1053], [8326, 8327, 42], [8328, 8329, 1486, 2018, 223], [8330, 1157, 8331], [8, 249], [1514, 268, 38, 16, 2214, 8332, 8333, 63, 8, 8334, 8335], [8336, 45, 35, 1, 7, 886, 17, 309], [8337, 136, 220, 312, 2434, 1795, 8338, 47, 130, 636], [8339, 182, 91, 24, 412, 263, 112, 24, 412, 8340, 20], [56, 286, 436, 5, 11, 74, 286, 8341, 66], [8342, 8343, 2, 59, 9, 188, 8344, 8345, 8346, 8347], [8348, 8349, 1273, 2175, 2567, 8350, 2568, 1482], [24, 8351, 626, 16, 1269], [1370, 210, 8352, 8353], [490, 2520, 8354, 40, 8355, 45, 8356, 1557], [1385, 8357, 8358, 367], [8359, 82, 20, 1118, 9, 222, 63, 78], [8360, 275, 1540, 8361, 403, 2569, 1159, 8362, 208, 8363, 8364], [1628, 2567, 8365, 1628, 8366], [8367, 1145, 2417, 8368, 8369, 8370, 2022], [8, 8371, 8372, 8373, 29, 8374, 1080], [1521, 1, 22, 28, 857, 2570, 2133, 124, 74, 332, 286, 1152], [8375, 252], [2496, 1422, 50], [14, 74, 293, 2571], [8376, 15, 8377, 594, 811, 9], [8378, 514, 844, 125], [8379, 8380, 1], [8381, 2200, 8, 613, 51, 207, 737, 698, 77], [8382, 3, 16, 2521, 992, 6, 87, 1063, 108, 1765, 8383, 96, 8384, 1, 2], [12, 190, 8385, 1279, 1147, 278, 237, 2451, 8386, 8387, 632, 8388, 197, 613, 8389, 632, 8390], [294, 586, 8391, 8392, 5, 409, 2572, 787, 19], [8393, 80, 124], [8394, 30, 3, 62, 502], [8395, 8396, 892], [8397, 823, 2295, 212, 8398, 2547, 5], [8399, 8400, 13, 8401, 8402, 3, 108, 75], [8403, 28, 8404, 141, 47, 2573], [8405, 157, 299, 8406], [476, 1851, 8407, 28, 273, 7, 30, 91], [71, 14, 22, 90], [2468, 23], [8408, 232, 20, 153, 39, 418, 190, 8409, 8410, 418, 13, 1552, 8411], [8412, 61, 8413, 68, 262, 92, 297], [8414, 1031, 1637, 1429, 199, 1031, 94, 777, 569], [749, 8415, 8416, 4, 101, 180], [8417, 182, 8418], [8419, 38, 8420, 43, 1373, 8421], [8422, 8423, 874, 2055, 1086, 43, 2288, 8424, 803, 8425, 696, 537], [8426, 643, 8427, 8428, 850, 24, 1489, 1139, 1], [8429, 61, 2340, 668, 23], [54, 8430, 8431, 8432, 36], [30, 8433, 1, 179, 663, 1026, 168, 8434, 11, 406, 502, 362, 78, 78], [8435, 8, 135, 1425, 176, 48, 8436, 8437, 96, 221, 8438], [1163, 8439, 5, 67, 228, 65, 81, 86, 7], [54, 147, 8440, 8441], [211, 8442, 42, 8443], [8444, 33, 834], [4, 8445, 34, 327, 1247], [1401, 1195, 514, 636, 8446, 2574, 7], [93, 323], [8447, 595, 8448, 1576, 265, 9, 36], [495, 560, 8449, 8450, 2, 8451], [54, 214, 955, 212, 8452, 526, 737, 8, 2274], [2256, 5], [8453, 39, 315, 56, 247, 151, 8454, 8455, 8456, 8457, 411, 2575, 34, 537, 367], [418, 31, 8458, 228, 101, 8459], [1533, 1569, 8460, 8461, 39], [8462, 14, 1582, 141], [8463, 8464, 8465, 8466, 746, 8467, 8468, 778, 2281, 1610, 1860, 798, 1513, 114], [8469, 8470, 168, 168, 1185, 207, 159, 12, 522, 8471], [69, 8472, 2039], [8473, 8474], [8475, 301, 125, 641], [8476, 43, 271, 222, 638], [76, 1402], [69, 6, 8477, 200, 380], [8478, 188, 243, 8479, 872, 872, 1274, 1323, 764, 1323, 8480, 764, 25], [22, 33, 921], [8481, 497, 8482], [1, 22, 8483, 2576, 8484, 2576, 8485], [8486, 8487, 8488, 153, 2079, 77, 153, 8489, 8490], [2, 10, 19, 63], [8491, 33, 8492], [8493, 1090, 8494, 208, 472, 8495], [8496, 15, 50, 1149, 2431, 415, 332, 61, 372, 417, 865], [106, 14, 191, 413, 19, 431, 124, 7, 8497], [293, 351, 902, 27, 103, 293, 657, 8498, 34], [480, 1048, 2242, 8499, 1048, 8500, 377, 1130, 754, 538], [8501, 7, 8502, 2375], [8503, 30, 8504, 1143, 64, 222, 8505], [8506, 8507], [88, 17, 84, 8508, 8509, 92, 151, 8510, 8511], [452, 2565], [189], [8512, 388, 2114], [391, 817, 2023, 2506, 8513, 731, 11, 370, 129, 845, 18, 797], [8514, 1, 258, 8515, 660, 8516, 373, 2551, 1137, 1462, 8517, 875], [54, 8518, 184, 1], [8519, 1480, 1127, 8520], [8521, 614, 693, 56, 1], [8522, 8523, 789, 8524, 417, 783, 8525, 1939, 1120, 506, 60, 426], [265, 8526, 507, 150, 8, 8527], [86, 86, 27, 201, 8528, 113, 884, 8529], [8530, 8531], [8532, 1, 22, 15, 91], [8533, 8534, 8535, 571, 2558, 1993, 8536, 8537, 8538], [8539, 70, 39], [191, 1359, 210, 841, 370, 282, 8540, 377, 57], [788, 551, 593, 36, 1332, 121, 160, 677, 92, 151, 202, 8541], [8542, 402, 107, 17], [4, 175, 2453, 421], [8543, 1467, 401, 1154, 2538, 133, 574, 2539], [8544, 46, 8545], [8546, 8547, 831, 2577], [8548, 25, 8549, 633], [8550, 8551, 2488, 79, 228, 831], [189, 102, 101, 8552, 8553, 8554, 2463, 74, 63, 657, 8555, 201], [39, 2, 51, 207, 55], [32, 460, 381, 653], [8556, 1226, 8557], [27, 103, 166, 90, 536], [167, 139], [12, 442, 116, 17], [96, 100, 8], [8558, 38, 75, 1157], [8559, 8560, 36, 333, 1159], [8561, 8562, 8563, 8, 8564, 8565, 8566, 8567, 8568, 8569, 779, 8570], [8571, 1126], [8572, 165, 96, 225, 202, 744], [8573, 1, 22, 151, 59, 162, 5], [6, 87, 56, 8574, 2578, 1217, 210, 300, 498, 828, 300, 1305, 8575, 8576, 42, 14], [8577, 1603], [8578, 8579, 1037, 1619, 8580], [8581, 2579, 8582, 2579], [8583, 580, 2, 8584], [8585, 8586], [2580, 1066, 13, 2346, 8587], [521, 862, 886, 1441, 84, 297], [8588, 59, 2454], [8589, 39, 1261, 8590, 8591, 6, 8592, 8593, 8594, 79], [8595, 1511, 896, 896, 109, 238, 2581], [755, 739, 347, 1, 10, 8596, 1161, 8597, 739, 1625, 8598, 8599], [54, 1912, 49, 2582, 42], [8600, 39, 8601, 227, 856], [1017, 2044, 278, 8602, 220, 8603, 287, 38], [8604, 1160, 8605, 1449, 536], [29, 348, 29, 237], [2534, 105, 1167, 16, 147, 203, 1873, 23, 10, 118, 81, 451], [175, 189, 611, 271, 335, 313, 863, 37, 12, 85, 10], [4, 10, 429, 142, 2248, 8606, 1507, 8607, 8, 494], [8608, 24, 9, 259, 2], [8609, 2550, 177, 406, 8, 969], [1345, 8610], [8611, 86, 1426, 11, 167, 2583, 107, 1769, 7], [294, 377, 2036, 11, 347, 191], [8612, 614, 16, 58, 164, 8613], [8614, 19, 4, 8615], [1989, 53, 117, 194, 894, 8616], [8617, 24, 803, 467, 2584, 780], [8618, 612, 8619], [8620, 375, 275, 34, 8621, 38, 8622, 1051, 39], [8623, 671, 248, 518, 16, 8624, 5, 1564, 517, 7, 1], [8625, 327, 553, 2583, 1584, 1003, 2585, 8626, 47, 47, 891], [8627, 469], [8628, 403, 693, 2586, 8629, 909, 1629, 270, 2587, 8630, 909, 1629], [8631, 8632, 860, 8633, 121], [54, 2474, 211, 413, 613, 109, 238, 8634, 8635, 57], [8636, 1537, 386, 50], [8637, 8638, 8639, 39, 8640], [8641, 1378, 1, 863, 42], [54, 8642, 8643, 8644], [8645, 26, 584, 8646, 8647, 730, 8648], [8649, 2588, 8650, 173, 47, 2588, 1148, 18], [109, 238, 1530, 8651, 1144, 180, 5], [8652, 633, 8653, 28, 186, 45], [8654, 8655], [267, 336, 77], [8656, 8657, 20], [8658, 881, 8659, 2204, 870, 8660], [8661, 15, 70, 1, 18, 11, 4, 208, 7], [8662, 7, 8663], [237, 195, 8664, 8665, 2480], [8666, 298, 20, 535, 173, 8667, 8668], [8669, 8670, 720, 824], [2406, 18, 797, 603, 1630, 65, 346, 1319], [1248, 518, 8671, 1455, 8672], [8673, 595, 317, 8674, 8675, 135, 1105], [54, 8676, 8677, 1930, 1621, 67, 2412], [2405, 8678, 968, 53, 35, 86], [8679, 1598, 114, 8680, 466, 8681, 8682, 208, 8683], [8684, 1084, 8685, 3, 139], [8686, 7, 50, 8687, 1216, 885, 205, 438], [8688, 497, 1630, 8], [8689, 25, 89, 2589, 2590, 5], [22, 138, 137, 2591], [622, 16, 290, 2, 2592, 980, 589, 919, 1997, 8690, 8691], [8692, 411, 907, 43, 8693, 303], [8694, 7, 376, 227, 2483], [8695, 227], [120, 8696, 1372, 463, 132, 1563, 4, 5, 50, 36], [162, 679, 4, 8697, 8698], [8699, 647], [8700, 252, 137], [2593, 8701, 1125, 33, 523, 8702], [1381, 889, 38, 290, 2, 290, 8703, 290], [32, 105, 35, 62, 53, 2], [7, 6, 36, 8704, 2484, 2485, 1482, 188, 181, 262], [8705, 1132, 8706, 8707], [8708, 20, 2414, 150, 8709, 583], [3, 152, 5, 8710, 8711], [8712, 496, 374, 1151, 8713, 1552, 874, 2503], [8714], [8715, 15, 20, 32, 131], [1534, 659, 589, 8716, 1534, 264, 768, 1028, 1271, 10, 150, 8717, 1, 534], [8718, 38, 22, 251, 8719, 251, 692], [8720, 510, 79, 281, 34, 8721], [8722, 7, 25, 30, 45, 51, 131], [8723, 267, 5, 210, 770, 8724], [8725, 8726, 160, 7, 97, 539], [8727, 26, 616, 284, 3], [8728, 8729, 606, 302, 37, 8730, 1398], [8731, 1555, 8732, 8733, 8734, 8735, 860, 2426], [8736, 619, 8737, 537, 26, 8738, 240], [2594, 8739, 8740, 8741, 8742, 1371, 1433, 745, 8743, 8744, 20], [1, 540, 300, 1122, 83, 131, 335, 582], [8, 312, 4, 8745, 1030, 60, 14, 8746, 502, 1432], [8747, 46, 2407, 153, 8748, 929], [2548, 69, 2595, 517, 8749, 1069, 8750, 8751, 5, 295, 6, 1498, 82, 196, 8752], [2508, 489, 8753, 89, 106, 8754], [40, 74, 1920, 2062, 1579, 2163, 79, 64, 600], [8755, 46, 357, 8756], [8757, 556, 962, 8758, 8759], [8760, 427, 31, 126, 474, 12], [8761, 178, 160], [8762, 8763, 387, 1624, 2119, 3, 856, 8764], [14, 1058, 8765, 1466, 12, 48, 117, 35, 166, 90, 1178], [247, 5, 8766, 239, 1576, 8767], [8768, 8769, 1104, 1515, 448, 192, 2596], [29, 17, 57, 8770, 8771, 29, 12, 8772, 8773, 8774, 8775, 8776], [66, 381, 1448, 59, 8777, 668, 162], [8778, 2597, 2086, 800, 456, 8779, 202, 77], [1066, 8, 60, 8780], [1156, 95, 3, 27, 527, 90, 278], [1, 22, 1574, 25, 11, 406, 8781, 76, 90, 5], [8782, 8783, 8784, 14, 8785, 8786, 8787, 114, 9, 337, 190], [8788, 280, 18, 106, 8789, 330, 528], [414, 664, 8790, 8791, 8792, 1040], [8793, 382, 6, 1445], [54, 966, 480], [8794, 47, 375, 222, 8795, 8796, 533], [8797, 1059, 2265, 1101], [8798, 142, 221, 16, 49, 190, 20, 219], [8799, 53, 2416, 8800, 385, 114, 10], [8801, 252], [750, 540, 167, 8802, 8803, 54, 2261, 8804, 784, 793, 13, 8805, 26, 2], [8806, 292, 8807, 1311, 8808, 36], [8809, 2532, 69, 9, 8810, 51, 558, 1145], [8811, 178, 3, 53, 8812, 705, 23], [8813, 8814, 2482, 405], [8815, 8816, 516, 453, 144, 45, 292], [8817, 165, 10, 8818, 148, 8819, 45, 148, 8820, 97, 21, 1107, 994], [8821, 8822, 8823, 397, 950, 15, 4, 440, 710, 2167, 131, 129, 27, 376], [8824, 8825, 1420, 1450, 1387, 8826, 643, 354, 8827, 8828, 376, 8829, 537], [8830, 8831, 13, 8832], [86, 185, 126, 737, 10, 8833], [106, 14, 55], [8834, 50, 11, 1683, 2578, 1520], [98, 130, 136, 432, 8835, 8836, 8837, 1560, 42], [8838, 25, 252], [518, 16, 826, 197, 8839, 27, 8840, 8841, 2161, 8842, 8843, 8844, 8845, 8846, 8847], [8848, 1847, 191, 935, 117, 266, 354, 784, 1120, 8849], [8850, 20, 74, 1188, 85], [8851, 473, 2371, 8852, 8853, 22], [8854, 2343, 807, 8855, 8856, 8857, 2072, 8858, 1328, 8859, 8860], [8861, 162, 2589, 2212, 371, 906], [8862, 8863, 9, 995, 190, 1224, 752, 832], [8864, 75], [82, 987, 1618, 2598, 1084, 752, 8865, 8866, 31, 21, 1618, 2598, 1084, 752], [8867, 668], [1235, 8868, 441], [2048, 8869, 1340, 1408, 44, 231, 28], [8870, 49, 471, 29, 743, 797, 222], [4, 502, 8871, 132, 175], [8872, 46, 18, 499, 362, 23, 190, 114, 166, 9], [46, 125, 447, 203, 717, 1383], [8873, 25, 732, 2395, 2599, 8], [8874, 11, 370, 63, 101, 2284], [8875, 177, 32, 1174, 27, 156, 91, 608, 634, 2497], [6, 16, 8876, 8877, 2396, 16, 1048, 1580, 2455, 2, 254], [2525, 2, 102], [9, 9, 43, 248], [8878, 423], [8879, 1622, 434, 891, 8880, 16, 12, 8881, 1877, 202], [8, 8882, 8883, 8884, 2592, 1627], [28, 395], [218, 647, 490, 179, 1437, 8885, 2423], [8886, 350, 16, 385, 217, 2486, 8, 671, 8887, 18, 8888, 8889], [8890, 40, 460, 977, 8891, 27, 854, 8892, 2600], [8893, 315, 277, 8894], [8895, 70, 2570, 243, 8896, 628, 2601, 896], [67, 8, 316, 9, 453], [8897, 8898, 1529, 8899, 709, 24, 461, 1530, 8900, 6, 814, 403, 8, 335], [8901, 463, 1714, 39], [8902, 3, 16, 273], [8903, 29, 671, 2139, 138, 901, 160, 324, 8904, 8905], [8906, 1, 8907, 3, 37, 1386, 396, 89, 37], [10, 87, 2, 102, 925, 8908, 1410, 130, 15, 34, 2602, 380, 2465, 2], [1014, 7, 1691, 938, 17, 729], [99, 8909, 8, 66, 277, 42], [8910, 7, 8911, 8912, 1623, 2279, 129, 10, 176, 2000, 1320], [8913, 232, 2443, 33, 8914, 16, 195, 1596], [8915, 91, 8916, 8917, 8918, 572, 33], [8919, 822, 273, 8920, 8921, 8922, 8923, 456, 39], [8924, 2, 8925, 2430], [8926, 8927, 50, 87, 909, 8928, 50, 38, 8929, 7], [5, 227, 53, 341, 35, 48, 224], [70, 264, 29, 1028, 2172, 200, 1604, 120, 14, 21, 8930], [8931, 1225, 4, 10, 13, 341, 478, 594], [14, 8932, 8933, 8934, 6, 8935, 647, 13, 422, 8936, 2151, 19], [8937, 3, 262, 8938, 8939, 25], [8940, 20, 8941, 1141, 76], [8942], [8943, 17, 151, 291, 905, 97, 539, 1905, 8944, 8945], [142, 2, 1739, 167, 16, 2556], [268, 116, 8946], [71, 1140, 155, 39, 2], [8947, 888, 157, 524, 36], [7, 87, 47, 317, 28, 8948, 516, 176, 699], [167, 168, 1773, 175, 2268, 2267, 5, 2, 8949, 490, 8950], [8951, 672, 8952, 219, 1303, 142, 153, 8953, 2546, 8954], [8955, 2577, 30, 37, 8956, 864], [8957, 8958, 8959, 8960, 8961, 795, 8962], [8963, 1089, 8964, 8965, 2557, 2603, 1004, 8966], [8967, 8968, 2541, 1793, 8969, 8970, 2516, 8971, 188, 8972, 2266, 45, 345, 301, 39, 269, 141, 8973], [146, 18, 11, 32, 998, 5], [267, 8974, 159, 4, 39, 2597], [138, 8975, 2, 2, 157, 2602, 314, 493, 221, 2, 1097, 57], [2135, 865, 8976, 8977, 865, 2595, 2097, 8978], [1248, 46, 12, 92, 12, 669], [6, 1153, 8979, 76, 869, 8980, 324], [8981, 131], [8982, 1514, 20, 1546, 105], [93, 270, 22, 8983, 97, 138, 2], [29, 8984, 20, 1118, 716, 128, 1134, 497, 40, 1498], [8985, 152, 8986, 8987, 760, 444], [8988, 51, 226, 39, 787, 17, 594], [46, 2604, 2604, 143, 326], [645, 8989, 551, 580, 140, 120, 8990, 1304, 391, 8991, 750, 8992, 666], [729, 2, 5, 286, 902, 2491], [1119, 12, 8993], [1052, 8994, 8995, 8996, 1581], [195, 8997, 8998, 291, 905], [1611, 289, 947, 120], [8999, 713, 459, 2603, 1755, 2529, 802], [9000, 866], [106, 9001, 9002, 334, 1749, 9003, 106], [231, 9004, 9005], [9006, 43, 176, 36, 34, 829], [9007, 22, 5, 907, 139, 1295, 17], [9008, 161, 9009, 9010, 462, 9011, 9012, 6], [158, 201, 185, 1627, 419, 1351, 2605, 689, 638, 22, 2606, 121], [9013, 25, 43, 1111, 816, 250, 319], [9014, 9015, 9016, 73, 184, 2553, 367, 9017, 34], [9018, 46, 190, 840, 748, 648, 13, 235, 2263, 9019, 39, 17], [17, 1, 2507, 1217, 423, 787, 39, 9020, 2585, 106, 113, 1937], [9021, 60, 530, 709, 9022], [1531, 187, 692, 165, 308, 9023, 51, 353], [600, 9024, 9025], [9026, 9027, 9028], [9029, 9030, 895, 895, 895, 1517, 1517, 895, 9031, 2601, 59, 59, 59], [9032, 9033, 533], [167, 2559], [6, 9034, 330, 68, 205, 2, 59, 940, 102], [1523, 283], [9035, 9036, 738, 5], [9037, 1621, 9038], [6, 14, 9039, 9040], [96, 999, 138, 2440, 9041, 54, 9042, 293, 2493], [18, 4, 130, 44, 2421, 231, 9043], [9044, 15, 70, 9045, 121], [9046, 9047, 235, 1128, 9048, 9049, 9050, 9051, 9052, 28], [4, 950, 9053, 9054, 338, 1734, 950, 17, 28], [9055, 1, 22, 9056, 2562, 5], [9057, 34, 2, 5, 9058, 9059, 44, 9060, 9061, 137, 1, 22, 137], [476, 574, 751, 2543, 2251, 474, 9062, 9063], [9064, 9065, 4, 1796, 164, 833, 270], [454, 47, 454, 112], [658, 87, 39, 181], [9066, 243, 110, 18, 299, 152, 243], [2235, 17, 29, 9067], [1497, 2513, 7, 9068], [9069, 9070, 378, 967, 91], [2, 9071], [9072, 9073, 2607, 683, 217, 29, 47, 203, 1149], [580, 9074, 9075, 9076], [9077, 20, 9078, 269, 33, 779, 1147, 305, 78], [9079], [9080, 9081, 8, 9082, 9083, 25], [2608, 598, 2289, 591, 1155, 2143, 2596, 473, 8, 226, 529], [1824, 48], [24, 9084, 9, 9085, 9086, 5, 9087, 29, 259], [9088, 496, 374, 1886, 9089, 9090, 9091, 741, 224, 1140], [350, 9092, 9093], [799, 1029, 18], [9094, 79, 9095, 65, 9096, 9097, 38, 9098, 2, 27], [9099, 76, 2271, 556, 16, 139, 9100, 9101, 72, 339, 9102], [16, 2243, 339, 2609, 572, 9103], [9104, 469, 2610, 701, 9105, 9106, 9107], [918, 152, 217, 5], [24, 9108, 604, 9109, 1594, 9110, 9111], [9112, 7, 1, 61], [854, 619, 9113, 9114, 9115, 9116], [9117, 5, 1377, 19, 9118, 66, 97, 539, 641], [2526, 9119, 280, 1502, 9120, 141, 2518], [9121, 9122, 9123, 1, 259, 191, 9], [255, 15, 9124, 36, 1077, 192, 795, 333, 945], [9125, 2611, 2117, 9126], [9127, 9128, 849, 1160, 1160, 1160, 9129], [9130, 54, 117, 1876, 1563, 53, 2002], [9131, 59, 1027, 59, 275, 604], [9132, 9133, 9134, 9135, 9136, 9137, 613, 9138, 934, 934], [1, 534, 234, 221, 608, 516, 2573], [211, 152, 9139], [38, 251, 9140], [120, 9141, 1237, 319, 9142, 344, 3, 29, 385, 198, 16, 139], [9143, 9144, 392, 45, 664, 9145, 8, 9146, 210, 189], [881, 219, 59, 154, 623, 153, 1596, 311], [9147, 935, 9148, 997, 9149, 1874, 209, 9150, 89, 59, 319], [2584, 2020, 9151, 266, 29, 964, 29, 266], [577, 9152], [32, 1946, 154, 9153, 9154, 291, 905], [9155, 2427, 1519, 1, 10, 1, 94, 5], [582, 12, 39, 74], [71, 230, 1965, 374, 306, 2, 9156, 913], [9157], [40, 74, 2612, 2, 9158, 12, 9159, 2612, 9160, 18, 9161, 233, 338, 2029], [9162, 1062, 407, 29, 9163, 9164, 173, 9165, 9166, 9167], [9168, 38, 189, 81, 488, 9169, 346], [1607, 848, 894, 2, 270, 35, 2327, 1203], [9170, 25, 9171, 18, 97, 7], [4, 9172, 1663, 39, 132, 67, 111, 956, 2], [8, 1238, 9173, 160, 355, 133, 971, 9174, 691], [9175, 33, 2, 1908, 9176, 17, 12], [9177, 39, 96, 398, 9178, 9179, 560, 2509, 128, 9180, 6, 198, 9181, 9182, 202], [9183, 208, 2613, 28, 2411, 2613, 2145, 9184], [590, 329, 9185, 48, 9186, 9187, 1, 421], [241, 177, 2078, 19, 647, 413, 105, 9188, 155, 759, 9, 7], [9189, 162, 1668, 81, 35, 375, 88, 608, 306, 112, 28], [280, 9190, 9191, 128, 557, 54, 223], [80, 9192, 9193, 54, 9194, 9195, 117, 1004, 565, 9196], [9197, 67, 9, 24, 100, 359, 1430, 327, 9198, 9199], [2522, 9200, 9201], [9202, 2568, 9203, 2472], [9204, 58, 9205, 9206, 139, 9207, 9208, 922], [9209, 315, 9210, 353, 25, 9211, 316], [1554, 232, 1577, 8, 139], [6, 9212, 563, 9213, 1631, 551, 719, 1542, 718, 719, 1345], [4, 48, 756, 879, 876, 117, 1144], [9214, 277, 7, 315], [9215, 378, 219, 2, 9216, 339, 383, 435, 1586], [167, 9217], [9218, 378, 219, 2, 2438, 339, 383, 435, 1586], [416, 47, 9219, 28], [30, 1941, 2450, 5, 51, 1497, 5, 9220, 176, 1191], [9221, 20, 2415, 120, 1104], [2614, 524, 15, 70, 2614, 391, 524, 191], [745, 1051, 134, 9222, 1762, 9223, 144, 2530], [9224, 1155, 9225, 393, 229, 9226], [9227, 20, 743], [614, 634, 1083, 744], [9228, 15, 4, 9229, 9230, 2361, 9231], [9232, 15, 1, 9233, 7], [1, 2, 9234], [9235, 9236, 30, 414, 194, 9237], [70, 1246, 2615, 93, 104, 429, 1626, 255, 1592], [6, 9238, 9239, 9240, 9241, 5], [9242, 9243, 623, 9244, 2113, 2136, 604, 9245], [2456, 9246, 9247], [2587, 9248, 53], [9249, 173, 1174, 140, 9250, 161, 9251, 9252], [9253, 208, 9254, 627], [9255, 2607, 55, 25, 2476, 561, 268], [9256, 22, 9257], [150, 28, 9258, 1573, 246], [9259, 9260, 1183], [475, 9261, 56, 359, 408, 1507, 9262, 9263, 304, 2566, 2478, 592, 9264], [9265, 9266, 4, 1243, 943, 9267, 107, 157, 2536, 633], [9268, 9269, 43, 1374, 9270, 141, 361, 12, 85, 24, 9271, 9272, 1544], [1402, 9273, 521, 2600, 40, 74, 8, 66], [569, 9274], [9275, 63, 207, 1540, 12], [230, 366, 361, 9276], [9277, 1245, 3, 100, 10, 880, 111, 1740], [7, 495, 1], [434, 12, 35, 20, 212, 2], [15, 50, 32, 500, 19, 158, 9278, 26, 566, 2075], [1565, 9279, 509], [9280, 252, 423], [38, 2580], [9281, 1038, 9282, 40], [9283, 165, 917, 9284, 9285, 300, 9286], [1556, 9287, 49, 330, 9288], [9289, 1019, 332, 9290, 420], [9291, 252, 6, 698, 20, 65, 153, 505], [9292, 2360, 9293, 25, 2616, 213, 9294, 9295, 78, 9296, 1473, 91, 9297, 188], [9298, 466, 2606], [9299, 178, 9300, 11, 98, 711, 892], [1300, 2608, 598, 223, 910, 438], [9301, 9302, 1321, 28, 1757, 2500, 296], [57, 1338, 9303, 9304, 353], [9305, 20], [9306, 9307, 856, 529, 87, 65, 201], [9308, 69, 18], [9309, 1614, 2349, 1188, 9310], [9311, 1154], [326, 326, 9312, 326, 205, 222], [9313, 335, 9314, 93, 323, 2194, 9315, 1173], [9316, 1486, 719, 1156], [9317, 22, 33, 43, 68, 189, 348], [946, 9318, 1383, 8], [364, 162, 100, 9319, 1588, 100, 47], [9320, 118], [458], [9321, 46, 2227, 1548, 177, 33, 1, 9322], [9323, 598, 2308, 819, 235, 34, 7], [29, 2, 83, 1259, 6, 13, 128, 9324, 611, 886, 9325, 9326], [9327, 59], [9328, 39, 131, 1571, 1002, 933, 743, 1190, 1578, 109, 238, 240, 456], [9329, 1164, 447, 51, 89, 67, 111, 9, 67, 614, 133], [9330, 322, 9331, 90, 151, 1681, 7, 508, 71, 4, 656, 526], [1440, 9332], [9333, 363], [9334, 1594, 318, 9335, 9, 29, 9336], [691, 9337, 363, 8, 753, 9338, 187], [9339, 14, 1050, 76], [18, 1131, 547, 9340, 176, 279, 47, 331], [9341, 46, 9342, 33, 2292, 19, 835, 166], [577, 517, 346, 108], [2253, 21, 1377, 85, 463, 248], [9343, 153], [9344, 1458], [293, 5, 86], [9345, 2515, 1626, 893, 702, 193, 213, 9346, 9347, 9348], [9349, 2617, 319, 2594, 49, 2487], [9350, 928, 28, 283, 9351, 42, 1331, 1099], [265, 2554], [9352, 263, 2330, 853, 29, 186, 9353, 329, 1178], [222, 107], [9354, 20, 319, 8], [247, 9355, 9356, 9357, 56, 787, 567, 9358, 9359], [9360, 2490], [8, 9361, 16, 2322, 9362, 14, 393, 823, 933, 9363, 9364, 9365, 20], [48, 9366, 400, 9367, 2618, 757, 9368, 2618, 9369, 501], [9370, 9371, 9372, 9373, 9374], [8, 362, 1114, 470, 1541, 1577, 9375], [1, 22, 186, 350, 1583, 205, 2081, 592, 169], [106, 564, 630, 2], [1286, 1159, 131, 28, 393], [310, 9376, 1416, 14], [9377, 2171, 64, 21, 1875], [9378, 385, 9379, 39, 260], [1066, 70, 1606, 1, 109, 152], [9380, 15, 1250, 3], [30, 9381, 9382, 9383], [2616, 1393, 9384, 9385, 9386], [276, 9387, 84, 1142, 1487, 203, 9388, 2502, 9389, 9390, 9391], [8, 431, 83, 9392, 9393, 9394, 2076, 9, 32, 1, 2, 9395, 1364], [9396, 9397], [10, 109, 238, 62, 102], [296, 9398, 81, 1159, 9399], [9400, 25, 156, 1712, 150, 869, 199, 1046], [9401, 9402, 9403, 9404, 1212, 28], [9405, 231, 985], [9406, 232, 858, 2619, 9407, 9408, 68, 2270, 2619, 283, 505], [9409, 20, 160, 9410], [9411, 88, 905, 60, 214, 738, 624, 9412], [9413, 491, 28, 9414, 125, 1062, 155, 361, 10], [276, 190, 9415, 304, 16, 344, 123, 9416, 9417, 9418], [9419, 257, 73, 51, 887, 2203, 1246, 2615, 93, 104, 4, 2620], [4, 44, 17, 889], [9420, 9421, 499, 9422, 7], [9423, 9424, 1456, 1056, 9425, 1891], [9426, 182, 552, 7], [9427, 722, 161, 2582, 19], [12, 9428, 12, 1036, 74, 34, 118, 9429, 131, 9430, 743], [9431, 1297, 871, 1037, 9432], [567, 2611, 2087, 9433, 1], [512, 443, 16, 462, 786], [9434, 51, 207, 9435, 2605, 1, 154, 45], [6, 532, 526], [40, 74, 92, 1082], [4, 1894, 1395, 9436, 710], [42, 556, 156, 9437, 20], [9438, 91, 18, 2090, 9439, 9440, 9441, 353], [9442, 1624, 2, 275, 9443, 222], [9444, 15, 91, 1299, 702, 9445, 861, 5, 261, 9446], [1421, 59, 375, 1566, 491, 96, 322, 1518, 1590, 2517, 45, 322], [1459, 59, 97], [9447, 234, 9448, 31, 88], [84, 9449, 18, 122, 713, 54, 117, 9450], [2621, 1, 297, 2621], [9451, 13, 18, 9452, 235], [9453, 8, 2234], [11, 1562, 635], [11, 2452, 20, 97], [11, 404, 32, 159, 975], [171, 146, 22, 13, 1460, 1909, 485, 304, 1275, 7, 614, 9454, 97, 65, 9455, 297, 9456], [9457, 22, 9458], [9459, 9460, 9461, 2209, 638, 599, 2165, 1558, 9462, 2311, 690, 748], [9463], [9464, 713, 54, 259, 162, 9465, 9466, 306, 9467, 875], [495, 76, 978, 425, 852, 58, 225, 612, 121, 121], [9468, 529, 77], [9469, 9470, 9471, 9472, 415, 39, 9473, 42, 708, 107, 6, 499, 1067], [9474, 4, 909, 1629, 77], [27, 1063, 108, 479, 2471, 22, 9475, 1542, 529, 68, 34, 9476, 38], [409, 611, 9477, 159, 1038, 83, 189, 2], [9478, 9479, 1628, 9480, 9481, 9482, 62, 143], [1535, 9483, 9484], [9485, 235, 9486, 100, 723, 113, 2590, 238], [171, 224, 12, 356, 335], [9487, 252, 2622], [294, 46, 470, 43, 471], [9488, 15, 41, 673, 217, 3, 68, 37, 2, 5, 174, 621, 345, 172, 9489], [1388, 849, 44, 9490, 9491, 9492, 235], [6, 16, 229, 5, 108, 318, 1168, 526], [9493, 46, 39, 28], [9494, 315, 213, 184, 222, 147, 542, 9495, 9496], [2571, 227, 29, 310], [9497, 69, 15, 160, 9498, 204, 167], [2159, 1532, 91, 119], [333, 2593, 10, 9499, 47, 9500, 9501, 9502], [9503, 292], [9504, 395, 1157, 31, 297, 497, 42], [9505, 1608, 133], [9506, 9507, 1, 23, 117, 9508, 1], [9509, 9510, 9511, 1], [213, 1, 348], [9512, 747, 454, 1550, 867], [517, 527, 9513, 32, 720], [391, 1095, 1481, 310, 36, 97, 8, 728, 51, 9514, 734], [244, 28, 79, 903, 39, 17, 2], [871, 9515, 1232, 9516, 29, 443, 911], [1468, 9517, 9518, 76, 25, 2575, 34, 17, 77, 148], [4, 956, 906, 222, 83], [2510, 53, 74, 2560, 959, 540], [2542, 1037, 9519, 107, 9520], [3, 608, 58, 346, 285, 530, 9521], [26, 566, 2303, 5, 138, 526, 402, 195, 10], [588, 1124, 1431, 207, 2609, 33, 43, 2, 6, 45, 735, 9522], [56, 115, 14, 13, 40, 9523, 51, 138, 107, 9524], [9525, 307, 825, 778], [9526, 178, 1], [9527, 595, 9528, 435, 45], [408, 303, 9529, 9530, 9531, 2586, 9532, 84], [9533, 136, 303, 37, 9534, 72, 877, 298, 191, 9535, 175, 57], [9536, 46, 135, 382, 245, 9537, 996], [9538, 114, 43, 142, 691, 984, 9539, 2098, 385, 1598, 118, 538], [212, 9540, 4, 1, 9541, 1112, 1155, 9542], [213, 1799, 9543, 9544, 24, 2569, 250, 1145], [9545, 20, 1078, 152, 7], [9546, 25, 746, 9547, 62, 655, 9548], [2527, 9549], [9550, 9551], [9552, 9553, 6, 169, 192, 781], [268, 20, 199, 9554, 12, 133], [9555, 292, 1156, 287], [267, 2, 55], [9556, 86], [9557, 25, 50, 285, 899, 9558, 1718], [138, 410, 107], [409, 636, 493, 1490, 28, 78], [9559, 7, 228, 39, 207, 183, 989, 596, 42], [9560, 146, 495, 9561, 2623, 2623, 29, 42, 113, 2], [9562, 17, 53, 20, 129, 10, 205], [9563, 59, 2610, 368, 1581, 1526], [509, 1076, 281, 2073, 9564, 11, 1121, 188, 9565, 2], [9566, 69, 100, 471, 137, 39, 110], [158, 6, 9567, 16, 219, 416, 16, 219], [1553, 81, 1570], [9568, 747, 47, 9569, 9570, 189, 12, 2160], [9571, 9572, 9573, 15, 9574, 110, 604], [350, 9575, 205, 76, 2444, 1077, 9576, 35, 17, 900, 58, 9577], [6, 14, 9578, 62, 17, 10, 1515, 12, 9579, 9580, 121], [9581, 9582], [9583, 92, 117, 137], [9584, 43, 699, 36, 34, 1499], [9585, 9586, 1612, 9587, 15, 2470, 178], [8, 249, 1095, 1481, 2, 5], [9588, 8, 278, 1088, 203, 9589, 1088, 9590, 9591, 7], [9592], [9593, 637, 1354, 598, 69], [9594, 79], [68, 138, 343, 534, 225, 9595, 225, 237], [2544, 3, 226, 175, 1599], [218, 793, 2561, 9596, 9597, 9598, 9599, 2152, 1, 66], [9600, 188, 1567, 9601], [9602, 9603], [9604, 9605, 9606, 9607, 9608, 1708, 80, 4, 2581, 9609, 1606], [9610, 981, 16, 49, 53, 49, 91, 357, 49, 2166, 2262, 33, 9611, 30, 931], [9612, 7, 9613, 166], [740, 51, 1725], [70, 1311, 2390, 1023, 9614, 9615, 293, 9616, 42, 135, 1976, 650, 25, 24, 9], [9617, 9618, 9619, 1113, 2574, 1103, 9620, 9621, 579], [4, 9622, 9623, 51], [509], [9624, 531, 889, 2622, 20, 9625, 8, 26, 441, 9626], [9627, 9628], [9629, 815, 455, 180, 9630, 50, 347, 3, 133], [409, 9631, 9632, 109, 9633, 9634, 9635, 712, 92, 1453, 76, 2193, 140], [28], [1, 2572, 162, 5, 29, 2, 667], [9636, 2537], [1790, 9637, 8], [8, 16, 742, 751, 677], [70, 70, 70, 9638, 4, 44, 231], [468, 872, 195], [9639, 9640], [9641, 344], [9642, 692], [31, 27, 379, 166, 13, 244, 166, 267, 157, 9643, 9644, 834, 132, 207, 156, 9645, 1962], [109, 238, 9646, 377, 57, 370, 9647, 9648, 9649, 311], [188, 890, 129, 421, 421, 1538, 9650, 9651, 9652, 560], [54, 742, 9653, 9654, 158, 2620, 255, 1982, 2123, 1600, 9655, 9656], [9657, 252, 888, 256, 316], [135, 1073, 2401, 1011, 779, 249], [38, 251, 9658, 8, 9659], [9660, 229, 2323, 3, 16, 415, 1128, 9661, 398], [9662, 415, 9, 46, 1397, 201, 207, 1339, 9663, 1369], [531, 102, 144, 9664, 449, 94, 115, 9665, 39, 9666, 531, 9667], [511, 164, 2183, 1630, 5], [9668, 237, 2564, 897, 217, 3, 818], [9669, 9670, 1611, 1600, 9671, 53], [9672, 7, 9673, 896], [9674, 1684, 9, 272, 3, 1264, 13, 9675, 373, 375, 363], [9676, 7, 843], [9677, 958, 73, 133, 69, 9678, 1234, 195, 1623, 955, 2177], [9679, 6, 9680, 67, 9681, 9682, 9683, 9684, 34, 42], [9685, 9686, 9687, 9688, 114, 9689, 9690], [9691, 6], [9692, 1153, 2599, 2291, 472, 13, 47], [9693, 82, 125, 193], [9694, 9695, 8, 249, 147, 9696, 2180], [29, 17, 109, 238, 1969, 19, 9697], [6, 2461, 9698, 5], [1935, 726, 9699, 453, 326, 7], [2283, 774, 19, 774, 180, 9700], [9701, 50, 569, 98, 13, 404, 1158], [2300, 2624, 9702, 2624, 9703, 2591], [9704, 161, 9705, 9706, 247], [9707, 116, 5, 192], [9708, 12, 208, 1525], [9709, 25, 15, 91, 178, 29], [9710, 25, 9711, 2011, 639, 9712, 555, 9713], [9714, 301, 9715, 124, 2, 56, 134, 35, 2617, 2549]]\n"
     ]
    }
   ],
   "source": [
    "encoded_text = token.texts_to_sequences(text)\n",
    "print(encoded_text)"
   ]
  },
  {
   "cell_type": "code",
   "execution_count": 235,
   "id": "2e7313a2",
   "metadata": {
    "ExecuteTime": {
     "end_time": "2022-11-09T03:36:07.916828Z",
     "start_time": "2022-11-09T03:36:07.875842Z"
    }
   },
   "outputs": [],
   "source": [
    "# shape of these vectors are different to make size is constant\n",
    "max_length = 120\n",
    "X = pad_sequences(encoded_text,maxlen=max_length,padding='post')"
   ]
  },
  {
   "cell_type": "code",
   "execution_count": 236,
   "id": "2dd3e99f",
   "metadata": {
    "ExecuteTime": {
     "end_time": "2022-11-09T03:36:08.857093Z",
     "start_time": "2022-11-09T03:36:08.844892Z"
    }
   },
   "outputs": [
    {
     "name": "stdout",
     "output_type": "stream",
     "text": [
      "[[ 416 1631 1161 ...    0    0    0]\n",
      " [2628 1633  542 ...    0    0    0]\n",
      " [2630   41 2631 ...    0    0    0]\n",
      " ...\n",
      " [9709   25   15 ...    0    0    0]\n",
      " [9710   25 9711 ...    0    0    0]\n",
      " [9714  301 9715 ...    0    0    0]]\n"
     ]
    }
   ],
   "source": [
    "print(X)"
   ]
  },
  {
   "cell_type": "code",
   "execution_count": 237,
   "id": "b4df01e1",
   "metadata": {
    "ExecuteTime": {
     "end_time": "2022-11-09T03:36:10.334338Z",
     "start_time": "2022-11-09T03:36:10.317778Z"
    }
   },
   "outputs": [
    {
     "data": {
      "text/plain": [
       "(4000, 120)"
      ]
     },
     "execution_count": 237,
     "metadata": {},
     "output_type": "execute_result"
    }
   ],
   "source": [
    "X.shape"
   ]
  },
  {
   "cell_type": "code",
   "execution_count": 238,
   "id": "0eade0f2",
   "metadata": {
    "ExecuteTime": {
     "end_time": "2022-11-09T03:36:11.193524Z",
     "start_time": "2022-11-09T03:36:11.181309Z"
    }
   },
   "outputs": [],
   "source": [
    "# task is to convert sequence of tokens to vectors"
   ]
  },
  {
   "cell_type": "code",
   "execution_count": 239,
   "id": "78aab146",
   "metadata": {
    "ExecuteTime": {
     "end_time": "2022-11-09T03:36:11.753356Z",
     "start_time": "2022-11-09T03:36:11.715573Z"
    }
   },
   "outputs": [],
   "source": [
    "X_train, X_test, y_train, y_test = train_test_split(X, y, random_state = 42, test_size = 0.2, stratify = y)"
   ]
  },
  {
   "cell_type": "code",
   "execution_count": 240,
   "id": "afa80015",
   "metadata": {
    "ExecuteTime": {
     "end_time": "2022-11-09T03:36:12.640073Z",
     "start_time": "2022-11-09T03:36:12.623337Z"
    }
   },
   "outputs": [
    {
     "name": "stdout",
     "output_type": "stream",
     "text": [
      "(3200, 120)\n",
      "(3200,)\n",
      "(800, 120)\n",
      "(800,)\n"
     ]
    }
   ],
   "source": [
    "print(X_train.shape)\n",
    "print(y_train.shape)\n",
    "print(X_test.shape)\n",
    "print(y_test.shape)"
   ]
  },
  {
   "cell_type": "code",
   "execution_count": 241,
   "id": "5d45f802",
   "metadata": {
    "ExecuteTime": {
     "end_time": "2022-11-09T03:36:19.856990Z",
     "start_time": "2022-11-09T03:36:13.786549Z"
    }
   },
   "outputs": [],
   "source": [
    "vec_size = 300\n",
    "\n",
    "model = Sequential()\n",
    "model.add(Embedding(vocab_size, vec_size, input_length=max_length))\n",
    "\n",
    "model.add(Conv1D(64, 8, activation = 'relu'))\n",
    "model.add(MaxPooling1D(2))\n",
    "model.add(Dropout(0.2))\n",
    "\n",
    "model.add(Dense(32, activation='relu'))\n",
    "model.add(Dropout(0.5))\n",
    "\n",
    "model.add(Dense(16, activation='relu'))\n",
    "\n",
    "model.add(GlobalMaxPooling1D())\n",
    "\n",
    "model.add(Dense(1, activation='sigmoid'))"
   ]
  },
  {
   "cell_type": "code",
   "execution_count": 242,
   "id": "8844563a",
   "metadata": {
    "ExecuteTime": {
     "end_time": "2022-11-09T03:36:19.905901Z",
     "start_time": "2022-11-09T03:36:19.856990Z"
    }
   },
   "outputs": [],
   "source": [
    "model.compile(optimizer='adam', loss = 'binary_crossentropy', metrics = ['accuracy'])"
   ]
  },
  {
   "cell_type": "code",
   "execution_count": 245,
   "id": "abdda257",
   "metadata": {
    "ExecuteTime": {
     "end_time": "2022-11-09T04:50:31.750596Z",
     "start_time": "2022-11-09T04:50:31.744569Z"
    }
   },
   "outputs": [
    {
     "name": "stdout",
     "output_type": "stream",
     "text": [
      "(3200, 120)\n",
      "(3200,)\n",
      "(800, 120)\n",
      "(800,)\n"
     ]
    }
   ],
   "source": [
    "print(X_train.shape)\n",
    "print(y_train.shape)\n",
    "print(X_test.shape)\n",
    "print(y_test.shape)"
   ]
  },
  {
   "cell_type": "code",
   "execution_count": 246,
   "id": "4cf3a5b4",
   "metadata": {
    "ExecuteTime": {
     "end_time": "2022-11-09T05:10:41.958300Z",
     "start_time": "2022-11-09T05:10:19.779372Z"
    },
    "scrolled": true
   },
   "outputs": [
    {
     "name": "stdout",
     "output_type": "stream",
     "text": [
      "Epoch 1/5\n",
      "320/320 [==============================] - 5s 13ms/step - loss: -3138330880.0000 - accuracy: 0.0000e+00 - val_loss: -3317264640.0000 - val_accuracy: 0.0000e+00\n",
      "Epoch 2/5\n",
      "320/320 [==============================] - 4s 12ms/step - loss: -8448016384.0000 - accuracy: 0.0000e+00 - val_loss: -7906049536.0000 - val_accuracy: 0.0000e+00\n",
      "Epoch 3/5\n",
      "320/320 [==============================] - 4s 13ms/step - loss: -17933273088.0000 - accuracy: 0.0000e+00 - val_loss: -15782666240.0000 - val_accuracy: 0.0000e+00\n",
      "Epoch 4/5\n",
      "320/320 [==============================] - 4s 13ms/step - loss: -34202458112.0000 - accuracy: 0.0000e+00 - val_loss: -28704628736.0000 - val_accuracy: 0.0000e+00\n",
      "Epoch 5/5\n",
      "320/320 [==============================] - 4s 14ms/step - loss: -58372866048.0000 - accuracy: 0.0000e+00 - val_loss: -47490846720.0000 - val_accuracy: 0.0000e+00\n",
      "Wall time: 22.2 s\n"
     ]
    },
    {
     "data": {
      "text/plain": [
       "<keras.callbacks.History at 0x23e8b469880>"
      ]
     },
     "execution_count": 246,
     "metadata": {},
     "output_type": "execute_result"
    }
   ],
   "source": [
    "%%time\n",
    "model.fit(X_train, y_train, epochs = 5,batch_size=10 ,validation_data = (X_test, y_test))"
   ]
  },
  {
   "cell_type": "code",
   "execution_count": null,
   "id": "25ade719",
   "metadata": {},
   "outputs": [],
   "source": []
  },
  {
   "cell_type": "code",
   "execution_count": null,
   "id": "fc74e1c7",
   "metadata": {},
   "outputs": [],
   "source": []
  }
 ],
 "metadata": {
  "kernelspec": {
   "display_name": "Python 3 (ipykernel)",
   "language": "python",
   "name": "python3"
  },
  "language_info": {
   "codemirror_mode": {
    "name": "ipython",
    "version": 3
   },
   "file_extension": ".py",
   "mimetype": "text/x-python",
   "name": "python",
   "nbconvert_exporter": "python",
   "pygments_lexer": "ipython3",
   "version": "3.9.7"
  }
 },
 "nbformat": 4,
 "nbformat_minor": 5
}
